{
 "cells": [
  {
   "cell_type": "markdown",
   "metadata": {},
   "source": [
    "# 列表"
   ]
  },
  {
   "cell_type": "markdown",
   "metadata": {},
   "source": [
    "列表在 R 中扮演着一个至关重要的角色，是数据框 (`data.frame`) 和面向对象编程的基础。"
   ]
  },
  {
   "cell_type": "markdown",
   "metadata": {},
   "source": [
    "## 创建列表\n",
    "\n",
    "列表属于“递归型” (recursive) 向量。\n",
    "\n",
    "创建一个列表"
   ]
  },
  {
   "cell_type": "code",
   "execution_count": 3,
   "metadata": {},
   "outputs": [],
   "source": [
    "j <- list(\n",
    "    name=\"Joe\",\n",
    "    salary=55000,\n",
    "    union=T\n",
    ")"
   ]
  },
  {
   "cell_type": "markdown",
   "metadata": {},
   "source": [
    "打印列表"
   ]
  },
  {
   "cell_type": "code",
   "execution_count": 4,
   "metadata": {},
   "outputs": [
    {
     "name": "stdout",
     "output_type": "stream",
     "text": [
      "$name\n",
      "[1] \"Joe\"\n",
      "\n",
      "$salary\n",
      "[1] 55000\n",
      "\n",
      "$union\n",
      "[1] TRUE\n",
      "\n"
     ]
    }
   ],
   "source": [
    "print(j)"
   ]
  },
  {
   "cell_type": "markdown",
   "metadata": {},
   "source": [
    "R 语言中列表各组件的名称叫做 *标签** (tags)。\n",
    "\n",
    "标签是可选的，不指定标签会自动生成默认标签。"
   ]
  },
  {
   "cell_type": "code",
   "execution_count": 5,
   "metadata": {},
   "outputs": [
    {
     "name": "stdout",
     "output_type": "stream",
     "text": [
      "[[1]]\n",
      "[1] \"Joe\"\n",
      "\n",
      "[[2]]\n",
      "[1] 55000\n",
      "\n",
      "[[3]]\n",
      "[1] TRUE\n",
      "\n"
     ]
    }
   ],
   "source": [
    "jalt <- list(\"Joe\", 55000, T)\n",
    "print(jalt)"
   ]
  },
  {
   "cell_type": "markdown",
   "metadata": {},
   "source": [
    "使用标签访问列表组件"
   ]
  },
  {
   "cell_type": "code",
   "execution_count": 7,
   "metadata": {},
   "outputs": [
    {
     "name": "stdout",
     "output_type": "stream",
     "text": [
      "[1] \"Joe\"\n"
     ]
    }
   ],
   "source": [
    "print(j$name)"
   ]
  },
  {
   "cell_type": "markdown",
   "metadata": {},
   "source": [
    "因为列表也是向量，所以可以使用 `vector()` 创建列表"
   ]
  },
  {
   "cell_type": "code",
   "execution_count": 8,
   "metadata": {},
   "outputs": [
    {
     "name": "stdout",
     "output_type": "stream",
     "text": [
      "$abc\n",
      "[1] 3\n",
      "\n"
     ]
    }
   ],
   "source": [
    "z <- vector(mode=\"list\")\n",
    "z[[\"abc\"]] <- 3\n",
    "print(z)"
   ]
  },
  {
   "cell_type": "markdown",
   "metadata": {},
   "source": [
    "## 列表的常规操作\n",
    "\n",
    "### 列表索引\n",
    "\n",
    "有多种方式访问列表组件"
   ]
  },
  {
   "cell_type": "code",
   "execution_count": 14,
   "metadata": {},
   "outputs": [
    {
     "name": "stdout",
     "output_type": "stream",
     "text": [
      "[1] 55000\n"
     ]
    }
   ],
   "source": [
    "print(j$salary)"
   ]
  },
  {
   "cell_type": "code",
   "execution_count": 15,
   "metadata": {},
   "outputs": [
    {
     "name": "stdout",
     "output_type": "stream",
     "text": [
      "[1] 55000\n"
     ]
    }
   ],
   "source": [
    "print(j[[\"salary\"]])"
   ]
  },
  {
   "cell_type": "code",
   "execution_count": 16,
   "metadata": {},
   "outputs": [
    {
     "name": "stdout",
     "output_type": "stream",
     "text": [
      "[1] 55000\n"
     ]
    }
   ],
   "source": [
    "print(j[[2]])"
   ]
  },
  {
   "cell_type": "markdown",
   "metadata": {},
   "source": [
    "上述三种方式返回列表 lst 中的组件 c，返回值是 c 的数据类型：\n",
    "\n",
    "- `lst$c`\n",
    "- `lst[[\"c\"]]`\n",
    "- `lst[[i]]`，i 是 c 在 lst 中的数字编号\n",
    "\n",
    "注意：使用双中括号返回组件本身"
   ]
  },
  {
   "cell_type": "markdown",
   "metadata": {},
   "source": [
    "另外两种方式返回列表的子列表：\n",
    "\n",
    "- `lst[\"c\"]`\n",
    "- `lst[1]`\n",
    "\n",
    "注意：使用单中括号返回子列表"
   ]
  },
  {
   "cell_type": "code",
   "execution_count": 17,
   "metadata": {},
   "outputs": [
    {
     "name": "stdout",
     "output_type": "stream",
     "text": [
      "$name\n",
      "[1] \"Joe\"\n",
      "\n",
      "$salary\n",
      "[1] 55000\n",
      "\n"
     ]
    }
   ],
   "source": [
    "print(j[1:2])"
   ]
  },
  {
   "cell_type": "code",
   "execution_count": 19,
   "metadata": {},
   "outputs": [
    {
     "name": "stdout",
     "output_type": "stream",
     "text": [
      "$salary\n",
      "[1] 55000\n",
      "\n"
     ]
    }
   ],
   "source": [
    "j2 <- j[2]\n",
    "print(j2)"
   ]
  },
  {
   "cell_type": "code",
   "execution_count": 21,
   "metadata": {},
   "outputs": [
    {
     "name": "stdout",
     "output_type": "stream",
     "text": [
      "[1] \"list\"\n"
     ]
    }
   ],
   "source": [
    "print(class(j2))"
   ]
  },
  {
   "cell_type": "code",
   "execution_count": 23,
   "metadata": {},
   "outputs": [
    {
     "name": "stdout",
     "output_type": "stream",
     "text": [
      "List of 1\n",
      " $ salary: num 55000\n"
     ]
    }
   ],
   "source": [
    "str(j2)"
   ]
  },
  {
   "cell_type": "markdown",
   "metadata": {},
   "source": [
    "双中括号一次只能提取一个组件\n",
    "\n",
    "下段代码\n",
    "\n",
    "```R\n",
    "j[[1:2]]\n",
    "```\n",
    "\n",
    "会抛出错误\n",
    "\n",
    "```\n",
    "Error in j[[1:2]]: 下标出界\n",
    "```"
   ]
  },
  {
   "cell_type": "code",
   "execution_count": 25,
   "metadata": {},
   "outputs": [
    {
     "name": "stdout",
     "output_type": "stream",
     "text": [
      "[1] 55000\n"
     ]
    }
   ],
   "source": [
    "j2a <- j[[2]]\n",
    "print(j2a)"
   ]
  },
  {
   "cell_type": "code",
   "execution_count": 27,
   "metadata": {},
   "outputs": [
    {
     "name": "stdout",
     "output_type": "stream",
     "text": [
      "[1] \"numeric\"\n"
     ]
    }
   ],
   "source": [
    "print(class(j2a))"
   ]
  },
  {
   "cell_type": "markdown",
   "metadata": {},
   "source": [
    "### 增加或删除列表元素\n",
    "\n",
    "列表创建之后可以增加新的组件"
   ]
  },
  {
   "cell_type": "code",
   "execution_count": 28,
   "metadata": {},
   "outputs": [
    {
     "name": "stdout",
     "output_type": "stream",
     "text": [
      "$a\n",
      "[1] \"abc\"\n",
      "\n",
      "$b\n",
      "[1] 12\n",
      "\n"
     ]
    }
   ],
   "source": [
    "z <- list(\n",
    "    a=\"abc\",\n",
    "    b=12\n",
    ")\n",
    "print(z)"
   ]
  },
  {
   "cell_type": "markdown",
   "metadata": {},
   "source": [
    "增加组件 `c`"
   ]
  },
  {
   "cell_type": "code",
   "execution_count": 29,
   "metadata": {},
   "outputs": [
    {
     "name": "stdout",
     "output_type": "stream",
     "text": [
      "$a\n",
      "[1] \"abc\"\n",
      "\n",
      "$b\n",
      "[1] 12\n",
      "\n",
      "$c\n",
      "[1] \"sailing\"\n",
      "\n"
     ]
    }
   ],
   "source": [
    "z$c <- \"sailing\"\n",
    "print(z)"
   ]
  },
  {
   "cell_type": "markdown",
   "metadata": {},
   "source": [
    "可以使用索引增加组件"
   ]
  },
  {
   "cell_type": "code",
   "execution_count": 30,
   "metadata": {},
   "outputs": [
    {
     "name": "stdout",
     "output_type": "stream",
     "text": [
      "$a\n",
      "[1] \"abc\"\n",
      "\n",
      "$b\n",
      "[1] 12\n",
      "\n",
      "$c\n",
      "[1] \"sailing\"\n",
      "\n",
      "[[4]]\n",
      "[1] 28\n",
      "\n",
      "[[5]]\n",
      "[1] FALSE\n",
      "\n",
      "[[6]]\n",
      "[1] TRUE\n",
      "\n",
      "[[7]]\n",
      "[1] TRUE\n",
      "\n"
     ]
    }
   ],
   "source": [
    "z[[4]] <- 28\n",
    "z[5:7] <- c(FALSE, TRUE, TRUE)\n",
    "print(z)"
   ]
  },
  {
   "cell_type": "markdown",
   "metadata": {},
   "source": [
    "删除列表元素可以直接将其设为 NULL"
   ]
  },
  {
   "cell_type": "code",
   "execution_count": 31,
   "metadata": {},
   "outputs": [
    {
     "name": "stdout",
     "output_type": "stream",
     "text": [
      "$a\n",
      "[1] \"abc\"\n",
      "\n",
      "$c\n",
      "[1] \"sailing\"\n",
      "\n",
      "[[3]]\n",
      "[1] 28\n",
      "\n",
      "[[4]]\n",
      "[1] FALSE\n",
      "\n",
      "[[5]]\n",
      "[1] TRUE\n",
      "\n",
      "[[6]]\n",
      "[1] TRUE\n",
      "\n"
     ]
    }
   ],
   "source": [
    "z$b <- NULL\n",
    "print(z)"
   ]
  },
  {
   "cell_type": "markdown",
   "metadata": {},
   "source": [
    "注意：删掉 `z$b` 后，之后元素的索引全部减 1\n",
    "\n",
    "列表拼接"
   ]
  },
  {
   "cell_type": "code",
   "execution_count": 34,
   "metadata": {},
   "outputs": [
    {
     "name": "stdout",
     "output_type": "stream",
     "text": [
      "[[1]]\n",
      "[1] \"Joe\"\n",
      "\n",
      "[[2]]\n",
      "[1] 55000\n",
      "\n",
      "[[3]]\n",
      "[1] TRUE\n",
      "\n",
      "[[4]]\n",
      "[1] 5\n",
      "\n"
     ]
    }
   ],
   "source": [
    "print(c(list(\"Joe\", 55000, T), list(5)))"
   ]
  },
  {
   "cell_type": "markdown",
   "metadata": {},
   "source": [
    "### 获取列表长度\n",
    "\n",
    "使用 `length()` 得到列表的组件个数，因为列表是向量"
   ]
  },
  {
   "cell_type": "code",
   "execution_count": 35,
   "metadata": {},
   "outputs": [
    {
     "name": "stdout",
     "output_type": "stream",
     "text": [
      "[1] 3\n"
     ]
    }
   ],
   "source": [
    "print(length(j))"
   ]
  },
  {
   "cell_type": "markdown",
   "metadata": {},
   "source": [
    "### 扩展案例：文本词汇索引\n",
    "\n",
    "`findwords()` 函数用于找到文本文件中的所有单词，并标出各个单词的位置"
   ]
  },
  {
   "cell_type": "code",
   "execution_count": 36,
   "metadata": {},
   "outputs": [],
   "source": [
    "findwords <- function(tf) {\n",
    "    txt <- scan(tf, \"\")\n",
    "    wl <- list()\n",
    "    for (i in 1:length(txt)) {\n",
    "        wrd <- txt[i]\n",
    "        wl[[wrd]] <- c(wl[[wrd]], i)\n",
    "    }\n",
    "    return(wl)\n",
    "}"
   ]
  },
  {
   "cell_type": "markdown",
   "metadata": {},
   "source": [
    "`scan()` 函数用于读取文本文件\n",
    "\n",
    "示例："
   ]
  },
  {
   "cell_type": "code",
   "execution_count": 38,
   "metadata": {},
   "outputs": [
    {
     "name": "stdout",
     "output_type": "stream",
     "text": [
      " [1] \"the\"        \"here\"       \"means\"      \"that\"       \"the\"       \n",
      " [6] \"first\"      \"item\"       \"in\"         \"this\"       \"line\"      \n",
      "[11] \"of\"         \"output\"     \"is\"         \"item\"       \"in\"        \n",
      "[16] \"this\"       \"case\"       \"our\"        \"output\"     \"consists\"  \n",
      "[21] \"of\"         \"only\"       \"one\"        \"line\"       \"and\"       \n",
      "[26] \"one\"        \"item\"       \"so\"         \"this\"       \"is\"        \n",
      "[31] \"redundant\"  \"but\"        \"this\"       \"notation\"   \"helps\"     \n",
      "[36] \"to\"         \"read\"       \"voluminous\" \"output\"     \"that\"      \n",
      "[41] \"consists\"   \"of\"         \"many\"       \"items\"      \"spread\"    \n",
      "[46] \"over\"       \"many\"       \"lines\"      \"for\"        \"example\"   \n",
      "[51] \"if\"         \"there\"      \"were\"       \"two\"        \"rows\"      \n",
      "[56] \"of\"         \"output\"     \"with\"       \"six\"        \"items\"     \n",
      "[61] \"per\"        \"row\"        \"the\"        \"second\"     \"row\"       \n",
      "[66] \"would\"      \"be\"         \"labeled\"   \n"
     ]
    }
   ],
   "source": [
    "print(scan(\"testconcorda.txt\", \"\"))"
   ]
  },
  {
   "cell_type": "markdown",
   "metadata": {},
   "source": [
    "测试 `findwords()` 函数"
   ]
  },
  {
   "cell_type": "code",
   "execution_count": 61,
   "metadata": {},
   "outputs": [
    {
     "name": "stdout",
     "output_type": "stream",
     "text": [
      "$the\n",
      "[1]  1  5 63\n",
      "\n",
      "$here\n",
      "[1] 2\n",
      "\n",
      "$means\n",
      "[1] 3\n",
      "\n",
      "$that\n",
      "[1]  4 40\n",
      "\n",
      "$first\n",
      "[1] 6\n",
      "\n",
      "$item\n",
      "[1]  7 14 27\n",
      "\n",
      "$`in`\n",
      "[1]  8 15\n",
      "\n",
      "$this\n",
      "[1]  9 16 29 33\n",
      "\n",
      "$line\n",
      "[1] 10 24\n",
      "\n",
      "$of\n",
      "[1] 11 21 42 56\n",
      "\n",
      "$output\n",
      "[1] 12 19 39 57\n",
      "\n",
      "$is\n",
      "[1] 13 30\n",
      "\n",
      "$case\n",
      "[1] 17\n",
      "\n",
      "$our\n",
      "[1] 18\n",
      "\n",
      "$consists\n",
      "[1] 20 41\n",
      "\n",
      "$only\n",
      "[1] 22\n",
      "\n",
      "$one\n",
      "[1] 23 26\n",
      "\n",
      "$and\n",
      "[1] 25\n",
      "\n",
      "$so\n",
      "[1] 28\n",
      "\n",
      "$redundant\n",
      "[1] 31\n",
      "\n",
      "$but\n",
      "[1] 32\n",
      "\n",
      "$notation\n",
      "[1] 34\n",
      "\n",
      "$helps\n",
      "[1] 35\n",
      "\n",
      "$to\n",
      "[1] 36\n",
      "\n",
      "$read\n",
      "[1] 37\n",
      "\n",
      "$voluminous\n",
      "[1] 38\n",
      "\n",
      "$many\n",
      "[1] 43 47\n",
      "\n",
      "$items\n",
      "[1] 44 60\n",
      "\n",
      "$spread\n",
      "[1] 45\n",
      "\n",
      "$over\n",
      "[1] 46\n",
      "\n",
      "$lines\n",
      "[1] 48\n",
      "\n",
      "$`for`\n",
      "[1] 49\n",
      "\n",
      "$example\n",
      "[1] 50\n",
      "\n",
      "$`if`\n",
      "[1] 51\n",
      "\n",
      "$there\n",
      "[1] 52\n",
      "\n",
      "$were\n",
      "[1] 53\n",
      "\n",
      "$two\n",
      "[1] 54\n",
      "\n",
      "$rows\n",
      "[1] 55\n",
      "\n",
      "$with\n",
      "[1] 58\n",
      "\n",
      "$six\n",
      "[1] 59\n",
      "\n",
      "$per\n",
      "[1] 61\n",
      "\n",
      "$row\n",
      "[1] 62 65\n",
      "\n",
      "$second\n",
      "[1] 64\n",
      "\n",
      "$would\n",
      "[1] 66\n",
      "\n",
      "$be\n",
      "[1] 67\n",
      "\n",
      "$labeled\n",
      "[1] 68\n",
      "\n"
     ]
    }
   ],
   "source": [
    "wl <- findwords(\"testconcorda.txt\")\n",
    "print(wl)"
   ]
  },
  {
   "cell_type": "markdown",
   "metadata": {},
   "source": [
    "## 访问列表元素和值\n",
    "\n",
    "`names()` 函数获取列表元素的标签"
   ]
  },
  {
   "cell_type": "code",
   "execution_count": 40,
   "metadata": {},
   "outputs": [
    {
     "name": "stdout",
     "output_type": "stream",
     "text": [
      "[1] \"name\"   \"salary\" \"union\" \n"
     ]
    }
   ],
   "source": [
    "print(names(j))"
   ]
  },
  {
   "cell_type": "markdown",
   "metadata": {},
   "source": [
    "使用 `unlist()` 函数获取列表的值"
   ]
  },
  {
   "cell_type": "code",
   "execution_count": 43,
   "metadata": {},
   "outputs": [
    {
     "name": "stdout",
     "output_type": "stream",
     "text": [
      "   name  salary   union \n",
      "  \"Joe\" \"55000\"  \"TRUE\" \n"
     ]
    }
   ],
   "source": [
    "values <- unlist(j)\n",
    "print(values)"
   ]
  },
  {
   "cell_type": "markdown",
   "metadata": {},
   "source": [
    "实际上，`unlist` 返回值是一个向量，每个元素都被命名。\n",
    "本例中返回的是字符串向量"
   ]
  },
  {
   "cell_type": "code",
   "execution_count": 46,
   "metadata": {},
   "outputs": [
    {
     "name": "stdout",
     "output_type": "stream",
     "text": [
      "[1] \"character\"\n"
     ]
    }
   ],
   "source": [
    "print(class(values))"
   ]
  },
  {
   "cell_type": "markdown",
   "metadata": {},
   "source": [
    "对于全数值的列表，返回的是数值向量"
   ]
  },
  {
   "cell_type": "code",
   "execution_count": 47,
   "metadata": {},
   "outputs": [
    {
     "name": "stdout",
     "output_type": "stream",
     "text": [
      "[1] \"numeric\"\n"
     ]
    }
   ],
   "source": [
    "z <- list(\n",
    "    a=5,\n",
    "    b=12,\n",
    "    c=13\n",
    ")\n",
    "y <- unlist(z)\n",
    "print(class(y))"
   ]
  },
  {
   "cell_type": "markdown",
   "metadata": {},
   "source": [
    "如果既有数值又有字符串，返回值会转为最通用的类型\n",
    "\n",
    "优先级排序:\n",
    "\n",
    "NULL < raw < 逻辑类型 < 整型 < 实数类型 < 复数类型 < 列表 < 表达式"
   ]
  },
  {
   "cell_type": "code",
   "execution_count": 51,
   "metadata": {},
   "outputs": [
    {
     "name": "stdout",
     "output_type": "stream",
     "text": [
      "[1] \"character\"\n"
     ]
    }
   ],
   "source": [
    "w <- list(\n",
    "    a=5,\n",
    "    b=\"xyz\"\n",
    ")\n",
    "wu <- unlist(w)\n",
    "print(class(wu))"
   ]
  },
  {
   "cell_type": "code",
   "execution_count": 50,
   "metadata": {},
   "outputs": [
    {
     "name": "stdout",
     "output_type": "stream",
     "text": [
      "    a     b \n",
      "  \"5\" \"xyz\" \n"
     ]
    }
   ],
   "source": [
    "print(wu)"
   ]
  },
  {
   "cell_type": "markdown",
   "metadata": {},
   "source": [
    "将元素名设为 NULL"
   ]
  },
  {
   "cell_type": "code",
   "execution_count": 52,
   "metadata": {},
   "outputs": [
    {
     "name": "stdout",
     "output_type": "stream",
     "text": [
      "[1] \"5\"   \"xyz\"\n"
     ]
    }
   ],
   "source": [
    "names(wu) <- NULL\n",
    "print(wu)"
   ]
  },
  {
   "cell_type": "markdown",
   "metadata": {},
   "source": [
    "也可以使用 `unname()` 去掉元素名"
   ]
  },
  {
   "cell_type": "code",
   "execution_count": 55,
   "metadata": {},
   "outputs": [
    {
     "name": "stdout",
     "output_type": "stream",
     "text": [
      "[1]  5 12 13\n"
     ]
    }
   ],
   "source": [
    "wun <- unname(y)\n",
    "print(wun)"
   ]
  },
  {
   "cell_type": "markdown",
   "metadata": {},
   "source": [
    "## 在列表上使用 apply 系列函数\n",
    "\n",
    "### `lapply()` 和 `sapply()` 的使用\n",
    "\n",
    "`lapply()` (list apply) 对列表中的每个组件执行给定函数，返回另一个列表"
   ]
  },
  {
   "cell_type": "code",
   "execution_count": 57,
   "metadata": {},
   "outputs": [
    {
     "name": "stdout",
     "output_type": "stream",
     "text": [
      "[[1]]\n",
      "[1] 2\n",
      "\n",
      "[[2]]\n",
      "[1] 27\n",
      "\n"
     ]
    }
   ],
   "source": [
    "print(lapply(\n",
    "    list(1:3, 25:29),\n",
    "    median\n",
    "))"
   ]
  },
  {
   "cell_type": "markdown",
   "metadata": {},
   "source": [
    "`sapply()` (simplified lapply) 可以返回矩阵或向量"
   ]
  },
  {
   "cell_type": "code",
   "execution_count": 58,
   "metadata": {},
   "outputs": [
    {
     "name": "stdout",
     "output_type": "stream",
     "text": [
      "[1]  2 27\n"
     ]
    }
   ],
   "source": [
    "print(sapply(\n",
    "    list(1:3, 25:29),\n",
    "    median\n",
    "))"
   ]
  },
  {
   "cell_type": "markdown",
   "metadata": {},
   "source": [
    "### 扩展案例：文本词汇索引（续）\n",
    "\n",
    "将 `findwords()` 函数的返回列表进行排序\n",
    "\n",
    "`alphawl()` 将单词按字母顺序排序"
   ]
  },
  {
   "cell_type": "code",
   "execution_count": 59,
   "metadata": {},
   "outputs": [],
   "source": [
    "alphawl <- function(wrdlst) {\n",
    "    nms <- names(wrdlst)\n",
    "    sn <- sort(nms)\n",
    "    return(wrdlst[sn])\n",
    "}"
   ]
  },
  {
   "cell_type": "code",
   "execution_count": 62,
   "metadata": {},
   "outputs": [
    {
     "name": "stdout",
     "output_type": "stream",
     "text": [
      "$and\n",
      "[1] 25\n",
      "\n",
      "$be\n",
      "[1] 67\n",
      "\n",
      "$but\n",
      "[1] 32\n",
      "\n",
      "$case\n",
      "[1] 17\n",
      "\n",
      "$consists\n",
      "[1] 20 41\n",
      "\n",
      "$example\n",
      "[1] 50\n",
      "\n",
      "$first\n",
      "[1] 6\n",
      "\n",
      "$`for`\n",
      "[1] 49\n",
      "\n",
      "$helps\n",
      "[1] 35\n",
      "\n",
      "$here\n",
      "[1] 2\n",
      "\n",
      "$`if`\n",
      "[1] 51\n",
      "\n",
      "$`in`\n",
      "[1]  8 15\n",
      "\n",
      "$is\n",
      "[1] 13 30\n",
      "\n",
      "$item\n",
      "[1]  7 14 27\n",
      "\n",
      "$items\n",
      "[1] 44 60\n",
      "\n",
      "$labeled\n",
      "[1] 68\n",
      "\n",
      "$line\n",
      "[1] 10 24\n",
      "\n",
      "$lines\n",
      "[1] 48\n",
      "\n",
      "$many\n",
      "[1] 43 47\n",
      "\n",
      "$means\n",
      "[1] 3\n",
      "\n",
      "$notation\n",
      "[1] 34\n",
      "\n",
      "$of\n",
      "[1] 11 21 42 56\n",
      "\n",
      "$one\n",
      "[1] 23 26\n",
      "\n",
      "$only\n",
      "[1] 22\n",
      "\n",
      "$our\n",
      "[1] 18\n",
      "\n",
      "$output\n",
      "[1] 12 19 39 57\n",
      "\n",
      "$over\n",
      "[1] 46\n",
      "\n",
      "$per\n",
      "[1] 61\n",
      "\n",
      "$read\n",
      "[1] 37\n",
      "\n",
      "$redundant\n",
      "[1] 31\n",
      "\n",
      "$row\n",
      "[1] 62 65\n",
      "\n",
      "$rows\n",
      "[1] 55\n",
      "\n",
      "$second\n",
      "[1] 64\n",
      "\n",
      "$six\n",
      "[1] 59\n",
      "\n",
      "$so\n",
      "[1] 28\n",
      "\n",
      "$spread\n",
      "[1] 45\n",
      "\n",
      "$that\n",
      "[1]  4 40\n",
      "\n",
      "$the\n",
      "[1]  1  5 63\n",
      "\n",
      "$there\n",
      "[1] 52\n",
      "\n",
      "$this\n",
      "[1]  9 16 29 33\n",
      "\n",
      "$to\n",
      "[1] 36\n",
      "\n",
      "$two\n",
      "[1] 54\n",
      "\n",
      "$voluminous\n",
      "[1] 38\n",
      "\n",
      "$were\n",
      "[1] 53\n",
      "\n",
      "$with\n",
      "[1] 58\n",
      "\n",
      "$would\n",
      "[1] 66\n",
      "\n"
     ]
    }
   ],
   "source": [
    "print(alphawl(wl))"
   ]
  },
  {
   "cell_type": "markdown",
   "metadata": {},
   "source": [
    "`freqwl()` 按词频排序"
   ]
  },
  {
   "cell_type": "code",
   "execution_count": 63,
   "metadata": {},
   "outputs": [],
   "source": [
    "freqwl <- function(wrdlst) {\n",
    "    freqs <- sapply(wrdlst, length)\n",
    "    return(wrdlst[order(freqs)])\n",
    "}"
   ]
  },
  {
   "cell_type": "markdown",
   "metadata": {},
   "source": [
    "`order()` 返回排序后向量在原向量中的索引"
   ]
  },
  {
   "cell_type": "code",
   "execution_count": 65,
   "metadata": {},
   "outputs": [
    {
     "name": "stdout",
     "output_type": "stream",
     "text": [
      "[1] 2 4 1 3\n"
     ]
    }
   ],
   "source": [
    "x <- c(12, 5, 13, 8)\n",
    "print(order(x))"
   ]
  },
  {
   "cell_type": "code",
   "execution_count": 66,
   "metadata": {},
   "outputs": [
    {
     "name": "stdout",
     "output_type": "stream",
     "text": [
      "$here\n",
      "[1] 2\n",
      "\n",
      "$means\n",
      "[1] 3\n",
      "\n",
      "$first\n",
      "[1] 6\n",
      "\n",
      "$case\n",
      "[1] 17\n",
      "\n",
      "$our\n",
      "[1] 18\n",
      "\n",
      "$only\n",
      "[1] 22\n",
      "\n",
      "$and\n",
      "[1] 25\n",
      "\n",
      "$so\n",
      "[1] 28\n",
      "\n",
      "$redundant\n",
      "[1] 31\n",
      "\n",
      "$but\n",
      "[1] 32\n",
      "\n",
      "$notation\n",
      "[1] 34\n",
      "\n",
      "$helps\n",
      "[1] 35\n",
      "\n",
      "$to\n",
      "[1] 36\n",
      "\n",
      "$read\n",
      "[1] 37\n",
      "\n",
      "$voluminous\n",
      "[1] 38\n",
      "\n",
      "$spread\n",
      "[1] 45\n",
      "\n",
      "$over\n",
      "[1] 46\n",
      "\n",
      "$lines\n",
      "[1] 48\n",
      "\n",
      "$`for`\n",
      "[1] 49\n",
      "\n",
      "$example\n",
      "[1] 50\n",
      "\n",
      "$`if`\n",
      "[1] 51\n",
      "\n",
      "$there\n",
      "[1] 52\n",
      "\n",
      "$were\n",
      "[1] 53\n",
      "\n",
      "$two\n",
      "[1] 54\n",
      "\n",
      "$rows\n",
      "[1] 55\n",
      "\n",
      "$with\n",
      "[1] 58\n",
      "\n",
      "$six\n",
      "[1] 59\n",
      "\n",
      "$per\n",
      "[1] 61\n",
      "\n",
      "$second\n",
      "[1] 64\n",
      "\n",
      "$would\n",
      "[1] 66\n",
      "\n",
      "$be\n",
      "[1] 67\n",
      "\n",
      "$labeled\n",
      "[1] 68\n",
      "\n",
      "$that\n",
      "[1]  4 40\n",
      "\n",
      "$`in`\n",
      "[1]  8 15\n",
      "\n",
      "$line\n",
      "[1] 10 24\n",
      "\n",
      "$is\n",
      "[1] 13 30\n",
      "\n",
      "$consists\n",
      "[1] 20 41\n",
      "\n",
      "$one\n",
      "[1] 23 26\n",
      "\n",
      "$many\n",
      "[1] 43 47\n",
      "\n",
      "$items\n",
      "[1] 44 60\n",
      "\n",
      "$row\n",
      "[1] 62 65\n",
      "\n",
      "$the\n",
      "[1]  1  5 63\n",
      "\n",
      "$item\n",
      "[1]  7 14 27\n",
      "\n",
      "$this\n",
      "[1]  9 16 29 33\n",
      "\n",
      "$of\n",
      "[1] 11 21 42 56\n",
      "\n",
      "$output\n",
      "[1] 12 19 39 57\n",
      "\n"
     ]
    }
   ],
   "source": [
    "print(freqwl(wl))"
   ]
  },
  {
   "cell_type": "markdown",
   "metadata": {},
   "source": [
    "将词频在前 10% 的单词绘制成条形图"
   ]
  },
  {
   "cell_type": "code",
   "execution_count": 72,
   "metadata": {},
   "outputs": [
    {
     "data": {
      "image/png": "[encoded data removed]",
      "text/plain": [
       "plot without title"
      ]
     },
     "metadata": {
      "image/png": {
       "height": 420,
       "width": 420
      }
     },
     "output_type": "display_data"
    }
   ],
   "source": [
    "swl <- freqwl(wl)\n",
    "nwords <- length(swl)\n",
    "freqs9 <- sapply(swl[round(0.9*nwords):nwords], length)\n",
    "barplot(freqs9)"
   ]
  },
  {
   "cell_type": "markdown",
   "metadata": {},
   "source": [
    "### 扩展案例：鲍鱼数据\n",
    "\n",
    "寻找三种不同类别的鲍鱼分别有哪些"
   ]
  },
  {
   "cell_type": "code",
   "execution_count": 73,
   "metadata": {},
   "outputs": [
    {
     "name": "stdout",
     "output_type": "stream",
     "text": [
      "[[1]]\n",
      "[1] 1 5 6\n",
      "\n",
      "[[2]]\n",
      "[1] 2 3 7\n",
      "\n",
      "[[3]]\n",
      "[1] 4\n",
      "\n"
     ]
    }
   ],
   "source": [
    "g <- c(\"M\", \"F\", \"F\", \"I\", \"M\", \"M\", \"F\")\n",
    "print(lapply(\n",
    "    c(\"M\", \"F\", \"I\"),\n",
    "    function(gender) which(g==gender)\n",
    "))"
   ]
  },
  {
   "cell_type": "markdown",
   "metadata": {},
   "source": [
    "注意：这里 `lapply()` 的第一个参数不是 `g`，`g` 出现在匿名函数中"
   ]
  },
  {
   "cell_type": "markdown",
   "metadata": {},
   "source": [
    "## 递归型列表\n",
    "\n",
    "列表的组件也可以是列表"
   ]
  },
  {
   "cell_type": "code",
   "execution_count": 74,
   "metadata": {},
   "outputs": [
    {
     "name": "stdout",
     "output_type": "stream",
     "text": [
      "[[1]]\n",
      "[[1]]$u\n",
      "[1] 5\n",
      "\n",
      "[[1]]$v\n",
      "[1] 12\n",
      "\n",
      "\n",
      "[[2]]\n",
      "[[2]]$w\n",
      "[1] 13\n",
      "\n",
      "\n"
     ]
    }
   ],
   "source": [
    "b <- list(\n",
    "    u=5,\n",
    "    v=12\n",
    ")\n",
    "c <- list(\n",
    "    w=13\n",
    ")\n",
    "a <- list(b, c)\n",
    "print(a)"
   ]
  },
  {
   "cell_type": "markdown",
   "metadata": {},
   "source": [
    "`c()` 有一个可选参数 `recursive` 决定在拼接列表时是否将列表“压平”，即把所有元素都提取出来，组合成一个向量\n",
    "\n",
    "默认值为 FALSE，形成嵌套列表"
   ]
  },
  {
   "cell_type": "code",
   "execution_count": 75,
   "metadata": {},
   "outputs": [
    {
     "name": "stdout",
     "output_type": "stream",
     "text": [
      "$a\n",
      "[1] 1\n",
      "\n",
      "$b\n",
      "[1] 2\n",
      "\n",
      "$c\n",
      "$c$d\n",
      "[1] 5\n",
      "\n",
      "$c$e\n",
      "[1] 9\n",
      "\n",
      "\n"
     ]
    }
   ],
   "source": [
    "print(c(list(\n",
    "    a=1,\n",
    "    b=2,\n",
    "    c=list(\n",
    "        d=5, \n",
    "        e=9\n",
    "    )\n",
    ")))"
   ]
  },
  {
   "cell_type": "markdown",
   "metadata": {},
   "source": [
    "设为 TRUE 时，`c` 组件中的元素 `d` 和 `e` 被取出，与 `a` 和 `b` 一同构成向量"
   ]
  },
  {
   "cell_type": "code",
   "execution_count": 77,
   "metadata": {},
   "outputs": [
    {
     "name": "stdout",
     "output_type": "stream",
     "text": [
      "  a   b c.d c.e \n",
      "  1   2   5   9 \n"
     ]
    }
   ],
   "source": [
    "print(c(list(\n",
    "    a=1,\n",
    "    b=2,\n",
    "    c=list(\n",
    "        d=5, \n",
    "        e=9\n",
    "    )\n",
    "), recursive=T))"
   ]
  },
  {
   "cell_type": "code",
   "execution_count": null,
   "metadata": {},
   "outputs": [],
   "source": []
  }
 ],
 "metadata": {
  "kernelspec": {
   "display_name": "R",
   "language": "R",
   "name": "ir"
  },
  "language_info": {
   "codemirror_mode": "r",
   "file_extension": ".r",
   "mimetype": "text/x-r-source",
   "name": "R",
   "pygments_lexer": "r",
   "version": "4.0.2"
  }
 },
 "nbformat": 4,
 "nbformat_minor": 4
}
