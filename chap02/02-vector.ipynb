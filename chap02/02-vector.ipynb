{
 "cells": [
  {
   "cell_type": "markdown",
   "metadata": {},
   "source": [
    "# 向量"
   ]
  },
  {
   "cell_type": "markdown",
   "metadata": {},
   "source": [
    "R 语言最基本的数据类型是向量\n",
    "\n",
    "本节会关注以下话题：\n",
    "\n",
    "- **循环补齐**\n",
    "- **筛选**\n",
    "- **向量化**"
   ]
  },
  {
   "cell_type": "markdown",
   "metadata": {},
   "source": [
    "## 标量、向量、数组与矩阵\n",
    "\n",
    "R 语言中变量类型被称为模式 (mode)。\n",
    "同一向量中的所有元素必须是相同的模式。"
   ]
  },
  {
   "cell_type": "markdown",
   "metadata": {},
   "source": [
    "### 添加或删除向量元素\n",
    "\n",
    "R 语言中向量是连续存储的，不能插入或删除数据。\n",
    "\n",
    "> 注：类似 C++ 中的 `std::array`，在创建时就已经确定数组大小，后续无法修改大小\n",
    "\n",
    "插入和删除数据实际上是对变量重新赋值\n",
    "\n",
    "注：插入删除数据会生成新的向量"
   ]
  },
  {
   "cell_type": "code",
   "execution_count": 1,
   "metadata": {},
   "outputs": [
    {
     "name": "stdout",
     "output_type": "stream",
     "text": [
      "[1]  88   5  12 168  13\n"
     ]
    }
   ],
   "source": [
    "x <- c(88, 5, 12, 13)\n",
    "x <- c(x[1:3], 168, x[4])\n",
    "print(x)"
   ]
  },
  {
   "cell_type": "markdown",
   "metadata": {},
   "source": [
    "注：可以将 x 看成类似 C 语言中的指针"
   ]
  },
  {
   "cell_type": "markdown",
   "metadata": {},
   "source": [
    "### 获取向量长度\n",
    "\n",
    "使用 `length()` 函数"
   ]
  },
  {
   "cell_type": "code",
   "execution_count": 2,
   "metadata": {},
   "outputs": [
    {
     "name": "stdout",
     "output_type": "stream",
     "text": [
      "[1] 3\n"
     ]
    }
   ],
   "source": [
    "x <- c(1, 2, 4)\n",
    "print(length(x))"
   ]
  },
  {
   "cell_type": "markdown",
   "metadata": {},
   "source": [
    "获取第一个 1 所在位置的索引（不一定有效率）"
   ]
  },
  {
   "cell_type": "code",
   "execution_count": 3,
   "metadata": {},
   "outputs": [],
   "source": [
    "first1 <- function(x) {\n",
    "    for (i in 1:length(x)) {\n",
    "        if (x[i] == 1) break\n",
    "    }\n",
    "    return(i)\n",
    "}"
   ]
  },
  {
   "cell_type": "code",
   "execution_count": 4,
   "metadata": {},
   "outputs": [
    {
     "name": "stdout",
     "output_type": "stream",
     "text": [
      "[1] 3\n"
     ]
    }
   ],
   "source": [
    "print(first1(c(12, 13, 1, 3, 4)))"
   ]
  },
  {
   "cell_type": "markdown",
   "metadata": {},
   "source": [
    "R 语言中，`1:n` 返回从 1 到 n 的向量，类似 Python 中的 `range` 函数。\n",
    "\n",
    "但 `first1` 不能处理 `x` 为空的情况\n",
    "\n",
    "代码\n",
    "\n",
    "```R\n",
    "print(first1(c()))\n",
    "```\n",
    "\n",
    "会抛出下面的异常\n",
    "\n",
    "```\n",
    "Error in if (x[i] == 1) break: 参数长度为零\n",
    "Traceback:\n",
    "\n",
    "1. print(first1(c()))\n",
    "2. first1(c())\n",
    "```"
   ]
  },
  {
   "cell_type": "code",
   "execution_count": 5,
   "metadata": {},
   "outputs": [
    {
     "name": "stdout",
     "output_type": "stream",
     "text": [
      "NULL\n"
     ]
    }
   ],
   "source": [
    "x <- c()\n",
    "print(x)"
   ]
  },
  {
   "cell_type": "code",
   "execution_count": 6,
   "metadata": {},
   "outputs": [
    {
     "name": "stdout",
     "output_type": "stream",
     "text": [
      "[1] 0\n"
     ]
    }
   ],
   "source": [
    "print(length(x))"
   ]
  },
  {
   "cell_type": "code",
   "execution_count": 7,
   "metadata": {},
   "outputs": [
    {
     "name": "stdout",
     "output_type": "stream",
     "text": [
      "[1] 1 0\n"
     ]
    }
   ],
   "source": [
    "print(1: length(x))"
   ]
  },
  {
   "cell_type": "markdown",
   "metadata": {},
   "source": [
    "当 `x` 为空时，`1:length(x)` 返回值是 `1 0` 二元向量。\n",
    "\n",
    "注：在 Python 中 `list(range(1, 0))` 返回的是空列表。"
   ]
  },
  {
   "cell_type": "markdown",
   "metadata": {},
   "source": [
    "### 作为向量的矩阵和数组\n",
    "\n",
    "数组和矩阵实际上都是向量，只不过有额外的类属性。\n",
    "\n",
    "本节介绍的一切内容，同样适用于矩阵和数组。"
   ]
  },
  {
   "cell_type": "code",
   "execution_count": 8,
   "metadata": {},
   "outputs": [
    {
     "name": "stdout",
     "output_type": "stream",
     "text": [
      "     [,1] [,2] [,3]\n",
      "[1,]    1    2    3\n",
      "[2,]    4    5    6\n"
     ]
    }
   ],
   "source": [
    "m <- rbind(\n",
    "    c(1, 2, 3),\n",
    "    c(4, 5, 6)\n",
    ")\n",
    "print(m)"
   ]
  },
  {
   "cell_type": "code",
   "execution_count": 9,
   "metadata": {},
   "outputs": [
    {
     "name": "stdout",
     "output_type": "stream",
     "text": [
      "     [,1] [,2] [,3]\n",
      "[1,]    2    5    8\n",
      "[2,]    6    9   12\n"
     ]
    }
   ],
   "source": [
    "print(m + 1:6)"
   ]
  },
  {
   "cell_type": "markdown",
   "metadata": {},
   "source": [
    "上面的加法实际上就是两个向量相加\n",
    "\n",
    "注：后续章节会介绍矩阵是按列存储的向量"
   ]
  },
  {
   "cell_type": "markdown",
   "metadata": {},
   "source": [
    "## 声明\n",
    "\n",
    "与 Python 一样，R 语言不需要声明变量。\n",
    "但引用向量中的特定元素前，必须事先创建该对象。\n",
    "\n",
    "直接执行下面代码会出错\n",
    "\n",
    "```R\n",
    "y[1] <- 5\n",
    "y[2] <- 6\n",
    "```\n",
    "\n",
    "我们需要首先创建长度为 2 的空向量，才能完成赋值。\n",
    "\n",
    "使用 `vector()` 函数创建空向量"
   ]
  },
  {
   "cell_type": "code",
   "execution_count": 10,
   "metadata": {},
   "outputs": [
    {
     "name": "stdout",
     "output_type": "stream",
     "text": [
      "[1] FALSE FALSE\n"
     ]
    }
   ],
   "source": [
    "y <- vector(length=2)\n",
    "print(y)"
   ]
  },
  {
   "cell_type": "code",
   "execution_count": 11,
   "metadata": {},
   "outputs": [
    {
     "name": "stdout",
     "output_type": "stream",
     "text": [
      "[1] 5 0\n"
     ]
    }
   ],
   "source": [
    "y[1] <- 5\n",
    "print(y)"
   ]
  },
  {
   "cell_type": "code",
   "execution_count": 12,
   "metadata": {},
   "outputs": [
    {
     "name": "stdout",
     "output_type": "stream",
     "text": [
      "[1]  5 12\n"
     ]
    }
   ],
   "source": [
    "y[2] <- 12\n",
    "print(y)"
   ]
  },
  {
   "cell_type": "markdown",
   "metadata": {},
   "source": [
    "如果使用新类型的值赋值给某个元素，整个向量的类型也会自动改变（注：可能是生成了新的对象？）"
   ]
  },
  {
   "cell_type": "code",
   "execution_count": 13,
   "metadata": {},
   "outputs": [
    {
     "name": "stdout",
     "output_type": "stream",
     "text": [
      "[1] \"a\"  \"12\"\n"
     ]
    }
   ],
   "source": [
    "y[1] <- \"a\"\n",
    "print(y)"
   ]
  },
  {
   "cell_type": "markdown",
   "metadata": {},
   "source": [
    "类似 `x` 和 `y` 等变量只是对实际对象的绑定，本身没有类型限制，可以绑定任意类型"
   ]
  },
  {
   "cell_type": "code",
   "execution_count": 14,
   "metadata": {},
   "outputs": [
    {
     "name": "stdout",
     "output_type": "stream",
     "text": [
      "[1] \"numeric\"\n"
     ]
    }
   ],
   "source": [
    "x <- c(1, 5)\n",
    "print(mode(x))"
   ]
  },
  {
   "cell_type": "code",
   "execution_count": 15,
   "metadata": {},
   "outputs": [
    {
     "name": "stdout",
     "output_type": "stream",
     "text": [
      "[1] \"character\"\n"
     ]
    }
   ],
   "source": [
    "x <- \"abc\"\n",
    "print(mode(x))"
   ]
  },
  {
   "cell_type": "markdown",
   "metadata": {},
   "source": [
    "## 循环补齐\n",
    "\n",
    "两个向量使用运算符时，如果要求两个向量具有相同的长度，R 会自动循环补齐 (recycle)，即重复较短的向量，直到它与另一个向量长度相匹配。"
   ]
  },
  {
   "cell_type": "code",
   "execution_count": 16,
   "metadata": {},
   "outputs": [
    {
     "name": "stderr",
     "output_type": "stream",
     "text": [
      "Warning message in c(1, 2, 4) + c(6, 0, 9, 20, 22):\n",
      "\"长的对象长度不是短的对象长度的整倍数\"\n"
     ]
    },
    {
     "name": "stdout",
     "output_type": "stream",
     "text": [
      "[1]  7  2 13 21 24\n"
     ]
    }
   ],
   "source": [
    "print(c(1, 2, 4) + c(6, 0, 9, 20, 22))"
   ]
  },
  {
   "cell_type": "markdown",
   "metadata": {},
   "source": [
    "上面计算以如下方式执行"
   ]
  },
  {
   "cell_type": "code",
   "execution_count": 17,
   "metadata": {},
   "outputs": [
    {
     "name": "stdout",
     "output_type": "stream",
     "text": [
      "[1]  7  2 13 21 24\n"
     ]
    }
   ],
   "source": [
    "print(c(1, 2, 4, 1, 2) + c(6, 0, 9, 20, 22))"
   ]
  },
  {
   "cell_type": "markdown",
   "metadata": {},
   "source": [
    "注：numpy 中的广播机制好像只针对不同维度，无法实现上面运算。可以用 `numpy.resize` 模拟循环补齐效果。\n",
    "\n",
    "下面是矩阵的例子"
   ]
  },
  {
   "cell_type": "code",
   "execution_count": 18,
   "metadata": {},
   "outputs": [
    {
     "name": "stdout",
     "output_type": "stream",
     "text": [
      "     [,1] [,2]\n",
      "[1,]    1    4\n",
      "[2,]    2    5\n",
      "[3,]    3    6\n"
     ]
    }
   ],
   "source": [
    "x <- cbind(\n",
    "    c(1, 2, 3),\n",
    "    c(4, 5, 6)\n",
    ")\n",
    "print(x)"
   ]
  },
  {
   "cell_type": "code",
   "execution_count": 19,
   "metadata": {},
   "outputs": [
    {
     "name": "stdout",
     "output_type": "stream",
     "text": [
      "     [,1] [,2]\n",
      "[1,]    2    6\n",
      "[2,]    4    6\n",
      "[3,]    4    8\n"
     ]
    }
   ],
   "source": [
    "print(x + c(1, 2))"
   ]
  },
  {
   "cell_type": "markdown",
   "metadata": {},
   "source": [
    "矩阵是按列排序的向量，所以加号右边的向量被补齐到矩阵元素的个数"
   ]
  },
  {
   "cell_type": "code",
   "execution_count": 20,
   "metadata": {},
   "outputs": [
    {
     "name": "stdout",
     "output_type": "stream",
     "text": [
      "     [,1] [,2]\n",
      "[1,]    2    6\n",
      "[2,]    4    6\n",
      "[3,]    4    8\n"
     ]
    }
   ],
   "source": [
    "print(x + c(1, 2, 1, 2, 1, 2))"
   ]
  },
  {
   "cell_type": "markdown",
   "metadata": {},
   "source": [
    "返回的结果同样被表示成矩阵的形式，实际上被补齐的向量在相加前也被转为矩阵形式，即\n",
    "\n",
    "![](https://cdn.perillaroc.wang/image/blog/2020/r/study/vector/vector-recycle.png)"
   ]
  },
  {
   "cell_type": "code",
   "execution_count": 21,
   "metadata": {},
   "outputs": [
    {
     "name": "stdout",
     "output_type": "stream",
     "text": [
      "     [,1] [,2]\n",
      "[1,]    2    6\n",
      "[2,]    4    6\n",
      "[3,]    4    8\n"
     ]
    }
   ],
   "source": [
    "print(x + cbind(\n",
    "    c(1, 2, 1),\n",
    "    c(2, 1, 2)\n",
    "))"
   ]
  },
  {
   "cell_type": "markdown",
   "metadata": {},
   "source": [
    "## 常用的向量运算\n",
    "\n",
    "### 向量运算和逻辑运算\n",
    "\n",
    "R 是函数式语言，运算符也是一个函数"
   ]
  },
  {
   "cell_type": "code",
   "execution_count": 22,
   "metadata": {},
   "outputs": [
    {
     "name": "stdout",
     "output_type": "stream",
     "text": [
      "[1] 5\n"
     ]
    }
   ],
   "source": [
    "print(2 + 3)"
   ]
  },
  {
   "cell_type": "code",
   "execution_count": 23,
   "metadata": {},
   "outputs": [
    {
     "name": "stdout",
     "output_type": "stream",
     "text": [
      "[1] 5\n"
     ]
    }
   ],
   "source": [
    "print(\"+\"(2, 3))"
   ]
  },
  {
   "cell_type": "markdown",
   "metadata": {},
   "source": [
    "向量元素加法"
   ]
  },
  {
   "cell_type": "code",
   "execution_count": 24,
   "metadata": {},
   "outputs": [
    {
     "name": "stdout",
     "output_type": "stream",
     "text": [
      "[1] 6 2 3\n"
     ]
    }
   ],
   "source": [
    "x <- c(1, 2, 4)\n",
    "print(x + c(5, 0, -1))"
   ]
  },
  {
   "cell_type": "markdown",
   "metadata": {},
   "source": [
    "向量元素乘法"
   ]
  },
  {
   "cell_type": "code",
   "execution_count": 25,
   "metadata": {},
   "outputs": [
    {
     "name": "stdout",
     "output_type": "stream",
     "text": [
      "[1]  5  0 -4\n"
     ]
    }
   ],
   "source": [
    "print(x * c(5, 0, -1))"
   ]
  },
  {
   "cell_type": "markdown",
   "metadata": {},
   "source": [
    "其他元素运算"
   ]
  },
  {
   "cell_type": "code",
   "execution_count": 26,
   "metadata": {},
   "outputs": [
    {
     "name": "stdout",
     "output_type": "stream",
     "text": [
      "[1]  0.2  0.5 -4.0\n"
     ]
    }
   ],
   "source": [
    "x <- c(1, 2, 4)\n",
    "print(x / c(5, 4, -1))"
   ]
  },
  {
   "cell_type": "code",
   "execution_count": 27,
   "metadata": {},
   "outputs": [
    {
     "name": "stdout",
     "output_type": "stream",
     "text": [
      "[1] 1 2 0\n"
     ]
    }
   ],
   "source": [
    "print(x %% c(5, 4, -1))"
   ]
  },
  {
   "cell_type": "markdown",
   "metadata": {},
   "source": [
    "### 向量索引\n",
    "\n",
    "向量1[向量2]"
   ]
  },
  {
   "cell_type": "code",
   "execution_count": 28,
   "metadata": {},
   "outputs": [
    {
     "name": "stdout",
     "output_type": "stream",
     "text": [
      "[1] 1.2 0.4\n"
     ]
    }
   ],
   "source": [
    "y <- c(1.2, 3.9, 0.4, 0.12)\n",
    "print(y[c(1, 3)])"
   ]
  },
  {
   "cell_type": "code",
   "execution_count": 29,
   "metadata": {},
   "outputs": [
    {
     "name": "stdout",
     "output_type": "stream",
     "text": [
      "[1] 3.9 0.4\n"
     ]
    }
   ],
   "source": [
    "print(y[2:3])"
   ]
  },
  {
   "cell_type": "code",
   "execution_count": 30,
   "metadata": {},
   "outputs": [
    {
     "name": "stdout",
     "output_type": "stream",
     "text": [
      "[1] 0.40 0.12\n"
     ]
    }
   ],
   "source": [
    "v <- 3:4\n",
    "print(y[v])"
   ]
  },
  {
   "cell_type": "markdown",
   "metadata": {},
   "source": [
    "元素可以重复"
   ]
  },
  {
   "cell_type": "code",
   "execution_count": 31,
   "metadata": {},
   "outputs": [
    {
     "name": "stdout",
     "output_type": "stream",
     "text": [
      "[1]  4  4 17\n"
     ]
    }
   ],
   "source": [
    "x <- c(4, 2, 17, 5)\n",
    "print(y <- x[c(1, 1, 3)])"
   ]
  },
  {
   "cell_type": "markdown",
   "metadata": {},
   "source": [
    "**负数下标代表把相应的元素剔除**\n",
    "\n",
    "注：Python 中负数下标表示反向索引"
   ]
  },
  {
   "cell_type": "code",
   "execution_count": 32,
   "metadata": {},
   "outputs": [
    {
     "name": "stdout",
     "output_type": "stream",
     "text": [
      "[1] 12 13\n"
     ]
    }
   ],
   "source": [
    "z <- c(5, 12, 13)\n",
    "print(z[-1])"
   ]
  },
  {
   "cell_type": "code",
   "execution_count": 33,
   "metadata": {},
   "outputs": [
    {
     "name": "stdout",
     "output_type": "stream",
     "text": [
      "[1] 13\n"
     ]
    }
   ],
   "source": [
    "print(z[-1:-2])"
   ]
  },
  {
   "cell_type": "markdown",
   "metadata": {},
   "source": [
    "选择除最后一个元素外的其余元素"
   ]
  },
  {
   "cell_type": "code",
   "execution_count": 34,
   "metadata": {},
   "outputs": [
    {
     "name": "stdout",
     "output_type": "stream",
     "text": [
      "[1]  5 12\n"
     ]
    }
   ],
   "source": [
    "z <- c(5, 12, 13)\n",
    "print(z[1:(length(z)-1)])"
   ]
  },
  {
   "cell_type": "code",
   "execution_count": 35,
   "metadata": {},
   "outputs": [
    {
     "name": "stdout",
     "output_type": "stream",
     "text": [
      "[1]  5 12\n"
     ]
    }
   ],
   "source": [
    "print(z[-length(z)])"
   ]
  },
  {
   "cell_type": "markdown",
   "metadata": {},
   "source": [
    "### 用 `:` 运算符创建向量"
   ]
  },
  {
   "cell_type": "code",
   "execution_count": 36,
   "metadata": {},
   "outputs": [
    {
     "name": "stdout",
     "output_type": "stream",
     "text": [
      "[1] 5 6 7 8\n"
     ]
    }
   ],
   "source": [
    "print(5:8)"
   ]
  },
  {
   "cell_type": "code",
   "execution_count": 37,
   "metadata": {},
   "outputs": [
    {
     "name": "stdout",
     "output_type": "stream",
     "text": [
      "[1] 5 4 3 2 1\n"
     ]
    }
   ],
   "source": [
    "print(5:1)"
   ]
  },
  {
   "cell_type": "markdown",
   "metadata": {},
   "source": [
    "运算符优先级\n",
    "\n",
    "注意：`?Syntax` 可以查看运算符优先级"
   ]
  },
  {
   "cell_type": "code",
   "execution_count": 194,
   "metadata": {},
   "outputs": [
    {
     "name": "stdout",
     "output_type": "stream",
     "text": [
      "[1] 0 1\n"
     ]
    }
   ],
   "source": [
    "i <- 2\n",
    "print(1:i-1)"
   ]
  },
  {
   "cell_type": "code",
   "execution_count": 39,
   "metadata": {},
   "outputs": [
    {
     "name": "stdout",
     "output_type": "stream",
     "text": [
      "[1] 1\n"
     ]
    }
   ],
   "source": [
    "print(1:(i-1))"
   ]
  },
  {
   "cell_type": "markdown",
   "metadata": {},
   "source": [
    "### 使用 `seq()` 创建向量"
   ]
  },
  {
   "cell_type": "code",
   "execution_count": 40,
   "metadata": {},
   "outputs": [
    {
     "name": "stdout",
     "output_type": "stream",
     "text": [
      "[1] 12 15 18 21 24 27 30\n"
     ]
    }
   ],
   "source": [
    "print(seq(from=12, to=30, by=3))"
   ]
  },
  {
   "cell_type": "markdown",
   "metadata": {},
   "source": [
    "注：与 Python 中不同，`seq` 包含区间结尾"
   ]
  },
  {
   "cell_type": "code",
   "execution_count": 41,
   "metadata": {},
   "outputs": [
    {
     "name": "stdout",
     "output_type": "stream",
     "text": [
      " [1] 1.1 1.2 1.3 1.4 1.5 1.6 1.7 1.8 1.9 2.0\n"
     ]
    }
   ],
   "source": [
    "print(seq(from=1.1, to=2, length=10))"
   ]
  },
  {
   "cell_type": "markdown",
   "metadata": {},
   "source": [
    "`seq` 可以处理空向量"
   ]
  },
  {
   "cell_type": "code",
   "execution_count": 42,
   "metadata": {},
   "outputs": [
    {
     "name": "stdout",
     "output_type": "stream",
     "text": [
      "[1]  5 12 13\n"
     ]
    }
   ],
   "source": [
    "x <- c(5, 12, 13)\n",
    "print(x)"
   ]
  },
  {
   "cell_type": "code",
   "execution_count": 43,
   "metadata": {},
   "outputs": [
    {
     "name": "stdout",
     "output_type": "stream",
     "text": [
      "[1] 1 2 3\n"
     ]
    }
   ],
   "source": [
    "print(seq(x))"
   ]
  },
  {
   "cell_type": "code",
   "execution_count": 44,
   "metadata": {},
   "outputs": [
    {
     "name": "stdout",
     "output_type": "stream",
     "text": [
      "NULL\n"
     ]
    }
   ],
   "source": [
    "x <- NULL\n",
    "print(x)"
   ]
  },
  {
   "cell_type": "code",
   "execution_count": 45,
   "metadata": {},
   "outputs": [
    {
     "name": "stdout",
     "output_type": "stream",
     "text": [
      "integer(0)\n"
     ]
    }
   ],
   "source": [
    "print(seq(x))"
   ]
  },
  {
   "cell_type": "markdown",
   "metadata": {},
   "source": [
    "### 使用 `rep()` 重复向量常数\n",
    "\n",
    "`rep` (repeat) 将同一向量重复放到长向量中"
   ]
  },
  {
   "cell_type": "code",
   "execution_count": 46,
   "metadata": {},
   "outputs": [
    {
     "name": "stdout",
     "output_type": "stream",
     "text": [
      "[1] 8 8 8 8\n"
     ]
    }
   ],
   "source": [
    "x <- rep(8, 4)\n",
    "print(x)"
   ]
  },
  {
   "cell_type": "code",
   "execution_count": 47,
   "metadata": {},
   "outputs": [
    {
     "name": "stdout",
     "output_type": "stream",
     "text": [
      "[1]  5 12 13  5 12 13  5 12 13\n"
     ]
    }
   ],
   "source": [
    "print(rep(c(5, 12, 13), 3))"
   ]
  },
  {
   "cell_type": "code",
   "execution_count": 48,
   "metadata": {},
   "outputs": [
    {
     "name": "stdout",
     "output_type": "stream",
     "text": [
      "[1] 1 2 3 1 2 3\n"
     ]
    }
   ],
   "source": [
    "print(rep(1:3, 2))"
   ]
  },
  {
   "cell_type": "markdown",
   "metadata": {},
   "source": [
    "`rep()` 函数的 `each` 参数指定交替重复的次数"
   ]
  },
  {
   "cell_type": "code",
   "execution_count": 49,
   "metadata": {},
   "outputs": [
    {
     "name": "stdout",
     "output_type": "stream",
     "text": [
      "[1]  5  5 12 12 13 13\n"
     ]
    }
   ],
   "source": [
    "print(rep(c(5, 12, 13), each=2))"
   ]
  },
  {
   "cell_type": "markdown",
   "metadata": {},
   "source": [
    "## 使用 `all()` 和 `any()`\n",
    "\n",
    "`any()` 参数是否至少一个为 TRUE\n",
    "\n",
    "`all()` 参数是否全部为 TRUE"
   ]
  },
  {
   "cell_type": "code",
   "execution_count": 50,
   "metadata": {},
   "outputs": [
    {
     "name": "stdout",
     "output_type": "stream",
     "text": [
      "[1] TRUE\n"
     ]
    }
   ],
   "source": [
    "x <- 1:10\n",
    "print(any(x > 8))"
   ]
  },
  {
   "cell_type": "code",
   "execution_count": 51,
   "metadata": {},
   "outputs": [
    {
     "name": "stdout",
     "output_type": "stream",
     "text": [
      "[1] FALSE\n"
     ]
    }
   ],
   "source": [
    "print(all(x > 88))"
   ]
  },
  {
   "cell_type": "code",
   "execution_count": 52,
   "metadata": {},
   "outputs": [
    {
     "name": "stdout",
     "output_type": "stream",
     "text": [
      "[1] TRUE\n"
     ]
    }
   ],
   "source": [
    "print(all(x > 0))"
   ]
  },
  {
   "cell_type": "markdown",
   "metadata": {},
   "source": [
    "`any` 或 `all` 函数执行两步操作。\n",
    "\n",
    "- 计算表达式，得到 bool 向量\n",
    "- 判断向量中是否有 TRUE 或全部为 TRUE"
   ]
  },
  {
   "cell_type": "code",
   "execution_count": 53,
   "metadata": {},
   "outputs": [
    {
     "name": "stdout",
     "output_type": "stream",
     "text": [
      " [1] FALSE FALSE FALSE FALSE FALSE FALSE FALSE FALSE  TRUE  TRUE\n"
     ]
    }
   ],
   "source": [
    "flag <- (x > 8)\n",
    "print(flag)"
   ]
  },
  {
   "cell_type": "code",
   "execution_count": 54,
   "metadata": {},
   "outputs": [
    {
     "name": "stdout",
     "output_type": "stream",
     "text": [
      "[1] TRUE\n"
     ]
    }
   ],
   "source": [
    "print(any(flag))"
   ]
  },
  {
   "cell_type": "markdown",
   "metadata": {},
   "source": [
    "### 扩展案例：寻找连续出现 1 的游程\n",
    "\n",
    "在 0，1 组成的序列中，一个由连续的 0 或 1 构成的串称为一个游程 (run)"
   ]
  },
  {
   "cell_type": "code",
   "execution_count": 55,
   "metadata": {},
   "outputs": [],
   "source": [
    "findruns <- function(x, k) {\n",
    "    n <- length(x)\n",
    "    runs <- NULL\n",
    "    for (i in 1:(n-k+1)) {\n",
    "        if (all(x[i:(i+k-1)]==1)) {\n",
    "            runs <- c(runs, i)\n",
    "        }\n",
    "    }\n",
    "    return(runs)\n",
    "}"
   ]
  },
  {
   "cell_type": "code",
   "execution_count": 56,
   "metadata": {},
   "outputs": [
    {
     "name": "stdout",
     "output_type": "stream",
     "text": [
      "[1] 4\n"
     ]
    }
   ],
   "source": [
    "y <- c(1, 0, 0, 1, 1, 1, 0, 1, 1)\n",
    "print(findruns(y, 3))"
   ]
  },
  {
   "cell_type": "code",
   "execution_count": 57,
   "metadata": {},
   "outputs": [
    {
     "name": "stdout",
     "output_type": "stream",
     "text": [
      "[1] 4 5 8\n"
     ]
    }
   ],
   "source": [
    "print(findruns(y, 2))"
   ]
  },
  {
   "cell_type": "code",
   "execution_count": 58,
   "metadata": {},
   "outputs": [
    {
     "name": "stdout",
     "output_type": "stream",
     "text": [
      "NULL\n"
     ]
    }
   ],
   "source": [
    "print(findruns(y, 4))"
   ]
  },
  {
   "cell_type": "markdown",
   "metadata": {},
   "source": [
    "上述代码中，每次更新 `runs` 向量执行的 `runs <- c(runs, i)` 都会创建新的向量，分配内存空间。\n",
    "对于大型数据集，执行太多次可能会拖慢运行速度。\n",
    "\n",
    "一种解决方法是预先分配内存空间，在返回时“删掉”不需要的元素"
   ]
  },
  {
   "cell_type": "code",
   "execution_count": 59,
   "metadata": {},
   "outputs": [],
   "source": [
    "findruns1 <- function(x, k) {\n",
    "    n <- length(x)\n",
    "    runs <- vector(length=n)\n",
    "    count <- 0\n",
    "    for (i in 1:(n-k+1)) {\n",
    "        if (all(x[i:i+k-1] == 1)) {\n",
    "            count <- count + 1\n",
    "            runs[count] <- i\n",
    "        }\n",
    "    }\n",
    "    if (count > 0) {\n",
    "        runs <- runs[1:count]\n",
    "    } else {\n",
    "        runs <- NULL\n",
    "    }\n",
    "    return(runs)\n",
    "}"
   ]
  },
  {
   "cell_type": "markdown",
   "metadata": {},
   "source": [
    "使用 1,000,000 个数据进行测试，可以发现 `findruns1` 函数速度提升很明显"
   ]
  },
  {
   "cell_type": "code",
   "execution_count": 60,
   "metadata": {},
   "outputs": [],
   "source": [
    "w <- round(runif(1000000, min=0, max=1))"
   ]
  },
  {
   "cell_type": "code",
   "execution_count": 61,
   "metadata": {},
   "outputs": [
    {
     "data": {
      "text/plain": [
       "   user  system elapsed \n",
       "  15.01    4.16   19.17 "
      ]
     },
     "metadata": {},
     "output_type": "display_data"
    }
   ],
   "source": [
    "system.time(findruns(w, 3))"
   ]
  },
  {
   "cell_type": "code",
   "execution_count": 62,
   "metadata": {},
   "outputs": [
    {
     "data": {
      "text/plain": [
       "   user  system elapsed \n",
       "   0.47    0.00    0.47 "
      ]
     },
     "metadata": {},
     "output_type": "display_data"
    }
   ],
   "source": [
    "system.time(findruns1(w, 3))"
   ]
  },
  {
   "cell_type": "markdown",
   "metadata": {},
   "source": [
    "### 扩展案例：预测离散值时间序列\n",
    "\n",
    "1 代表有雨，0 代表无雨。假设有一个 k 值，根据最近 k 天的记录预测明天是否会下雨。\n",
    "采用“过半数规则”(majority rule)，如果最近 k 个数据中 1 的个数大于等于 k/2，则预测下一个值为 1，否则为 0。\n",
    "\n",
    "构造一个 500 个数据的随机数组"
   ]
  },
  {
   "cell_type": "code",
   "execution_count": 196,
   "metadata": {},
   "outputs": [
    {
     "name": "stdout",
     "output_type": "stream",
     "text": [
      " [1] 0 0 1 0 0 0 1 0 0 1\n"
     ]
    }
   ],
   "source": [
    "rains <- round(runif(500, min=0, max=1))\n",
    "print(rains[1:10])"
   ]
  },
  {
   "cell_type": "markdown",
   "metadata": {},
   "source": [
    "编写第一个函数"
   ]
  },
  {
   "cell_type": "code",
   "execution_count": 199,
   "metadata": {},
   "outputs": [],
   "source": [
    "preda <- function(x, k) {\n",
    "    n <- length(x)\n",
    "    k2 <- k/2\n",
    "    pred <- vector(length=n-k)\n",
    "    for (i in 1:(n-k)) {\n",
    "        if (sum(x[i:(i+k-1)]) >= k/2 ) {\n",
    "            pred[i] <- 1\n",
    "        } else {\n",
    "            pred[i] <- 0\n",
    "        }\n",
    "    }\n",
    "    return(mean(abs(pred-x[(k+1):n])))\n",
    "}"
   ]
  },
  {
   "cell_type": "markdown",
   "metadata": {},
   "source": [
    "该函数返回的是 MAE (Mean Absolute Error)\n",
    "\n",
    "使用 k=1, 2, 4 测试"
   ]
  },
  {
   "cell_type": "code",
   "execution_count": 200,
   "metadata": {},
   "outputs": [
    {
     "name": "stdout",
     "output_type": "stream",
     "text": [
      "[1] 0.5410822\n"
     ]
    }
   ],
   "source": [
    "print(preda(rains, 1))"
   ]
  },
  {
   "cell_type": "code",
   "execution_count": 201,
   "metadata": {},
   "outputs": [
    {
     "name": "stdout",
     "output_type": "stream",
     "text": [
      "[1] 0.4959839\n"
     ]
    }
   ],
   "source": [
    "print(preda(rains, 2))"
   ]
  },
  {
   "cell_type": "code",
   "execution_count": 202,
   "metadata": {},
   "outputs": [
    {
     "name": "stdout",
     "output_type": "stream",
     "text": [
      "[1] 0.5\n"
     ]
    }
   ],
   "source": [
    "print(preda(rains, 4))"
   ]
  },
  {
   "cell_type": "markdown",
   "metadata": {},
   "source": [
    "上面的函数每个循环都会计算整个子序列的和。相邻两个子序列仅开头和结尾数据不同。\n",
    "\n",
    "编写函数，重复利用上一步的计算结果。每次循环只执行一次加法和一次减法"
   ]
  },
  {
   "cell_type": "code",
   "execution_count": 203,
   "metadata": {},
   "outputs": [],
   "source": [
    "predb <- function(x, k) {\n",
    "    n <- length(x)\n",
    "    k2 <- k/2\n",
    "    pred <- vector(length=n-k)\n",
    "    sm <- sum(x[1:k])\n",
    "    if (sm > k2) pred[1] <- 1 else pred[1] <- 0\n",
    "    if (n - k >= 2) {\n",
    "        for (i in 2:(n - k)) {\n",
    "            sm <- sm + x[i+k-1] - x[i-1]\n",
    "            if (sm > k2) pred[i] <- 1 else pred[i] <- 0 \n",
    "        }\n",
    "    }\n",
    "    return(mean(abs(pred-x[(k+1):n])))\n",
    "}"
   ]
  },
  {
   "cell_type": "code",
   "execution_count": 204,
   "metadata": {},
   "outputs": [
    {
     "name": "stdout",
     "output_type": "stream",
     "text": [
      "[1] 0.5\n"
     ]
    }
   ],
   "source": [
    "print(preda(rains, 4))"
   ]
  },
  {
   "cell_type": "markdown",
   "metadata": {},
   "source": [
    "另一种方法是使用累加和 `cumsum()` 函数代替 `sum` 求和"
   ]
  },
  {
   "cell_type": "code",
   "execution_count": 205,
   "metadata": {},
   "outputs": [
    {
     "name": "stdout",
     "output_type": "stream",
     "text": [
      "[1]  5  7  4 12\n"
     ]
    }
   ],
   "source": [
    "y <- c(5, 2, -3, 8)\n",
    "print(cumsum(y))"
   ]
  },
  {
   "cell_type": "markdown",
   "metadata": {},
   "source": [
    "编写函数，每次循环中仅使用一次减法"
   ]
  },
  {
   "cell_type": "code",
   "execution_count": 206,
   "metadata": {},
   "outputs": [],
   "source": [
    "predc <- function(x, k) {\n",
    "    n <- length(x)\n",
    "    k2 <- k/2\n",
    "    pred <- vector(length=n-k)\n",
    "    csx <- c(0, cumsum(x))\n",
    "    for (i in 1:(n-k)) {\n",
    "        if (csx[i+k] - csx[i] >= k2) {\n",
    "            pred[i] <- 1\n",
    "        } else {\n",
    "            pred[i] <- 0\n",
    "        }\n",
    "    }\n",
    "    return(mean(abs(pred-x[(k+1):n])))\n",
    "}"
   ]
  },
  {
   "cell_type": "code",
   "execution_count": 207,
   "metadata": {},
   "outputs": [
    {
     "name": "stdout",
     "output_type": "stream",
     "text": [
      "[1] 0.5\n"
     ]
    }
   ],
   "source": [
    "print(preda(rains, 4))"
   ]
  },
  {
   "cell_type": "markdown",
   "metadata": {},
   "source": [
    "测试下几种方法的耗时"
   ]
  },
  {
   "cell_type": "code",
   "execution_count": 208,
   "metadata": {},
   "outputs": [],
   "source": [
    "long.rains <- round(runif(1000000, min=0, max=1))"
   ]
  },
  {
   "cell_type": "code",
   "execution_count": 209,
   "metadata": {},
   "outputs": [
    {
     "data": {
      "text/plain": [
       "   user  system elapsed \n",
       "   0.79    0.00    0.79 "
      ]
     },
     "metadata": {},
     "output_type": "display_data"
    }
   ],
   "source": [
    "system.time(preda(long.rains, 10))"
   ]
  },
  {
   "cell_type": "code",
   "execution_count": 210,
   "metadata": {},
   "outputs": [
    {
     "data": {
      "text/plain": [
       "   user  system elapsed \n",
       "   0.17    0.01    0.18 "
      ]
     },
     "metadata": {},
     "output_type": "display_data"
    }
   ],
   "source": [
    "system.time(predb(long.rains, 10))"
   ]
  },
  {
   "cell_type": "code",
   "execution_count": 211,
   "metadata": {},
   "outputs": [
    {
     "data": {
      "text/plain": [
       "   user  system elapsed \n",
       "   0.14    0.00    0.14 "
      ]
     },
     "metadata": {},
     "output_type": "display_data"
    }
   ],
   "source": [
    "system.time(predc(long.rains, 10))"
   ]
  },
  {
   "cell_type": "markdown",
   "metadata": {},
   "source": [
    "## 向量化运算符\n",
    "\n",
    "提高 R 代码执行效率的有效方法之一就是向量化 (vectorize)，即应用到向量上的函数实际上是应用到向量的每一个元素上。"
   ]
  },
  {
   "cell_type": "markdown",
   "metadata": {},
   "source": [
    "### 向量输入、向量输出"
   ]
  },
  {
   "cell_type": "code",
   "execution_count": 77,
   "metadata": {},
   "outputs": [
    {
     "name": "stdout",
     "output_type": "stream",
     "text": [
      "[1]  TRUE FALSE FALSE\n"
     ]
    }
   ],
   "source": [
    "u <- c(5, 2, 8)\n",
    "v <- c(1, 3, 9)\n",
    "print(u > v)"
   ]
  },
  {
   "cell_type": "markdown",
   "metadata": {},
   "source": [
    "如果一个函数使用向量化的运算符，那么它也被向量化了，从而使速度提升成为可能。"
   ]
  },
  {
   "cell_type": "code",
   "execution_count": 78,
   "metadata": {},
   "outputs": [
    {
     "name": "stdout",
     "output_type": "stream",
     "text": [
      "[1] 6 3 9\n"
     ]
    }
   ],
   "source": [
    "w <- function(x) return(x+1)\n",
    "print(w(u))"
   ]
  },
  {
   "cell_type": "markdown",
   "metadata": {},
   "source": [
    "超越函数也是向量化的"
   ]
  },
  {
   "cell_type": "code",
   "execution_count": 79,
   "metadata": {},
   "outputs": [
    {
     "name": "stdout",
     "output_type": "stream",
     "text": [
      "[1] 1.000000 1.414214 1.732051 2.000000 2.236068 2.449490 2.645751 2.828427\n",
      "[9] 3.000000\n"
     ]
    }
   ],
   "source": [
    "print(sqrt(1:9))"
   ]
  },
  {
   "cell_type": "markdown",
   "metadata": {},
   "source": [
    "许多内置 R 函数都是向量化的"
   ]
  },
  {
   "cell_type": "code",
   "execution_count": 80,
   "metadata": {},
   "outputs": [
    {
     "name": "stdout",
     "output_type": "stream",
     "text": [
      "[1] 1 4 0\n"
     ]
    }
   ],
   "source": [
    "y <- c(1.2, 3.9, 0.4)\n",
    "z <- round(y)\n",
    "print(z)"
   ]
  },
  {
   "cell_type": "code",
   "execution_count": 81,
   "metadata": {},
   "outputs": [
    {
     "name": "stdout",
     "output_type": "stream",
     "text": [
      "[1] 1\n"
     ]
    }
   ],
   "source": [
    "print(round(1.2))"
   ]
  },
  {
   "cell_type": "markdown",
   "metadata": {},
   "source": [
    "`+` 也是函数"
   ]
  },
  {
   "cell_type": "code",
   "execution_count": 82,
   "metadata": {},
   "outputs": [
    {
     "name": "stdout",
     "output_type": "stream",
     "text": [
      "[1] 16  9 17\n"
     ]
    }
   ],
   "source": [
    "y <- c(12, 5, 13)\n",
    "print(y + 4)"
   ]
  },
  {
   "cell_type": "code",
   "execution_count": 83,
   "metadata": {},
   "outputs": [
    {
     "name": "stdout",
     "output_type": "stream",
     "text": [
      "[1] 16  9 17\n"
     ]
    }
   ],
   "source": [
    "print('+'(y, 4))"
   ]
  },
  {
   "cell_type": "markdown",
   "metadata": {},
   "source": [
    "R 对向量的循环补齐可能会给期望使用标量的函数带来问题"
   ]
  },
  {
   "cell_type": "code",
   "execution_count": 84,
   "metadata": {},
   "outputs": [],
   "source": [
    "f <- function(x, c) {\n",
    "    return ((x+c)^2)\n",
    "}"
   ]
  },
  {
   "cell_type": "code",
   "execution_count": 85,
   "metadata": {},
   "outputs": [
    {
     "name": "stdout",
     "output_type": "stream",
     "text": [
      "[1] 1 4 9\n"
     ]
    }
   ],
   "source": [
    "print(f(1:3, 0))"
   ]
  },
  {
   "cell_type": "code",
   "execution_count": 86,
   "metadata": {},
   "outputs": [
    {
     "name": "stdout",
     "output_type": "stream",
     "text": [
      "[1]  4  9 16\n"
     ]
    }
   ],
   "source": [
    "print(f(1:3, 1))"
   ]
  },
  {
   "cell_type": "markdown",
   "metadata": {},
   "source": [
    "参数 `c` 也可以接收多元向量"
   ]
  },
  {
   "cell_type": "code",
   "execution_count": 87,
   "metadata": {},
   "outputs": [
    {
     "name": "stdout",
     "output_type": "stream",
     "text": [
      "[1]  4 16 36\n"
     ]
    }
   ],
   "source": [
    "print(f(1:3, 1:3))"
   ]
  },
  {
   "cell_type": "markdown",
   "metadata": {},
   "source": [
    "想将 `c` 限制为标量，需要加入判断语句"
   ]
  },
  {
   "cell_type": "code",
   "execution_count": 213,
   "metadata": {},
   "outputs": [],
   "source": [
    "f <- function(x, c) {\n",
    "    if (length(c) != 1) stop(\"vector c not allowed\")\n",
    "    return ((x+c)^2)\n",
    "}"
   ]
  },
  {
   "cell_type": "markdown",
   "metadata": {},
   "source": [
    "再次执行上面的语句\n",
    "\n",
    "```R\n",
    "print(f(1:3, 1:3))\n",
    "```\n",
    "\n",
    "会抛出错误\n",
    "\n",
    "```\n",
    "Error in f(1:3, 1:3): vector c not allowed\n",
    "Traceback:\n",
    "\n",
    "1. print(f(1:3, 1:3))\n",
    "2. f(1:3, 1:3)\n",
    "3. stop(\"vector c not allowed\")   # at line 2 of file <text>\n",
    "```"
   ]
  },
  {
   "cell_type": "markdown",
   "metadata": {},
   "source": [
    "### 向量输入，矩阵输出"
   ]
  },
  {
   "cell_type": "code",
   "execution_count": 89,
   "metadata": {},
   "outputs": [],
   "source": [
    "z12 <- function(z) return(c(z, z^2))"
   ]
  },
  {
   "cell_type": "code",
   "execution_count": 90,
   "metadata": {},
   "outputs": [
    {
     "name": "stdout",
     "output_type": "stream",
     "text": [
      "[1]  5 25\n"
     ]
    }
   ],
   "source": [
    "print(z12(5))"
   ]
  },
  {
   "cell_type": "code",
   "execution_count": 91,
   "metadata": {},
   "outputs": [
    {
     "name": "stdout",
     "output_type": "stream",
     "text": [
      " [1]  1  2  3  4  5  6  7  8  1  4  9 16 25 36 49 64\n"
     ]
    }
   ],
   "source": [
    "x <- 1:8\n",
    "print(z12(x))"
   ]
  },
  {
   "cell_type": "markdown",
   "metadata": {},
   "source": [
    "以矩阵的形式更好理解，使用 `matrix` 函数将向量转为矩阵"
   ]
  },
  {
   "cell_type": "code",
   "execution_count": 92,
   "metadata": {},
   "outputs": [
    {
     "name": "stdout",
     "output_type": "stream",
     "text": [
      "     [,1] [,2]\n",
      "[1,]    1    1\n",
      "[2,]    2    4\n",
      "[3,]    3    9\n",
      "[4,]    4   16\n",
      "[5,]    5   25\n",
      "[6,]    6   36\n",
      "[7,]    7   49\n",
      "[8,]    8   64\n"
     ]
    }
   ],
   "source": [
    "print(matrix(z12(x), ncol=2))"
   ]
  },
  {
   "cell_type": "markdown",
   "metadata": {},
   "source": [
    "可以使用 `sapply()` (simple apply) 简化这一步骤。\n",
    "\n",
    "调用 `sapply(x, f)` 会对 x 中的每一个元素应用 `f()`，并将结果转成矩阵。\n",
    "每个元素的结果作为一列"
   ]
  },
  {
   "cell_type": "code",
   "execution_count": 93,
   "metadata": {},
   "outputs": [
    {
     "name": "stdout",
     "output_type": "stream",
     "text": [
      "     [,1] [,2] [,3] [,4] [,5] [,6] [,7] [,8]\n",
      "[1,]    1    2    3    4    5    6    7    8\n",
      "[2,]    1    4    9   16   25   36   49   64\n"
     ]
    }
   ],
   "source": [
    "print(sapply(1:8, z12))"
   ]
  },
  {
   "cell_type": "markdown",
   "metadata": {},
   "source": [
    "## NA 与 NULL 值\n",
    "\n",
    "NA 表示缺失值\n",
    "\n",
    "NULL 表示不存在的值"
   ]
  },
  {
   "cell_type": "markdown",
   "metadata": {},
   "source": [
    "### NA 的使用\n",
    "\n",
    "统计函数支持跳过 NA 值\n",
    "\n",
    "注：需要手动指定参数"
   ]
  },
  {
   "cell_type": "code",
   "execution_count": 94,
   "metadata": {},
   "outputs": [
    {
     "name": "stdout",
     "output_type": "stream",
     "text": [
      "[1]  88  NA  12 168  13\n"
     ]
    }
   ],
   "source": [
    "x <- c(88, NA, 12, 168, 13)\n",
    "print(x)"
   ]
  },
  {
   "cell_type": "code",
   "execution_count": 95,
   "metadata": {},
   "outputs": [
    {
     "name": "stdout",
     "output_type": "stream",
     "text": [
      "[1] NA\n"
     ]
    }
   ],
   "source": [
    "print(mean(x))"
   ]
  },
  {
   "cell_type": "code",
   "execution_count": 96,
   "metadata": {},
   "outputs": [
    {
     "name": "stdout",
     "output_type": "stream",
     "text": [
      "[1] 70.25\n"
     ]
    }
   ],
   "source": [
    "print(mean(x, na.rm=T))"
   ]
  },
  {
   "cell_type": "markdown",
   "metadata": {},
   "source": [
    "R 会自动跳过 NULL 值"
   ]
  },
  {
   "cell_type": "code",
   "execution_count": 97,
   "metadata": {},
   "outputs": [
    {
     "name": "stdout",
     "output_type": "stream",
     "text": [
      "[1]  88  12 168  13\n"
     ]
    }
   ],
   "source": [
    "x <- c(88, NULL, 12, 168, 13)\n",
    "print(x)"
   ]
  },
  {
   "cell_type": "code",
   "execution_count": 98,
   "metadata": {},
   "outputs": [
    {
     "name": "stdout",
     "output_type": "stream",
     "text": [
      "[1] 70.25\n"
     ]
    }
   ],
   "source": [
    "print(mean(x))"
   ]
  },
  {
   "cell_type": "markdown",
   "metadata": {},
   "source": [
    "`NA` 的模式与向量中其它元素保持一致"
   ]
  },
  {
   "cell_type": "code",
   "execution_count": 99,
   "metadata": {},
   "outputs": [
    {
     "name": "stdout",
     "output_type": "stream",
     "text": [
      "[1] \"numeric\"\n"
     ]
    }
   ],
   "source": [
    "x <- c(5, NA, 12)\n",
    "print(mode(x[1]))"
   ]
  },
  {
   "cell_type": "code",
   "execution_count": 100,
   "metadata": {},
   "outputs": [
    {
     "name": "stdout",
     "output_type": "stream",
     "text": [
      "[1] \"numeric\"\n"
     ]
    }
   ],
   "source": [
    "print(mode(x[2]))"
   ]
  },
  {
   "cell_type": "code",
   "execution_count": 101,
   "metadata": {},
   "outputs": [
    {
     "name": "stdout",
     "output_type": "stream",
     "text": [
      "[1] \"character\"\n"
     ]
    }
   ],
   "source": [
    "y <- c(\"abc\", \"def\", NA)\n",
    "print(mode(y[2]))"
   ]
  },
  {
   "cell_type": "code",
   "execution_count": 102,
   "metadata": {},
   "outputs": [
    {
     "name": "stdout",
     "output_type": "stream",
     "text": [
      "[1] \"character\"\n"
     ]
    }
   ],
   "source": [
    "print(mode(y[3]))"
   ]
  },
  {
   "cell_type": "markdown",
   "metadata": {},
   "source": [
    "### NULL 的使用\n",
    "\n",
    "NULL 是 R 的一种特殊对象，没有模式\n",
    "\n",
    "注：NULL 可以当成一种空指针"
   ]
  },
  {
   "cell_type": "code",
   "execution_count": 103,
   "metadata": {},
   "outputs": [
    {
     "name": "stdout",
     "output_type": "stream",
     "text": [
      "[1]  2  4  6  8 10\n"
     ]
    }
   ],
   "source": [
    "z <- NULL\n",
    "for (i in 1:10) {\n",
    "    if (i %% 2 == 0) {\n",
    "        z <- c(z, i)\n",
    "    }\n",
    "}\n",
    "print(z)"
   ]
  },
  {
   "cell_type": "markdown",
   "metadata": {},
   "source": [
    "使用 `seq` 也可以实现上面的功能"
   ]
  },
  {
   "cell_type": "code",
   "execution_count": 104,
   "metadata": {},
   "outputs": [
    {
     "name": "stdout",
     "output_type": "stream",
     "text": [
      "[1]  2  4  6  8 10\n"
     ]
    }
   ],
   "source": [
    "print(seq(2, 10, 2))"
   ]
  },
  {
   "cell_type": "markdown",
   "metadata": {},
   "source": [
    "或者另一种方法"
   ]
  },
  {
   "cell_type": "code",
   "execution_count": 105,
   "metadata": {},
   "outputs": [
    {
     "name": "stdout",
     "output_type": "stream",
     "text": [
      "[1]  2  4  6  8 10\n"
     ]
    }
   ],
   "source": [
    "print(2*1:5)"
   ]
  },
  {
   "cell_type": "markdown",
   "metadata": {},
   "source": [
    "如果将上例中的 NULL 换成 NA，则不会得到想要的结果"
   ]
  },
  {
   "cell_type": "code",
   "execution_count": 106,
   "metadata": {},
   "outputs": [
    {
     "name": "stdout",
     "output_type": "stream",
     "text": [
      "[1] NA  2  4  6  8 10\n"
     ]
    }
   ],
   "source": [
    "z <- NA\n",
    "for (i in 1:10) {\n",
    "    if (i %% 2 == 0) {\n",
    "        z <- c(z, i)\n",
    "    }\n",
    "}\n",
    "print(z)"
   ]
  },
  {
   "cell_type": "markdown",
   "metadata": {},
   "source": [
    "下面的示例可以看到，NULL 被当成不存在"
   ]
  },
  {
   "cell_type": "code",
   "execution_count": 107,
   "metadata": {},
   "outputs": [
    {
     "name": "stdout",
     "output_type": "stream",
     "text": [
      "[1] 0\n"
     ]
    }
   ],
   "source": [
    "u <- NULL\n",
    "print(length(u))"
   ]
  },
  {
   "cell_type": "code",
   "execution_count": 108,
   "metadata": {},
   "outputs": [
    {
     "name": "stdout",
     "output_type": "stream",
     "text": [
      "[1] 1\n"
     ]
    }
   ],
   "source": [
    "v <- NA\n",
    "print(length(v))"
   ]
  },
  {
   "cell_type": "markdown",
   "metadata": {},
   "source": [
    "## 筛选\n",
    "\n",
    "筛选 (filtering) 使我们可以提取向量中满足一定条件的元素"
   ]
  },
  {
   "cell_type": "markdown",
   "metadata": {},
   "source": [
    "### 生成筛选索引\n",
    "\n",
    "一个简单的示例"
   ]
  },
  {
   "cell_type": "code",
   "execution_count": 109,
   "metadata": {},
   "outputs": [
    {
     "name": "stdout",
     "output_type": "stream",
     "text": [
      "[1]  5 -3  8\n"
     ]
    }
   ],
   "source": [
    "z <- c(5, 2, -3, 8)\n",
    "w <- z[z*z > 8]\n",
    "print(w)"
   ]
  },
  {
   "cell_type": "markdown",
   "metadata": {},
   "source": [
    "逐步研究筛选如何实现"
   ]
  },
  {
   "cell_type": "code",
   "execution_count": 110,
   "metadata": {},
   "outputs": [
    {
     "name": "stdout",
     "output_type": "stream",
     "text": [
      "[1]  5  2 -3  8\n"
     ]
    }
   ],
   "source": [
    "z <- c(5, 2, -3, 8)\n",
    "print(z)"
   ]
  },
  {
   "cell_type": "code",
   "execution_count": 111,
   "metadata": {},
   "outputs": [
    {
     "name": "stdout",
     "output_type": "stream",
     "text": [
      "[1]  TRUE FALSE  TRUE  TRUE\n"
     ]
    }
   ],
   "source": [
    "print(z*z > 8)"
   ]
  },
  {
   "cell_type": "markdown",
   "metadata": {},
   "source": [
    "注意：`*` 和 `>` 都是向量运算符，`z` 和 `8` 都是向量\n",
    "\n",
    "所以上式又可以写成"
   ]
  },
  {
   "cell_type": "code",
   "execution_count": 112,
   "metadata": {},
   "outputs": [
    {
     "name": "stdout",
     "output_type": "stream",
     "text": [
      "[1]  TRUE FALSE  TRUE  TRUE\n"
     ]
    }
   ],
   "source": [
    "print(\">\"(\"*\"(z, z), 8))"
   ]
  },
  {
   "cell_type": "markdown",
   "metadata": {},
   "source": [
    "返回的结果是布尔值向量，用布尔值向量实现筛选"
   ]
  },
  {
   "cell_type": "code",
   "execution_count": 113,
   "metadata": {},
   "outputs": [
    {
     "name": "stdout",
     "output_type": "stream",
     "text": [
      "[1]  5 -3  8\n"
     ]
    }
   ],
   "source": [
    "print(z[c(TRUE, FALSE, TRUE, TRUE)])"
   ]
  },
  {
   "cell_type": "markdown",
   "metadata": {},
   "source": [
    "注：numpy 中也有类似的筛选操作"
   ]
  },
  {
   "cell_type": "markdown",
   "metadata": {},
   "source": [
    "筛选可以用于其它向量"
   ]
  },
  {
   "cell_type": "code",
   "execution_count": 114,
   "metadata": {},
   "outputs": [
    {
     "name": "stdout",
     "output_type": "stream",
     "text": [
      "[1]  TRUE FALSE  TRUE  TRUE\n"
     ]
    }
   ],
   "source": [
    "z <- c(5, 2, -3, 8)\n",
    "j <- z*z > 8\n",
    "print(j)"
   ]
  },
  {
   "cell_type": "code",
   "execution_count": 115,
   "metadata": {},
   "outputs": [
    {
     "name": "stdout",
     "output_type": "stream",
     "text": [
      "[1]  1 30  5\n"
     ]
    }
   ],
   "source": [
    "y <- c(1, 2, 30, 5)\n",
    "print(y[j])"
   ]
  },
  {
   "cell_type": "markdown",
   "metadata": {},
   "source": [
    "或者写成更简洁的形式"
   ]
  },
  {
   "cell_type": "code",
   "execution_count": 116,
   "metadata": {},
   "outputs": [
    {
     "name": "stdout",
     "output_type": "stream",
     "text": [
      "[1]  1 30  5\n"
     ]
    }
   ],
   "source": [
    "z <- c(5, 2, -3, 8)\n",
    "y <- c(1, 2, 30, 5)\n",
    "print(y[z*z > 8])"
   ]
  },
  {
   "cell_type": "markdown",
   "metadata": {},
   "source": [
    "### 使用 `subset` 函数筛选\n",
    "\n",
    "`subset` 与普通筛选类似，但会忽略 NA 值"
   ]
  },
  {
   "cell_type": "code",
   "execution_count": 118,
   "metadata": {},
   "outputs": [
    {
     "name": "stdout",
     "output_type": "stream",
     "text": [
      "[1]  6  1  2  3 NA 12\n"
     ]
    }
   ],
   "source": [
    "x <- c(6, 1:3, NA, 12)\n",
    "print(x)"
   ]
  },
  {
   "cell_type": "code",
   "execution_count": 119,
   "metadata": {},
   "outputs": [
    {
     "name": "stdout",
     "output_type": "stream",
     "text": [
      "[1]  6 NA 12\n"
     ]
    }
   ],
   "source": [
    "print(x[x > 5])"
   ]
  },
  {
   "cell_type": "code",
   "execution_count": 120,
   "metadata": {},
   "outputs": [
    {
     "name": "stdout",
     "output_type": "stream",
     "text": [
      "[1]  6 12\n"
     ]
    }
   ],
   "source": [
    "print(subset(x, x > 5))"
   ]
  },
  {
   "cell_type": "markdown",
   "metadata": {},
   "source": [
    "### 选择函数 `which()`\n",
    "\n",
    "`which()` 返回满足条件元素所在的位置"
   ]
  },
  {
   "cell_type": "code",
   "execution_count": 121,
   "metadata": {},
   "outputs": [
    {
     "name": "stdout",
     "output_type": "stream",
     "text": [
      "[1] 1 3 4\n"
     ]
    }
   ],
   "source": [
    "z <- c(5, 2, -3, 8)\n",
    "print(which(z*z > 8))"
   ]
  },
  {
   "cell_type": "markdown",
   "metadata": {},
   "source": [
    "了解 `which` 如何工作"
   ]
  },
  {
   "cell_type": "code",
   "execution_count": 123,
   "metadata": {},
   "outputs": [
    {
     "name": "stdout",
     "output_type": "stream",
     "text": [
      "[1]  TRUE FALSE  TRUE  TRUE\n"
     ]
    }
   ],
   "source": [
    "print(z * z > 8)"
   ]
  },
  {
   "cell_type": "markdown",
   "metadata": {},
   "source": [
    "`which()` 函数报告向量中哪些元素为 `TRUE`。\n",
    "\n",
    "下面考虑一个简单的函数：找到满足一定条件的元素首次出现的位置。\n",
    "\n",
    "上一篇文章中使用 `for` 循环查找"
   ]
  },
  {
   "cell_type": "code",
   "execution_count": 125,
   "metadata": {},
   "outputs": [],
   "source": [
    "first1 <- function(x) {\n",
    "    for (i in 1:length(x)) {\n",
    "        if (x[i] == 1) {\n",
    "            break\n",
    "        }\n",
    "    }\n",
    "    return(i)\n",
    "}"
   ]
  },
  {
   "cell_type": "markdown",
   "metadata": {},
   "source": [
    "使用 `which` 的版本\n",
    "\n",
    "注意：这里找出所有的 1，实际上仅需要找到第一个 1"
   ]
  },
  {
   "cell_type": "code",
   "execution_count": 126,
   "metadata": {},
   "outputs": [],
   "source": [
    "first1a <- function(x) return(which(x == 1)[1])"
   ]
  },
  {
   "cell_type": "markdown",
   "metadata": {},
   "source": [
    "## 向量化的 `ifelse()` 函数\n",
    "\n",
    "if 语句的向量化版本：`ifelse(b, u, v)`\n",
    "\n",
    "如果 `b[i]` 为真，第 i 个元素为 `u[i]`，否则为 `v[i]`。"
   ]
  },
  {
   "cell_type": "code",
   "execution_count": 127,
   "metadata": {},
   "outputs": [
    {
     "name": "stdout",
     "output_type": "stream",
     "text": [
      " [1] 12  5 12  5 12  5 12  5 12  5\n"
     ]
    }
   ],
   "source": [
    "x <- 1:10\n",
    "y <- ifelse(x %% 2 == 0, 5 ,12)\n",
    "print(y)"
   ]
  },
  {
   "cell_type": "code",
   "execution_count": 128,
   "metadata": {},
   "outputs": [
    {
     "name": "stdout",
     "output_type": "stream",
     "text": [
      "[1] 15  6 18 24\n"
     ]
    }
   ],
   "source": [
    "x <- c(5, 2, 9, 12)\n",
    "print(ifelse(x > 6, 2 * x, 3 * x))"
   ]
  },
  {
   "cell_type": "markdown",
   "metadata": {},
   "source": [
    "### 扩展案例：度量相关性\n",
    "\n",
    "向量 x 和 y 是时间序列变量，比如是温度和气压的观测值。\n",
    "定义两者的相关性为 x 和 y 同时上升或下降次数占观测数的比例。\n",
    "即 `y[i+1] - y[i]` 与 `x[i+1] - x[i]` 符号相同时的次数占总数 i 的比例。"
   ]
  },
  {
   "cell_type": "code",
   "execution_count": 134,
   "metadata": {},
   "outputs": [],
   "source": [
    "findud <- function(v) {\n",
    "    vud <- v[-1] - v[-length(v)]\n",
    "    return (ifelse(vud >0, 1, -1))\n",
    "}"
   ]
  },
  {
   "cell_type": "markdown",
   "metadata": {},
   "source": [
    "示例"
   ]
  },
  {
   "cell_type": "code",
   "execution_count": 135,
   "metadata": {},
   "outputs": [
    {
     "name": "stdout",
     "output_type": "stream",
     "text": [
      " [1]  1  1 -1  1 -1  1  1  1 -1  1\n"
     ]
    }
   ],
   "source": [
    "print(findud(c(5, 12, 13, 3, 6, 0, 1, 15, 16, 8, 88)))"
   ]
  },
  {
   "cell_type": "markdown",
   "metadata": {},
   "source": [
    "`udcorr` 计算相关性"
   ]
  },
  {
   "cell_type": "code",
   "execution_count": 136,
   "metadata": {},
   "outputs": [],
   "source": [
    "udcorr <- function(x, y) {\n",
    "    ud <- lapply(list(x, y), findud)\n",
    "    return (mean(ud[[1]]==ud[[2]]))\n",
    "}"
   ]
  },
  {
   "cell_type": "markdown",
   "metadata": {},
   "source": [
    "示例"
   ]
  },
  {
   "cell_type": "code",
   "execution_count": 137,
   "metadata": {},
   "outputs": [
    {
     "name": "stdout",
     "output_type": "stream",
     "text": [
      "[1] 0.4\n"
     ]
    }
   ],
   "source": [
    "x <- c(5, 12, 13, 3, 6, 0, 1, 15, 16, 8, 88)\n",
    "y <- c(4, 2, 3, 23, 6, 10, 11, 12, 6, 3, 2)\n",
    "print(udcorr(x, y))"
   ]
  },
  {
   "cell_type": "markdown",
   "metadata": {},
   "source": [
    "其中 `lapply()` 返回一个列表\n",
    "\n",
    "注意：R 语言中的列表类似 Python 中的字典"
   ]
  },
  {
   "cell_type": "code",
   "execution_count": 139,
   "metadata": {},
   "outputs": [
    {
     "name": "stdout",
     "output_type": "stream",
     "text": [
      "[[1]]\n",
      " [1]  1  1 -1  1 -1  1  1  1 -1  1\n",
      "\n",
      "[[2]]\n",
      " [1] -1  1  1 -1  1  1  1 -1 -1 -1\n",
      "\n"
     ]
    }
   ],
   "source": [
    "print(lapply(list(x, y), findud))"
   ]
  },
  {
   "cell_type": "markdown",
   "metadata": {},
   "source": [
    "更高级的版本使用 `diff` 函数，对向量做“滞后”运算，默认滞后一个元素，即与前一个元素做差"
   ]
  },
  {
   "cell_type": "code",
   "execution_count": 142,
   "metadata": {},
   "outputs": [
    {
     "name": "stdout",
     "output_type": "stream",
     "text": [
      "[1]  5  1 -5  1  2\n"
     ]
    }
   ],
   "source": [
    "u <- c(1, 6, 7, 2, 3, 5)\n",
    "print(diff(u))"
   ]
  },
  {
   "cell_type": "markdown",
   "metadata": {},
   "source": [
    "`sign` 函数根据数值正负返回 1, 0 或 -1"
   ]
  },
  {
   "cell_type": "code",
   "execution_count": 143,
   "metadata": {},
   "outputs": [
    {
     "name": "stdout",
     "output_type": "stream",
     "text": [
      "[1]  5  1 -5  1  2\n",
      "[1]  1  1 -1  1  1\n"
     ]
    }
   ],
   "source": [
    "u <- c(1, 6, 7, 2, 3, 5)\n",
    "print(diff(u))\n",
    "print(sign(diff(u)))"
   ]
  },
  {
   "cell_type": "markdown",
   "metadata": {},
   "source": [
    "使用上面两个函数，可以将 `udcorr` 函数写为一行"
   ]
  },
  {
   "cell_type": "code",
   "execution_count": 144,
   "metadata": {},
   "outputs": [],
   "source": [
    "udcorr <- function(x, y) mean(sign(diff(x)) == sign(diff(y)))"
   ]
  },
  {
   "cell_type": "markdown",
   "metadata": {},
   "source": [
    "测试"
   ]
  },
  {
   "cell_type": "code",
   "execution_count": 145,
   "metadata": {},
   "outputs": [
    {
     "name": "stdout",
     "output_type": "stream",
     "text": [
      "[1] 0.4\n"
     ]
    }
   ],
   "source": [
    "x <- c(5, 12, 13, 3, 6, 0, 1, 15, 16, 8, 88)\n",
    "y <- c(4, 2, 3, 23, 6, 10, 11, 12, 6, 3, 2)\n",
    "print(udcorr(x, y))"
   ]
  },
  {
   "cell_type": "markdown",
   "metadata": {},
   "source": [
    "### 扩展案例：对鲍鱼数据集重新编码\n",
    "\n",
    "`ifelse` 可以嵌套使用。\n",
    "\n",
    "在鲍鱼数据集中，性别被编码为 M，F 或 I (Infant，表示幼虫)。\n",
    "\n",
    "假设少量样本的性别被保存在 g 中，将字符变量重新编码为 0, 1, 2"
   ]
  },
  {
   "cell_type": "code",
   "execution_count": 147,
   "metadata": {},
   "outputs": [
    {
     "name": "stdout",
     "output_type": "stream",
     "text": [
      "[1] 1 2 2 3 1 1 2\n"
     ]
    }
   ],
   "source": [
    "g <- c(\"M\", \"F\", \"F\", \"I\", \"M\", \"M\", \"F\")\n",
    "print(ifelse(g == \"M\", 1, ifelse(g == \"F\", 2, 3)))"
   ]
  },
  {
   "cell_type": "markdown",
   "metadata": {},
   "source": [
    "使用 `args` 参数查看形式参数名字"
   ]
  },
  {
   "cell_type": "code",
   "execution_count": 148,
   "metadata": {},
   "outputs": [
    {
     "data": {
      "text/html": [
       "<pre class=language-r><code>function (test, yes, no) \n",
       "NULL</code></pre>"
      ],
      "text/latex": [
       "\\begin{minted}{r}\n",
       "function (test, yes, no) \n",
       "NULL\n",
       "\\end{minted}"
      ],
      "text/markdown": [
       "```r\n",
       "function (test, yes, no) \n",
       "NULL\n",
       "```"
      ],
      "text/plain": [
       "function (test, yes, no) \n",
       "NULL"
      ]
     },
     "metadata": {},
     "output_type": "display_data"
    }
   ],
   "source": [
    "args(ifelse)"
   ]
  },
  {
   "cell_type": "markdown",
   "metadata": {},
   "source": [
    "R 语言使用“惰性求值” (lazy evaluation)，只有当需要时表达式才会被计算，否则不计算。\n",
    "\n",
    "这意味着上述两重 ifelse 不是对全部数据都进行两次计算，而是只有对第一次计算为 FALSE 的值，才会进行第二次计算。\n",
    "\n",
    "可以使用 `which` 寻找不同性别数据的编号"
   ]
  },
  {
   "cell_type": "code",
   "execution_count": 149,
   "metadata": {},
   "outputs": [
    {
     "name": "stdout",
     "output_type": "stream",
     "text": [
      "[1] 1 5 6\n"
     ]
    }
   ],
   "source": [
    "m <- which(g == \"M\")\n",
    "print(m)"
   ]
  },
  {
   "cell_type": "code",
   "execution_count": 151,
   "metadata": {},
   "outputs": [
    {
     "name": "stdout",
     "output_type": "stream",
     "text": [
      "[1] 2 3 7\n"
     ]
    }
   ],
   "source": [
    "f <- which(g == \"F\")\n",
    "print(f)"
   ]
  },
  {
   "cell_type": "code",
   "execution_count": 152,
   "metadata": {},
   "outputs": [
    {
     "name": "stdout",
     "output_type": "stream",
     "text": [
      "[1] 4\n"
     ]
    }
   ],
   "source": [
    "i <- which(g == \"I\")\n",
    "print(i)"
   ]
  },
  {
   "cell_type": "markdown",
   "metadata": {},
   "source": [
    "可以将这些子集保存到列表中\n",
    "\n",
    "注意：`for` 循环支持字符串向量"
   ]
  },
  {
   "cell_type": "code",
   "execution_count": 154,
   "metadata": {},
   "outputs": [
    {
     "name": "stdout",
     "output_type": "stream",
     "text": [
      "$M\n",
      "[1] 1 5 6\n",
      "\n",
      "$F\n",
      "[1] 2 3 7\n",
      "\n",
      "$I\n",
      "[1] 4\n",
      "\n"
     ]
    }
   ],
   "source": [
    "grps <- list()\n",
    "for (gen in c(\"M\", \"F\", \"I\")) {\n",
    "    grps[[gen]] <- which(g == gen)\n",
    "}\n",
    "print(grps)"
   ]
  },
  {
   "cell_type": "markdown",
   "metadata": {},
   "source": [
    "为鲍鱼数据集添加表头"
   ]
  },
  {
   "cell_type": "code",
   "execution_count": 155,
   "metadata": {},
   "outputs": [],
   "source": [
    "title <- c(\"Gender\", \"Length\", \"Diameter\", \"Height\", \"WholeWt\", \"ShuckedWt\", \"ViscWt\", \"ShellWt\", \"Rings\")"
   ]
  },
  {
   "cell_type": "markdown",
   "metadata": {},
   "source": [
    "使用 `read.csv` 载入数据集"
   ]
  },
  {
   "cell_type": "code",
   "execution_count": 162,
   "metadata": {},
   "outputs": [
    {
     "name": "stdout",
     "output_type": "stream",
     "text": [
      "  Gender Length Diameter Height WholeWt ShuckedWt ViscWt ShellWt Rings\n",
      "1      M  0.455    0.365  0.095  0.5140    0.2245 0.1010   0.150    15\n",
      "2      M  0.350    0.265  0.090  0.2255    0.0995 0.0485   0.070     7\n",
      "3      F  0.530    0.420  0.135  0.6770    0.2565 0.1415   0.210     9\n",
      "4      M  0.440    0.365  0.125  0.5160    0.2155 0.1140   0.155    10\n",
      "5      I  0.330    0.255  0.080  0.2050    0.0895 0.0395   0.055     7\n",
      "6      I  0.425    0.300  0.095  0.3515    0.1410 0.0775   0.120     8\n"
     ]
    }
   ],
   "source": [
    "aba <- read.csv(\n",
    "    \"Abalone.data\",\n",
    "    header=FALSE,\n",
    "    col.names=title,\n",
    "    as.is=TRUE\n",
    ")\n",
    "print(head(aba))"
   ]
  },
  {
   "cell_type": "markdown",
   "metadata": {},
   "source": [
    "分雌雄两组，对直径和长度作图"
   ]
  },
  {
   "cell_type": "code",
   "execution_count": 165,
   "metadata": {},
   "outputs": [
    {
     "data": {
      "image/png": "[encoded data removed]",
      "text/plain": [
       "plot without title"
      ]
     },
     "metadata": {
      "image/png": {
       "height": 420,
       "width": 420
      }
     },
     "output_type": "display_data"
    },
    {
     "data": {
      "image/png": "[encoded data removed]",
      "text/plain": [
       "plot without title"
      ]
     },
     "metadata": {
      "image/png": {
       "height": 420,
       "width": 420
      }
     },
     "output_type": "display_data"
    }
   ],
   "source": [
    "grps <- list()\n",
    "for (gen in c(\"M\", \"F\", \"I\")) {\n",
    "    grps[[gen]] <- which(aba[,1] == gen)\n",
    "}\n",
    "abam <- aba[grps$M,]\n",
    "abaf <- aba[grps$F,]\n",
    "plot(abam$Length, abam$Diameter)\n",
    "plot(abaf$Length, abaf$Diameter, pch=\"x\", new=FALSE)"
   ]
  },
  {
   "cell_type": "markdown",
   "metadata": {},
   "source": [
    "`pch` 参数可以是向量"
   ]
  },
  {
   "cell_type": "code",
   "execution_count": 167,
   "metadata": {},
   "outputs": [
    {
     "data": {
      "image/png": "[encoded data removed]",
      "text/plain": [
       "plot without title"
      ]
     },
     "metadata": {
      "image/png": {
       "height": 420,
       "width": 420
      }
     },
     "output_type": "display_data"
    }
   ],
   "source": [
    "pchvec <- ifelse(aba$Gender == \"M\", \"o\", \"x\")\n",
    "plot(aba$Length, aba$Diameter, pch=pchvec)"
   ]
  },
  {
   "cell_type": "markdown",
   "metadata": {},
   "source": [
    "## 测试向量相等\n",
    "\n",
    "因为 `==` 是向量化函数，使用 `==` 比较两个向量是否相等不会得到预想的结果"
   ]
  },
  {
   "cell_type": "code",
   "execution_count": 169,
   "metadata": {},
   "outputs": [
    {
     "name": "stdout",
     "output_type": "stream",
     "text": [
      "[1]  TRUE FALSE FALSE\n"
     ]
    }
   ],
   "source": [
    "x <- 1:3\n",
    "y <- c(1, 3, 4)\n",
    "print(x == y)"
   ]
  },
  {
   "cell_type": "markdown",
   "metadata": {},
   "source": [
    "一种可行的方法是结合 `all` 函数使用 `==` 运算符"
   ]
  },
  {
   "cell_type": "code",
   "execution_count": 172,
   "metadata": {},
   "outputs": [
    {
     "name": "stdout",
     "output_type": "stream",
     "text": [
      "[1] FALSE\n"
     ]
    }
   ],
   "source": [
    "print(all(x == y))"
   ]
  },
  {
   "cell_type": "markdown",
   "metadata": {},
   "source": [
    "另一种方法是使用 `identical` 函数"
   ]
  },
  {
   "cell_type": "code",
   "execution_count": 173,
   "metadata": {},
   "outputs": [
    {
     "name": "stdout",
     "output_type": "stream",
     "text": [
      "[1] FALSE\n"
     ]
    }
   ],
   "source": [
    "print(identical(x, y))"
   ]
  },
  {
   "cell_type": "markdown",
   "metadata": {},
   "source": [
    "`identical` 函数判断两个对象是否完全一致。\n",
    "\n",
    "下面是一个值得 *思考* 的示例"
   ]
  },
  {
   "cell_type": "code",
   "execution_count": 175,
   "metadata": {},
   "outputs": [
    {
     "name": "stdout",
     "output_type": "stream",
     "text": [
      "[1] 1 2\n"
     ]
    }
   ],
   "source": [
    "x <- 1:2\n",
    "print(x)"
   ]
  },
  {
   "cell_type": "code",
   "execution_count": 176,
   "metadata": {},
   "outputs": [
    {
     "name": "stdout",
     "output_type": "stream",
     "text": [
      "[1] 1 2\n"
     ]
    }
   ],
   "source": [
    "y <- c(1, 2)\n",
    "print(y)"
   ]
  },
  {
   "cell_type": "code",
   "execution_count": 177,
   "metadata": {},
   "outputs": [
    {
     "name": "stdout",
     "output_type": "stream",
     "text": [
      "[1] FALSE\n"
     ]
    }
   ],
   "source": [
    "print(identical(x, y))"
   ]
  },
  {
   "cell_type": "code",
   "execution_count": 178,
   "metadata": {},
   "outputs": [
    {
     "name": "stdout",
     "output_type": "stream",
     "text": [
      "[1] \"integer\"\n"
     ]
    }
   ],
   "source": [
    "print(typeof(x))"
   ]
  },
  {
   "cell_type": "code",
   "execution_count": 179,
   "metadata": {},
   "outputs": [
    {
     "name": "stdout",
     "output_type": "stream",
     "text": [
      "[1] \"double\"\n"
     ]
    }
   ],
   "source": [
    "print(typeof(y))"
   ]
  },
  {
   "cell_type": "markdown",
   "metadata": {},
   "source": [
    "`:` 产生的是整数，`c()` 产生的是浮点数"
   ]
  },
  {
   "cell_type": "markdown",
   "metadata": {},
   "source": [
    "## 向量元素的名称\n",
    "\n",
    "可以给向量元素随意指定名称"
   ]
  },
  {
   "cell_type": "code",
   "execution_count": 180,
   "metadata": {},
   "outputs": [
    {
     "data": {
      "text/plain": [
       "NULL"
      ]
     },
     "metadata": {},
     "output_type": "display_data"
    }
   ],
   "source": [
    "x <- c(1, 2, 4)\n",
    "names(x)"
   ]
  },
  {
   "cell_type": "code",
   "execution_count": 181,
   "metadata": {},
   "outputs": [
    {
     "name": "stdout",
     "output_type": "stream",
     "text": [
      "[1] \"a\"  \"b\"  \"ab\"\n"
     ]
    }
   ],
   "source": [
    "names(x) <- c(\"a\", \"b\", \"ab\")\n",
    "print(names(x))"
   ]
  },
  {
   "cell_type": "code",
   "execution_count": 182,
   "metadata": {},
   "outputs": [
    {
     "name": "stdout",
     "output_type": "stream",
     "text": [
      " a  b ab \n",
      " 1  2  4 \n"
     ]
    }
   ],
   "source": [
    "print(x)"
   ]
  },
  {
   "cell_type": "markdown",
   "metadata": {},
   "source": [
    "将向量名称赋值为 NULL，可以将其删除"
   ]
  },
  {
   "cell_type": "code",
   "execution_count": 183,
   "metadata": {},
   "outputs": [
    {
     "name": "stdout",
     "output_type": "stream",
     "text": [
      "[1] 1 2 4\n"
     ]
    }
   ],
   "source": [
    "names(x) <- NULL\n",
    "print(x)"
   ]
  },
  {
   "cell_type": "markdown",
   "metadata": {},
   "source": [
    "可以使用名称来引用向量中的元素"
   ]
  },
  {
   "cell_type": "code",
   "execution_count": 184,
   "metadata": {},
   "outputs": [
    {
     "name": "stdout",
     "output_type": "stream",
     "text": [
      "b \n",
      "2 \n"
     ]
    }
   ],
   "source": [
    "x <- c(1, 2, 4)\n",
    "names(x) <- c(\"a\", \"b\", \"c\")\n",
    "print(x[\"b\"])"
   ]
  },
  {
   "cell_type": "markdown",
   "metadata": {},
   "source": [
    "注：向量名称可以使用任意值，比如列表"
   ]
  },
  {
   "cell_type": "code",
   "execution_count": 189,
   "metadata": {},
   "outputs": [
    {
     "name": "stdout",
     "output_type": "stream",
     "text": [
      "c(1, 2)       c    TRUE \n",
      "      1       2       4 \n"
     ]
    }
   ],
   "source": [
    "x <- c(1, 2, 4)\n",
    "names(x) <- list(c(1, 2), \"c\", TRUE)\n",
    "print(x)"
   ]
  },
  {
   "cell_type": "markdown",
   "metadata": {},
   "source": [
    "## 关于 `c()` 的更多内容\n",
    "\n",
    "`c()` 会自动将不同类型的参数降级为同一类型"
   ]
  },
  {
   "cell_type": "code",
   "execution_count": 190,
   "metadata": {},
   "outputs": [
    {
     "name": "stdout",
     "output_type": "stream",
     "text": [
      "[1] \"5\"   \"2\"   \"abc\"\n"
     ]
    }
   ],
   "source": [
    "print(c(5, 2, \"abc\"))"
   ]
  },
  {
   "cell_type": "code",
   "execution_count": 191,
   "metadata": {},
   "outputs": [
    {
     "name": "stdout",
     "output_type": "stream",
     "text": [
      "[[1]]\n",
      "[1] 5\n",
      "\n",
      "[[2]]\n",
      "[1] 2\n",
      "\n",
      "$a\n",
      "[1] 1\n",
      "\n",
      "$b\n",
      "[1] 4\n",
      "\n"
     ]
    }
   ],
   "source": [
    "print(c(5, 2, list(a=1, b=4)))"
   ]
  },
  {
   "cell_type": "markdown",
   "metadata": {},
   "source": [
    "`c()` 对向量有扁平化效果"
   ]
  },
  {
   "cell_type": "code",
   "execution_count": 192,
   "metadata": {},
   "outputs": [
    {
     "name": "stdout",
     "output_type": "stream",
     "text": [
      "[1] 5.0 2.0 1.5 6.0\n"
     ]
    }
   ],
   "source": [
    "print(c(5, 2, c(1.5, 6)))"
   ]
  },
  {
   "cell_type": "markdown",
   "metadata": {},
   "source": [
    "注：Python 中类似的操作会生成嵌套列表"
   ]
  }
 ],
 "metadata": {
  "kernelspec": {
   "display_name": "R",
   "language": "R",
   "name": "ir"
  },
  "language_info": {
   "codemirror_mode": "r",
   "file_extension": ".r",
   "mimetype": "text/x-r-source",
   "name": "R",
   "pygments_lexer": "r",
   "version": "4.0.2"
  }
 },
 "nbformat": 4,
 "nbformat_minor": 4
}
