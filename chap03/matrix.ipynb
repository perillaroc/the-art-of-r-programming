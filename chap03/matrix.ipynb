{
 "cells": [
  {
   "cell_type": "markdown",
   "metadata": {},
   "source": [
    "# 矩阵和数组"
   ]
  },
  {
   "cell_type": "markdown",
   "metadata": {},
   "source": [
    "矩阵 (Matrix) 是一种特殊的向量，包含两个附加属性：行数和列数。\n",
    "\n",
    "数组 (Array) 是更一般的对象，可以有多个维度。矩阵是二维数组。"
   ]
  },
  {
   "cell_type": "markdown",
   "metadata": {},
   "source": [
    "## 创建矩阵\n",
    "\n",
    "R 中下标从 1 开始，矩阵按列存储。\n",
    "\n",
    "使用 `matrix()` 函数创建矩阵"
   ]
  },
  {
   "cell_type": "code",
   "execution_count": 1,
   "metadata": {},
   "outputs": [
    {
     "name": "stdout",
     "output_type": "stream",
     "text": [
      "     [,1] [,2]\n",
      "[1,]    1    3\n",
      "[2,]    2    4\n"
     ]
    }
   ],
   "source": [
    "y <- matrix(\n",
    "    c(1, 2, 3, 4),\n",
    "    nrow=2,\n",
    "    ncol=2,\n",
    ")\n",
    "print(y)"
   ]
  },
  {
   "cell_type": "markdown",
   "metadata": {},
   "source": [
    "在给定所有元素的情况下，`nrow` 和 `ncol` 两个参数只需要给出一个"
   ]
  },
  {
   "cell_type": "code",
   "execution_count": 124,
   "metadata": {},
   "outputs": [
    {
     "name": "stdout",
     "output_type": "stream",
     "text": [
      "     [,1] [,2]\n",
      "[1,]    1    3\n",
      "[2,]    2    4\n"
     ]
    }
   ],
   "source": [
    "y <- matrix(\n",
    "    1:4,\n",
    "    nrow=2\n",
    ")\n",
    "print(y)"
   ]
  },
  {
   "cell_type": "markdown",
   "metadata": {},
   "source": [
    "另一种方法是创建空的矩阵，再对每一位赋值"
   ]
  },
  {
   "cell_type": "code",
   "execution_count": 3,
   "metadata": {},
   "outputs": [
    {
     "name": "stdout",
     "output_type": "stream",
     "text": [
      "     [,1] [,2]\n",
      "[1,]   NA   NA\n",
      "[2,]   NA   NA\n"
     ]
    }
   ],
   "source": [
    "y <- matrix(nrow=2, ncol=2)\n",
    "print(y)"
   ]
  },
  {
   "cell_type": "code",
   "execution_count": 4,
   "metadata": {},
   "outputs": [
    {
     "name": "stdout",
     "output_type": "stream",
     "text": [
      "     [,1] [,2]\n",
      "[1,]    1    3\n",
      "[2,]    2    4\n"
     ]
    }
   ],
   "source": [
    "y[1, 1] <- 1\n",
    "y[2, 1] <- 2\n",
    "y[1, 2] <- 3\n",
    "y[2, 2] <- 4\n",
    "print(y)"
   ]
  },
  {
   "cell_type": "markdown",
   "metadata": {},
   "source": [
    "设置参数 `byrow=TRUE`，可以按行提供的矩阵数据。\n",
    "但矩阵实际还是按列存储"
   ]
  },
  {
   "cell_type": "code",
   "execution_count": 125,
   "metadata": {},
   "outputs": [
    {
     "name": "stdout",
     "output_type": "stream",
     "text": [
      "     [,1] [,2] [,3]\n",
      "[1,]    1    2    3\n",
      "[2,]    4    5    6\n"
     ]
    }
   ],
   "source": [
    "m <- matrix(\n",
    "    1:6,\n",
    "    nrow=2,\n",
    "    byrow=TRUE,\n",
    ")\n",
    "print(m)"
   ]
  },
  {
   "cell_type": "markdown",
   "metadata": {},
   "source": [
    "## 一般矩阵运算"
   ]
  },
  {
   "cell_type": "markdown",
   "metadata": {},
   "source": [
    "### 线性代数运算\n",
    "\n",
    "矩阵乘法"
   ]
  },
  {
   "cell_type": "code",
   "execution_count": 6,
   "metadata": {},
   "outputs": [
    {
     "name": "stdout",
     "output_type": "stream",
     "text": [
      "     [,1] [,2]\n",
      "[1,]    7   15\n",
      "[2,]   10   22\n"
     ]
    }
   ],
   "source": [
    "print(y %*% y)"
   ]
  },
  {
   "cell_type": "markdown",
   "metadata": {},
   "source": [
    "矩阵元素乘法"
   ]
  },
  {
   "cell_type": "code",
   "execution_count": 7,
   "metadata": {},
   "outputs": [
    {
     "name": "stdout",
     "output_type": "stream",
     "text": [
      "     [,1] [,2]\n",
      "[1,]    3    9\n",
      "[2,]    6   12\n"
     ]
    }
   ],
   "source": [
    "print(3*y)"
   ]
  },
  {
   "cell_type": "markdown",
   "metadata": {},
   "source": [
    "矩阵加法"
   ]
  },
  {
   "cell_type": "code",
   "execution_count": 8,
   "metadata": {},
   "outputs": [
    {
     "name": "stdout",
     "output_type": "stream",
     "text": [
      "     [,1] [,2]\n",
      "[1,]    2    6\n",
      "[2,]    4    8\n"
     ]
    }
   ],
   "source": [
    "print(y + y)"
   ]
  },
  {
   "cell_type": "markdown",
   "metadata": {},
   "source": [
    "### 矩阵索引\n",
    "\n",
    "向量索引同样适用于矩阵索引\n",
    "\n",
    "提取矩阵列"
   ]
  },
  {
   "cell_type": "code",
   "execution_count": 126,
   "metadata": {},
   "outputs": [
    {
     "name": "stdout",
     "output_type": "stream",
     "text": [
      "     [,1] [,2] [,3]\n",
      "[1,]    1    1    1\n",
      "[2,]    2    1    0\n",
      "[3,]    3    0    1\n",
      "[4,]    4    0    0\n"
     ]
    }
   ],
   "source": [
    "z <- matrix(\n",
    "    c(\n",
    "        1, 2, 3, 4,\n",
    "        1, 1, 0, 0,\n",
    "        1, 0, 1, 0\n",
    "    ),\n",
    "    nrow=4,\n",
    ")\n",
    "print(z)"
   ]
  },
  {
   "cell_type": "code",
   "execution_count": 127,
   "metadata": {},
   "outputs": [
    {
     "name": "stdout",
     "output_type": "stream",
     "text": [
      "     [,1] [,2]\n",
      "[1,]    1    1\n",
      "[2,]    1    0\n",
      "[3,]    0    1\n",
      "[4,]    0    0\n"
     ]
    }
   ],
   "source": [
    "print(z[, 2:3])"
   ]
  },
  {
   "cell_type": "markdown",
   "metadata": {},
   "source": [
    "提取矩阵行"
   ]
  },
  {
   "cell_type": "code",
   "execution_count": 128,
   "metadata": {},
   "outputs": [
    {
     "name": "stdout",
     "output_type": "stream",
     "text": [
      "     [,1] [,2]\n",
      "[1,]   11   12\n",
      "[2,]   21   22\n",
      "[3,]   31   32\n"
     ]
    }
   ],
   "source": [
    "y <- matrix(\n",
    "    c(\n",
    "        11, 21, 31, \n",
    "        12, 22, 32\n",
    "    ),\n",
    "    ncol=2,\n",
    ")\n",
    "print(y)"
   ]
  },
  {
   "cell_type": "code",
   "execution_count": 129,
   "metadata": {},
   "outputs": [
    {
     "name": "stdout",
     "output_type": "stream",
     "text": [
      "     [,1] [,2]\n",
      "[1,]   21   22\n",
      "[2,]   31   32\n"
     ]
    }
   ],
   "source": [
    "print(y[2:3,])"
   ]
  },
  {
   "cell_type": "code",
   "execution_count": 130,
   "metadata": {},
   "outputs": [
    {
     "name": "stdout",
     "output_type": "stream",
     "text": [
      "[1] 22 32\n"
     ]
    }
   ],
   "source": [
    "print(y[2:3, 2])"
   ]
  },
  {
   "cell_type": "markdown",
   "metadata": {},
   "source": [
    "对子矩阵赋值"
   ]
  },
  {
   "cell_type": "code",
   "execution_count": 92,
   "metadata": {},
   "outputs": [
    {
     "name": "stdout",
     "output_type": "stream",
     "text": [
      "     [,1] [,2]\n",
      "[1,]    1    4\n",
      "[2,]    2    5\n",
      "[3,]    3    6\n"
     ]
    }
   ],
   "source": [
    "y <- matrix(\n",
    "    1:6,\n",
    "    nrow=3\n",
    ")\n",
    "print(y)"
   ]
  },
  {
   "cell_type": "code",
   "execution_count": 15,
   "metadata": {},
   "outputs": [
    {
     "name": "stdout",
     "output_type": "stream",
     "text": [
      "     [,1] [,2]\n",
      "[1,]    1    8\n",
      "[2,]    2    5\n",
      "[3,]    1   12\n"
     ]
    }
   ],
   "source": [
    "y[c(1,3),] <- matrix(\n",
    "    c(1, 1, 8, 12),\n",
    "    nrow=2\n",
    ")\n",
    "print(y)"
   ]
  },
  {
   "cell_type": "markdown",
   "metadata": {},
   "source": [
    "另一个示例"
   ]
  },
  {
   "cell_type": "code",
   "execution_count": 16,
   "metadata": {},
   "outputs": [
    {
     "name": "stdout",
     "output_type": "stream",
     "text": [
      "     [,1] [,2]\n",
      "[1,]    4    2\n",
      "[2,]    5    3\n"
     ]
    }
   ],
   "source": [
    "x <- matrix(nrow=3, ncol=3)\n",
    "y <- matrix(\n",
    "    c(4, 5, 2, 3),\n",
    "    nrow=2\n",
    ")\n",
    "print(y)"
   ]
  },
  {
   "cell_type": "code",
   "execution_count": 17,
   "metadata": {},
   "outputs": [
    {
     "name": "stdout",
     "output_type": "stream",
     "text": [
      "     [,1] [,2] [,3]\n",
      "[1,]   NA   NA   NA\n",
      "[2,]   NA    4    2\n",
      "[3,]   NA    5    3\n"
     ]
    }
   ],
   "source": [
    "x[2:3, 2:3] <- y\n",
    "print(x)"
   ]
  },
  {
   "cell_type": "markdown",
   "metadata": {},
   "source": [
    "负值索引用于去掉某些元素"
   ]
  },
  {
   "cell_type": "code",
   "execution_count": 131,
   "metadata": {},
   "outputs": [
    {
     "name": "stdout",
     "output_type": "stream",
     "text": [
      "     [,1] [,2]\n",
      "[1,]    1    4\n",
      "[2,]    2    5\n",
      "[3,]    3    6\n"
     ]
    }
   ],
   "source": [
    "y <- matrix(\n",
    "    1:6,\n",
    "    nrow=3\n",
    ")\n",
    "print(y)"
   ]
  },
  {
   "cell_type": "code",
   "execution_count": 19,
   "metadata": {},
   "outputs": [
    {
     "name": "stdout",
     "output_type": "stream",
     "text": [
      "     [,1] [,2]\n",
      "[1,]    1    4\n",
      "[2,]    3    6\n"
     ]
    }
   ],
   "source": [
    "print(y[-2,])"
   ]
  },
  {
   "cell_type": "markdown",
   "metadata": {},
   "source": [
    "### 扩展案例：图像操作"
   ]
  },
  {
   "cell_type": "code",
   "execution_count": 20,
   "metadata": {},
   "outputs": [
    {
     "name": "stderr",
     "output_type": "stream",
     "text": [
      "Warning message in readChar(con, nchars = 1):\n",
      "\"在non-UTF-8 MBCS语言环境里只能读取字节\"\n",
      "Warning message in readChar(con, nchars = 1):\n",
      "\"在non-UTF-8 MBCS语言环境里只能读取字节\"\n",
      "Warning message in readChar(con, nchars = 1):\n",
      "\"在non-UTF-8 MBCS语言环境里只能读取字节\"\n",
      "Warning message in readChar(con, nchars = 1):\n",
      "\"在non-UTF-8 MBCS语言环境里只能读取字节\"\n",
      "Warning message in readChar(con, nchars = 1):\n",
      "\"在non-UTF-8 MBCS语言环境里只能读取字节\"\n",
      "Warning message in readChar(con, nchars = 1):\n",
      "\"在non-UTF-8 MBCS语言环境里只能读取字节\"\n",
      "Warning message in readChar(con, nchars = 1):\n",
      "\"在non-UTF-8 MBCS语言环境里只能读取字节\"\n",
      "Warning message in readChar(con, nchars = 1):\n",
      "\"在non-UTF-8 MBCS语言环境里只能读取字节\"\n",
      "Warning message in readChar(con, nchars = 1):\n",
      "\"在non-UTF-8 MBCS语言环境里只能读取字节\"\n",
      "Warning message in readChar(con, nchars = 1):\n",
      "\"在non-UTF-8 MBCS语言环境里只能读取字节\"\n",
      "Warning message in readChar(con, nchars = 1):\n",
      "\"在non-UTF-8 MBCS语言环境里只能读取字节\"\n",
      "Warning message in readChar(con, nchars = 1):\n",
      "\"在non-UTF-8 MBCS语言环境里只能读取字节\"\n",
      "Warning message in readChar(con, nchars = 1):\n",
      "\"在non-UTF-8 MBCS语言环境里只能读取字节\"\n",
      "Warning message in readChar(con, nchars = 1):\n",
      "\"在non-UTF-8 MBCS语言环境里只能读取字节\"\n",
      "Warning message in readChar(con, nchars = 1):\n",
      "\"在non-UTF-8 MBCS语言环境里只能读取字节\"\n",
      "Warning message in readChar(con, nchars = 1):\n",
      "\"在non-UTF-8 MBCS语言环境里只能读取字节\"\n",
      "Warning message in readChar(con, nchars = 1):\n",
      "\"在non-UTF-8 MBCS语言环境里只能读取字节\"\n",
      "Warning message in readChar(con, nchars = 1):\n",
      "\"在non-UTF-8 MBCS语言环境里只能读取字节\"\n",
      "Warning message in readChar(con, nchars = 1):\n",
      "\"在non-UTF-8 MBCS语言环境里只能读取字节\"\n",
      "Warning message in readChar(con, nchars = 1):\n",
      "\"在non-UTF-8 MBCS语言环境里只能读取字节\"\n",
      "Warning message in readChar(con, nchars = 1):\n",
      "\"在non-UTF-8 MBCS语言环境里只能读取字节\"\n",
      "Warning message in readChar(con, nchars = 1):\n",
      "\"在non-UTF-8 MBCS语言环境里只能读取字节\"\n",
      "Warning message in readChar(con, nchars = 1):\n",
      "\"在non-UTF-8 MBCS语言环境里只能读取字节\"\n",
      "Warning message in readChar(con, nchars = 1):\n",
      "\"在non-UTF-8 MBCS语言环境里只能读取字节\"\n",
      "Warning message in readChar(con, nchars = 1):\n",
      "\"在non-UTF-8 MBCS语言环境里只能读取字节\"\n",
      "Warning message in readChar(con, nchars = 1):\n",
      "\"在non-UTF-8 MBCS语言环境里只能读取字节\"\n",
      "Warning message in readChar(con, nchars = 1):\n",
      "\"在non-UTF-8 MBCS语言环境里只能读取字节\"\n",
      "Warning message in readChar(con, nchars = 1):\n",
      "\"在non-UTF-8 MBCS语言环境里只能读取字节\"\n",
      "Warning message in readChar(con, nchars = 1):\n",
      "\"在non-UTF-8 MBCS语言环境里只能读取字节\"\n",
      "Warning message in readChar(con, nchars = 1):\n",
      "\"在non-UTF-8 MBCS语言环境里只能读取字节\"\n",
      "Warning message in readChar(con, nchars = 1):\n",
      "\"在non-UTF-8 MBCS语言环境里只能读取字节\"\n",
      "Warning message in readChar(con, nchars = 1):\n",
      "\"在non-UTF-8 MBCS语言环境里只能读取字节\"\n",
      "Warning message in readChar(con, nchars = 1):\n",
      "\"在non-UTF-8 MBCS语言环境里只能读取字节\"\n",
      "Warning message in readChar(con, nchars = 1):\n",
      "\"在non-UTF-8 MBCS语言环境里只能读取字节\"\n",
      "Warning message in readChar(con, nchars = 1):\n",
      "\"在non-UTF-8 MBCS语言环境里只能读取字节\"\n",
      "Warning message in readChar(con, nchars = 1):\n",
      "\"在non-UTF-8 MBCS语言环境里只能读取字节\"\n",
      "Warning message in readChar(con, nchars = 1):\n",
      "\"在non-UTF-8 MBCS语言环境里只能读取字节\"\n",
      "Warning message in readChar(con, nchars = 1):\n",
      "\"在non-UTF-8 MBCS语言环境里只能读取字节\"\n",
      "Warning message in readChar(con, nchars = 1):\n",
      "\"在non-UTF-8 MBCS语言环境里只能读取字节\"\n",
      "Warning message in readChar(con, nchars = 1):\n",
      "\"在non-UTF-8 MBCS语言环境里只能读取字节\"\n",
      "Warning message in readChar(con, nchars = 1):\n",
      "\"在non-UTF-8 MBCS语言环境里只能读取字节\"\n",
      "Warning message in readChar(con, nchars = 1):\n",
      "\"在non-UTF-8 MBCS语言环境里只能读取字节\"\n",
      "Warning message in readChar(con, nchars = 1):\n",
      "\"在non-UTF-8 MBCS语言环境里只能读取字节\"\n",
      "Warning message in readChar(con, nchars = 1):\n",
      "\"在non-UTF-8 MBCS语言环境里只能读取字节\"\n",
      "Warning message in readChar(con, nchars = 1):\n",
      "\"在non-UTF-8 MBCS语言环境里只能读取字节\"\n",
      "Warning message in readChar(con, nchars = 1):\n",
      "\"在non-UTF-8 MBCS语言环境里只能读取字节\"\n",
      "Warning message in readChar(con, nchars = 1):\n",
      "\"在non-UTF-8 MBCS语言环境里只能读取字节\"\n",
      "Warning message in readChar(con, nchars = 1):\n",
      "\"在non-UTF-8 MBCS语言环境里只能读取字节\"\n",
      "Warning message in readChar(con, nchars = 1):\n",
      "\"在non-UTF-8 MBCS语言环境里只能读取字节\"\n",
      "Warning message in readChar(con, nchars = 1):\n",
      "\"在non-UTF-8 MBCS语言环境里只能读取字节\"\n",
      "Warning message in readChar(con, nchars = 1):\n",
      "\"在non-UTF-8 MBCS语言环境里只能读取字节\"\n",
      "Warning message in readChar(con, nchars = 1):\n",
      "\"在non-UTF-8 MBCS语言环境里只能读取字节\"\n",
      "Warning message in readChar(con, nchars = 1):\n",
      "\"在non-UTF-8 MBCS语言环境里只能读取字节\"\n",
      "Warning message in readChar(con, nchars = 1):\n",
      "\"在non-UTF-8 MBCS语言环境里只能读取字节\"\n",
      "Warning message in rep(cellres, length = 2):\n",
      "\"'x' is NULL so the result will be NULL\"\n"
     ]
    },
    {
     "data": {
      "text/plain": [
       "Pixmap image\n",
       "  Type          : pixmapGrey \n",
       "  Size          : 194x259 \n",
       "  Resolution    : 1x1 \n",
       "  Bounding box  : 0 0 259 194 \n"
      ]
     },
     "metadata": {},
     "output_type": "display_data"
    }
   ],
   "source": [
    "library(pixmap)\n",
    "mtrush1 <- read.pnm(\"mtrush1.pgm\")\n",
    "mtrush1"
   ]
  },
  {
   "cell_type": "code",
   "execution_count": 21,
   "metadata": {},
   "outputs": [
    {
     "data": {
      "image/png": "[encoded data removed]",
      "text/plain": [
       "plot without title"
      ]
     },
     "metadata": {
      "image/png": {
       "height": 420,
       "width": 420
      }
     },
     "output_type": "display_data"
    }
   ],
   "source": [
    "plot(mtrush1)"
   ]
  },
  {
   "cell_type": "code",
   "execution_count": 22,
   "metadata": {},
   "outputs": [
    {
     "name": "stdout",
     "output_type": "stream",
     "text": [
      "Formal class 'pixmapGrey' [package \"pixmap\"] with 6 slots\n",
      "  ..@ grey    : num [1:194, 1:259] 0.278 0.263 0.239 0.212 0.192 ...\n",
      "  ..@ channels: chr \"grey\"\n",
      "  ..@ size    : int [1:2] 194 259\n",
      "  ..@ cellres : num [1:2] 1 1\n",
      "  ..@ bbox    : num [1:4] 0 0 259 194\n",
      "  ..@ bbcent  : logi FALSE\n"
     ]
    }
   ],
   "source": [
    "str(mtrush1)"
   ]
  },
  {
   "cell_type": "code",
   "execution_count": 23,
   "metadata": {},
   "outputs": [
    {
     "data": {
      "text/html": [
       "0.796078431372549"
      ],
      "text/latex": [
       "0.796078431372549"
      ],
      "text/markdown": [
       "0.796078431372549"
      ],
      "text/plain": [
       "[1] 0.7960784"
      ]
     },
     "metadata": {},
     "output_type": "display_data"
    }
   ],
   "source": [
    "mtrush1@grey[28, 88]"
   ]
  },
  {
   "cell_type": "code",
   "execution_count": 24,
   "metadata": {},
   "outputs": [
    {
     "data": {
      "image/png": "[encoded data removed]",
      "text/plain": [
       "plot without title"
      ]
     },
     "metadata": {
      "image/png": {
       "height": 420,
       "width": 420
      }
     },
     "output_type": "display_data"
    }
   ],
   "source": [
    "mtrush2 <- mtrush1\n",
    "mtrush2@grey[84:163, 135:177] <- 1\n",
    "plot(mtrush2)"
   ]
  },
  {
   "cell_type": "code",
   "execution_count": 25,
   "metadata": {},
   "outputs": [],
   "source": [
    "blurpart <- function(img, rows, cols, q) {\n",
    "    lrows <- length(rows)\n",
    "    lcols <- length(cols)\n",
    "    newimg <- img\n",
    "    randomnoise <- matrix(nrow=lrows, ncol=lcols, runif(lrows*lcols))\n",
    "    newimg@grey[rows, cols] <- (1-q) * img@grey[rows, cols] + q * randomnoise\n",
    "    return(newimg)\n",
    "}"
   ]
  },
  {
   "cell_type": "code",
   "execution_count": 26,
   "metadata": {},
   "outputs": [
    {
     "data": {
      "image/png": "[encoded data removed]",
      "text/plain": [
       "plot without title"
      ]
     },
     "metadata": {
      "image/png": {
       "height": 420,
       "width": 420
      }
     },
     "output_type": "display_data"
    }
   ],
   "source": [
    "mtrush3 <- blurpart(\n",
    "    mtrush1,\n",
    "    84:163,\n",
    "    135:177,\n",
    "    0.2\n",
    ")\n",
    "plot(mtrush3)"
   ]
  },
  {
   "cell_type": "markdown",
   "metadata": {},
   "source": [
    "### 矩阵元素筛选"
   ]
  },
  {
   "cell_type": "code",
   "execution_count": 27,
   "metadata": {},
   "outputs": [
    {
     "name": "stdout",
     "output_type": "stream",
     "text": [
      "     [,1] [,2]\n",
      "[1,]    1    2\n",
      "[2,]    2    3\n",
      "[3,]    3    4\n"
     ]
    }
   ],
   "source": [
    "x <- matrix(\n",
    "    c(1, 2, 3, 2, 3, 4),\n",
    "    nrow=3\n",
    ")\n",
    "print(x)"
   ]
  },
  {
   "cell_type": "code",
   "execution_count": 28,
   "metadata": {},
   "outputs": [
    {
     "name": "stdout",
     "output_type": "stream",
     "text": [
      "     [,1] [,2]\n",
      "[1,]    2    3\n",
      "[2,]    3    4\n"
     ]
    }
   ],
   "source": [
    "print(x[x[,2] >= 3, ])"
   ]
  },
  {
   "cell_type": "markdown",
   "metadata": {},
   "source": [
    "分析上面的命令"
   ]
  },
  {
   "cell_type": "code",
   "execution_count": 29,
   "metadata": {},
   "outputs": [
    {
     "name": "stdout",
     "output_type": "stream",
     "text": [
      "[1] FALSE  TRUE  TRUE\n"
     ]
    }
   ],
   "source": [
    "j <- x[,2] >= 3\n",
    "print(j)"
   ]
  },
  {
   "cell_type": "code",
   "execution_count": 30,
   "metadata": {},
   "outputs": [
    {
     "name": "stdout",
     "output_type": "stream",
     "text": [
      "     [,1] [,2]\n",
      "[1,]    2    3\n",
      "[2,]    3    4\n"
     ]
    }
   ],
   "source": [
    "print(x[j,])"
   ]
  },
  {
   "cell_type": "markdown",
   "metadata": {},
   "source": [
    "注意：求 j 是向量化计算\n",
    "\n",
    "另一个示例"
   ]
  },
  {
   "cell_type": "code",
   "execution_count": 132,
   "metadata": {},
   "outputs": [
    {
     "name": "stdout",
     "output_type": "stream",
     "text": [
      "     [,1] [,2]\n",
      "[1,]    1    4\n",
      "[2,]    2    5\n",
      "[3,]    3    6\n"
     ]
    }
   ],
   "source": [
    "m <- matrix(\n",
    "    1:6,\n",
    "    nrow=3\n",
    ")\n",
    "print(m)"
   ]
  },
  {
   "cell_type": "code",
   "execution_count": 32,
   "metadata": {},
   "outputs": [
    {
     "name": "stdout",
     "output_type": "stream",
     "text": [
      "     [,1] [,2]\n",
      "[1,]    1    4\n",
      "[2,]    3    6\n"
     ]
    }
   ],
   "source": [
    "z <- c(5, 12, 13)\n",
    "print(m[z %% 2 == 1,])"
   ]
  },
  {
   "cell_type": "code",
   "execution_count": 33,
   "metadata": {},
   "outputs": [
    {
     "name": "stdout",
     "output_type": "stream",
     "text": [
      "[1] 3 6\n"
     ]
    }
   ],
   "source": [
    "print(m[m[,1] > 1 & m[,2] > 5, ])"
   ]
  },
  {
   "cell_type": "markdown",
   "metadata": {},
   "source": [
    "分析"
   ]
  },
  {
   "cell_type": "code",
   "execution_count": 133,
   "metadata": {},
   "outputs": [
    {
     "name": "stdout",
     "output_type": "stream",
     "text": [
      "[1] FALSE  TRUE  TRUE\n"
     ]
    }
   ],
   "source": [
    "a <- m[,1] > 1\n",
    "print(a)"
   ]
  },
  {
   "cell_type": "code",
   "execution_count": 134,
   "metadata": {},
   "outputs": [
    {
     "name": "stdout",
     "output_type": "stream",
     "text": [
      "[1] FALSE FALSE  TRUE\n"
     ]
    }
   ],
   "source": [
    "b <- m[,2] > 5\n",
    "print(b)"
   ]
  },
  {
   "cell_type": "code",
   "execution_count": 135,
   "metadata": {},
   "outputs": [
    {
     "name": "stdout",
     "output_type": "stream",
     "text": [
      "[1] FALSE FALSE  TRUE\n"
     ]
    }
   ],
   "source": [
    "c <- a & b\n",
    "print(c)"
   ]
  },
  {
   "cell_type": "code",
   "execution_count": 136,
   "metadata": {},
   "outputs": [
    {
     "name": "stdout",
     "output_type": "stream",
     "text": [
      "[1] 3 6\n"
     ]
    }
   ],
   "source": [
    "print(m[c, ])"
   ]
  },
  {
   "cell_type": "markdown",
   "metadata": {},
   "source": [
    "注意：这里使用 `&` 表示向量的逻辑与运算。而 `&&` 是用于 if 语句的标量逻辑与运算"
   ]
  },
  {
   "cell_type": "markdown",
   "metadata": {},
   "source": [
    "向量运算也适用于矩阵"
   ]
  },
  {
   "cell_type": "code",
   "execution_count": 38,
   "metadata": {},
   "outputs": [
    {
     "name": "stdout",
     "output_type": "stream",
     "text": [
      "     [,1] [,2]\n",
      "[1,]    5   -1\n",
      "[2,]    2   10\n",
      "[3,]    9   11\n"
     ]
    }
   ],
   "source": [
    "m <- matrix(\n",
    "    c(5, 2, 9, -1, 10, 11),\n",
    "    nrow=3\n",
    ")\n",
    "print(m)"
   ]
  },
  {
   "cell_type": "code",
   "execution_count": 39,
   "metadata": {},
   "outputs": [
    {
     "name": "stdout",
     "output_type": "stream",
     "text": [
      "[1] 1 3 5 6\n"
     ]
    }
   ],
   "source": [
    "print(which(m > 2))"
   ]
  },
  {
   "cell_type": "markdown",
   "metadata": {},
   "source": [
    "### 扩展案例：生成协方差矩阵\n",
    "\n",
    "`row()` 函数和 `col()` 函数\n",
    "\n",
    "协方差矩阵是对称的，对角线元素均为 1"
   ]
  },
  {
   "cell_type": "code",
   "execution_count": 40,
   "metadata": {},
   "outputs": [],
   "source": [
    "makecov <- function(rho, n) {\n",
    "    m <- matrix(nrow=n, ncol=n)\n",
    "    m <- ifelse(row(m) == col(m), 1, rho)\n",
    "    return(m)\n",
    "}"
   ]
  },
  {
   "cell_type": "markdown",
   "metadata": {},
   "source": [
    "示例"
   ]
  },
  {
   "cell_type": "code",
   "execution_count": 41,
   "metadata": {},
   "outputs": [
    {
     "name": "stdout",
     "output_type": "stream",
     "text": [
      "     [,1] [,2] [,3]\n",
      "[1,]  1.0  0.2  0.2\n",
      "[2,]  0.2  1.0  0.2\n",
      "[3,]  0.2  0.2  1.0\n"
     ]
    }
   ],
   "source": [
    "print(makecov(0.2, 3))"
   ]
  },
  {
   "cell_type": "markdown",
   "metadata": {},
   "source": [
    "解释"
   ]
  },
  {
   "cell_type": "code",
   "execution_count": 137,
   "metadata": {},
   "outputs": [
    {
     "name": "stdout",
     "output_type": "stream",
     "text": [
      "     [,1] [,2]\n",
      "[1,]    3    6\n",
      "[2,]    4    7\n",
      "[3,]    5    8\n"
     ]
    }
   ],
   "source": [
    "z <- matrix(\n",
    "    3:8,\n",
    "    nrow=3\n",
    ")\n",
    "print(z)"
   ]
  },
  {
   "cell_type": "code",
   "execution_count": 43,
   "metadata": {},
   "outputs": [
    {
     "name": "stdout",
     "output_type": "stream",
     "text": [
      "     [,1] [,2]\n",
      "[1,]    1    1\n",
      "[2,]    2    2\n",
      "[3,]    3    3\n"
     ]
    }
   ],
   "source": [
    "print(row(z))"
   ]
  },
  {
   "cell_type": "code",
   "execution_count": 44,
   "metadata": {},
   "outputs": [
    {
     "name": "stdout",
     "output_type": "stream",
     "text": [
      "     [,1] [,2]\n",
      "[1,]    1    2\n",
      "[2,]    1    2\n",
      "[3,]    1    2\n"
     ]
    }
   ],
   "source": [
    "print(col(z))"
   ]
  },
  {
   "cell_type": "code",
   "execution_count": 45,
   "metadata": {},
   "outputs": [
    {
     "name": "stdout",
     "output_type": "stream",
     "text": [
      "      [,1]  [,2]\n",
      "[1,]  TRUE FALSE\n",
      "[2,] FALSE  TRUE\n",
      "[3,] FALSE FALSE\n"
     ]
    }
   ],
   "source": [
    "print(row(z) == col(z))"
   ]
  },
  {
   "cell_type": "markdown",
   "metadata": {},
   "source": [
    "## 对矩阵的行和列调用函数\n",
    "\n",
    "\\*apply 系列函数：apply, tapply, lapply\n",
    "\n",
    "`apply()` 函数在各行或各列上调用指定函数"
   ]
  },
  {
   "cell_type": "markdown",
   "metadata": {},
   "source": [
    "### 使用 `apply()` 函数\n",
    "\n",
    "一般形式\n",
    "\n",
    "```\n",
    "apply(m, dimcode, f, fargs)\n",
    "```\n",
    "\n",
    "其中\n",
    "\n",
    "- `m`：矩阵\n",
    "- `dimcode`：维度编号，1 表示对每行应用函数，2 表示对每列应用函数\n",
    "- `f`：应用在行或列上的函数，第一个参数为一行或一列\n",
    "- `fargs`：可选参数，用于传递给 `f` 函数"
   ]
  },
  {
   "cell_type": "code",
   "execution_count": 93,
   "metadata": {},
   "outputs": [
    {
     "name": "stdout",
     "output_type": "stream",
     "text": [
      "     [,1] [,2]\n",
      "[1,]    1    4\n",
      "[2,]    2    5\n",
      "[3,]    3    6\n"
     ]
    }
   ],
   "source": [
    "z <- matrix(\n",
    "    1:6,\n",
    "    nrow=3\n",
    ")\n",
    "print(z)"
   ]
  },
  {
   "cell_type": "markdown",
   "metadata": {},
   "source": [
    "对每一列应用函数 `mean`\n",
    "\n",
    "注：可以直接使用 `colmean()` 函数"
   ]
  },
  {
   "cell_type": "code",
   "execution_count": 47,
   "metadata": {},
   "outputs": [
    {
     "name": "stdout",
     "output_type": "stream",
     "text": [
      "[1] 2 5\n"
     ]
    }
   ],
   "source": [
    "print(apply(z, 2, mean))"
   ]
  },
  {
   "cell_type": "markdown",
   "metadata": {},
   "source": [
    "对每一行应用自定义函数"
   ]
  },
  {
   "cell_type": "code",
   "execution_count": 48,
   "metadata": {},
   "outputs": [],
   "source": [
    "f <- function(x) x/c(2, 8)"
   ]
  },
  {
   "cell_type": "code",
   "execution_count": 49,
   "metadata": {},
   "outputs": [
    {
     "name": "stdout",
     "output_type": "stream",
     "text": [
      "     [,1]  [,2] [,3]\n",
      "[1,]  0.5 1.000 1.50\n",
      "[2,]  0.5 0.625 0.75\n"
     ]
    }
   ],
   "source": [
    "y <- apply(z, 1, f)\n",
    "print(y)"
   ]
  },
  {
   "cell_type": "markdown",
   "metadata": {},
   "source": [
    "调用的函数返回 k 个元素的向量，则 `apply` 函数返回的结果就有 k 行。\n",
    "执行几次函数，则返回结果就有多少列。\n",
    "\n",
    "如果函数返回一个标量，则 `apply` 函数返回向量。\n",
    "\n",
    "`t()` 函数可以实现转置"
   ]
  },
  {
   "cell_type": "code",
   "execution_count": 50,
   "metadata": {},
   "outputs": [
    {
     "name": "stdout",
     "output_type": "stream",
     "text": [
      "     [,1]  [,2]\n",
      "[1,]  0.5 0.500\n",
      "[2,]  1.0 0.625\n",
      "[3,]  1.5 0.750\n"
     ]
    }
   ],
   "source": [
    "print(t(apply(z, 1, f)))"
   ]
  },
  {
   "cell_type": "markdown",
   "metadata": {},
   "source": [
    "附加参数\n",
    "\n",
    "0 和 1 构成的矩阵，对于每行，前 d 个元素中 1 较多则取 1，否则取 0"
   ]
  },
  {
   "cell_type": "code",
   "execution_count": 51,
   "metadata": {},
   "outputs": [],
   "source": [
    "copymaj <- function(rw, d) {\n",
    "    maj <- sum(rw[1:d]) / d\n",
    "    return(if(maj > 0.5) 1 else 0)\n",
    "}"
   ]
  },
  {
   "cell_type": "code",
   "execution_count": 138,
   "metadata": {},
   "outputs": [
    {
     "name": "stdout",
     "output_type": "stream",
     "text": [
      "     [,1] [,2] [,3] [,4] [,5]\n",
      "[1,]    1    0    1    1    0\n",
      "[2,]    1    1    1    1    0\n",
      "[3,]    1    0    0    1    1\n",
      "[4,]    0    1    1    1    0\n"
     ]
    }
   ],
   "source": [
    "x <- matrix(\n",
    "    c(\n",
    "        1, 1, 1, 0,\n",
    "        0, 1, 0, 1,\n",
    "        1, 1, 0, 1,\n",
    "        1, 1, 1, 1,\n",
    "        0, 0, 1, 0\n",
    "    ),\n",
    "    nrow=4\n",
    ")\n",
    "print(x)"
   ]
  },
  {
   "cell_type": "code",
   "execution_count": 139,
   "metadata": {},
   "outputs": [
    {
     "name": "stdout",
     "output_type": "stream",
     "text": [
      "[1] 1 1 0 1\n"
     ]
    }
   ],
   "source": [
    "print(apply(x, 1, copymaj, 3))"
   ]
  },
  {
   "cell_type": "code",
   "execution_count": 140,
   "metadata": {},
   "outputs": [
    {
     "name": "stdout",
     "output_type": "stream",
     "text": [
      "[1] 0 1 0 0\n"
     ]
    }
   ],
   "source": [
    "print(apply(x, 1, copymaj, 2))"
   ]
  },
  {
   "cell_type": "markdown",
   "metadata": {},
   "source": [
    "### 扩展案例：寻找异常值\n",
    "\n",
    "识别偏离最远的观测值"
   ]
  },
  {
   "cell_type": "code",
   "execution_count": 55,
   "metadata": {},
   "outputs": [],
   "source": [
    "findols <- function(x) {\n",
    "    findol <- function(xrow) {\n",
    "        mdn <- median(xrow)\n",
    "        devs <- abs(xrow-mdn)\n",
    "        return(which.max(devs))\n",
    "    }\n",
    "    return(apply(x, 1, findol))\n",
    "}"
   ]
  },
  {
   "cell_type": "markdown",
   "metadata": {},
   "source": [
    "## 增加或删除矩阵的行或列\n",
    "\n",
    "矩阵无法改变大小，增加或删除实际上是创建新的对象"
   ]
  },
  {
   "cell_type": "markdown",
   "metadata": {},
   "source": [
    "### 改变矩阵大小\n",
    "\n",
    "重新赋值可以改变向量的大小"
   ]
  },
  {
   "cell_type": "code",
   "execution_count": 56,
   "metadata": {},
   "outputs": [
    {
     "name": "stdout",
     "output_type": "stream",
     "text": [
      "[1] 12  5 13 16  8\n"
     ]
    }
   ],
   "source": [
    "x <- c(12, 5, 13, 16, 8)\n",
    "print(x)"
   ]
  },
  {
   "cell_type": "code",
   "execution_count": 57,
   "metadata": {},
   "outputs": [
    {
     "name": "stdout",
     "output_type": "stream",
     "text": [
      "[1] 12  5 13 16  8 20\n"
     ]
    }
   ],
   "source": [
    "x <- c(x, 20)\n",
    "print(x)"
   ]
  },
  {
   "cell_type": "code",
   "execution_count": 58,
   "metadata": {},
   "outputs": [
    {
     "name": "stdout",
     "output_type": "stream",
     "text": [
      "[1] 12  5 13 20 16  8 20\n"
     ]
    }
   ],
   "source": [
    "x <- c(x[1:3], 20, x[4:6])\n",
    "print(x)"
   ]
  },
  {
   "cell_type": "code",
   "execution_count": 59,
   "metadata": {},
   "outputs": [
    {
     "name": "stdout",
     "output_type": "stream",
     "text": [
      "[1] 12 16  8 20\n"
     ]
    }
   ],
   "source": [
    "x <- x[-2:-4]\n",
    "print(x)"
   ]
  },
  {
   "cell_type": "markdown",
   "metadata": {},
   "source": [
    "使用 `rbind()` 和 `cbind()` 为矩阵增加行或列"
   ]
  },
  {
   "cell_type": "code",
   "execution_count": 141,
   "metadata": {},
   "outputs": [
    {
     "name": "stdout",
     "output_type": "stream",
     "text": [
      "     [,1] [,2] [,3]\n",
      "[1,]    1    1    1\n",
      "[2,]    2    1    0\n",
      "[3,]    3    0    1\n",
      "[4,]    4    0    0\n"
     ]
    }
   ],
   "source": [
    "one <- c(1, 1, 1, 1)\n",
    "z <- matrix(\n",
    "    c(\n",
    "        1, 2, 3 ,4, \n",
    "        1, 1, 0, 0, \n",
    "        1, 0, 1, 0\n",
    "    ),\n",
    "    nrow=4\n",
    ")\n",
    "print(z)"
   ]
  },
  {
   "cell_type": "code",
   "execution_count": 142,
   "metadata": {},
   "outputs": [
    {
     "name": "stdout",
     "output_type": "stream",
     "text": [
      "     one      \n",
      "[1,]   1 1 1 1\n",
      "[2,]   1 2 1 0\n",
      "[3,]   1 3 0 1\n",
      "[4,]   1 4 0 0\n"
     ]
    }
   ],
   "source": [
    "print(cbind(one, z))"
   ]
  },
  {
   "cell_type": "markdown",
   "metadata": {},
   "source": [
    "可能会用到循环补齐 (recycling)"
   ]
  },
  {
   "cell_type": "code",
   "execution_count": 62,
   "metadata": {},
   "outputs": [
    {
     "name": "stdout",
     "output_type": "stream",
     "text": [
      "     [,1] [,2] [,3] [,4]\n",
      "[1,]    1    1    1    1\n",
      "[2,]    1    2    1    0\n",
      "[3,]    1    3    0    1\n",
      "[4,]    1    4    0    0\n"
     ]
    }
   ],
   "source": [
    "print(cbind(1, z))"
   ]
  },
  {
   "cell_type": "markdown",
   "metadata": {},
   "source": [
    "`cbind()` 和 `rbind()` 可以用来快速生成小矩阵"
   ]
  },
  {
   "cell_type": "code",
   "execution_count": 63,
   "metadata": {},
   "outputs": [
    {
     "name": "stdout",
     "output_type": "stream",
     "text": [
      "     [,1] [,2]\n",
      "[1,]    1    3\n",
      "[2,]    2    4\n"
     ]
    }
   ],
   "source": [
    "q <- cbind(\n",
    "    c(1, 2),\n",
    "    c(3, 4)\n",
    ")\n",
    "print(q)"
   ]
  },
  {
   "cell_type": "markdown",
   "metadata": {},
   "source": [
    "注意：创建向量和矩阵均耗费时间，请谨慎使用 `cbind` 和 `rbind`\n",
    "\n",
    "循环添加列或行的方式不可取，应该首先生成一个大矩阵，然后再往里填值。\n",
    "\n",
    "可以通过重新赋值删除矩阵的行或列"
   ]
  },
  {
   "cell_type": "code",
   "execution_count": 64,
   "metadata": {},
   "outputs": [
    {
     "name": "stdout",
     "output_type": "stream",
     "text": [
      "     [,1] [,2]\n",
      "[1,]    1    4\n",
      "[2,]    2    5\n",
      "[3,]    3    6\n"
     ]
    }
   ],
   "source": [
    "m <- matrix(1:6, nrow=3)\n",
    "print(m)"
   ]
  },
  {
   "cell_type": "code",
   "execution_count": 65,
   "metadata": {},
   "outputs": [
    {
     "name": "stdout",
     "output_type": "stream",
     "text": [
      "     [,1] [,2]\n",
      "[1,]    1    4\n",
      "[2,]    3    6\n"
     ]
    }
   ],
   "source": [
    "m <- m[c(1,3),]\n",
    "print(m)"
   ]
  },
  {
   "cell_type": "markdown",
   "metadata": {},
   "source": [
    "### 扩展案例：找到图中距离最近的一对端点\n",
    "\n",
    "矩阵元素 (i, j) 表示城市 i 和 城市 j 间的距离"
   ]
  },
  {
   "cell_type": "markdown",
   "metadata": {},
   "source": [
    "`imin` 函数寻找当前行的最小值，因为矩阵是对称的，所以仅搜索从行号 i + 1 开始到结尾。\n",
    "\n",
    "返回最小值的索引（即矩阵中的列数）和最小值"
   ]
  },
  {
   "cell_type": "code",
   "execution_count": 66,
   "metadata": {},
   "outputs": [],
   "source": [
    "imin <- function(x) {\n",
    "    lx <- length(x)\n",
    "    i <- x[lx]\n",
    "    j <- which.min(x[(i+1):(lx-1)])\n",
    "    k <- i + j\n",
    "    return(c(k, x[k]))\n",
    "}"
   ]
  },
  {
   "cell_type": "markdown",
   "metadata": {},
   "source": [
    "`mind` 函数为每行分别求最小值 (`wmins`)，再找出全局最小值，返回最小值，行号和列号"
   ]
  },
  {
   "cell_type": "code",
   "execution_count": 67,
   "metadata": {},
   "outputs": [],
   "source": [
    "mind <- function(d) {\n",
    "    n <- nrow(d)\n",
    "    dd <- cbind(d, 1:n)\n",
    "    wmins <- apply(dd[-n,], 1, imin)\n",
    "    i <- which.min(wmins[2,])\n",
    "    j <- wmins[1, i]\n",
    "    return(c(d[i, j], i, j))\n",
    "}"
   ]
  },
  {
   "cell_type": "markdown",
   "metadata": {},
   "source": [
    "示例"
   ]
  },
  {
   "cell_type": "code",
   "execution_count": 68,
   "metadata": {},
   "outputs": [
    {
     "name": "stdout",
     "output_type": "stream",
     "text": [
      "     [,1] [,2] [,3] [,4] [,5]\n",
      "[1,]    0   12   13    8   20\n",
      "[2,]   12    0   15   28   88\n",
      "[3,]   13   15    0    6    9\n",
      "[4,]    8   28    6    0   33\n",
      "[5,]   20   88    9   33    0\n"
     ]
    }
   ],
   "source": [
    "q <- matrix(\n",
    "    c(\n",
    "        0, 12, 13, 8, 20,\n",
    "        12, 0, 15, 28, 88,\n",
    "        13, 15, 0, 6, 9,\n",
    "        8, 28, 6, 0, 33,\n",
    "        20, 88, 9, 33, 0\n",
    "    ),\n",
    "    nrow=5,\n",
    "    byrow=T,\n",
    ")\n",
    "print(q)"
   ]
  },
  {
   "cell_type": "code",
   "execution_count": 69,
   "metadata": {},
   "outputs": [
    {
     "name": "stdout",
     "output_type": "stream",
     "text": [
      "[1] 6 3 4\n"
     ]
    }
   ],
   "source": [
    "print(mind(q))"
   ]
  },
  {
   "cell_type": "markdown",
   "metadata": {},
   "source": [
    "**分析**\n",
    "\n",
    "增加记录当前行号的一列"
   ]
  },
  {
   "cell_type": "code",
   "execution_count": 70,
   "metadata": {},
   "outputs": [
    {
     "name": "stdout",
     "output_type": "stream",
     "text": [
      "     [,1] [,2] [,3] [,4] [,5] [,6]\n",
      "[1,]    0   12   13    8   20    1\n",
      "[2,]   12    0   15   28   88    2\n",
      "[3,]   13   15    0    6    9    3\n",
      "[4,]    8   28    6    0   33    4\n",
      "[5,]   20   88    9   33    0    5\n"
     ]
    }
   ],
   "source": [
    "n <- nrow(q)\n",
    "qq <- cbind(q, 1:n)\n",
    "print(qq)"
   ]
  },
  {
   "cell_type": "markdown",
   "metadata": {},
   "source": [
    "为前 n-1 行，即前 4 行，寻找最小值，并记录最小值（第 2 行）及其对应的列数（第 1 行）。\n",
    "\n",
    "返回结果中每列代表矩阵中的行，即第 1 列表示矩阵的第 1 行，最后一列表示矩阵的第 4 行"
   ]
  },
  {
   "cell_type": "code",
   "execution_count": 71,
   "metadata": {},
   "outputs": [
    {
     "name": "stdout",
     "output_type": "stream",
     "text": [
      "     [,1] [,2] [,3] [,4]\n",
      "[1,]    4    3    4    5\n",
      "[2,]    8   15    6   33\n"
     ]
    }
   ],
   "source": [
    "wmins <- apply(qq[-n,], 1, imin)\n",
    "print(wmins)"
   ]
  },
  {
   "cell_type": "markdown",
   "metadata": {},
   "source": [
    "求最小值，返回列号，即矩阵中的行号 i"
   ]
  },
  {
   "cell_type": "code",
   "execution_count": 72,
   "metadata": {},
   "outputs": [
    {
     "name": "stdout",
     "output_type": "stream",
     "text": [
      "[1] 3\n"
     ]
    }
   ],
   "source": [
    "i <- which.min(wmins[2,])\n",
    "print(i)"
   ]
  },
  {
   "cell_type": "markdown",
   "metadata": {},
   "source": [
    "从 `wmins` 中取出矩阵的列号 j"
   ]
  },
  {
   "cell_type": "code",
   "execution_count": 73,
   "metadata": {},
   "outputs": [
    {
     "name": "stdout",
     "output_type": "stream",
     "text": [
      "[1] 4\n"
     ]
    }
   ],
   "source": [
    "j <- wmins[1, i]\n",
    "print(j)"
   ]
  },
  {
   "cell_type": "code",
   "execution_count": 74,
   "metadata": {},
   "outputs": [
    {
     "name": "stdout",
     "output_type": "stream",
     "text": [
      "[1] 6 3 4\n"
     ]
    }
   ],
   "source": [
    "print(c(qq[i, j], i, j))"
   ]
  },
  {
   "cell_type": "markdown",
   "metadata": {},
   "source": [
    "如果最小值唯一，则有更简单的方法\n",
    "\n",
    "注：有两次矩阵计算，效率不是最优的"
   ]
  },
  {
   "cell_type": "code",
   "execution_count": 75,
   "metadata": {},
   "outputs": [],
   "source": [
    "minda <- function(d) {\n",
    "    smallest <- min(d)\n",
    "    ij <- which(d == smallest, arr.ind=TRUE)\n",
    "    return(c(smallest, ij))\n",
    "}"
   ]
  },
  {
   "cell_type": "markdown",
   "metadata": {},
   "source": [
    "示例，需要将 0 值和重复值都替换为比较大的数"
   ]
  },
  {
   "cell_type": "code",
   "execution_count": 76,
   "metadata": {},
   "outputs": [
    {
     "name": "stdout",
     "output_type": "stream",
     "text": [
      "      [,1]  [,2]  [,3]  [,4]  [,5]\n",
      "[1,] 99999    12    13     8    20\n",
      "[2,] 99999 99999    15    28    88\n",
      "[3,] 99999 99999 99999     6     9\n",
      "[4,] 99999 99999 99999 99999    33\n",
      "[5,] 99999 99999 99999 99999 99999\n"
     ]
    }
   ],
   "source": [
    "p = q\n",
    "p[row(p)>=col(p)] = 99999\n",
    "print(p)"
   ]
  },
  {
   "cell_type": "code",
   "execution_count": 77,
   "metadata": {},
   "outputs": [
    {
     "name": "stdout",
     "output_type": "stream",
     "text": [
      "[1] 6 3 4\n"
     ]
    }
   ],
   "source": [
    "print(minda(p))"
   ]
  },
  {
   "cell_type": "markdown",
   "metadata": {},
   "source": [
    "## 向量与矩阵的差异\n",
    "\n",
    "矩阵实际上就是向量，只不过多了两个属性：行数和列数"
   ]
  },
  {
   "cell_type": "code",
   "execution_count": 78,
   "metadata": {},
   "outputs": [
    {
     "name": "stdout",
     "output_type": "stream",
     "text": [
      "     [,1] [,2]\n",
      "[1,]    1    5\n",
      "[2,]    2    6\n",
      "[3,]    3    7\n",
      "[4,]    4    8\n"
     ]
    }
   ],
   "source": [
    "z <- matrix(1:8, nrow=4)\n",
    "print(z)"
   ]
  },
  {
   "cell_type": "markdown",
   "metadata": {},
   "source": [
    "求长度"
   ]
  },
  {
   "cell_type": "code",
   "execution_count": 79,
   "metadata": {},
   "outputs": [
    {
     "name": "stdout",
     "output_type": "stream",
     "text": [
      "[1] 8\n"
     ]
    }
   ],
   "source": [
    "print(length(z))"
   ]
  },
  {
   "cell_type": "markdown",
   "metadata": {},
   "source": [
    "但 `z` 不仅仅是向量"
   ]
  },
  {
   "cell_type": "code",
   "execution_count": 81,
   "metadata": {},
   "outputs": [
    {
     "name": "stdout",
     "output_type": "stream",
     "text": [
      "[1] \"matrix\" \"array\" \n"
     ]
    }
   ],
   "source": [
    "print(class(z))"
   ]
  },
  {
   "cell_type": "code",
   "execution_count": 83,
   "metadata": {},
   "outputs": [
    {
     "name": "stdout",
     "output_type": "stream",
     "text": [
      "$dim\n",
      "[1] 4 2\n",
      "\n"
     ]
    }
   ],
   "source": [
    "print(attributes(z))"
   ]
  },
  {
   "cell_type": "markdown",
   "metadata": {},
   "source": [
    "用 `dim()` 函数访问 dim 属性"
   ]
  },
  {
   "cell_type": "code",
   "execution_count": 143,
   "metadata": {},
   "outputs": [
    {
     "name": "stdout",
     "output_type": "stream",
     "text": [
      "[1] 4 3\n"
     ]
    }
   ],
   "source": [
    "print(dim(z))"
   ]
  },
  {
   "cell_type": "markdown",
   "metadata": {},
   "source": [
    "`nrow()` 和 `ncol()` 是 `dim()` 的简单封装"
   ]
  },
  {
   "cell_type": "code",
   "execution_count": 85,
   "metadata": {},
   "outputs": [
    {
     "name": "stdout",
     "output_type": "stream",
     "text": [
      "[1] 4\n"
     ]
    }
   ],
   "source": [
    "print(nrow(z))"
   ]
  },
  {
   "cell_type": "code",
   "execution_count": 86,
   "metadata": {},
   "outputs": [
    {
     "name": "stdout",
     "output_type": "stream",
     "text": [
      "[1] 2\n"
     ]
    }
   ],
   "source": [
    "print(ncol(z))"
   ]
  },
  {
   "cell_type": "code",
   "execution_count": 89,
   "metadata": {},
   "outputs": [
    {
     "data": {
      "text/html": [
       "<pre class=language-r><code>function (x) \n",
       "dim(x)[1L]</code></pre>"
      ],
      "text/latex": [
       "\\begin{minted}{r}\n",
       "function (x) \n",
       "dim(x){[}1L{]}\n",
       "\\end{minted}"
      ],
      "text/markdown": [
       "```r\n",
       "function (x) \n",
       "dim(x)[1L]\n",
       "```"
      ],
      "text/plain": [
       "function (x) \n",
       "dim(x)[1L]\n",
       "<bytecode: 0x0000000015e4e1a0>\n",
       "<environment: namespace:base>"
      ]
     },
     "metadata": {},
     "output_type": "display_data"
    }
   ],
   "source": [
    "nrow"
   ]
  },
  {
   "cell_type": "markdown",
   "metadata": {},
   "source": [
    "## 避免意外降维\n",
    "\n",
    "从矩阵中提取一行，会减少一维，即返回向量"
   ]
  },
  {
   "cell_type": "code",
   "execution_count": 90,
   "metadata": {},
   "outputs": [
    {
     "name": "stdout",
     "output_type": "stream",
     "text": [
      "     [,1] [,2]\n",
      "[1,]    1    5\n",
      "[2,]    2    6\n",
      "[3,]    3    7\n",
      "[4,]    4    8\n"
     ]
    }
   ],
   "source": [
    "z <- matrix(1:8, nrow=4)\n",
    "print(z)"
   ]
  },
  {
   "cell_type": "code",
   "execution_count": 91,
   "metadata": {},
   "outputs": [
    {
     "name": "stdout",
     "output_type": "stream",
     "text": [
      "[1] 2 6\n"
     ]
    }
   ],
   "source": [
    "r <- z[2,]\n",
    "print(r)"
   ]
  },
  {
   "cell_type": "code",
   "execution_count": 94,
   "metadata": {},
   "outputs": [
    {
     "name": "stdout",
     "output_type": "stream",
     "text": [
      "$dim\n",
      "[1] 3 2\n",
      "\n"
     ]
    }
   ],
   "source": [
    "print(attributes(z))"
   ]
  },
  {
   "cell_type": "code",
   "execution_count": 95,
   "metadata": {},
   "outputs": [
    {
     "name": "stdout",
     "output_type": "stream",
     "text": [
      "NULL\n"
     ]
    }
   ],
   "source": [
    "print(attributes(r))"
   ]
  },
  {
   "cell_type": "code",
   "execution_count": 96,
   "metadata": {},
   "outputs": [
    {
     "name": "stdout",
     "output_type": "stream",
     "text": [
      " int [1:3, 1:2] 1 2 3 4 5 6\n"
     ]
    }
   ],
   "source": [
    "str(z)"
   ]
  },
  {
   "cell_type": "code",
   "execution_count": 97,
   "metadata": {},
   "outputs": [
    {
     "name": "stdout",
     "output_type": "stream",
     "text": [
      " int [1:2] 2 6\n"
     ]
    }
   ],
   "source": [
    "str(r)"
   ]
  },
  {
   "cell_type": "markdown",
   "metadata": {},
   "source": [
    "使用 `drop` 参数禁止自动减少维度"
   ]
  },
  {
   "cell_type": "code",
   "execution_count": 98,
   "metadata": {},
   "outputs": [
    {
     "name": "stdout",
     "output_type": "stream",
     "text": [
      "     [,1] [,2]\n",
      "[1,]    2    5\n"
     ]
    }
   ],
   "source": [
    "r <- z[2,, drop=FALSE]\n",
    "print(r)"
   ]
  },
  {
   "cell_type": "code",
   "execution_count": 99,
   "metadata": {},
   "outputs": [
    {
     "name": "stdout",
     "output_type": "stream",
     "text": [
      "[1] 1 2\n"
     ]
    }
   ],
   "source": [
    "print(dim(r))"
   ]
  },
  {
   "cell_type": "markdown",
   "metadata": {},
   "source": [
    "可见中括号 `[` 实际上也是一个函数"
   ]
  },
  {
   "cell_type": "code",
   "execution_count": 100,
   "metadata": {},
   "outputs": [
    {
     "name": "stdout",
     "output_type": "stream",
     "text": [
      "[1] 6\n"
     ]
    }
   ],
   "source": [
    "print(z[3, 2])"
   ]
  },
  {
   "cell_type": "code",
   "execution_count": 102,
   "metadata": {},
   "outputs": [
    {
     "name": "stdout",
     "output_type": "stream",
     "text": [
      "[1] 6\n"
     ]
    }
   ],
   "source": [
    "print(\"[\"(z, 3, 2))"
   ]
  },
  {
   "cell_type": "markdown",
   "metadata": {},
   "source": [
    "`as.matrix()` 函数可以将向量转为矩阵"
   ]
  },
  {
   "cell_type": "code",
   "execution_count": 104,
   "metadata": {},
   "outputs": [
    {
     "name": "stdout",
     "output_type": "stream",
     "text": [
      "[1] 1 2 3\n"
     ]
    }
   ],
   "source": [
    "u <- 1:3\n",
    "print(u)"
   ]
  },
  {
   "cell_type": "code",
   "execution_count": 105,
   "metadata": {},
   "outputs": [
    {
     "name": "stdout",
     "output_type": "stream",
     "text": [
      "     [,1]\n",
      "[1,]    1\n",
      "[2,]    2\n",
      "[3,]    3\n"
     ]
    }
   ],
   "source": [
    "v <- as.matrix(u)\n",
    "print(v)"
   ]
  },
  {
   "cell_type": "code",
   "execution_count": 106,
   "metadata": {},
   "outputs": [
    {
     "name": "stdout",
     "output_type": "stream",
     "text": [
      "NULL\n"
     ]
    }
   ],
   "source": [
    "print(attributes(u))"
   ]
  },
  {
   "cell_type": "code",
   "execution_count": 108,
   "metadata": {},
   "outputs": [
    {
     "name": "stdout",
     "output_type": "stream",
     "text": [
      "$dim\n",
      "[1] 3 1\n",
      "\n"
     ]
    }
   ],
   "source": [
    "print(attributes(v))"
   ]
  },
  {
   "cell_type": "markdown",
   "metadata": {},
   "source": [
    "## 矩阵的行和列的命名问题\n",
    "\n",
    "矩阵的行和列也可以命名"
   ]
  },
  {
   "cell_type": "code",
   "execution_count": 109,
   "metadata": {},
   "outputs": [
    {
     "name": "stdout",
     "output_type": "stream",
     "text": [
      "     [,1] [,2]\n",
      "[1,]    1    3\n",
      "[2,]    2    4\n"
     ]
    }
   ],
   "source": [
    "z <- matrix(1:4, nrow=2)\n",
    "print(z)"
   ]
  },
  {
   "cell_type": "code",
   "execution_count": 110,
   "metadata": {},
   "outputs": [
    {
     "name": "stdout",
     "output_type": "stream",
     "text": [
      "NULL\n"
     ]
    }
   ],
   "source": [
    "print(colnames(z))"
   ]
  },
  {
   "cell_type": "code",
   "execution_count": 111,
   "metadata": {},
   "outputs": [
    {
     "name": "stdout",
     "output_type": "stream",
     "text": [
      "     a b\n",
      "[1,] 1 3\n",
      "[2,] 2 4\n"
     ]
    }
   ],
   "source": [
    "colnames(z) <- c(\"a\", \"b\")\n",
    "print(z)"
   ]
  },
  {
   "cell_type": "code",
   "execution_count": 112,
   "metadata": {},
   "outputs": [
    {
     "name": "stdout",
     "output_type": "stream",
     "text": [
      "[1] \"a\" \"b\"\n"
     ]
    }
   ],
   "source": [
    "print(colnames(z))"
   ]
  },
  {
   "cell_type": "code",
   "execution_count": 114,
   "metadata": {},
   "outputs": [
    {
     "name": "stdout",
     "output_type": "stream",
     "text": [
      "[1] 1 2\n"
     ]
    }
   ],
   "source": [
    "print(z[, \"a\"])"
   ]
  },
  {
   "cell_type": "markdown",
   "metadata": {},
   "source": [
    "## 高维数组\n",
    "\n",
    "三个学生，两次考试，每次考试记录两个成绩\n",
    "\n",
    "第一次考试的数据，行表示学生，列表示单次考试的两个成绩"
   ]
  },
  {
   "cell_type": "code",
   "execution_count": 117,
   "metadata": {},
   "outputs": [
    {
     "name": "stdout",
     "output_type": "stream",
     "text": [
      "     [,1] [,2]\n",
      "[1,]   46   30\n",
      "[2,]   21   25\n",
      "[3,]   50   50\n"
     ]
    }
   ],
   "source": [
    "firsttest <- matrix(\n",
    "    c(\n",
    "        46, 30,\n",
    "        21, 25,\n",
    "        50, 50\n",
    "    ),\n",
    "    nrow=3,\n",
    "    byrow=T\n",
    ")\n",
    "print(firsttest)"
   ]
  },
  {
   "cell_type": "markdown",
   "metadata": {},
   "source": [
    "第二次考试的成绩"
   ]
  },
  {
   "cell_type": "code",
   "execution_count": 119,
   "metadata": {},
   "outputs": [
    {
     "name": "stdout",
     "output_type": "stream",
     "text": [
      "     [,1] [,2]\n",
      "[1,]   46   43\n",
      "[2,]   41   35\n",
      "[3,]   50   50\n"
     ]
    }
   ],
   "source": [
    "secondtest <- matrix(\n",
    "    c(\n",
    "        46, 43,\n",
    "        41, 35,\n",
    "        50, 50\n",
    "    ),\n",
    "    nrow=3,\n",
    "    byrow=T\n",
    ")\n",
    "print(secondtest)"
   ]
  },
  {
   "cell_type": "markdown",
   "metadata": {},
   "source": [
    "合并为一个数组，两次考试形成第三维，叫做层 (layer)"
   ]
  },
  {
   "cell_type": "code",
   "execution_count": 120,
   "metadata": {},
   "outputs": [],
   "source": [
    "tests <- array(\n",
    "    data=c(firsttest, secondtest),\n",
    "    dim=c(3, 2, 2)\n",
    ")"
   ]
  },
  {
   "cell_type": "code",
   "execution_count": 121,
   "metadata": {},
   "outputs": [
    {
     "name": "stdout",
     "output_type": "stream",
     "text": [
      "$dim\n",
      "[1] 3 2 2\n",
      "\n"
     ]
    }
   ],
   "source": [
    "print(attributes(tests))"
   ]
  },
  {
   "cell_type": "markdown",
   "metadata": {},
   "source": [
    "学生 3 (dim 1) 在第一次考试 (dim 3) 的第二个部分 (dim 2) 中的得分"
   ]
  },
  {
   "cell_type": "code",
   "execution_count": 122,
   "metadata": {},
   "outputs": [
    {
     "name": "stdout",
     "output_type": "stream",
     "text": [
      "[1] 50\n"
     ]
    }
   ],
   "source": [
    "print(tests[3, 2, 1])"
   ]
  },
  {
   "cell_type": "code",
   "execution_count": 123,
   "metadata": {},
   "outputs": [
    {
     "name": "stdout",
     "output_type": "stream",
     "text": [
      ", , 1\n",
      "\n",
      "     [,1] [,2]\n",
      "[1,]   46   30\n",
      "[2,]   21   25\n",
      "[3,]   50   50\n",
      "\n",
      ", , 2\n",
      "\n",
      "     [,1] [,2]\n",
      "[1,]   46   43\n",
      "[2,]   41   35\n",
      "[3,]   50   50\n",
      "\n"
     ]
    }
   ],
   "source": [
    "print(tests)"
   ]
  },
  {
   "cell_type": "code",
   "execution_count": null,
   "metadata": {},
   "outputs": [],
   "source": []
  }
 ],
 "metadata": {
  "kernelspec": {
   "display_name": "R",
   "language": "R",
   "name": "ir"
  },
  "language_info": {
   "codemirror_mode": "r",
   "file_extension": ".r",
   "mimetype": "text/x-r-source",
   "name": "R",
   "pygments_lexer": "r",
   "version": "4.0.2"
  }
 },
 "nbformat": 4,
 "nbformat_minor": 4
}
