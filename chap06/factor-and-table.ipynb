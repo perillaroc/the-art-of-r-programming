{
 "cells": [
  {
   "cell_type": "markdown",
   "metadata": {},
   "source": [
    "# 因子和表格\n",
    "\n",
    "因子 (factor) 的设计思想来源于统计学中的名义变量 (nominal variables)，或称之为分类变量 (categorical variables)。\n",
    "这种变量的值本质上不是数字，而是对应为分类。"
   ]
  },
  {
   "cell_type": "markdown",
   "metadata": {},
   "source": [
    "## 因子与水平"
   ]
  },
  {
   "cell_type": "code",
   "execution_count": 1,
   "metadata": {},
   "outputs": [
    {
     "name": "stdout",
     "output_type": "stream",
     "text": [
      "[1] 5  12 13 12\n",
      "Levels: 5 12 13\n"
     ]
    }
   ],
   "source": [
    "x <- c(5, 12, 13, 12)\n",
    "xf <- factor(x)\n",
    "print(xf)"
   ]
  },
  {
   "cell_type": "markdown",
   "metadata": {},
   "source": [
    "xf 中的不同数值 (5, 12, 13) 就是水平 (level)"
   ]
  },
  {
   "cell_type": "code",
   "execution_count": 4,
   "metadata": {},
   "outputs": [
    {
     "name": "stdout",
     "output_type": "stream",
     "text": [
      " Factor w/ 3 levels \"5\",\"12\",\"13\": 1 2 3 2\n"
     ]
    }
   ],
   "source": [
    "str(xf)"
   ]
  },
  {
   "cell_type": "code",
   "execution_count": 5,
   "metadata": {},
   "outputs": [
    {
     "name": "stdout",
     "output_type": "stream",
     "text": [
      "[1] 1 2 3 2\n",
      "attr(,\"levels\")\n",
      "[1] \"5\"  \"12\" \"13\"\n"
     ]
    }
   ],
   "source": [
    "print(unclass(xf))"
   ]
  },
  {
   "cell_type": "markdown",
   "metadata": {},
   "source": [
    "上述结果中第一行表示水平列表的序号，即第一个值是第一个水平，即 5。"
   ]
  },
  {
   "cell_type": "code",
   "execution_count": 169,
   "metadata": {},
   "outputs": [
    {
     "name": "stdout",
     "output_type": "stream",
     "text": [
      " int [1:4] 1 2 3 2\n",
      " - attr(*, \"levels\")= chr [1:3] \"5\" \"12\" \"13\"\n"
     ]
    }
   ],
   "source": [
    "str(unclass(xf))"
   ]
  },
  {
   "cell_type": "markdown",
   "metadata": {},
   "source": [
    "因子的长度是数据的长度"
   ]
  },
  {
   "cell_type": "code",
   "execution_count": 6,
   "metadata": {},
   "outputs": [
    {
     "data": {
      "text/html": [
       "4"
      ],
      "text/latex": [
       "4"
      ],
      "text/markdown": [
       "4"
      ],
      "text/plain": [
       "[1] 4"
      ]
     },
     "metadata": {},
     "output_type": "display_data"
    }
   ],
   "source": [
    "print(length(xf))"
   ]
  },
  {
   "cell_type": "markdown",
   "metadata": {},
   "source": [
    "可以在创建因子时提前插入新水平"
   ]
  },
  {
   "cell_type": "code",
   "execution_count": 7,
   "metadata": {},
   "outputs": [
    {
     "name": "stdout",
     "output_type": "stream",
     "text": [
      "[1] 5  12 13 12\n",
      "Levels: 5 12 13 88\n"
     ]
    }
   ],
   "source": [
    "x <- c(5, 12, 13, 12)\n",
    "xff <- factor(\n",
    "    x,\n",
    "    levels=c(5, 12, 13, 88)\n",
    ")\n",
    "print(xff)"
   ]
  },
  {
   "cell_type": "code",
   "execution_count": 8,
   "metadata": {},
   "outputs": [
    {
     "name": "stdout",
     "output_type": "stream",
     "text": [
      "[1] 5  88 13 12\n",
      "Levels: 5 12 13 88\n"
     ]
    }
   ],
   "source": [
    "xff[2] <- 88\n",
    "print(xff)"
   ]
  },
  {
   "cell_type": "markdown",
   "metadata": {},
   "source": [
    "不能添加新的水平，新的值会被设为 `NA`"
   ]
  },
  {
   "cell_type": "code",
   "execution_count": 10,
   "metadata": {},
   "outputs": [
    {
     "name": "stderr",
     "output_type": "stream",
     "text": [
      "Warning message in `[<-.factor`(`*tmp*`, 2, value = 28):\n",
      "\"invalid factor level, NA generated\"\n"
     ]
    },
    {
     "name": "stdout",
     "output_type": "stream",
     "text": [
      "[1] 5    <NA> 13   12  \n",
      "Levels: 5 12 13 88\n"
     ]
    }
   ],
   "source": [
    "xff[2] <- 28\n",
    "print(xff)"
   ]
  },
  {
   "cell_type": "markdown",
   "metadata": {},
   "source": [
    "## 因子的常用函数"
   ]
  },
  {
   "cell_type": "markdown",
   "metadata": {},
   "source": [
    "### `tapply` 函数\n",
    "\n",
    "```\n",
    "tapply(x, f, g)\n",
    "```\n",
    "\n",
    "将向量 `x` 按因子 `f` 分组，对每个分组的自向量应用函数 `g`"
   ]
  },
  {
   "cell_type": "code",
   "execution_count": 11,
   "metadata": {},
   "outputs": [
    {
     "name": "stdout",
     "output_type": "stream",
     "text": [
      " D  R  U \n",
      "41 31 21 \n"
     ]
    }
   ],
   "source": [
    "ages <- c(25, 26, 55, 37, 21, 42)\n",
    "affils <- c(\"R\", \"D\", \"D\", \"R\", \"U\", \"D\")\n",
    "print(tapply(\n",
    "    ages, \n",
    "    affils, \n",
    "    mean\n",
    "))"
   ]
  },
  {
   "cell_type": "markdown",
   "metadata": {},
   "source": [
    "多个因子"
   ]
  },
  {
   "cell_type": "code",
   "execution_count": 13,
   "metadata": {},
   "outputs": [
    {
     "name": "stdout",
     "output_type": "stream",
     "text": [
      "  gender age income\n",
      "1      M  47  55000\n",
      "2      M  59  88000\n",
      "3      F  21  32450\n",
      "4      M  32  76500\n",
      "5      F  33  12300\n",
      "6      F  24  45650\n"
     ]
    }
   ],
   "source": [
    "d <- data.frame(\n",
    "    list(\n",
    "        gender=c(\"M\", \"M\", \"F\", \"M\", \"F\", \"F\"),\n",
    "        age=c(47, 59, 21, 32, 33, 24),\n",
    "        income=c(55000, 88000, 32450, 76500, 12300, 45650)\n",
    "    )\n",
    ")\n",
    "print(d)"
   ]
  },
  {
   "cell_type": "code",
   "execution_count": 15,
   "metadata": {},
   "outputs": [
    {
     "name": "stdout",
     "output_type": "stream",
     "text": [
      "  gender age income over25\n",
      "1      M  47  55000      1\n",
      "2      M  59  88000      1\n",
      "3      F  21  32450      0\n",
      "4      M  32  76500      1\n",
      "5      F  33  12300      1\n",
      "6      F  24  45650      0\n"
     ]
    }
   ],
   "source": [
    "d$over25 <- ifelse(d$age > 25, 1, 0)\n",
    "print(d)"
   ]
  },
  {
   "cell_type": "code",
   "execution_count": 17,
   "metadata": {},
   "outputs": [
    {
     "name": "stdout",
     "output_type": "stream",
     "text": [
      "      0        1\n",
      "F 39050 12300.00\n",
      "M    NA 73166.67\n"
     ]
    }
   ],
   "source": [
    "print(tapply(\n",
    "    d$income,\n",
    "    list(d$gender, d$over25),\n",
    "    mean\n",
    "))"
   ]
  },
  {
   "cell_type": "markdown",
   "metadata": {},
   "source": [
    "### `split()` 函数\n",
    "\n",
    "```\n",
    "split(x, f)\n",
    "```\n",
    "\n",
    "将 `x` 按因子 `f` 分组"
   ]
  },
  {
   "cell_type": "code",
   "execution_count": 18,
   "metadata": {},
   "outputs": [
    {
     "name": "stdout",
     "output_type": "stream",
     "text": [
      "  gender age income over25\n",
      "1      M  47  55000      1\n",
      "2      M  59  88000      1\n",
      "3      F  21  32450      0\n",
      "4      M  32  76500      1\n",
      "5      F  33  12300      1\n",
      "6      F  24  45650      0\n"
     ]
    }
   ],
   "source": [
    "print(d)"
   ]
  },
  {
   "cell_type": "markdown",
   "metadata": {},
   "source": [
    "`split()` 返回一个列表"
   ]
  },
  {
   "cell_type": "code",
   "execution_count": 21,
   "metadata": {},
   "outputs": [
    {
     "name": "stdout",
     "output_type": "stream",
     "text": [
      "$F.0\n",
      "[1] 32450 45650\n",
      "\n",
      "$M.0\n",
      "numeric(0)\n",
      "\n",
      "$F.1\n",
      "[1] 12300\n",
      "\n",
      "$M.1\n",
      "[1] 55000 88000 76500\n",
      "\n"
     ]
    }
   ],
   "source": [
    "print(split(\n",
    "    d$income,\n",
    "    list(d$gender, d$over25)\n",
    "))"
   ]
  },
  {
   "cell_type": "markdown",
   "metadata": {},
   "source": [
    "简化《向量》章节中的方法"
   ]
  },
  {
   "cell_type": "code",
   "execution_count": 23,
   "metadata": {},
   "outputs": [
    {
     "name": "stdout",
     "output_type": "stream",
     "text": [
      "$F\n",
      "[1] 2 3 7\n",
      "\n",
      "$I\n",
      "[1] 4\n",
      "\n",
      "$M\n",
      "[1] 1 5 6\n",
      "\n"
     ]
    }
   ],
   "source": [
    "g <- c(\"M\", \"F\", \"F\", \"I\", \"M\", \"M\", \"F\")\n",
    "print(split(1:7, g))"
   ]
  },
  {
   "cell_type": "markdown",
   "metadata": {},
   "source": [
    "简化《列表》章节中的文本词汇索引示例"
   ]
  },
  {
   "cell_type": "code",
   "execution_count": 24,
   "metadata": {},
   "outputs": [],
   "source": [
    "findwords <- function(tf) {\n",
    "    txt <- scan(tf, \"\")\n",
    "    words <- split(1:length(txt), txt)\n",
    "    return(words)\n",
    "}"
   ]
  },
  {
   "cell_type": "markdown",
   "metadata": {},
   "source": [
    "### `by()` 函数\n",
    "\n",
    "可以应用于对象"
   ]
  },
  {
   "cell_type": "code",
   "execution_count": 25,
   "metadata": {},
   "outputs": [],
   "source": [
    "title <- c(\n",
    "    \"Gender\", \n",
    "    \"Length\", \n",
    "    \"Diameter\", \n",
    "    \"Height\", \n",
    "    \"WholeWt\", \n",
    "    \"ShuckedWt\", \n",
    "    \"ViscWt\", \n",
    "    \"ShellWt\", \n",
    "    \"Rings\"\n",
    ")\n",
    "\n",
    "aba <- read.csv(\n",
    "    \"../data/abalone.data\",\n",
    "    header=FALSE,\n",
    "    col.names=title\n",
    ")"
   ]
  },
  {
   "cell_type": "markdown",
   "metadata": {},
   "source": [
    "针对不同的性别做回归分析"
   ]
  },
  {
   "cell_type": "code",
   "execution_count": 26,
   "metadata": {},
   "outputs": [
    {
     "data": {
      "text/plain": [
       "aba$Gender: F\n",
       "\n",
       "Call:\n",
       "lm(formula = m[, 2] ~ m[, 3])\n",
       "\n",
       "Coefficients:\n",
       "(Intercept)       m[, 3]  \n",
       "    0.04288      1.17918  \n",
       "\n",
       "------------------------------------------------------------ \n",
       "aba$Gender: I\n",
       "\n",
       "Call:\n",
       "lm(formula = m[, 2] ~ m[, 3])\n",
       "\n",
       "Coefficients:\n",
       "(Intercept)       m[, 3]  \n",
       "    0.02997      1.21833  \n",
       "\n",
       "------------------------------------------------------------ \n",
       "aba$Gender: M\n",
       "\n",
       "Call:\n",
       "lm(formula = m[, 2] ~ m[, 3])\n",
       "\n",
       "Coefficients:\n",
       "(Intercept)       m[, 3]  \n",
       "    0.03653      1.19480  \n"
      ]
     },
     "metadata": {},
     "output_type": "display_data"
    }
   ],
   "source": [
    "by(\n",
    "    aba,\n",
    "    aba$Gender,\n",
    "    function(m) lm(m[,2]~m[,3])\n",
    ")"
   ]
  },
  {
   "cell_type": "markdown",
   "metadata": {},
   "source": [
    "## 表的操作\n",
    "\n",
    "列联表 contingency table"
   ]
  },
  {
   "cell_type": "code",
   "execution_count": 174,
   "metadata": {},
   "outputs": [
    {
     "name": "stdout",
     "output_type": "stream",
     "text": [
      "   a bc\n",
      "5  2 NA\n",
      "12 1  1\n",
      "13 2  1\n"
     ]
    }
   ],
   "source": [
    "u <- c(22, 8, 33, 6, 8, 29, -2)\n",
    "fl <- list(\n",
    "    c(5, 12, 13, 12, 13, 5, 13),\n",
    "    c(\"a\", \"bc\", \"a\", \"a\", \"bc\", \"a\", \"a\")\n",
    ")\n",
    "print(tapply(u, fl, length))"
   ]
  },
  {
   "cell_type": "code",
   "execution_count": 175,
   "metadata": {},
   "outputs": [
    {
     "name": "stdout",
     "output_type": "stream",
     "text": [
      "  Vote.for.X Voted.For.X.Last.Time\n",
      "1        Yes                   Yes\n",
      "2        Yes                    No\n",
      "3         No                    No\n",
      "4   Not Sure                   Yes\n",
      "5         No                    No\n"
     ]
    }
   ],
   "source": [
    "ct <- read.table(\n",
    "    \"../data/ct.dat\",\n",
    "    header=T\n",
    ")\n",
    "print(ct)"
   ]
  },
  {
   "cell_type": "markdown",
   "metadata": {},
   "source": [
    "`table()` 生成列联表"
   ]
  },
  {
   "cell_type": "code",
   "execution_count": 176,
   "metadata": {},
   "outputs": [
    {
     "data": {
      "text/plain": [
       "          Voted.For.X.Last.Time\n",
       "Vote.for.X No Yes\n",
       "  No        2   0\n",
       "  Not Sure  0   1\n",
       "  Yes       1   1"
      ]
     },
     "metadata": {},
     "output_type": "display_data"
    }
   ],
   "source": [
    "cttab <- table(ct)\n",
    "cttab"
   ]
  },
  {
   "cell_type": "markdown",
   "metadata": {},
   "source": [
    "对于向量，`table()` 生成频数表"
   ]
  },
  {
   "cell_type": "code",
   "execution_count": 177,
   "metadata": {},
   "outputs": [
    {
     "name": "stdout",
     "output_type": "stream",
     "text": [
      "\n",
      " 5  8 12 13 \n",
      " 2  1  2  1 \n"
     ]
    }
   ],
   "source": [
    "print(table(c(5, 12, 13, 12, 8, 5)))"
   ]
  },
  {
   "cell_type": "markdown",
   "metadata": {},
   "source": [
    "三维表格"
   ]
  },
  {
   "cell_type": "code",
   "execution_count": 178,
   "metadata": {},
   "outputs": [
    {
     "name": "stdout",
     "output_type": "stream",
     "text": [
      "  gender race pol\n",
      "1      M    W   L\n",
      "2      M    W   L\n",
      "3      F    A   C\n",
      "4      M    O   L\n",
      "5      F    B   L\n",
      "6      F    B   C\n"
     ]
    }
   ],
   "source": [
    "vote <- read.csv(\n",
    "    \"../data/vote.csv\",\n",
    "    header=T\n",
    ")\n",
    "print(vote)"
   ]
  },
  {
   "cell_type": "code",
   "execution_count": 179,
   "metadata": {},
   "outputs": [
    {
     "data": {
      "text/plain": [
       ", , pol = C\n",
       "\n",
       "      race\n",
       "gender A B O W\n",
       "     F 1 1 0 0\n",
       "     M 0 0 0 0\n",
       "\n",
       ", , pol = L\n",
       "\n",
       "      race\n",
       "gender A B O W\n",
       "     F 0 1 0 0\n",
       "     M 0 0 1 2\n"
      ]
     },
     "metadata": {},
     "output_type": "display_data"
    }
   ],
   "source": [
    "vt <- table(vote)\n",
    "vt"
   ]
  },
  {
   "cell_type": "markdown",
   "metadata": {},
   "source": [
    "### 表中有关矩阵和类似数组的操作\n",
    "\n",
    "大多数（非数学的）矩阵/数组运算可以用在数据框上，也可以用于表"
   ]
  },
  {
   "cell_type": "code",
   "execution_count": 57,
   "metadata": {},
   "outputs": [
    {
     "name": "stdout",
     "output_type": "stream",
     "text": [
      "[1] \"table\"\n"
     ]
    }
   ],
   "source": [
    "print(class(cttab))"
   ]
  },
  {
   "cell_type": "code",
   "execution_count": 58,
   "metadata": {},
   "outputs": [
    {
     "name": "stdout",
     "output_type": "stream",
     "text": [
      "[1] 2\n"
     ]
    }
   ],
   "source": [
    "print(cttab[1, 1])"
   ]
  },
  {
   "cell_type": "code",
   "execution_count": 59,
   "metadata": {},
   "outputs": [
    {
     "name": "stdout",
     "output_type": "stream",
     "text": [
      " No Yes \n",
      "  2   0 \n"
     ]
    }
   ],
   "source": [
    "print(cttab[1, ])"
   ]
  },
  {
   "cell_type": "code",
   "execution_count": 60,
   "metadata": {},
   "outputs": [
    {
     "name": "stdout",
     "output_type": "stream",
     "text": [
      "          Voted.For.X.Last.Time\n",
      "Vote.for.X  No Yes\n",
      "  No       0.4 0.0\n",
      "  Not Sure 0.0 0.2\n",
      "  Yes      0.2 0.2\n"
     ]
    }
   ],
   "source": [
    "print(cttab/5)"
   ]
  },
  {
   "cell_type": "markdown",
   "metadata": {},
   "source": [
    "边际值"
   ]
  },
  {
   "cell_type": "code",
   "execution_count": 80,
   "metadata": {},
   "outputs": [
    {
     "name": "stdout",
     "output_type": "stream",
     "text": [
      "      No Not Sure      Yes \n",
      "       2        1        2 \n"
     ]
    }
   ],
   "source": [
    "print(apply(cttab, 1, sum))"
   ]
  },
  {
   "cell_type": "markdown",
   "metadata": {},
   "source": [
    "`addmargins()` 为表格添加边际值"
   ]
  },
  {
   "cell_type": "code",
   "execution_count": 180,
   "metadata": {},
   "outputs": [
    {
     "name": "stdout",
     "output_type": "stream",
     "text": [
      "          Voted.For.X.Last.Time\n",
      "Vote.for.X No Yes Sum\n",
      "  No        2   0   2\n",
      "  Not Sure  0   1   1\n",
      "  Yes       1   1   2\n",
      "  Sum       3   2   5\n"
     ]
    }
   ],
   "source": [
    "print(addmargins(cttab))"
   ]
  },
  {
   "cell_type": "markdown",
   "metadata": {},
   "source": [
    "`dimnames()` 获得维度的名称和水平值"
   ]
  },
  {
   "cell_type": "code",
   "execution_count": 63,
   "metadata": {},
   "outputs": [
    {
     "name": "stdout",
     "output_type": "stream",
     "text": [
      "$Vote.for.X\n",
      "[1] \"No\"       \"Not Sure\" \"Yes\"     \n",
      "\n",
      "$Voted.For.X.Last.Time\n",
      "[1] \"No\"  \"Yes\"\n",
      "\n"
     ]
    }
   ],
   "source": [
    "print(dimnames(cttab))"
   ]
  },
  {
   "cell_type": "markdown",
   "metadata": {},
   "source": [
    "### 扩展案例：提取子表"
   ]
  },
  {
   "cell_type": "markdown",
   "metadata": {},
   "source": [
    "编写 `subtable()` 函数，两个参数：\n",
    "\n",
    "- `tbl`：表格\n",
    "- `subnames`：列表，每个组件以 `tbl` 的某个维度命名，组件的值是所需要水平的名称向量"
   ]
  },
  {
   "cell_type": "code",
   "execution_count": 109,
   "metadata": {},
   "outputs": [],
   "source": [
    "subtable <- function(tbl, subnames) {\n",
    "    tblarray <- unclass(tbl)\n",
    "    dcargs <- list(tblarray)\n",
    "    \n",
    "    ndims <- length(subnames)\n",
    "    for (i in 1:ndims) {\n",
    "        dcargs[[i+1]] <- subnames[[i]]\n",
    "    }\n",
    "    \n",
    "    subarray <- do.call(\"[\", dcargs)\n",
    "    \n",
    "    dims <- lapply(subnames, length)\n",
    "    \n",
    "    subtbl <- array(subarray, dims, dimnames=subnames)\n",
    "    class(subtbl) <- \"table\"\n",
    "    return (subtbl)\n",
    "}"
   ]
  },
  {
   "cell_type": "markdown",
   "metadata": {},
   "source": [
    "示例"
   ]
  },
  {
   "cell_type": "code",
   "execution_count": 181,
   "metadata": {},
   "outputs": [
    {
     "data": {
      "text/plain": [
       "          Voted.For.X.Last.Time\n",
       "Vote.for.X No Yes\n",
       "  No        2   0\n",
       "  Not Sure  0   1\n",
       "  Yes       1   1"
      ]
     },
     "metadata": {},
     "output_type": "display_data"
    }
   ],
   "source": [
    "cttab"
   ]
  },
  {
   "cell_type": "code",
   "execution_count": 182,
   "metadata": {},
   "outputs": [
    {
     "data": {
      "text/plain": [
       "          Voted.For.X.Last.Time\n",
       "Vote.for.X No Yes\n",
       "       No   2   0\n",
       "       Yes  1   1"
      ]
     },
     "metadata": {},
     "output_type": "display_data"
    }
   ],
   "source": [
    "subtable(\n",
    "    cttab,\n",
    "    list(\n",
    "        Vote.for.X=c(\"No\", \"Yes\"),\n",
    "        Voted.For.X.Last.Time=c(\"No\", \"Yes\")\n",
    "    )\n",
    ")"
   ]
  },
  {
   "cell_type": "markdown",
   "metadata": {},
   "source": [
    "解析"
   ]
  },
  {
   "cell_type": "code",
   "execution_count": 149,
   "metadata": {},
   "outputs": [
    {
     "name": "stdout",
     "output_type": "stream",
     "text": [
      "$Vote.for.X\n",
      "[1] \"No\"  \"Yes\"\n",
      "\n",
      "$Voted.For.X.Last.Time\n",
      "[1] \"No\"  \"Yes\"\n",
      "\n"
     ]
    }
   ],
   "source": [
    "subnames <- list(\n",
    "    Vote.for.X=c(\"No\", \"Yes\"),\n",
    "    Voted.For.X.Last.Time=c(\"No\", \"Yes\")\n",
    ")\n",
    "print(subnames)"
   ]
  },
  {
   "cell_type": "code",
   "execution_count": 150,
   "metadata": {},
   "outputs": [
    {
     "name": "stdout",
     "output_type": "stream",
     "text": [
      "[1] \"No\"  \"Yes\"\n"
     ]
    }
   ],
   "source": [
    "print(subnames[[2]])"
   ]
  },
  {
   "cell_type": "code",
   "execution_count": 151,
   "metadata": {},
   "outputs": [
    {
     "data": {
      "text/plain": [
       "          Voted.For.X.Last.Time\n",
       "Vote.for.X No Yes\n",
       "  No        2   0\n",
       "  Not Sure  0   1\n",
       "  Yes       1   1"
      ]
     },
     "metadata": {},
     "output_type": "display_data"
    }
   ],
   "source": [
    "cttab"
   ]
  },
  {
   "cell_type": "code",
   "execution_count": 184,
   "metadata": {},
   "outputs": [
    {
     "data": {
      "text/html": [
       "<table>\n",
       "<caption>A matrix: 3 × 2 of type int</caption>\n",
       "<thead>\n",
       "\t<tr><th></th><th scope=col>No</th><th scope=col>Yes</th></tr>\n",
       "</thead>\n",
       "<tbody>\n",
       "\t<tr><th scope=row>No</th><td>2</td><td>0</td></tr>\n",
       "\t<tr><th scope=row>Not Sure</th><td>0</td><td>1</td></tr>\n",
       "\t<tr><th scope=row>Yes</th><td>1</td><td>1</td></tr>\n",
       "</tbody>\n",
       "</table>\n"
      ],
      "text/latex": [
       "A matrix: 3 × 2 of type int\n",
       "\\begin{tabular}{r|ll}\n",
       "  & No & Yes\\\\\n",
       "\\hline\n",
       "\tNo & 2 & 0\\\\\n",
       "\tNot Sure & 0 & 1\\\\\n",
       "\tYes & 1 & 1\\\\\n",
       "\\end{tabular}\n"
      ],
      "text/markdown": [
       "\n",
       "A matrix: 3 × 2 of type int\n",
       "\n",
       "| <!--/--> | No | Yes |\n",
       "|---|---|---|\n",
       "| No | 2 | 0 |\n",
       "| Not Sure | 0 | 1 |\n",
       "| Yes | 1 | 1 |\n",
       "\n"
      ],
      "text/plain": [
       "          Voted.For.X.Last.Time\n",
       "Vote.for.X No Yes\n",
       "  No       2  0  \n",
       "  Not Sure 0  1  \n",
       "  Yes      1  1  "
      ]
     },
     "metadata": {},
     "output_type": "display_data"
    }
   ],
   "source": [
    "tblarray <- unclass(cttab)\n",
    "tblarray"
   ]
  },
  {
   "cell_type": "code",
   "execution_count": 153,
   "metadata": {},
   "outputs": [
    {
     "name": "stdout",
     "output_type": "stream",
     "text": [
      "[[1]]\n",
      "          Voted.For.X.Last.Time\n",
      "Vote.for.X No Yes\n",
      "  No        2   0\n",
      "  Not Sure  0   1\n",
      "  Yes       1   1\n",
      "\n"
     ]
    }
   ],
   "source": [
    "dcargs <- list(tblarray)\n",
    "print(dcargs)"
   ]
  },
  {
   "cell_type": "code",
   "execution_count": 154,
   "metadata": {},
   "outputs": [
    {
     "name": "stdout",
     "output_type": "stream",
     "text": [
      "[[1]]\n",
      "          Voted.For.X.Last.Time\n",
      "Vote.for.X No Yes\n",
      "  No        2   0\n",
      "  Not Sure  0   1\n",
      "  Yes       1   1\n",
      "\n",
      "[[2]]\n",
      "[1] \"No\"  \"Yes\"\n",
      "\n",
      "[[3]]\n",
      "[1] \"No\"  \"Yes\"\n",
      "\n"
     ]
    }
   ],
   "source": [
    "ndims <- length(subnames)\n",
    "for (i in 1:ndims) {\n",
    "    dcargs[[i+1]] <- subnames[[i]]\n",
    "}\n",
    "print(dcargs)"
   ]
  },
  {
   "cell_type": "code",
   "execution_count": 165,
   "metadata": {},
   "outputs": [
    {
     "data": {
      "text/html": [
       "<table>\n",
       "<caption>A matrix: 2 × 2 of type int</caption>\n",
       "<thead>\n",
       "\t<tr><th></th><th scope=col>No</th><th scope=col>Yes</th></tr>\n",
       "</thead>\n",
       "<tbody>\n",
       "\t<tr><th scope=row>No</th><td>2</td><td>0</td></tr>\n",
       "\t<tr><th scope=row>Yes</th><td>1</td><td>1</td></tr>\n",
       "</tbody>\n",
       "</table>\n"
      ],
      "text/latex": [
       "A matrix: 2 × 2 of type int\n",
       "\\begin{tabular}{r|ll}\n",
       "  & No & Yes\\\\\n",
       "\\hline\n",
       "\tNo & 2 & 0\\\\\n",
       "\tYes & 1 & 1\\\\\n",
       "\\end{tabular}\n"
      ],
      "text/markdown": [
       "\n",
       "A matrix: 2 × 2 of type int\n",
       "\n",
       "| <!--/--> | No | Yes |\n",
       "|---|---|---|\n",
       "| No | 2 | 0 |\n",
       "| Yes | 1 | 1 |\n",
       "\n"
      ],
      "text/plain": [
       "          Voted.For.X.Last.Time\n",
       "Vote.for.X No Yes\n",
       "       No  2  0  \n",
       "       Yes 1  1  "
      ]
     },
     "metadata": {},
     "output_type": "display_data"
    }
   ],
   "source": [
    "subarray <- do.call(\"[\", dcargs)\n",
    "subarray"
   ]
  },
  {
   "cell_type": "code",
   "execution_count": 166,
   "metadata": {},
   "outputs": [
    {
     "data": {
      "text/plain": [
       "          Voted.For.X.Last.Time\n",
       "Vote.for.X No Yes\n",
       "       No   2   0\n",
       "       Yes  1   1"
      ]
     },
     "metadata": {},
     "output_type": "display_data"
    }
   ],
   "source": [
    "class(subarray) <- \"table\"\n",
    "subarray"
   ]
  },
  {
   "cell_type": "markdown",
   "metadata": {},
   "source": [
    "### 扩展案例：在表中寻找频数最大的单元格\n",
    "\n",
    "使用 `as.data.frame` 将表转换为数据框"
   ]
  },
  {
   "cell_type": "code",
   "execution_count": 135,
   "metadata": {},
   "outputs": [
    {
     "data": {
      "text/html": [
       "<table>\n",
       "<caption>A data.frame: 6 × 3</caption>\n",
       "<thead>\n",
       "\t<tr><th scope=col>Vote.for.X</th><th scope=col>Voted.For.X.Last.Time</th><th scope=col>Freq</th></tr>\n",
       "\t<tr><th scope=col>&lt;fct&gt;</th><th scope=col>&lt;fct&gt;</th><th scope=col>&lt;int&gt;</th></tr>\n",
       "</thead>\n",
       "<tbody>\n",
       "\t<tr><td>No      </td><td>No </td><td>2</td></tr>\n",
       "\t<tr><td>Not Sure</td><td>No </td><td>0</td></tr>\n",
       "\t<tr><td>Yes     </td><td>No </td><td>1</td></tr>\n",
       "\t<tr><td>No      </td><td>Yes</td><td>0</td></tr>\n",
       "\t<tr><td>Not Sure</td><td>Yes</td><td>1</td></tr>\n",
       "\t<tr><td>Yes     </td><td>Yes</td><td>1</td></tr>\n",
       "</tbody>\n",
       "</table>\n"
      ],
      "text/latex": [
       "A data.frame: 6 × 3\n",
       "\\begin{tabular}{lll}\n",
       " Vote.for.X & Voted.For.X.Last.Time & Freq\\\\\n",
       " <fct> & <fct> & <int>\\\\\n",
       "\\hline\n",
       "\t No       & No  & 2\\\\\n",
       "\t Not Sure & No  & 0\\\\\n",
       "\t Yes      & No  & 1\\\\\n",
       "\t No       & Yes & 0\\\\\n",
       "\t Not Sure & Yes & 1\\\\\n",
       "\t Yes      & Yes & 1\\\\\n",
       "\\end{tabular}\n"
      ],
      "text/markdown": [
       "\n",
       "A data.frame: 6 × 3\n",
       "\n",
       "| Vote.for.X &lt;fct&gt; | Voted.For.X.Last.Time &lt;fct&gt; | Freq &lt;int&gt; |\n",
       "|---|---|---|\n",
       "| No       | No  | 2 |\n",
       "| Not Sure | No  | 0 |\n",
       "| Yes      | No  | 1 |\n",
       "| No       | Yes | 0 |\n",
       "| Not Sure | Yes | 1 |\n",
       "| Yes      | Yes | 1 |\n",
       "\n"
      ],
      "text/plain": [
       "  Vote.for.X Voted.For.X.Last.Time Freq\n",
       "1 No         No                    2   \n",
       "2 Not Sure   No                    0   \n",
       "3 Yes        No                    1   \n",
       "4 No         Yes                   0   \n",
       "5 Not Sure   Yes                   1   \n",
       "6 Yes        Yes                   1   "
      ]
     },
     "metadata": {},
     "output_type": "display_data"
    }
   ],
   "source": [
    "as.data.frame(cttab)"
   ]
  },
  {
   "cell_type": "markdown",
   "metadata": {},
   "source": [
    "`tabdom()` 函数返回频数最大的 `k` 项"
   ]
  },
  {
   "cell_type": "code",
   "execution_count": 185,
   "metadata": {},
   "outputs": [],
   "source": [
    "tabdom <- function(tbl, k) {\n",
    "    tbldf <- as.data.frame(tbl)\n",
    "    freqord <- order(tbldf$Freq, decreasing=TRUE)\n",
    "    dom <- tbldf[freqord,][1:k,]\n",
    "    return(dom)\n",
    "}"
   ]
  },
  {
   "cell_type": "markdown",
   "metadata": {},
   "source": [
    "示例"
   ]
  },
  {
   "cell_type": "code",
   "execution_count": 186,
   "metadata": {},
   "outputs": [
    {
     "data": {
      "text/plain": [
       "d\n",
       " 3  4  5  9 12 13 28 \n",
       " 1  2  4  1  4  2  1 "
      ]
     },
     "metadata": {},
     "output_type": "display_data"
    }
   ],
   "source": [
    "d <- c(5, 12, 13, 4, 3, 28, 12, 12, 9, 5, 5, 13, 5, 4, 12)\n",
    "dtab <- table(d)\n",
    "dtab"
   ]
  },
  {
   "cell_type": "code",
   "execution_count": 187,
   "metadata": {},
   "outputs": [
    {
     "data": {
      "text/html": [
       "<table>\n",
       "<caption>A data.frame: 3 × 2</caption>\n",
       "<thead>\n",
       "\t<tr><th></th><th scope=col>d</th><th scope=col>Freq</th></tr>\n",
       "\t<tr><th></th><th scope=col>&lt;fct&gt;</th><th scope=col>&lt;int&gt;</th></tr>\n",
       "</thead>\n",
       "<tbody>\n",
       "\t<tr><th scope=row>3</th><td>5 </td><td>4</td></tr>\n",
       "\t<tr><th scope=row>5</th><td>12</td><td>4</td></tr>\n",
       "\t<tr><th scope=row>2</th><td>4 </td><td>2</td></tr>\n",
       "</tbody>\n",
       "</table>\n"
      ],
      "text/latex": [
       "A data.frame: 3 × 2\n",
       "\\begin{tabular}{r|ll}\n",
       "  & d & Freq\\\\\n",
       "  & <fct> & <int>\\\\\n",
       "\\hline\n",
       "\t3 & 5  & 4\\\\\n",
       "\t5 & 12 & 4\\\\\n",
       "\t2 & 4  & 2\\\\\n",
       "\\end{tabular}\n"
      ],
      "text/markdown": [
       "\n",
       "A data.frame: 3 × 2\n",
       "\n",
       "| <!--/--> | d &lt;fct&gt; | Freq &lt;int&gt; |\n",
       "|---|---|---|\n",
       "| 3 | 5  | 4 |\n",
       "| 5 | 12 | 4 |\n",
       "| 2 | 4  | 2 |\n",
       "\n"
      ],
      "text/plain": [
       "  d  Freq\n",
       "3 5  4   \n",
       "5 12 4   \n",
       "2 4  2   "
      ]
     },
     "metadata": {},
     "output_type": "display_data"
    }
   ],
   "source": [
    "tabdom(dtab, 3)"
   ]
  },
  {
   "cell_type": "code",
   "execution_count": 188,
   "metadata": {},
   "outputs": [
    {
     "data": {
      "text/html": [
       "<table>\n",
       "<caption>A data.frame: 2 × 3</caption>\n",
       "<thead>\n",
       "\t<tr><th></th><th scope=col>Vote.for.X</th><th scope=col>Voted.For.X.Last.Time</th><th scope=col>Freq</th></tr>\n",
       "\t<tr><th></th><th scope=col>&lt;fct&gt;</th><th scope=col>&lt;fct&gt;</th><th scope=col>&lt;int&gt;</th></tr>\n",
       "</thead>\n",
       "<tbody>\n",
       "\t<tr><th scope=row>1</th><td>No </td><td>No</td><td>2</td></tr>\n",
       "\t<tr><th scope=row>3</th><td>Yes</td><td>No</td><td>1</td></tr>\n",
       "</tbody>\n",
       "</table>\n"
      ],
      "text/latex": [
       "A data.frame: 2 × 3\n",
       "\\begin{tabular}{r|lll}\n",
       "  & Vote.for.X & Voted.For.X.Last.Time & Freq\\\\\n",
       "  & <fct> & <fct> & <int>\\\\\n",
       "\\hline\n",
       "\t1 & No  & No & 2\\\\\n",
       "\t3 & Yes & No & 1\\\\\n",
       "\\end{tabular}\n"
      ],
      "text/markdown": [
       "\n",
       "A data.frame: 2 × 3\n",
       "\n",
       "| <!--/--> | Vote.for.X &lt;fct&gt; | Voted.For.X.Last.Time &lt;fct&gt; | Freq &lt;int&gt; |\n",
       "|---|---|---|---|\n",
       "| 1 | No  | No | 2 |\n",
       "| 3 | Yes | No | 1 |\n",
       "\n"
      ],
      "text/plain": [
       "  Vote.for.X Voted.For.X.Last.Time Freq\n",
       "1 No         No                    2   \n",
       "3 Yes        No                    1   "
      ]
     },
     "metadata": {},
     "output_type": "display_data"
    }
   ],
   "source": [
    "tabdom(cttab, 2)"
   ]
  },
  {
   "cell_type": "markdown",
   "metadata": {},
   "source": [
    "## 其他与因子和表有关的函数"
   ]
  },
  {
   "cell_type": "markdown",
   "metadata": {},
   "source": [
    "### `aggregate()` 函数\n",
    "\n",
    "对分组中的每个变量调用 `tapply()` 函数"
   ]
  },
  {
   "cell_type": "code",
   "execution_count": 140,
   "metadata": {},
   "outputs": [
    {
     "data": {
      "text/html": [
       "<table>\n",
       "<caption>A data.frame: 3 × 9</caption>\n",
       "<thead>\n",
       "\t<tr><th scope=col>Group.1</th><th scope=col>Length</th><th scope=col>Diameter</th><th scope=col>Height</th><th scope=col>WholeWt</th><th scope=col>ShuckedWt</th><th scope=col>ViscWt</th><th scope=col>ShellWt</th><th scope=col>Rings</th></tr>\n",
       "\t<tr><th scope=col>&lt;chr&gt;</th><th scope=col>&lt;dbl&gt;</th><th scope=col>&lt;dbl&gt;</th><th scope=col>&lt;dbl&gt;</th><th scope=col>&lt;dbl&gt;</th><th scope=col>&lt;dbl&gt;</th><th scope=col>&lt;dbl&gt;</th><th scope=col>&lt;dbl&gt;</th><th scope=col>&lt;dbl&gt;</th></tr>\n",
       "</thead>\n",
       "<tbody>\n",
       "\t<tr><td>F</td><td>0.590</td><td>0.465</td><td>0.160</td><td>1.03850</td><td>0.44050</td><td>0.2240</td><td>0.295</td><td>10</td></tr>\n",
       "\t<tr><td>I</td><td>0.435</td><td>0.335</td><td>0.110</td><td>0.38400</td><td>0.16975</td><td>0.0805</td><td>0.113</td><td> 8</td></tr>\n",
       "\t<tr><td>M</td><td>0.580</td><td>0.455</td><td>0.155</td><td>0.97575</td><td>0.42175</td><td>0.2100</td><td>0.276</td><td>10</td></tr>\n",
       "</tbody>\n",
       "</table>\n"
      ],
      "text/latex": [
       "A data.frame: 3 × 9\n",
       "\\begin{tabular}{lllllllll}\n",
       " Group.1 & Length & Diameter & Height & WholeWt & ShuckedWt & ViscWt & ShellWt & Rings\\\\\n",
       " <chr> & <dbl> & <dbl> & <dbl> & <dbl> & <dbl> & <dbl> & <dbl> & <dbl>\\\\\n",
       "\\hline\n",
       "\t F & 0.590 & 0.465 & 0.160 & 1.03850 & 0.44050 & 0.2240 & 0.295 & 10\\\\\n",
       "\t I & 0.435 & 0.335 & 0.110 & 0.38400 & 0.16975 & 0.0805 & 0.113 &  8\\\\\n",
       "\t M & 0.580 & 0.455 & 0.155 & 0.97575 & 0.42175 & 0.2100 & 0.276 & 10\\\\\n",
       "\\end{tabular}\n"
      ],
      "text/markdown": [
       "\n",
       "A data.frame: 3 × 9\n",
       "\n",
       "| Group.1 &lt;chr&gt; | Length &lt;dbl&gt; | Diameter &lt;dbl&gt; | Height &lt;dbl&gt; | WholeWt &lt;dbl&gt; | ShuckedWt &lt;dbl&gt; | ViscWt &lt;dbl&gt; | ShellWt &lt;dbl&gt; | Rings &lt;dbl&gt; |\n",
       "|---|---|---|---|---|---|---|---|---|\n",
       "| F | 0.590 | 0.465 | 0.160 | 1.03850 | 0.44050 | 0.2240 | 0.295 | 10 |\n",
       "| I | 0.435 | 0.335 | 0.110 | 0.38400 | 0.16975 | 0.0805 | 0.113 |  8 |\n",
       "| M | 0.580 | 0.455 | 0.155 | 0.97575 | 0.42175 | 0.2100 | 0.276 | 10 |\n",
       "\n"
      ],
      "text/plain": [
       "  Group.1 Length Diameter Height WholeWt ShuckedWt ViscWt ShellWt Rings\n",
       "1 F       0.590  0.465    0.160  1.03850 0.44050   0.2240 0.295   10   \n",
       "2 I       0.435  0.335    0.110  0.38400 0.16975   0.0805 0.113    8   \n",
       "3 M       0.580  0.455    0.155  0.97575 0.42175   0.2100 0.276   10   "
      ]
     },
     "metadata": {},
     "output_type": "display_data"
    }
   ],
   "source": [
    "aggregate(\n",
    "    aba[, -1],\n",
    "    list(aba$Gender),\n",
    "    median\n",
    ")"
   ]
  },
  {
   "cell_type": "markdown",
   "metadata": {},
   "source": [
    "### `cut()`函数\n",
    "\n",
    "需要一个数据向量 `x` 和由向量 `b` 定义的一组区间，`cut()` 函数将决定 `x` 中每个元素落入哪个区间。\n",
    "\n",
    "```\n",
    "y <- cut(x, b, labels=FALSE)\n",
    "```\n",
    "\n",
    "列表表示的区间，左开右闭\n",
    "\n",
    "(b[1], b[2]], (b[2], b[3]], ..."
   ]
  },
  {
   "cell_type": "code",
   "execution_count": 143,
   "metadata": {},
   "outputs": [
    {
     "name": "stdout",
     "output_type": "stream",
     "text": [
      "[1] 0.28521041 0.54308030 0.17111995 0.39283332 0.66579177 0.02951978 0.79347348\n",
      "[8] 0.86720973\n"
     ]
    }
   ],
   "source": [
    "z <- runif(8, 0, 1)\n",
    "print(z)"
   ]
  },
  {
   "cell_type": "code",
   "execution_count": 145,
   "metadata": {},
   "outputs": [
    {
     "name": "stdout",
     "output_type": "stream",
     "text": [
      " [1] 0.0 0.1 0.2 0.3 0.4 0.5 0.6 0.7 0.8 0.9 1.0\n"
     ]
    }
   ],
   "source": [
    "binmarks <- seq(from=0.0, to=1.0, by=0.1)\n",
    "print(binmarks)"
   ]
  },
  {
   "cell_type": "code",
   "execution_count": 146,
   "metadata": {},
   "outputs": [
    {
     "name": "stdout",
     "output_type": "stream",
     "text": [
      "[1] 3 6 2 4 7 1 8 9\n"
     ]
    }
   ],
   "source": [
    "print(cut(z, binmarks, labels=F))"
   ]
  },
  {
   "cell_type": "code",
   "execution_count": null,
   "metadata": {},
   "outputs": [],
   "source": []
  }
 ],
 "metadata": {
  "kernelspec": {
   "display_name": "R",
   "language": "R",
   "name": "ir"
  },
  "language_info": {
   "codemirror_mode": "r",
   "file_extension": ".r",
   "mimetype": "text/x-r-source",
   "name": "R",
   "pygments_lexer": "r",
   "version": "4.0.2"
  }
 },
 "nbformat": 4,
 "nbformat_minor": 4
}
