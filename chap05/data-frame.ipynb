{
 "cells": [
  {
   "cell_type": "markdown",
   "metadata": {},
   "source": [
    "# 数据框\n",
    "\n",
    "数据框 (`data.frame`) 类似矩阵，有行和列，但数据框中的每一列可以使不同的模式 (mode)。"
   ]
  },
  {
   "cell_type": "markdown",
   "metadata": {},
   "source": [
    "## 创建数据框"
   ]
  },
  {
   "cell_type": "code",
   "execution_count": 66,
   "metadata": {},
   "outputs": [
    {
     "name": "stdout",
     "output_type": "stream",
     "text": [
      "  kids ages\n",
      "1 Jack   12\n",
      "2 Jill   10\n"
     ]
    }
   ],
   "source": [
    "kids <- c(\"Jack\", \"Jill\")\n",
    "ages <- c(12, 10)\n",
    "d <- data.frame(\n",
    "    kids, ages,\n",
    "    stringsAsFactors=FALSE\n",
    ")\n",
    "print(d)"
   ]
  },
  {
   "cell_type": "markdown",
   "metadata": {},
   "source": [
    "`stringsAsFactors` 参数用于将字符串转换为因子 (factor)，默认值为 TRUE。"
   ]
  },
  {
   "cell_type": "markdown",
   "metadata": {},
   "source": [
    "### 访问数据框\n",
    "\n",
    "数据框是一个列表，可以通过索引或者组件名访问"
   ]
  },
  {
   "cell_type": "code",
   "execution_count": 67,
   "metadata": {},
   "outputs": [
    {
     "name": "stdout",
     "output_type": "stream",
     "text": [
      "[1] \"Jack\" \"Jill\"\n"
     ]
    }
   ],
   "source": [
    "print(d[[1]])"
   ]
  },
  {
   "cell_type": "code",
   "execution_count": 68,
   "metadata": {},
   "outputs": [
    {
     "name": "stdout",
     "output_type": "stream",
     "text": [
      "[1] \"Jack\" \"Jill\"\n"
     ]
    }
   ],
   "source": [
    "print(d$kids)"
   ]
  },
  {
   "cell_type": "markdown",
   "metadata": {},
   "source": [
    "可以使用类似矩阵的方式"
   ]
  },
  {
   "cell_type": "code",
   "execution_count": 69,
   "metadata": {},
   "outputs": [
    {
     "name": "stdout",
     "output_type": "stream",
     "text": [
      "[1] \"Jack\" \"Jill\"\n"
     ]
    }
   ],
   "source": [
    "print(d[, 1])"
   ]
  },
  {
   "cell_type": "markdown",
   "metadata": {},
   "source": [
    "`str()` 函数查看数据框"
   ]
  },
  {
   "cell_type": "code",
   "execution_count": 70,
   "metadata": {},
   "outputs": [
    {
     "name": "stdout",
     "output_type": "stream",
     "text": [
      "'data.frame':\t2 obs. of  2 variables:\n",
      " $ kids: chr  \"Jack\" \"Jill\"\n",
      " $ ages: num  12 10\n"
     ]
    }
   ],
   "source": [
    "str(d)"
   ]
  },
  {
   "cell_type": "markdown",
   "metadata": {},
   "source": [
    "### 扩展案例：考试成绩的回归分析（续）"
   ]
  },
  {
   "cell_type": "code",
   "execution_count": 71,
   "metadata": {},
   "outputs": [],
   "source": [
    "score <- read.csv(\"../data/student-mat.csv\", header=T)"
   ]
  },
  {
   "cell_type": "code",
   "execution_count": 72,
   "metadata": {},
   "outputs": [
    {
     "data": {
      "text/html": [
       "<table>\n",
       "<caption>A data.frame: 6 × 33</caption>\n",
       "<thead>\n",
       "\t<tr><th></th><th scope=col>school</th><th scope=col>sex</th><th scope=col>age</th><th scope=col>address</th><th scope=col>famsize</th><th scope=col>Pstatus</th><th scope=col>Medu</th><th scope=col>Fedu</th><th scope=col>Mjob</th><th scope=col>Fjob</th><th scope=col>...</th><th scope=col>famrel</th><th scope=col>freetime</th><th scope=col>goout</th><th scope=col>Dalc</th><th scope=col>Walc</th><th scope=col>health</th><th scope=col>absences</th><th scope=col>G1</th><th scope=col>G2</th><th scope=col>G3</th></tr>\n",
       "\t<tr><th></th><th scope=col>&lt;chr&gt;</th><th scope=col>&lt;chr&gt;</th><th scope=col>&lt;int&gt;</th><th scope=col>&lt;chr&gt;</th><th scope=col>&lt;chr&gt;</th><th scope=col>&lt;chr&gt;</th><th scope=col>&lt;int&gt;</th><th scope=col>&lt;int&gt;</th><th scope=col>&lt;chr&gt;</th><th scope=col>&lt;chr&gt;</th><th scope=col>...</th><th scope=col>&lt;int&gt;</th><th scope=col>&lt;int&gt;</th><th scope=col>&lt;int&gt;</th><th scope=col>&lt;int&gt;</th><th scope=col>&lt;int&gt;</th><th scope=col>&lt;int&gt;</th><th scope=col>&lt;int&gt;</th><th scope=col>&lt;int&gt;</th><th scope=col>&lt;int&gt;</th><th scope=col>&lt;int&gt;</th></tr>\n",
       "</thead>\n",
       "<tbody>\n",
       "\t<tr><th scope=row>1</th><td>GP</td><td>F</td><td>18</td><td>U</td><td>GT3</td><td>A</td><td>4</td><td>4</td><td>at_home </td><td>teacher </td><td>...</td><td>4</td><td>3</td><td>4</td><td>1</td><td>1</td><td>3</td><td> 6</td><td> 5</td><td> 6</td><td> 6</td></tr>\n",
       "\t<tr><th scope=row>2</th><td>GP</td><td>F</td><td>17</td><td>U</td><td>GT3</td><td>T</td><td>1</td><td>1</td><td>at_home </td><td>other   </td><td>...</td><td>5</td><td>3</td><td>3</td><td>1</td><td>1</td><td>3</td><td> 4</td><td> 5</td><td> 5</td><td> 6</td></tr>\n",
       "\t<tr><th scope=row>3</th><td>GP</td><td>F</td><td>15</td><td>U</td><td>LE3</td><td>T</td><td>1</td><td>1</td><td>at_home </td><td>other   </td><td>...</td><td>4</td><td>3</td><td>2</td><td>2</td><td>3</td><td>3</td><td>10</td><td> 7</td><td> 8</td><td>10</td></tr>\n",
       "\t<tr><th scope=row>4</th><td>GP</td><td>F</td><td>15</td><td>U</td><td>GT3</td><td>T</td><td>4</td><td>2</td><td>health  </td><td>services</td><td>...</td><td>3</td><td>2</td><td>2</td><td>1</td><td>1</td><td>5</td><td> 2</td><td>15</td><td>14</td><td>15</td></tr>\n",
       "\t<tr><th scope=row>5</th><td>GP</td><td>F</td><td>16</td><td>U</td><td>GT3</td><td>T</td><td>3</td><td>3</td><td>other   </td><td>other   </td><td>...</td><td>4</td><td>3</td><td>2</td><td>1</td><td>2</td><td>5</td><td> 4</td><td> 6</td><td>10</td><td>10</td></tr>\n",
       "\t<tr><th scope=row>6</th><td>GP</td><td>M</td><td>16</td><td>U</td><td>LE3</td><td>T</td><td>4</td><td>3</td><td>services</td><td>other   </td><td>...</td><td>5</td><td>4</td><td>2</td><td>1</td><td>2</td><td>5</td><td>10</td><td>15</td><td>15</td><td>15</td></tr>\n",
       "</tbody>\n",
       "</table>\n"
      ],
      "text/latex": [
       "A data.frame: 6 × 33\n",
       "\\begin{tabular}{r|lllllllllllllllllllll}\n",
       "  & school & sex & age & address & famsize & Pstatus & Medu & Fedu & Mjob & Fjob & ... & famrel & freetime & goout & Dalc & Walc & health & absences & G1 & G2 & G3\\\\\n",
       "  & <chr> & <chr> & <int> & <chr> & <chr> & <chr> & <int> & <int> & <chr> & <chr> & ... & <int> & <int> & <int> & <int> & <int> & <int> & <int> & <int> & <int> & <int>\\\\\n",
       "\\hline\n",
       "\t1 & GP & F & 18 & U & GT3 & A & 4 & 4 & at\\_home  & teacher  & ... & 4 & 3 & 4 & 1 & 1 & 3 &  6 &  5 &  6 &  6\\\\\n",
       "\t2 & GP & F & 17 & U & GT3 & T & 1 & 1 & at\\_home  & other    & ... & 5 & 3 & 3 & 1 & 1 & 3 &  4 &  5 &  5 &  6\\\\\n",
       "\t3 & GP & F & 15 & U & LE3 & T & 1 & 1 & at\\_home  & other    & ... & 4 & 3 & 2 & 2 & 3 & 3 & 10 &  7 &  8 & 10\\\\\n",
       "\t4 & GP & F & 15 & U & GT3 & T & 4 & 2 & health   & services & ... & 3 & 2 & 2 & 1 & 1 & 5 &  2 & 15 & 14 & 15\\\\\n",
       "\t5 & GP & F & 16 & U & GT3 & T & 3 & 3 & other    & other    & ... & 4 & 3 & 2 & 1 & 2 & 5 &  4 &  6 & 10 & 10\\\\\n",
       "\t6 & GP & M & 16 & U & LE3 & T & 4 & 3 & services & other    & ... & 5 & 4 & 2 & 1 & 2 & 5 & 10 & 15 & 15 & 15\\\\\n",
       "\\end{tabular}\n"
      ],
      "text/markdown": [
       "\n",
       "A data.frame: 6 × 33\n",
       "\n",
       "| <!--/--> | school &lt;chr&gt; | sex &lt;chr&gt; | age &lt;int&gt; | address &lt;chr&gt; | famsize &lt;chr&gt; | Pstatus &lt;chr&gt; | Medu &lt;int&gt; | Fedu &lt;int&gt; | Mjob &lt;chr&gt; | Fjob &lt;chr&gt; | ... ... | famrel &lt;int&gt; | freetime &lt;int&gt; | goout &lt;int&gt; | Dalc &lt;int&gt; | Walc &lt;int&gt; | health &lt;int&gt; | absences &lt;int&gt; | G1 &lt;int&gt; | G2 &lt;int&gt; | G3 &lt;int&gt; |\n",
       "|---|---|---|---|---|---|---|---|---|---|---|---|---|---|---|---|---|---|---|---|---|---|\n",
       "| 1 | GP | F | 18 | U | GT3 | A | 4 | 4 | at_home  | teacher  | ... | 4 | 3 | 4 | 1 | 1 | 3 |  6 |  5 |  6 |  6 |\n",
       "| 2 | GP | F | 17 | U | GT3 | T | 1 | 1 | at_home  | other    | ... | 5 | 3 | 3 | 1 | 1 | 3 |  4 |  5 |  5 |  6 |\n",
       "| 3 | GP | F | 15 | U | LE3 | T | 1 | 1 | at_home  | other    | ... | 4 | 3 | 2 | 2 | 3 | 3 | 10 |  7 |  8 | 10 |\n",
       "| 4 | GP | F | 15 | U | GT3 | T | 4 | 2 | health   | services | ... | 3 | 2 | 2 | 1 | 1 | 5 |  2 | 15 | 14 | 15 |\n",
       "| 5 | GP | F | 16 | U | GT3 | T | 3 | 3 | other    | other    | ... | 4 | 3 | 2 | 1 | 2 | 5 |  4 |  6 | 10 | 10 |\n",
       "| 6 | GP | M | 16 | U | LE3 | T | 4 | 3 | services | other    | ... | 5 | 4 | 2 | 1 | 2 | 5 | 10 | 15 | 15 | 15 |\n",
       "\n"
      ],
      "text/plain": [
       "  school sex age address famsize Pstatus Medu Fedu Mjob     Fjob     ... famrel\n",
       "1 GP     F   18  U       GT3     A       4    4    at_home  teacher  ... 4     \n",
       "2 GP     F   17  U       GT3     T       1    1    at_home  other    ... 5     \n",
       "3 GP     F   15  U       LE3     T       1    1    at_home  other    ... 4     \n",
       "4 GP     F   15  U       GT3     T       4    2    health   services ... 3     \n",
       "5 GP     F   16  U       GT3     T       3    3    other    other    ... 4     \n",
       "6 GP     M   16  U       LE3     T       4    3    services other    ... 5     \n",
       "  freetime goout Dalc Walc health absences G1 G2 G3\n",
       "1 3        4     1    1    3       6        5  6  6\n",
       "2 3        3     1    1    3       4        5  5  6\n",
       "3 3        2     2    3    3      10        7  8 10\n",
       "4 2        2     1    1    5       2       15 14 15\n",
       "5 3        2     1    2    5       4        6 10 10\n",
       "6 4        2     1    2    5      10       15 15 15"
      ]
     },
     "metadata": {},
     "output_type": "display_data"
    }
   ],
   "source": [
    "head(score)"
   ]
  },
  {
   "cell_type": "markdown",
   "metadata": {},
   "source": [
    "## 其他矩阵式操作\n",
    "\n",
    "矩阵操作可以应用到数据框中\n",
    "\n",
    "### 提取子数据框"
   ]
  },
  {
   "cell_type": "code",
   "execution_count": 73,
   "metadata": {},
   "outputs": [
    {
     "data": {
      "text/html": [
       "<table>\n",
       "<caption>A data.frame: 4 × 33</caption>\n",
       "<thead>\n",
       "\t<tr><th></th><th scope=col>school</th><th scope=col>sex</th><th scope=col>age</th><th scope=col>address</th><th scope=col>famsize</th><th scope=col>Pstatus</th><th scope=col>Medu</th><th scope=col>Fedu</th><th scope=col>Mjob</th><th scope=col>Fjob</th><th scope=col>...</th><th scope=col>famrel</th><th scope=col>freetime</th><th scope=col>goout</th><th scope=col>Dalc</th><th scope=col>Walc</th><th scope=col>health</th><th scope=col>absences</th><th scope=col>G1</th><th scope=col>G2</th><th scope=col>G3</th></tr>\n",
       "\t<tr><th></th><th scope=col>&lt;chr&gt;</th><th scope=col>&lt;chr&gt;</th><th scope=col>&lt;int&gt;</th><th scope=col>&lt;chr&gt;</th><th scope=col>&lt;chr&gt;</th><th scope=col>&lt;chr&gt;</th><th scope=col>&lt;int&gt;</th><th scope=col>&lt;int&gt;</th><th scope=col>&lt;chr&gt;</th><th scope=col>&lt;chr&gt;</th><th scope=col>...</th><th scope=col>&lt;int&gt;</th><th scope=col>&lt;int&gt;</th><th scope=col>&lt;int&gt;</th><th scope=col>&lt;int&gt;</th><th scope=col>&lt;int&gt;</th><th scope=col>&lt;int&gt;</th><th scope=col>&lt;int&gt;</th><th scope=col>&lt;int&gt;</th><th scope=col>&lt;int&gt;</th><th scope=col>&lt;int&gt;</th></tr>\n",
       "</thead>\n",
       "<tbody>\n",
       "\t<tr><th scope=row>2</th><td>GP</td><td>F</td><td>17</td><td>U</td><td>GT3</td><td>T</td><td>1</td><td>1</td><td>at_home</td><td>other   </td><td>...</td><td>5</td><td>3</td><td>3</td><td>1</td><td>1</td><td>3</td><td> 4</td><td> 5</td><td> 5</td><td> 6</td></tr>\n",
       "\t<tr><th scope=row>3</th><td>GP</td><td>F</td><td>15</td><td>U</td><td>LE3</td><td>T</td><td>1</td><td>1</td><td>at_home</td><td>other   </td><td>...</td><td>4</td><td>3</td><td>2</td><td>2</td><td>3</td><td>3</td><td>10</td><td> 7</td><td> 8</td><td>10</td></tr>\n",
       "\t<tr><th scope=row>4</th><td>GP</td><td>F</td><td>15</td><td>U</td><td>GT3</td><td>T</td><td>4</td><td>2</td><td>health </td><td>services</td><td>...</td><td>3</td><td>2</td><td>2</td><td>1</td><td>1</td><td>5</td><td> 2</td><td>15</td><td>14</td><td>15</td></tr>\n",
       "\t<tr><th scope=row>5</th><td>GP</td><td>F</td><td>16</td><td>U</td><td>GT3</td><td>T</td><td>3</td><td>3</td><td>other  </td><td>other   </td><td>...</td><td>4</td><td>3</td><td>2</td><td>1</td><td>2</td><td>5</td><td> 4</td><td> 6</td><td>10</td><td>10</td></tr>\n",
       "</tbody>\n",
       "</table>\n"
      ],
      "text/latex": [
       "A data.frame: 4 × 33\n",
       "\\begin{tabular}{r|lllllllllllllllllllll}\n",
       "  & school & sex & age & address & famsize & Pstatus & Medu & Fedu & Mjob & Fjob & ... & famrel & freetime & goout & Dalc & Walc & health & absences & G1 & G2 & G3\\\\\n",
       "  & <chr> & <chr> & <int> & <chr> & <chr> & <chr> & <int> & <int> & <chr> & <chr> & ... & <int> & <int> & <int> & <int> & <int> & <int> & <int> & <int> & <int> & <int>\\\\\n",
       "\\hline\n",
       "\t2 & GP & F & 17 & U & GT3 & T & 1 & 1 & at\\_home & other    & ... & 5 & 3 & 3 & 1 & 1 & 3 &  4 &  5 &  5 &  6\\\\\n",
       "\t3 & GP & F & 15 & U & LE3 & T & 1 & 1 & at\\_home & other    & ... & 4 & 3 & 2 & 2 & 3 & 3 & 10 &  7 &  8 & 10\\\\\n",
       "\t4 & GP & F & 15 & U & GT3 & T & 4 & 2 & health  & services & ... & 3 & 2 & 2 & 1 & 1 & 5 &  2 & 15 & 14 & 15\\\\\n",
       "\t5 & GP & F & 16 & U & GT3 & T & 3 & 3 & other   & other    & ... & 4 & 3 & 2 & 1 & 2 & 5 &  4 &  6 & 10 & 10\\\\\n",
       "\\end{tabular}\n"
      ],
      "text/markdown": [
       "\n",
       "A data.frame: 4 × 33\n",
       "\n",
       "| <!--/--> | school &lt;chr&gt; | sex &lt;chr&gt; | age &lt;int&gt; | address &lt;chr&gt; | famsize &lt;chr&gt; | Pstatus &lt;chr&gt; | Medu &lt;int&gt; | Fedu &lt;int&gt; | Mjob &lt;chr&gt; | Fjob &lt;chr&gt; | ... ... | famrel &lt;int&gt; | freetime &lt;int&gt; | goout &lt;int&gt; | Dalc &lt;int&gt; | Walc &lt;int&gt; | health &lt;int&gt; | absences &lt;int&gt; | G1 &lt;int&gt; | G2 &lt;int&gt; | G3 &lt;int&gt; |\n",
       "|---|---|---|---|---|---|---|---|---|---|---|---|---|---|---|---|---|---|---|---|---|---|\n",
       "| 2 | GP | F | 17 | U | GT3 | T | 1 | 1 | at_home | other    | ... | 5 | 3 | 3 | 1 | 1 | 3 |  4 |  5 |  5 |  6 |\n",
       "| 3 | GP | F | 15 | U | LE3 | T | 1 | 1 | at_home | other    | ... | 4 | 3 | 2 | 2 | 3 | 3 | 10 |  7 |  8 | 10 |\n",
       "| 4 | GP | F | 15 | U | GT3 | T | 4 | 2 | health  | services | ... | 3 | 2 | 2 | 1 | 1 | 5 |  2 | 15 | 14 | 15 |\n",
       "| 5 | GP | F | 16 | U | GT3 | T | 3 | 3 | other   | other    | ... | 4 | 3 | 2 | 1 | 2 | 5 |  4 |  6 | 10 | 10 |\n",
       "\n"
      ],
      "text/plain": [
       "  school sex age address famsize Pstatus Medu Fedu Mjob    Fjob     ... famrel\n",
       "2 GP     F   17  U       GT3     T       1    1    at_home other    ... 5     \n",
       "3 GP     F   15  U       LE3     T       1    1    at_home other    ... 4     \n",
       "4 GP     F   15  U       GT3     T       4    2    health  services ... 3     \n",
       "5 GP     F   16  U       GT3     T       3    3    other   other    ... 4     \n",
       "  freetime goout Dalc Walc health absences G1 G2 G3\n",
       "2 3        3     1    1    3       4        5  5  6\n",
       "3 3        2     2    3    3      10        7  8 10\n",
       "4 2        2     1    1    5       2       15 14 15\n",
       "5 3        2     1    2    5       4        6 10 10"
      ]
     },
     "metadata": {},
     "output_type": "display_data"
    }
   ],
   "source": [
    "score[2:5,]"
   ]
  },
  {
   "cell_type": "code",
   "execution_count": 74,
   "metadata": {},
   "outputs": [
    {
     "name": "stdout",
     "output_type": "stream",
     "text": [
      "[1]  5  8 14 10\n"
     ]
    }
   ],
   "source": [
    "print(score[2:5, 32])"
   ]
  },
  {
   "cell_type": "code",
   "execution_count": 75,
   "metadata": {},
   "outputs": [
    {
     "name": "stdout",
     "output_type": "stream",
     "text": [
      "[1] \"integer\"\n"
     ]
    }
   ],
   "source": [
    "print(class(score[2:5, 32]))"
   ]
  },
  {
   "cell_type": "code",
   "execution_count": 76,
   "metadata": {},
   "outputs": [
    {
     "name": "stdout",
     "output_type": "stream",
     "text": [
      "  G2\n",
      "2  5\n",
      "3  8\n",
      "4 14\n",
      "5 10\n"
     ]
    }
   ],
   "source": [
    "print(score[2:5, 32, drop=FALSE])"
   ]
  },
  {
   "cell_type": "code",
   "execution_count": 77,
   "metadata": {},
   "outputs": [
    {
     "name": "stdout",
     "output_type": "stream",
     "text": [
      "[1] \"data.frame\"\n"
     ]
    }
   ],
   "source": [
    "print(class(score[2:5, 32, drop=FALSE]))"
   ]
  },
  {
   "cell_type": "markdown",
   "metadata": {},
   "source": [
    "筛选"
   ]
  },
  {
   "cell_type": "code",
   "execution_count": 78,
   "metadata": {},
   "outputs": [
    {
     "data": {
      "text/html": [
       "<table>\n",
       "<caption>A data.frame: 11 × 33</caption>\n",
       "<thead>\n",
       "\t<tr><th></th><th scope=col>school</th><th scope=col>sex</th><th scope=col>age</th><th scope=col>address</th><th scope=col>famsize</th><th scope=col>Pstatus</th><th scope=col>Medu</th><th scope=col>Fedu</th><th scope=col>Mjob</th><th scope=col>Fjob</th><th scope=col>...</th><th scope=col>famrel</th><th scope=col>freetime</th><th scope=col>goout</th><th scope=col>Dalc</th><th scope=col>Walc</th><th scope=col>health</th><th scope=col>absences</th><th scope=col>G1</th><th scope=col>G2</th><th scope=col>G3</th></tr>\n",
       "\t<tr><th></th><th scope=col>&lt;chr&gt;</th><th scope=col>&lt;chr&gt;</th><th scope=col>&lt;int&gt;</th><th scope=col>&lt;chr&gt;</th><th scope=col>&lt;chr&gt;</th><th scope=col>&lt;chr&gt;</th><th scope=col>&lt;int&gt;</th><th scope=col>&lt;int&gt;</th><th scope=col>&lt;chr&gt;</th><th scope=col>&lt;chr&gt;</th><th scope=col>...</th><th scope=col>&lt;int&gt;</th><th scope=col>&lt;int&gt;</th><th scope=col>&lt;int&gt;</th><th scope=col>&lt;int&gt;</th><th scope=col>&lt;int&gt;</th><th scope=col>&lt;int&gt;</th><th scope=col>&lt;int&gt;</th><th scope=col>&lt;int&gt;</th><th scope=col>&lt;int&gt;</th><th scope=col>&lt;int&gt;</th></tr>\n",
       "</thead>\n",
       "<tbody>\n",
       "\t<tr><th scope=row>43</th><td>GP</td><td>M</td><td>15</td><td>U</td><td>GT3</td><td>T</td><td>4</td><td>4</td><td>services</td><td>teacher </td><td>...</td><td>4</td><td>3</td><td>3</td><td>1</td><td>1</td><td>5</td><td> 2</td><td>19</td><td>18</td><td>18</td></tr>\n",
       "\t<tr><th scope=row>48</th><td>GP</td><td>M</td><td>16</td><td>U</td><td>GT3</td><td>T</td><td>4</td><td>3</td><td>health  </td><td>services</td><td>...</td><td>4</td><td>2</td><td>2</td><td>1</td><td>1</td><td>2</td><td> 4</td><td>19</td><td>19</td><td>20</td></tr>\n",
       "\t<tr><th scope=row>111</th><td>GP</td><td>M</td><td>15</td><td>U</td><td>LE3</td><td>A</td><td>4</td><td>4</td><td>teacher </td><td>teacher </td><td>...</td><td>5</td><td>5</td><td>3</td><td>1</td><td>1</td><td>4</td><td> 6</td><td>18</td><td>19</td><td>19</td></tr>\n",
       "\t<tr><th scope=row>114</th><td>GP</td><td>M</td><td>15</td><td>U</td><td>LE3</td><td>T</td><td>4</td><td>2</td><td>teacher </td><td>other   </td><td>...</td><td>3</td><td>5</td><td>2</td><td>1</td><td>1</td><td>3</td><td>10</td><td>18</td><td>19</td><td>19</td></tr>\n",
       "\t<tr><th scope=row>130</th><td>GP</td><td>M</td><td>16</td><td>R</td><td>GT3</td><td>T</td><td>4</td><td>4</td><td>teacher </td><td>teacher </td><td>...</td><td>3</td><td>5</td><td>5</td><td>2</td><td>5</td><td>4</td><td> 8</td><td>18</td><td>18</td><td>18</td></tr>\n",
       "\t<tr><th scope=row>199</th><td>GP</td><td>F</td><td>17</td><td>U</td><td>GT3</td><td>T</td><td>4</td><td>4</td><td>services</td><td>teacher </td><td>...</td><td>4</td><td>2</td><td>4</td><td>2</td><td>3</td><td>2</td><td>24</td><td>18</td><td>18</td><td>18</td></tr>\n",
       "\t<tr><th scope=row>246</th><td>GP</td><td>M</td><td>16</td><td>U</td><td>GT3</td><td>T</td><td>2</td><td>1</td><td>other   </td><td>other   </td><td>...</td><td>4</td><td>3</td><td>3</td><td>1</td><td>1</td><td>4</td><td> 6</td><td>18</td><td>18</td><td>18</td></tr>\n",
       "\t<tr><th scope=row>287</th><td>GP</td><td>F</td><td>18</td><td>U</td><td>GT3</td><td>T</td><td>2</td><td>2</td><td>at_home </td><td>at_home </td><td>...</td><td>4</td><td>3</td><td>3</td><td>1</td><td>2</td><td>2</td><td> 5</td><td>18</td><td>18</td><td>19</td></tr>\n",
       "\t<tr><th scope=row>294</th><td>GP</td><td>F</td><td>17</td><td>R</td><td>LE3</td><td>T</td><td>3</td><td>1</td><td>services</td><td>other   </td><td>...</td><td>3</td><td>1</td><td>2</td><td>1</td><td>1</td><td>3</td><td> 6</td><td>18</td><td>18</td><td>18</td></tr>\n",
       "\t<tr><th scope=row>360</th><td>MS</td><td>F</td><td>18</td><td>U</td><td>LE3</td><td>T</td><td>1</td><td>1</td><td>at_home </td><td>services</td><td>...</td><td>5</td><td>3</td><td>2</td><td>1</td><td>1</td><td>4</td><td> 0</td><td>18</td><td>16</td><td>16</td></tr>\n",
       "\t<tr><th scope=row>375</th><td>MS</td><td>F</td><td>18</td><td>R</td><td>LE3</td><td>T</td><td>4</td><td>4</td><td>other   </td><td>other   </td><td>...</td><td>5</td><td>4</td><td>4</td><td>1</td><td>1</td><td>1</td><td> 0</td><td>19</td><td>18</td><td>19</td></tr>\n",
       "</tbody>\n",
       "</table>\n"
      ],
      "text/latex": [
       "A data.frame: 11 × 33\n",
       "\\begin{tabular}{r|lllllllllllllllllllll}\n",
       "  & school & sex & age & address & famsize & Pstatus & Medu & Fedu & Mjob & Fjob & ... & famrel & freetime & goout & Dalc & Walc & health & absences & G1 & G2 & G3\\\\\n",
       "  & <chr> & <chr> & <int> & <chr> & <chr> & <chr> & <int> & <int> & <chr> & <chr> & ... & <int> & <int> & <int> & <int> & <int> & <int> & <int> & <int> & <int> & <int>\\\\\n",
       "\\hline\n",
       "\t43 & GP & M & 15 & U & GT3 & T & 4 & 4 & services & teacher  & ... & 4 & 3 & 3 & 1 & 1 & 5 &  2 & 19 & 18 & 18\\\\\n",
       "\t48 & GP & M & 16 & U & GT3 & T & 4 & 3 & health   & services & ... & 4 & 2 & 2 & 1 & 1 & 2 &  4 & 19 & 19 & 20\\\\\n",
       "\t111 & GP & M & 15 & U & LE3 & A & 4 & 4 & teacher  & teacher  & ... & 5 & 5 & 3 & 1 & 1 & 4 &  6 & 18 & 19 & 19\\\\\n",
       "\t114 & GP & M & 15 & U & LE3 & T & 4 & 2 & teacher  & other    & ... & 3 & 5 & 2 & 1 & 1 & 3 & 10 & 18 & 19 & 19\\\\\n",
       "\t130 & GP & M & 16 & R & GT3 & T & 4 & 4 & teacher  & teacher  & ... & 3 & 5 & 5 & 2 & 5 & 4 &  8 & 18 & 18 & 18\\\\\n",
       "\t199 & GP & F & 17 & U & GT3 & T & 4 & 4 & services & teacher  & ... & 4 & 2 & 4 & 2 & 3 & 2 & 24 & 18 & 18 & 18\\\\\n",
       "\t246 & GP & M & 16 & U & GT3 & T & 2 & 1 & other    & other    & ... & 4 & 3 & 3 & 1 & 1 & 4 &  6 & 18 & 18 & 18\\\\\n",
       "\t287 & GP & F & 18 & U & GT3 & T & 2 & 2 & at\\_home  & at\\_home  & ... & 4 & 3 & 3 & 1 & 2 & 2 &  5 & 18 & 18 & 19\\\\\n",
       "\t294 & GP & F & 17 & R & LE3 & T & 3 & 1 & services & other    & ... & 3 & 1 & 2 & 1 & 1 & 3 &  6 & 18 & 18 & 18\\\\\n",
       "\t360 & MS & F & 18 & U & LE3 & T & 1 & 1 & at\\_home  & services & ... & 5 & 3 & 2 & 1 & 1 & 4 &  0 & 18 & 16 & 16\\\\\n",
       "\t375 & MS & F & 18 & R & LE3 & T & 4 & 4 & other    & other    & ... & 5 & 4 & 4 & 1 & 1 & 1 &  0 & 19 & 18 & 19\\\\\n",
       "\\end{tabular}\n"
      ],
      "text/markdown": [
       "\n",
       "A data.frame: 11 × 33\n",
       "\n",
       "| <!--/--> | school &lt;chr&gt; | sex &lt;chr&gt; | age &lt;int&gt; | address &lt;chr&gt; | famsize &lt;chr&gt; | Pstatus &lt;chr&gt; | Medu &lt;int&gt; | Fedu &lt;int&gt; | Mjob &lt;chr&gt; | Fjob &lt;chr&gt; | ... ... | famrel &lt;int&gt; | freetime &lt;int&gt; | goout &lt;int&gt; | Dalc &lt;int&gt; | Walc &lt;int&gt; | health &lt;int&gt; | absences &lt;int&gt; | G1 &lt;int&gt; | G2 &lt;int&gt; | G3 &lt;int&gt; |\n",
       "|---|---|---|---|---|---|---|---|---|---|---|---|---|---|---|---|---|---|---|---|---|---|\n",
       "| 43 | GP | M | 15 | U | GT3 | T | 4 | 4 | services | teacher  | ... | 4 | 3 | 3 | 1 | 1 | 5 |  2 | 19 | 18 | 18 |\n",
       "| 48 | GP | M | 16 | U | GT3 | T | 4 | 3 | health   | services | ... | 4 | 2 | 2 | 1 | 1 | 2 |  4 | 19 | 19 | 20 |\n",
       "| 111 | GP | M | 15 | U | LE3 | A | 4 | 4 | teacher  | teacher  | ... | 5 | 5 | 3 | 1 | 1 | 4 |  6 | 18 | 19 | 19 |\n",
       "| 114 | GP | M | 15 | U | LE3 | T | 4 | 2 | teacher  | other    | ... | 3 | 5 | 2 | 1 | 1 | 3 | 10 | 18 | 19 | 19 |\n",
       "| 130 | GP | M | 16 | R | GT3 | T | 4 | 4 | teacher  | teacher  | ... | 3 | 5 | 5 | 2 | 5 | 4 |  8 | 18 | 18 | 18 |\n",
       "| 199 | GP | F | 17 | U | GT3 | T | 4 | 4 | services | teacher  | ... | 4 | 2 | 4 | 2 | 3 | 2 | 24 | 18 | 18 | 18 |\n",
       "| 246 | GP | M | 16 | U | GT3 | T | 2 | 1 | other    | other    | ... | 4 | 3 | 3 | 1 | 1 | 4 |  6 | 18 | 18 | 18 |\n",
       "| 287 | GP | F | 18 | U | GT3 | T | 2 | 2 | at_home  | at_home  | ... | 4 | 3 | 3 | 1 | 2 | 2 |  5 | 18 | 18 | 19 |\n",
       "| 294 | GP | F | 17 | R | LE3 | T | 3 | 1 | services | other    | ... | 3 | 1 | 2 | 1 | 1 | 3 |  6 | 18 | 18 | 18 |\n",
       "| 360 | MS | F | 18 | U | LE3 | T | 1 | 1 | at_home  | services | ... | 5 | 3 | 2 | 1 | 1 | 4 |  0 | 18 | 16 | 16 |\n",
       "| 375 | MS | F | 18 | R | LE3 | T | 4 | 4 | other    | other    | ... | 5 | 4 | 4 | 1 | 1 | 1 |  0 | 19 | 18 | 19 |\n",
       "\n"
      ],
      "text/plain": [
       "    school sex age address famsize Pstatus Medu Fedu Mjob     Fjob     ...\n",
       "43  GP     M   15  U       GT3     T       4    4    services teacher  ...\n",
       "48  GP     M   16  U       GT3     T       4    3    health   services ...\n",
       "111 GP     M   15  U       LE3     A       4    4    teacher  teacher  ...\n",
       "114 GP     M   15  U       LE3     T       4    2    teacher  other    ...\n",
       "130 GP     M   16  R       GT3     T       4    4    teacher  teacher  ...\n",
       "199 GP     F   17  U       GT3     T       4    4    services teacher  ...\n",
       "246 GP     M   16  U       GT3     T       2    1    other    other    ...\n",
       "287 GP     F   18  U       GT3     T       2    2    at_home  at_home  ...\n",
       "294 GP     F   17  R       LE3     T       3    1    services other    ...\n",
       "360 MS     F   18  U       LE3     T       1    1    at_home  services ...\n",
       "375 MS     F   18  R       LE3     T       4    4    other    other    ...\n",
       "    famrel freetime goout Dalc Walc health absences G1 G2 G3\n",
       "43  4      3        3     1    1    5       2       19 18 18\n",
       "48  4      2        2     1    1    2       4       19 19 20\n",
       "111 5      5        3     1    1    4       6       18 19 19\n",
       "114 3      5        2     1    1    3      10       18 19 19\n",
       "130 3      5        5     2    5    4       8       18 18 18\n",
       "199 4      2        4     2    3    2      24       18 18 18\n",
       "246 4      3        3     1    1    4       6       18 18 18\n",
       "287 4      3        3     1    2    2       5       18 18 19\n",
       "294 3      1        2     1    1    3       6       18 18 18\n",
       "360 5      3        2     1    1    4       0       18 16 16\n",
       "375 5      4        4     1    1    1       0       19 18 19"
      ]
     },
     "metadata": {},
     "output_type": "display_data"
    }
   ],
   "source": [
    "score[score$G1 > 17,]"
   ]
  },
  {
   "cell_type": "markdown",
   "metadata": {},
   "source": [
    "### 处理缺失值\n",
    "\n",
    "R 会尽量处理缺失数据，但有些时候需要指定 `na.rm=TRUE` 告诉函数忽略缺失值"
   ]
  },
  {
   "cell_type": "code",
   "execution_count": 79,
   "metadata": {},
   "outputs": [
    {
     "name": "stdout",
     "output_type": "stream",
     "text": [
      "[1] NA\n"
     ]
    }
   ],
   "source": [
    "x <- c(2, NA, 4)\n",
    "print(mean(x))"
   ]
  },
  {
   "cell_type": "code",
   "execution_count": 80,
   "metadata": {},
   "outputs": [
    {
     "name": "stdout",
     "output_type": "stream",
     "text": [
      "[1] 3\n"
     ]
    }
   ],
   "source": [
    "print(mean(x, na.rm=TRUE))"
   ]
  },
  {
   "cell_type": "markdown",
   "metadata": {},
   "source": [
    "`subset()` 函数会自动忽略缺失值"
   ]
  },
  {
   "cell_type": "code",
   "execution_count": 81,
   "metadata": {},
   "outputs": [
    {
     "data": {
      "text/html": [
       "<table>\n",
       "<caption>A data.frame: 11 × 33</caption>\n",
       "<thead>\n",
       "\t<tr><th></th><th scope=col>school</th><th scope=col>sex</th><th scope=col>age</th><th scope=col>address</th><th scope=col>famsize</th><th scope=col>Pstatus</th><th scope=col>Medu</th><th scope=col>Fedu</th><th scope=col>Mjob</th><th scope=col>Fjob</th><th scope=col>...</th><th scope=col>famrel</th><th scope=col>freetime</th><th scope=col>goout</th><th scope=col>Dalc</th><th scope=col>Walc</th><th scope=col>health</th><th scope=col>absences</th><th scope=col>G1</th><th scope=col>G2</th><th scope=col>G3</th></tr>\n",
       "\t<tr><th></th><th scope=col>&lt;chr&gt;</th><th scope=col>&lt;chr&gt;</th><th scope=col>&lt;int&gt;</th><th scope=col>&lt;chr&gt;</th><th scope=col>&lt;chr&gt;</th><th scope=col>&lt;chr&gt;</th><th scope=col>&lt;int&gt;</th><th scope=col>&lt;int&gt;</th><th scope=col>&lt;chr&gt;</th><th scope=col>&lt;chr&gt;</th><th scope=col>...</th><th scope=col>&lt;int&gt;</th><th scope=col>&lt;int&gt;</th><th scope=col>&lt;int&gt;</th><th scope=col>&lt;int&gt;</th><th scope=col>&lt;int&gt;</th><th scope=col>&lt;int&gt;</th><th scope=col>&lt;int&gt;</th><th scope=col>&lt;int&gt;</th><th scope=col>&lt;int&gt;</th><th scope=col>&lt;int&gt;</th></tr>\n",
       "</thead>\n",
       "<tbody>\n",
       "\t<tr><th scope=row>43</th><td>GP</td><td>M</td><td>15</td><td>U</td><td>GT3</td><td>T</td><td>4</td><td>4</td><td>services</td><td>teacher </td><td>...</td><td>4</td><td>3</td><td>3</td><td>1</td><td>1</td><td>5</td><td> 2</td><td>19</td><td>18</td><td>18</td></tr>\n",
       "\t<tr><th scope=row>48</th><td>GP</td><td>M</td><td>16</td><td>U</td><td>GT3</td><td>T</td><td>4</td><td>3</td><td>health  </td><td>services</td><td>...</td><td>4</td><td>2</td><td>2</td><td>1</td><td>1</td><td>2</td><td> 4</td><td>19</td><td>19</td><td>20</td></tr>\n",
       "\t<tr><th scope=row>111</th><td>GP</td><td>M</td><td>15</td><td>U</td><td>LE3</td><td>A</td><td>4</td><td>4</td><td>teacher </td><td>teacher </td><td>...</td><td>5</td><td>5</td><td>3</td><td>1</td><td>1</td><td>4</td><td> 6</td><td>18</td><td>19</td><td>19</td></tr>\n",
       "\t<tr><th scope=row>114</th><td>GP</td><td>M</td><td>15</td><td>U</td><td>LE3</td><td>T</td><td>4</td><td>2</td><td>teacher </td><td>other   </td><td>...</td><td>3</td><td>5</td><td>2</td><td>1</td><td>1</td><td>3</td><td>10</td><td>18</td><td>19</td><td>19</td></tr>\n",
       "\t<tr><th scope=row>130</th><td>GP</td><td>M</td><td>16</td><td>R</td><td>GT3</td><td>T</td><td>4</td><td>4</td><td>teacher </td><td>teacher </td><td>...</td><td>3</td><td>5</td><td>5</td><td>2</td><td>5</td><td>4</td><td> 8</td><td>18</td><td>18</td><td>18</td></tr>\n",
       "\t<tr><th scope=row>199</th><td>GP</td><td>F</td><td>17</td><td>U</td><td>GT3</td><td>T</td><td>4</td><td>4</td><td>services</td><td>teacher </td><td>...</td><td>4</td><td>2</td><td>4</td><td>2</td><td>3</td><td>2</td><td>24</td><td>18</td><td>18</td><td>18</td></tr>\n",
       "\t<tr><th scope=row>246</th><td>GP</td><td>M</td><td>16</td><td>U</td><td>GT3</td><td>T</td><td>2</td><td>1</td><td>other   </td><td>other   </td><td>...</td><td>4</td><td>3</td><td>3</td><td>1</td><td>1</td><td>4</td><td> 6</td><td>18</td><td>18</td><td>18</td></tr>\n",
       "\t<tr><th scope=row>287</th><td>GP</td><td>F</td><td>18</td><td>U</td><td>GT3</td><td>T</td><td>2</td><td>2</td><td>at_home </td><td>at_home </td><td>...</td><td>4</td><td>3</td><td>3</td><td>1</td><td>2</td><td>2</td><td> 5</td><td>18</td><td>18</td><td>19</td></tr>\n",
       "\t<tr><th scope=row>294</th><td>GP</td><td>F</td><td>17</td><td>R</td><td>LE3</td><td>T</td><td>3</td><td>1</td><td>services</td><td>other   </td><td>...</td><td>3</td><td>1</td><td>2</td><td>1</td><td>1</td><td>3</td><td> 6</td><td>18</td><td>18</td><td>18</td></tr>\n",
       "\t<tr><th scope=row>360</th><td>MS</td><td>F</td><td>18</td><td>U</td><td>LE3</td><td>T</td><td>1</td><td>1</td><td>at_home </td><td>services</td><td>...</td><td>5</td><td>3</td><td>2</td><td>1</td><td>1</td><td>4</td><td> 0</td><td>18</td><td>16</td><td>16</td></tr>\n",
       "\t<tr><th scope=row>375</th><td>MS</td><td>F</td><td>18</td><td>R</td><td>LE3</td><td>T</td><td>4</td><td>4</td><td>other   </td><td>other   </td><td>...</td><td>5</td><td>4</td><td>4</td><td>1</td><td>1</td><td>1</td><td> 0</td><td>19</td><td>18</td><td>19</td></tr>\n",
       "</tbody>\n",
       "</table>\n"
      ],
      "text/latex": [
       "A data.frame: 11 × 33\n",
       "\\begin{tabular}{r|lllllllllllllllllllll}\n",
       "  & school & sex & age & address & famsize & Pstatus & Medu & Fedu & Mjob & Fjob & ... & famrel & freetime & goout & Dalc & Walc & health & absences & G1 & G2 & G3\\\\\n",
       "  & <chr> & <chr> & <int> & <chr> & <chr> & <chr> & <int> & <int> & <chr> & <chr> & ... & <int> & <int> & <int> & <int> & <int> & <int> & <int> & <int> & <int> & <int>\\\\\n",
       "\\hline\n",
       "\t43 & GP & M & 15 & U & GT3 & T & 4 & 4 & services & teacher  & ... & 4 & 3 & 3 & 1 & 1 & 5 &  2 & 19 & 18 & 18\\\\\n",
       "\t48 & GP & M & 16 & U & GT3 & T & 4 & 3 & health   & services & ... & 4 & 2 & 2 & 1 & 1 & 2 &  4 & 19 & 19 & 20\\\\\n",
       "\t111 & GP & M & 15 & U & LE3 & A & 4 & 4 & teacher  & teacher  & ... & 5 & 5 & 3 & 1 & 1 & 4 &  6 & 18 & 19 & 19\\\\\n",
       "\t114 & GP & M & 15 & U & LE3 & T & 4 & 2 & teacher  & other    & ... & 3 & 5 & 2 & 1 & 1 & 3 & 10 & 18 & 19 & 19\\\\\n",
       "\t130 & GP & M & 16 & R & GT3 & T & 4 & 4 & teacher  & teacher  & ... & 3 & 5 & 5 & 2 & 5 & 4 &  8 & 18 & 18 & 18\\\\\n",
       "\t199 & GP & F & 17 & U & GT3 & T & 4 & 4 & services & teacher  & ... & 4 & 2 & 4 & 2 & 3 & 2 & 24 & 18 & 18 & 18\\\\\n",
       "\t246 & GP & M & 16 & U & GT3 & T & 2 & 1 & other    & other    & ... & 4 & 3 & 3 & 1 & 1 & 4 &  6 & 18 & 18 & 18\\\\\n",
       "\t287 & GP & F & 18 & U & GT3 & T & 2 & 2 & at\\_home  & at\\_home  & ... & 4 & 3 & 3 & 1 & 2 & 2 &  5 & 18 & 18 & 19\\\\\n",
       "\t294 & GP & F & 17 & R & LE3 & T & 3 & 1 & services & other    & ... & 3 & 1 & 2 & 1 & 1 & 3 &  6 & 18 & 18 & 18\\\\\n",
       "\t360 & MS & F & 18 & U & LE3 & T & 1 & 1 & at\\_home  & services & ... & 5 & 3 & 2 & 1 & 1 & 4 &  0 & 18 & 16 & 16\\\\\n",
       "\t375 & MS & F & 18 & R & LE3 & T & 4 & 4 & other    & other    & ... & 5 & 4 & 4 & 1 & 1 & 1 &  0 & 19 & 18 & 19\\\\\n",
       "\\end{tabular}\n"
      ],
      "text/markdown": [
       "\n",
       "A data.frame: 11 × 33\n",
       "\n",
       "| <!--/--> | school &lt;chr&gt; | sex &lt;chr&gt; | age &lt;int&gt; | address &lt;chr&gt; | famsize &lt;chr&gt; | Pstatus &lt;chr&gt; | Medu &lt;int&gt; | Fedu &lt;int&gt; | Mjob &lt;chr&gt; | Fjob &lt;chr&gt; | ... ... | famrel &lt;int&gt; | freetime &lt;int&gt; | goout &lt;int&gt; | Dalc &lt;int&gt; | Walc &lt;int&gt; | health &lt;int&gt; | absences &lt;int&gt; | G1 &lt;int&gt; | G2 &lt;int&gt; | G3 &lt;int&gt; |\n",
       "|---|---|---|---|---|---|---|---|---|---|---|---|---|---|---|---|---|---|---|---|---|---|\n",
       "| 43 | GP | M | 15 | U | GT3 | T | 4 | 4 | services | teacher  | ... | 4 | 3 | 3 | 1 | 1 | 5 |  2 | 19 | 18 | 18 |\n",
       "| 48 | GP | M | 16 | U | GT3 | T | 4 | 3 | health   | services | ... | 4 | 2 | 2 | 1 | 1 | 2 |  4 | 19 | 19 | 20 |\n",
       "| 111 | GP | M | 15 | U | LE3 | A | 4 | 4 | teacher  | teacher  | ... | 5 | 5 | 3 | 1 | 1 | 4 |  6 | 18 | 19 | 19 |\n",
       "| 114 | GP | M | 15 | U | LE3 | T | 4 | 2 | teacher  | other    | ... | 3 | 5 | 2 | 1 | 1 | 3 | 10 | 18 | 19 | 19 |\n",
       "| 130 | GP | M | 16 | R | GT3 | T | 4 | 4 | teacher  | teacher  | ... | 3 | 5 | 5 | 2 | 5 | 4 |  8 | 18 | 18 | 18 |\n",
       "| 199 | GP | F | 17 | U | GT3 | T | 4 | 4 | services | teacher  | ... | 4 | 2 | 4 | 2 | 3 | 2 | 24 | 18 | 18 | 18 |\n",
       "| 246 | GP | M | 16 | U | GT3 | T | 2 | 1 | other    | other    | ... | 4 | 3 | 3 | 1 | 1 | 4 |  6 | 18 | 18 | 18 |\n",
       "| 287 | GP | F | 18 | U | GT3 | T | 2 | 2 | at_home  | at_home  | ... | 4 | 3 | 3 | 1 | 2 | 2 |  5 | 18 | 18 | 19 |\n",
       "| 294 | GP | F | 17 | R | LE3 | T | 3 | 1 | services | other    | ... | 3 | 1 | 2 | 1 | 1 | 3 |  6 | 18 | 18 | 18 |\n",
       "| 360 | MS | F | 18 | U | LE3 | T | 1 | 1 | at_home  | services | ... | 5 | 3 | 2 | 1 | 1 | 4 |  0 | 18 | 16 | 16 |\n",
       "| 375 | MS | F | 18 | R | LE3 | T | 4 | 4 | other    | other    | ... | 5 | 4 | 4 | 1 | 1 | 1 |  0 | 19 | 18 | 19 |\n",
       "\n"
      ],
      "text/plain": [
       "    school sex age address famsize Pstatus Medu Fedu Mjob     Fjob     ...\n",
       "43  GP     M   15  U       GT3     T       4    4    services teacher  ...\n",
       "48  GP     M   16  U       GT3     T       4    3    health   services ...\n",
       "111 GP     M   15  U       LE3     A       4    4    teacher  teacher  ...\n",
       "114 GP     M   15  U       LE3     T       4    2    teacher  other    ...\n",
       "130 GP     M   16  R       GT3     T       4    4    teacher  teacher  ...\n",
       "199 GP     F   17  U       GT3     T       4    4    services teacher  ...\n",
       "246 GP     M   16  U       GT3     T       2    1    other    other    ...\n",
       "287 GP     F   18  U       GT3     T       2    2    at_home  at_home  ...\n",
       "294 GP     F   17  R       LE3     T       3    1    services other    ...\n",
       "360 MS     F   18  U       LE3     T       1    1    at_home  services ...\n",
       "375 MS     F   18  R       LE3     T       4    4    other    other    ...\n",
       "    famrel freetime goout Dalc Walc health absences G1 G2 G3\n",
       "43  4      3        3     1    1    5       2       19 18 18\n",
       "48  4      2        2     1    1    2       4       19 19 20\n",
       "111 5      5        3     1    1    4       6       18 19 19\n",
       "114 3      5        2     1    1    3      10       18 19 19\n",
       "130 3      5        5     2    5    4       8       18 18 18\n",
       "199 4      2        4     2    3    2      24       18 18 18\n",
       "246 4      3        3     1    1    4       6       18 18 18\n",
       "287 4      3        3     1    2    2       5       18 18 19\n",
       "294 3      1        2     1    1    3       6       18 18 18\n",
       "360 5      3        2     1    1    4       0       18 16 16\n",
       "375 5      4        4     1    1    1       0       19 18 19"
      ]
     },
     "metadata": {},
     "output_type": "display_data"
    }
   ],
   "source": [
    "subset(score, G1>17)"
   ]
  },
  {
   "cell_type": "markdown",
   "metadata": {},
   "source": [
    "`complete.cases()` 去掉含有缺失值的观测"
   ]
  },
  {
   "cell_type": "code",
   "execution_count": 82,
   "metadata": {},
   "outputs": [
    {
     "name": "stdout",
     "output_type": "stream",
     "text": [
      "     kids states\n",
      "1    Jack     CA\n",
      "2    <NA>     MA\n",
      "3 Jillian     MA\n",
      "4    John   <NA>\n"
     ]
    }
   ],
   "source": [
    "kids <- c(\"Jack\", NA, \"Jillian\", \"John\")\n",
    "states <- c(\"CA\", \"MA\", \"MA\", NA)\n",
    "d4 <- data.frame(\n",
    "    kids,\n",
    "    states,\n",
    "    stringsAsFactors=FALSE\n",
    ")\n",
    "print(d4)"
   ]
  },
  {
   "cell_type": "code",
   "execution_count": 83,
   "metadata": {},
   "outputs": [
    {
     "name": "stdout",
     "output_type": "stream",
     "text": [
      "[1]  TRUE FALSE  TRUE FALSE\n"
     ]
    }
   ],
   "source": [
    "print(complete.cases(d4))"
   ]
  },
  {
   "cell_type": "code",
   "execution_count": 84,
   "metadata": {},
   "outputs": [
    {
     "name": "stdout",
     "output_type": "stream",
     "text": [
      "     kids states\n",
      "1    Jack     CA\n",
      "3 Jillian     MA\n"
     ]
    }
   ],
   "source": [
    "d5 <- d4[complete.cases(d4),]\n",
    "print(d5)"
   ]
  },
  {
   "cell_type": "markdown",
   "metadata": {},
   "source": [
    "### 使用 `rbind()` 和 `cbind()` 等函数\n",
    "\n",
    "两个数据框必须有相同的行数或列数\n",
    "\n",
    "`rbind()` 添加新行时，添加的行通常是数据框或列表"
   ]
  },
  {
   "cell_type": "code",
   "execution_count": 85,
   "metadata": {},
   "outputs": [
    {
     "name": "stdout",
     "output_type": "stream",
     "text": [
      "  kids ages\n",
      "1 Jack   12\n",
      "2 Jill   10\n"
     ]
    }
   ],
   "source": [
    "print(d)"
   ]
  },
  {
   "cell_type": "code",
   "execution_count": 86,
   "metadata": {},
   "outputs": [
    {
     "name": "stdout",
     "output_type": "stream",
     "text": [
      "   kids ages\n",
      "1  Jack   12\n",
      "2  Jill   10\n",
      "3 Laura   19\n"
     ]
    }
   ],
   "source": [
    "print(rbind(\n",
    "    d, \n",
    "    list(\"Laura\", 19)\n",
    "))"
   ]
  },
  {
   "cell_type": "markdown",
   "metadata": {},
   "source": [
    "使用原有列创建新列"
   ]
  },
  {
   "cell_type": "code",
   "execution_count": 22,
   "metadata": {},
   "outputs": [
    {
     "name": "stdout",
     "output_type": "stream",
     "text": [
      "[1] \"data.frame\"\n"
     ]
    }
   ],
   "source": [
    "eq <- cbind(\n",
    "    score,\n",
    "    score$G2 - score$G1\n",
    ")\n",
    "print(class(eq))"
   ]
  },
  {
   "cell_type": "code",
   "execution_count": 87,
   "metadata": {},
   "outputs": [
    {
     "data": {
      "text/html": [
       "<table>\n",
       "<caption>A data.frame: 6 × 34</caption>\n",
       "<thead>\n",
       "\t<tr><th></th><th scope=col>school</th><th scope=col>sex</th><th scope=col>age</th><th scope=col>address</th><th scope=col>famsize</th><th scope=col>Pstatus</th><th scope=col>Medu</th><th scope=col>Fedu</th><th scope=col>Mjob</th><th scope=col>Fjob</th><th scope=col>...</th><th scope=col>freetime</th><th scope=col>goout</th><th scope=col>Dalc</th><th scope=col>Walc</th><th scope=col>health</th><th scope=col>absences</th><th scope=col>G1</th><th scope=col>G2</th><th scope=col>G3</th><th scope=col>score$G2 - score$G1</th></tr>\n",
       "\t<tr><th></th><th scope=col>&lt;chr&gt;</th><th scope=col>&lt;chr&gt;</th><th scope=col>&lt;int&gt;</th><th scope=col>&lt;chr&gt;</th><th scope=col>&lt;chr&gt;</th><th scope=col>&lt;chr&gt;</th><th scope=col>&lt;int&gt;</th><th scope=col>&lt;int&gt;</th><th scope=col>&lt;chr&gt;</th><th scope=col>&lt;chr&gt;</th><th scope=col>...</th><th scope=col>&lt;int&gt;</th><th scope=col>&lt;int&gt;</th><th scope=col>&lt;int&gt;</th><th scope=col>&lt;int&gt;</th><th scope=col>&lt;int&gt;</th><th scope=col>&lt;int&gt;</th><th scope=col>&lt;int&gt;</th><th scope=col>&lt;int&gt;</th><th scope=col>&lt;int&gt;</th><th scope=col>&lt;int&gt;</th></tr>\n",
       "</thead>\n",
       "<tbody>\n",
       "\t<tr><th scope=row>1</th><td>GP</td><td>F</td><td>18</td><td>U</td><td>GT3</td><td>A</td><td>4</td><td>4</td><td>at_home </td><td>teacher </td><td>...</td><td>3</td><td>4</td><td>1</td><td>1</td><td>3</td><td> 6</td><td> 5</td><td> 6</td><td> 6</td><td> 1</td></tr>\n",
       "\t<tr><th scope=row>2</th><td>GP</td><td>F</td><td>17</td><td>U</td><td>GT3</td><td>T</td><td>1</td><td>1</td><td>at_home </td><td>other   </td><td>...</td><td>3</td><td>3</td><td>1</td><td>1</td><td>3</td><td> 4</td><td> 5</td><td> 5</td><td> 6</td><td> 0</td></tr>\n",
       "\t<tr><th scope=row>3</th><td>GP</td><td>F</td><td>15</td><td>U</td><td>LE3</td><td>T</td><td>1</td><td>1</td><td>at_home </td><td>other   </td><td>...</td><td>3</td><td>2</td><td>2</td><td>3</td><td>3</td><td>10</td><td> 7</td><td> 8</td><td>10</td><td> 1</td></tr>\n",
       "\t<tr><th scope=row>4</th><td>GP</td><td>F</td><td>15</td><td>U</td><td>GT3</td><td>T</td><td>4</td><td>2</td><td>health  </td><td>services</td><td>...</td><td>2</td><td>2</td><td>1</td><td>1</td><td>5</td><td> 2</td><td>15</td><td>14</td><td>15</td><td>-1</td></tr>\n",
       "\t<tr><th scope=row>5</th><td>GP</td><td>F</td><td>16</td><td>U</td><td>GT3</td><td>T</td><td>3</td><td>3</td><td>other   </td><td>other   </td><td>...</td><td>3</td><td>2</td><td>1</td><td>2</td><td>5</td><td> 4</td><td> 6</td><td>10</td><td>10</td><td> 4</td></tr>\n",
       "\t<tr><th scope=row>6</th><td>GP</td><td>M</td><td>16</td><td>U</td><td>LE3</td><td>T</td><td>4</td><td>3</td><td>services</td><td>other   </td><td>...</td><td>4</td><td>2</td><td>1</td><td>2</td><td>5</td><td>10</td><td>15</td><td>15</td><td>15</td><td> 0</td></tr>\n",
       "</tbody>\n",
       "</table>\n"
      ],
      "text/latex": [
       "A data.frame: 6 × 34\n",
       "\\begin{tabular}{r|lllllllllllllllllllll}\n",
       "  & school & sex & age & address & famsize & Pstatus & Medu & Fedu & Mjob & Fjob & ... & freetime & goout & Dalc & Walc & health & absences & G1 & G2 & G3 & score\\$G2 - score\\$G1\\\\\n",
       "  & <chr> & <chr> & <int> & <chr> & <chr> & <chr> & <int> & <int> & <chr> & <chr> & ... & <int> & <int> & <int> & <int> & <int> & <int> & <int> & <int> & <int> & <int>\\\\\n",
       "\\hline\n",
       "\t1 & GP & F & 18 & U & GT3 & A & 4 & 4 & at\\_home  & teacher  & ... & 3 & 4 & 1 & 1 & 3 &  6 &  5 &  6 &  6 &  1\\\\\n",
       "\t2 & GP & F & 17 & U & GT3 & T & 1 & 1 & at\\_home  & other    & ... & 3 & 3 & 1 & 1 & 3 &  4 &  5 &  5 &  6 &  0\\\\\n",
       "\t3 & GP & F & 15 & U & LE3 & T & 1 & 1 & at\\_home  & other    & ... & 3 & 2 & 2 & 3 & 3 & 10 &  7 &  8 & 10 &  1\\\\\n",
       "\t4 & GP & F & 15 & U & GT3 & T & 4 & 2 & health   & services & ... & 2 & 2 & 1 & 1 & 5 &  2 & 15 & 14 & 15 & -1\\\\\n",
       "\t5 & GP & F & 16 & U & GT3 & T & 3 & 3 & other    & other    & ... & 3 & 2 & 1 & 2 & 5 &  4 &  6 & 10 & 10 &  4\\\\\n",
       "\t6 & GP & M & 16 & U & LE3 & T & 4 & 3 & services & other    & ... & 4 & 2 & 1 & 2 & 5 & 10 & 15 & 15 & 15 &  0\\\\\n",
       "\\end{tabular}\n"
      ],
      "text/markdown": [
       "\n",
       "A data.frame: 6 × 34\n",
       "\n",
       "| <!--/--> | school &lt;chr&gt; | sex &lt;chr&gt; | age &lt;int&gt; | address &lt;chr&gt; | famsize &lt;chr&gt; | Pstatus &lt;chr&gt; | Medu &lt;int&gt; | Fedu &lt;int&gt; | Mjob &lt;chr&gt; | Fjob &lt;chr&gt; | ... ... | freetime &lt;int&gt; | goout &lt;int&gt; | Dalc &lt;int&gt; | Walc &lt;int&gt; | health &lt;int&gt; | absences &lt;int&gt; | G1 &lt;int&gt; | G2 &lt;int&gt; | G3 &lt;int&gt; | score$G2 - score$G1 &lt;int&gt; |\n",
       "|---|---|---|---|---|---|---|---|---|---|---|---|---|---|---|---|---|---|---|---|---|---|\n",
       "| 1 | GP | F | 18 | U | GT3 | A | 4 | 4 | at_home  | teacher  | ... | 3 | 4 | 1 | 1 | 3 |  6 |  5 |  6 |  6 |  1 |\n",
       "| 2 | GP | F | 17 | U | GT3 | T | 1 | 1 | at_home  | other    | ... | 3 | 3 | 1 | 1 | 3 |  4 |  5 |  5 |  6 |  0 |\n",
       "| 3 | GP | F | 15 | U | LE3 | T | 1 | 1 | at_home  | other    | ... | 3 | 2 | 2 | 3 | 3 | 10 |  7 |  8 | 10 |  1 |\n",
       "| 4 | GP | F | 15 | U | GT3 | T | 4 | 2 | health   | services | ... | 2 | 2 | 1 | 1 | 5 |  2 | 15 | 14 | 15 | -1 |\n",
       "| 5 | GP | F | 16 | U | GT3 | T | 3 | 3 | other    | other    | ... | 3 | 2 | 1 | 2 | 5 |  4 |  6 | 10 | 10 |  4 |\n",
       "| 6 | GP | M | 16 | U | LE3 | T | 4 | 3 | services | other    | ... | 4 | 2 | 1 | 2 | 5 | 10 | 15 | 15 | 15 |  0 |\n",
       "\n"
      ],
      "text/plain": [
       "  school sex age address famsize Pstatus Medu Fedu Mjob     Fjob     ...\n",
       "1 GP     F   18  U       GT3     A       4    4    at_home  teacher  ...\n",
       "2 GP     F   17  U       GT3     T       1    1    at_home  other    ...\n",
       "3 GP     F   15  U       LE3     T       1    1    at_home  other    ...\n",
       "4 GP     F   15  U       GT3     T       4    2    health   services ...\n",
       "5 GP     F   16  U       GT3     T       3    3    other    other    ...\n",
       "6 GP     M   16  U       LE3     T       4    3    services other    ...\n",
       "  freetime goout Dalc Walc health absences G1 G2 G3 score$G2 - score$G1\n",
       "1 3        4     1    1    3       6        5  6  6  1                 \n",
       "2 3        3     1    1    3       4        5  5  6  0                 \n",
       "3 3        2     2    3    3      10        7  8 10  1                 \n",
       "4 2        2     1    1    5       2       15 14 15 -1                 \n",
       "5 3        2     1    2    5       4        6 10 10  4                 \n",
       "6 4        2     1    2    5      10       15 15 15  0                 "
      ]
     },
     "metadata": {},
     "output_type": "display_data"
    }
   ],
   "source": [
    "head(eq)"
   ]
  },
  {
   "cell_type": "markdown",
   "metadata": {},
   "source": [
    "使用数据框的列表属性，增加新列"
   ]
  },
  {
   "cell_type": "code",
   "execution_count": 24,
   "metadata": {},
   "outputs": [
    {
     "data": {
      "text/html": [
       "<table>\n",
       "<caption>A data.frame: 6 × 34</caption>\n",
       "<thead>\n",
       "\t<tr><th></th><th scope=col>school</th><th scope=col>sex</th><th scope=col>age</th><th scope=col>address</th><th scope=col>famsize</th><th scope=col>Pstatus</th><th scope=col>Medu</th><th scope=col>Fedu</th><th scope=col>Mjob</th><th scope=col>Fjob</th><th scope=col>...</th><th scope=col>freetime</th><th scope=col>goout</th><th scope=col>Dalc</th><th scope=col>Walc</th><th scope=col>health</th><th scope=col>absences</th><th scope=col>G1</th><th scope=col>G2</th><th scope=col>G3</th><th scope=col>GDiff</th></tr>\n",
       "\t<tr><th></th><th scope=col>&lt;chr&gt;</th><th scope=col>&lt;chr&gt;</th><th scope=col>&lt;int&gt;</th><th scope=col>&lt;chr&gt;</th><th scope=col>&lt;chr&gt;</th><th scope=col>&lt;chr&gt;</th><th scope=col>&lt;int&gt;</th><th scope=col>&lt;int&gt;</th><th scope=col>&lt;chr&gt;</th><th scope=col>&lt;chr&gt;</th><th scope=col>...</th><th scope=col>&lt;int&gt;</th><th scope=col>&lt;int&gt;</th><th scope=col>&lt;int&gt;</th><th scope=col>&lt;int&gt;</th><th scope=col>&lt;int&gt;</th><th scope=col>&lt;int&gt;</th><th scope=col>&lt;int&gt;</th><th scope=col>&lt;int&gt;</th><th scope=col>&lt;int&gt;</th><th scope=col>&lt;int&gt;</th></tr>\n",
       "</thead>\n",
       "<tbody>\n",
       "\t<tr><th scope=row>1</th><td>GP</td><td>F</td><td>18</td><td>U</td><td>GT3</td><td>A</td><td>4</td><td>4</td><td>at_home </td><td>teacher </td><td>...</td><td>3</td><td>4</td><td>1</td><td>1</td><td>3</td><td> 6</td><td> 5</td><td> 6</td><td> 6</td><td> 1</td></tr>\n",
       "\t<tr><th scope=row>2</th><td>GP</td><td>F</td><td>17</td><td>U</td><td>GT3</td><td>T</td><td>1</td><td>1</td><td>at_home </td><td>other   </td><td>...</td><td>3</td><td>3</td><td>1</td><td>1</td><td>3</td><td> 4</td><td> 5</td><td> 5</td><td> 6</td><td> 0</td></tr>\n",
       "\t<tr><th scope=row>3</th><td>GP</td><td>F</td><td>15</td><td>U</td><td>LE3</td><td>T</td><td>1</td><td>1</td><td>at_home </td><td>other   </td><td>...</td><td>3</td><td>2</td><td>2</td><td>3</td><td>3</td><td>10</td><td> 7</td><td> 8</td><td>10</td><td> 1</td></tr>\n",
       "\t<tr><th scope=row>4</th><td>GP</td><td>F</td><td>15</td><td>U</td><td>GT3</td><td>T</td><td>4</td><td>2</td><td>health  </td><td>services</td><td>...</td><td>2</td><td>2</td><td>1</td><td>1</td><td>5</td><td> 2</td><td>15</td><td>14</td><td>15</td><td>-1</td></tr>\n",
       "\t<tr><th scope=row>5</th><td>GP</td><td>F</td><td>16</td><td>U</td><td>GT3</td><td>T</td><td>3</td><td>3</td><td>other   </td><td>other   </td><td>...</td><td>3</td><td>2</td><td>1</td><td>2</td><td>5</td><td> 4</td><td> 6</td><td>10</td><td>10</td><td> 4</td></tr>\n",
       "\t<tr><th scope=row>6</th><td>GP</td><td>M</td><td>16</td><td>U</td><td>LE3</td><td>T</td><td>4</td><td>3</td><td>services</td><td>other   </td><td>...</td><td>4</td><td>2</td><td>1</td><td>2</td><td>5</td><td>10</td><td>15</td><td>15</td><td>15</td><td> 0</td></tr>\n",
       "</tbody>\n",
       "</table>\n"
      ],
      "text/latex": [
       "A data.frame: 6 × 34\n",
       "\\begin{tabular}{r|lllllllllllllllllllll}\n",
       "  & school & sex & age & address & famsize & Pstatus & Medu & Fedu & Mjob & Fjob & ... & freetime & goout & Dalc & Walc & health & absences & G1 & G2 & G3 & GDiff\\\\\n",
       "  & <chr> & <chr> & <int> & <chr> & <chr> & <chr> & <int> & <int> & <chr> & <chr> & ... & <int> & <int> & <int> & <int> & <int> & <int> & <int> & <int> & <int> & <int>\\\\\n",
       "\\hline\n",
       "\t1 & GP & F & 18 & U & GT3 & A & 4 & 4 & at\\_home  & teacher  & ... & 3 & 4 & 1 & 1 & 3 &  6 &  5 &  6 &  6 &  1\\\\\n",
       "\t2 & GP & F & 17 & U & GT3 & T & 1 & 1 & at\\_home  & other    & ... & 3 & 3 & 1 & 1 & 3 &  4 &  5 &  5 &  6 &  0\\\\\n",
       "\t3 & GP & F & 15 & U & LE3 & T & 1 & 1 & at\\_home  & other    & ... & 3 & 2 & 2 & 3 & 3 & 10 &  7 &  8 & 10 &  1\\\\\n",
       "\t4 & GP & F & 15 & U & GT3 & T & 4 & 2 & health   & services & ... & 2 & 2 & 1 & 1 & 5 &  2 & 15 & 14 & 15 & -1\\\\\n",
       "\t5 & GP & F & 16 & U & GT3 & T & 3 & 3 & other    & other    & ... & 3 & 2 & 1 & 2 & 5 &  4 &  6 & 10 & 10 &  4\\\\\n",
       "\t6 & GP & M & 16 & U & LE3 & T & 4 & 3 & services & other    & ... & 4 & 2 & 1 & 2 & 5 & 10 & 15 & 15 & 15 &  0\\\\\n",
       "\\end{tabular}\n"
      ],
      "text/markdown": [
       "\n",
       "A data.frame: 6 × 34\n",
       "\n",
       "| <!--/--> | school &lt;chr&gt; | sex &lt;chr&gt; | age &lt;int&gt; | address &lt;chr&gt; | famsize &lt;chr&gt; | Pstatus &lt;chr&gt; | Medu &lt;int&gt; | Fedu &lt;int&gt; | Mjob &lt;chr&gt; | Fjob &lt;chr&gt; | ... ... | freetime &lt;int&gt; | goout &lt;int&gt; | Dalc &lt;int&gt; | Walc &lt;int&gt; | health &lt;int&gt; | absences &lt;int&gt; | G1 &lt;int&gt; | G2 &lt;int&gt; | G3 &lt;int&gt; | GDiff &lt;int&gt; |\n",
       "|---|---|---|---|---|---|---|---|---|---|---|---|---|---|---|---|---|---|---|---|---|---|\n",
       "| 1 | GP | F | 18 | U | GT3 | A | 4 | 4 | at_home  | teacher  | ... | 3 | 4 | 1 | 1 | 3 |  6 |  5 |  6 |  6 |  1 |\n",
       "| 2 | GP | F | 17 | U | GT3 | T | 1 | 1 | at_home  | other    | ... | 3 | 3 | 1 | 1 | 3 |  4 |  5 |  5 |  6 |  0 |\n",
       "| 3 | GP | F | 15 | U | LE3 | T | 1 | 1 | at_home  | other    | ... | 3 | 2 | 2 | 3 | 3 | 10 |  7 |  8 | 10 |  1 |\n",
       "| 4 | GP | F | 15 | U | GT3 | T | 4 | 2 | health   | services | ... | 2 | 2 | 1 | 1 | 5 |  2 | 15 | 14 | 15 | -1 |\n",
       "| 5 | GP | F | 16 | U | GT3 | T | 3 | 3 | other    | other    | ... | 3 | 2 | 1 | 2 | 5 |  4 |  6 | 10 | 10 |  4 |\n",
       "| 6 | GP | M | 16 | U | LE3 | T | 4 | 3 | services | other    | ... | 4 | 2 | 1 | 2 | 5 | 10 | 15 | 15 | 15 |  0 |\n",
       "\n"
      ],
      "text/plain": [
       "  school sex age address famsize Pstatus Medu Fedu Mjob     Fjob     ...\n",
       "1 GP     F   18  U       GT3     A       4    4    at_home  teacher  ...\n",
       "2 GP     F   17  U       GT3     T       1    1    at_home  other    ...\n",
       "3 GP     F   15  U       LE3     T       1    1    at_home  other    ...\n",
       "4 GP     F   15  U       GT3     T       4    2    health   services ...\n",
       "5 GP     F   16  U       GT3     T       3    3    other    other    ...\n",
       "6 GP     M   16  U       LE3     T       4    3    services other    ...\n",
       "  freetime goout Dalc Walc health absences G1 G2 G3 GDiff\n",
       "1 3        4     1    1    3       6        5  6  6  1   \n",
       "2 3        3     1    1    3       4        5  5  6  0   \n",
       "3 3        2     2    3    3      10        7  8 10  1   \n",
       "4 2        2     1    1    5       2       15 14 15 -1   \n",
       "5 3        2     1    2    5       4        6 10 10  4   \n",
       "6 4        2     1    2    5      10       15 15 15  0   "
      ]
     },
     "metadata": {},
     "output_type": "display_data"
    }
   ],
   "source": [
    "score$GDiff <- score$G2 - score$G1\n",
    "head(score)"
   ]
  },
  {
   "cell_type": "markdown",
   "metadata": {},
   "source": [
    "属性方式添加新列也支持循环补齐"
   ]
  },
  {
   "cell_type": "code",
   "execution_count": 88,
   "metadata": {},
   "outputs": [
    {
     "name": "stdout",
     "output_type": "stream",
     "text": [
      "  kids ages\n",
      "1 Jack   12\n",
      "2 Jill   10\n"
     ]
    }
   ],
   "source": [
    "print(d)"
   ]
  },
  {
   "cell_type": "code",
   "execution_count": 89,
   "metadata": {},
   "outputs": [
    {
     "name": "stdout",
     "output_type": "stream",
     "text": [
      "  kids ages ones\n",
      "1 Jack   12    1\n",
      "2 Jill   10    1\n"
     ]
    }
   ],
   "source": [
    "d$ones <- 1\n",
    "print(d)"
   ]
  },
  {
   "cell_type": "markdown",
   "metadata": {},
   "source": [
    "### 使用 `apply()`\n",
    "\n",
    "如果数据框中的每一列数据类型相同，可以使用 `apply()` 函数"
   ]
  },
  {
   "cell_type": "code",
   "execution_count": 90,
   "metadata": {},
   "outputs": [
    {
     "name": "stdout",
     "output_type": "stream",
     "text": [
      "  G1 G2 G3\n",
      "1  5  6  6\n",
      "2  5  5  6\n",
      "3  7  8 10\n",
      "4 15 14 15\n",
      "5  6 10 10\n",
      "6 15 15 15\n"
     ]
    }
   ],
   "source": [
    "exam <- score[,31:33]\n",
    "print(head(exam))"
   ]
  },
  {
   "cell_type": "code",
   "execution_count": 28,
   "metadata": {},
   "outputs": [
    {
     "name": "stdout",
     "output_type": "stream",
     "text": [
      "  [1]  6  6 10 15 10 15 12  6 19 15 10 12 14 11 16 14 14 10  6 10 15 15 16 13 10\n",
      " [26]  9 12 16 11 12 12 17 17 12 15  8 18 16 12 14 11 12 19 11 10  8 12 20 15  7\n",
      " [51] 13 13 11 11 13 10 15 15 10 16 11 11 10 10 10 16 13  7  9 16 15 10  8 14 12\n",
      " [76] 10 11 11 10  5 12 11  7 15 10  9  8 14 11  8  8 18  7 11 14 10 15 10 14  9\n",
      "[101]  7 17 14  7 18 11  8 18 13 16 19 10 13 19  9 16 14 14  9 14 16 16 13 14  8\n",
      "[126] 13 11  9  7 18 12  8 13 12  9 11 10  4 14 16  9  9 11 14  5 11  7 11  7 10\n",
      "[151]  6 14 10  5 12 11 16 10 17 12  7  9  7 10  8 12 10 16  7 14  6 16 13  8 11\n",
      "[176] 10 13  6 10 11  9 13 17  9 13 12 12 15  9 10 13  9  8 10 14 15 17 10 18 10\n",
      "[201] 16 10 10  7 11 10  7 13 10  7  8 13 14  8 10 15  6  8  8 10  6  6 17 13 14\n",
      "[226]  9 16 12 10 12 14 11 11 14  9 11 14 13 13  7 12 12  6 13  7 18 13  8  5 15\n",
      "[251]  8 10  9  9 12  9 14 11 15 10 18  8 13 10 10 17 10 12 10  6  9 15 11 15 10\n",
      "[276] 12 10  9  9 11  8 11 12 10 11 12 19 13 15 15 12 15 13 18 14 14 10 10 14 16\n",
      "[301] 12 11 15 18 15 14 18  9 15 12  9 14 13 13 15 13  8 10 11 11 13 11 11 15 16\n",
      "[326] 12 16 11 10 14  9 14  7  8 10 16 14  8 17 10 12 10 16  9 11 14 16 10 15 13\n",
      "[351]  8 13  8  8 13 10 13 12 10 18 13 13 11 16 12 10 13  7 11 14  9 14 13  6 19\n",
      "[376] 10 15 10 15 10 15  7 11  6  6 10  6  7  9  6  9 16 10 12  9\n"
     ]
    }
   ],
   "source": [
    "print(apply(exam, 1, max))"
   ]
  },
  {
   "cell_type": "markdown",
   "metadata": {},
   "source": [
    "### 扩展案例：工资研究"
   ]
  },
  {
   "cell_type": "code",
   "execution_count": 29,
   "metadata": {},
   "outputs": [
    {
     "data": {
      "text/html": [
       "<table>\n",
       "<caption>A data.frame: 6 × 24</caption>\n",
       "<thead>\n",
       "\t<tr><th></th><th scope=col>Case_No</th><th scope=col>Processing_Center</th><th scope=col>Final_Case_Status</th><th scope=col>Received_Date</th><th scope=col>Certified_Date</th><th scope=col>Denied_Date</th><th scope=col>Employer_Name</th><th scope=col>Employer_Address_1</th><th scope=col>Employer_Address_2</th><th scope=col>Employer_City</th><th scope=col>...</th><th scope=col>Wage_Offered_From</th><th scope=col>Wage_Offered_To</th><th scope=col>Wage_Per</th><th scope=col>Prevailing_Wage_Job_Title</th><th scope=col>Prevailing_Wage_Amount</th><th scope=col>Prevailing_Wage_Level</th><th scope=col>Prevailing_Wage_SOC_CODE</th><th scope=col>Prevailing_Wage_SOC_Title</th><th scope=col>Prevailing_Wage_Source</th><th scope=col>Prevailing_Wage_Other_Source</th></tr>\n",
       "\t<tr><th></th><th scope=col>&lt;chr&gt;</th><th scope=col>&lt;chr&gt;</th><th scope=col>&lt;chr&gt;</th><th scope=col>&lt;chr&gt;</th><th scope=col>&lt;lgl&gt;</th><th scope=col>&lt;chr&gt;</th><th scope=col>&lt;chr&gt;</th><th scope=col>&lt;chr&gt;</th><th scope=col>&lt;chr&gt;</th><th scope=col>&lt;chr&gt;</th><th scope=col>...</th><th scope=col>&lt;dbl&gt;</th><th scope=col>&lt;dbl&gt;</th><th scope=col>&lt;chr&gt;</th><th scope=col>&lt;chr&gt;</th><th scope=col>&lt;dbl&gt;</th><th scope=col>&lt;chr&gt;</th><th scope=col>&lt;chr&gt;</th><th scope=col>&lt;chr&gt;</th><th scope=col>&lt;chr&gt;</th><th scope=col>&lt;chr&gt;</th></tr>\n",
       "</thead>\n",
       "<tbody>\n",
       "\t<tr><th scope=row>1</th><td>A-05243-28497</td><td>Atlanta Processing Center</td><td>Denied</td><td>10/1/2005 0:00:00</td><td>NA</td><td>10/1/2005 10:00:32</td><td>QAMAR UL ZAMAN, MD                         </td><td>1035 RICHWOOD AVENUE</td><td>          </td><td>CUMBERLAND   </td><td>...</td><td>178000.00</td><td>NA</td><td>Year</td><td>Physician                           </td><td>163800.00</td><td>Level III</td><td>29-1062.00</td><td>Family and General Practitioners      </td><td>OES  </td><td>                          </td></tr>\n",
       "\t<tr><th scope=row>2</th><td>A-05275-38245</td><td>Atlanta Processing Center</td><td>Denied</td><td>10/2/2005 0:00:00</td><td>NA</td><td>10/2/2005 2:48:59 </td><td>HYGIA INDUSTRIES, INC.                     </td><td>BOX 25              </td><td>          </td><td>TALLMAN      </td><td>...</td><td>    29.52</td><td>NA</td><td>Year</td><td>COMPUTER PROGRAMMER                 </td><td>    29.52</td><td>Level II </td><td>15-1021.00</td><td>Computer Programmers                  </td><td>OES  </td><td>                          </td></tr>\n",
       "\t<tr><th scope=row>3</th><td>A-05263-34450</td><td>Atlanta Processing Center</td><td>Denied</td><td>10/2/2005 0:00:00</td><td>NA</td><td>10/2/2005 3:49:09 </td><td>TRI-SEASON LANDSCAPE &amp; BOULDER COUNTRUCTION</td><td><span style=white-space:pre-wrap>2260 SUNRISE COURT  </span></td><td><span style=white-space:pre-wrap>          </span></td><td>SCOTCH PLAINS</td><td>...</td><td><span style=white-space:pre-wrap>    13.35</span></td><td>NA</td><td>Hour</td><td>LANDSCAPING &amp; GROUNDSKEEPING WORKERS</td><td><span style=white-space:pre-wrap>    13.35</span></td><td>Level IV </td><td>37-3011.00</td><td>Landscaping and Groundskeeping Workers</td><td><span style=white-space:pre-wrap>OES  </span></td><td><span style=white-space:pre-wrap>                          </span></td></tr>\n",
       "\t<tr><th scope=row>4</th><td>A-05273-38122</td><td>Atlanta Processing Center</td><td>Denied</td><td>10/2/2005 0:00:00</td><td>NA</td><td>10/2/2005 9:50:15 </td><td>NIPPON EXPRESS USA                         </td><td>590 MADISON AVE.    </td><td>SUITE 2401</td><td>NEW YORK     </td><td>...</td><td> 62000.00</td><td>NA</td><td>Year</td><td>Senior Logistics Coordinator        </td><td> 61818.00</td><td>Level II </td><td>11-3071.01</td><td>Transportation Managers               </td><td>OES  </td><td>                          </td></tr>\n",
       "\t<tr><th scope=row>5</th><td>C-05265-35535</td><td>Chicago Processing Center</td><td>Denied</td><td>10/2/2005 0:00:00</td><td>NA</td><td>10/2/2005 12:35:50</td><td>VERNON FAIRCHILD JR.                       </td><td>4297 NORTH 1400 EAST</td><td>          </td><td>BUHL         </td><td>...</td><td>     1.70</td><td>NA</td><td>Hour</td><td>Sheep Shearer-Crew Leader           </td><td>     8.69</td><td>Level I  </td><td>45-2093.00</td><td>Farmworkers, Farm and Ranch Animals   </td><td>Other</td><td>Prevailing Wage Specialist</td></tr>\n",
       "\t<tr><th scope=row>6</th><td>C-05275-38256</td><td>Chicago Processing Center</td><td>Denied</td><td>10/2/2005 0:00:00</td><td>NA</td><td>10/2/2005 13:51:05</td><td>VERNON FAIRCHILD JR.                       </td><td>4297 NORTH 1400 EAST</td><td>          </td><td>BUHL         </td><td>...</td><td>     1.70</td><td>NA</td><td>Hour</td><td>Sheep Shearer-Crew Leader           </td><td>     8.69</td><td>Level I  </td><td>45-2093.00</td><td>Farmworkers, Farm and Ranch Animals   </td><td>Other</td><td>prevailig wage specialist </td></tr>\n",
       "</tbody>\n",
       "</table>\n"
      ],
      "text/latex": [
       "A data.frame: 6 × 24\n",
       "\\begin{tabular}{r|lllllllllllllllllllll}\n",
       "  & Case\\_No & Processing\\_Center & Final\\_Case\\_Status & Received\\_Date & Certified\\_Date & Denied\\_Date & Employer\\_Name & Employer\\_Address\\_1 & Employer\\_Address\\_2 & Employer\\_City & ... & Wage\\_Offered\\_From & Wage\\_Offered\\_To & Wage\\_Per & Prevailing\\_Wage\\_Job\\_Title & Prevailing\\_Wage\\_Amount & Prevailing\\_Wage\\_Level & Prevailing\\_Wage\\_SOC\\_CODE & Prevailing\\_Wage\\_SOC\\_Title & Prevailing\\_Wage\\_Source & Prevailing\\_Wage\\_Other\\_Source\\\\\n",
       "  & <chr> & <chr> & <chr> & <chr> & <lgl> & <chr> & <chr> & <chr> & <chr> & <chr> & ... & <dbl> & <dbl> & <chr> & <chr> & <dbl> & <chr> & <chr> & <chr> & <chr> & <chr>\\\\\n",
       "\\hline\n",
       "\t1 & A-05243-28497 & Atlanta Processing Center & Denied & 10/1/2005 0:00:00 & NA & 10/1/2005 10:00:32 & QAMAR UL ZAMAN, MD                          & 1035 RICHWOOD AVENUE &            & CUMBERLAND    & ... & 178000.00 & NA & Year & Physician                            & 163800.00 & Level III & 29-1062.00 & Family and General Practitioners       & OES   &                           \\\\\n",
       "\t2 & A-05275-38245 & Atlanta Processing Center & Denied & 10/2/2005 0:00:00 & NA & 10/2/2005 2:48:59  & HYGIA INDUSTRIES, INC.                      & BOX 25               &            & TALLMAN       & ... &     29.52 & NA & Year & COMPUTER PROGRAMMER                  &     29.52 & Level II  & 15-1021.00 & Computer Programmers                   & OES   &                           \\\\\n",
       "\t3 & A-05263-34450 & Atlanta Processing Center & Denied & 10/2/2005 0:00:00 & NA & 10/2/2005 3:49:09  & TRI-SEASON LANDSCAPE \\& BOULDER COUNTRUCTION & 2260 SUNRISE COURT   &            & SCOTCH PLAINS & ... &     13.35 & NA & Hour & LANDSCAPING \\& GROUNDSKEEPING WORKERS &     13.35 & Level IV  & 37-3011.00 & Landscaping and Groundskeeping Workers & OES   &                           \\\\\n",
       "\t4 & A-05273-38122 & Atlanta Processing Center & Denied & 10/2/2005 0:00:00 & NA & 10/2/2005 9:50:15  & NIPPON EXPRESS USA                          & 590 MADISON AVE.     & SUITE 2401 & NEW YORK      & ... &  62000.00 & NA & Year & Senior Logistics Coordinator         &  61818.00 & Level II  & 11-3071.01 & Transportation Managers                & OES   &                           \\\\\n",
       "\t5 & C-05265-35535 & Chicago Processing Center & Denied & 10/2/2005 0:00:00 & NA & 10/2/2005 12:35:50 & VERNON FAIRCHILD JR.                        & 4297 NORTH 1400 EAST &            & BUHL          & ... &      1.70 & NA & Hour & Sheep Shearer-Crew Leader            &      8.69 & Level I   & 45-2093.00 & Farmworkers, Farm and Ranch Animals    & Other & Prevailing Wage Specialist\\\\\n",
       "\t6 & C-05275-38256 & Chicago Processing Center & Denied & 10/2/2005 0:00:00 & NA & 10/2/2005 13:51:05 & VERNON FAIRCHILD JR.                        & 4297 NORTH 1400 EAST &            & BUHL          & ... &      1.70 & NA & Hour & Sheep Shearer-Crew Leader            &      8.69 & Level I   & 45-2093.00 & Farmworkers, Farm and Ranch Animals    & Other & prevailig wage specialist \\\\\n",
       "\\end{tabular}\n"
      ],
      "text/markdown": [
       "\n",
       "A data.frame: 6 × 24\n",
       "\n",
       "| <!--/--> | Case_No &lt;chr&gt; | Processing_Center &lt;chr&gt; | Final_Case_Status &lt;chr&gt; | Received_Date &lt;chr&gt; | Certified_Date &lt;lgl&gt; | Denied_Date &lt;chr&gt; | Employer_Name &lt;chr&gt; | Employer_Address_1 &lt;chr&gt; | Employer_Address_2 &lt;chr&gt; | Employer_City &lt;chr&gt; | ... ... | Wage_Offered_From &lt;dbl&gt; | Wage_Offered_To &lt;dbl&gt; | Wage_Per &lt;chr&gt; | Prevailing_Wage_Job_Title &lt;chr&gt; | Prevailing_Wage_Amount &lt;dbl&gt; | Prevailing_Wage_Level &lt;chr&gt; | Prevailing_Wage_SOC_CODE &lt;chr&gt; | Prevailing_Wage_SOC_Title &lt;chr&gt; | Prevailing_Wage_Source &lt;chr&gt; | Prevailing_Wage_Other_Source &lt;chr&gt; |\n",
       "|---|---|---|---|---|---|---|---|---|---|---|---|---|---|---|---|---|---|---|---|---|---|\n",
       "| 1 | A-05243-28497 | Atlanta Processing Center | Denied | 10/1/2005 0:00:00 | NA | 10/1/2005 10:00:32 | QAMAR UL ZAMAN, MD                          | 1035 RICHWOOD AVENUE | <!----> | CUMBERLAND    | ... | 178000.00 | NA | Year | Physician                            | 163800.00 | Level III | 29-1062.00 | Family and General Practitioners       | OES   | <!----> |\n",
       "| 2 | A-05275-38245 | Atlanta Processing Center | Denied | 10/2/2005 0:00:00 | NA | 10/2/2005 2:48:59  | HYGIA INDUSTRIES, INC.                      | BOX 25               | <!----> | TALLMAN       | ... |     29.52 | NA | Year | COMPUTER PROGRAMMER                  |     29.52 | Level II  | 15-1021.00 | Computer Programmers                   | OES   | <!----> |\n",
       "| 3 | A-05263-34450 | Atlanta Processing Center | Denied | 10/2/2005 0:00:00 | NA | 10/2/2005 3:49:09  | TRI-SEASON LANDSCAPE &amp; BOULDER COUNTRUCTION | 2260 SUNRISE COURT   | <!----> | SCOTCH PLAINS | ... |     13.35 | NA | Hour | LANDSCAPING &amp; GROUNDSKEEPING WORKERS |     13.35 | Level IV  | 37-3011.00 | Landscaping and Groundskeeping Workers | OES   | <!----> |\n",
       "| 4 | A-05273-38122 | Atlanta Processing Center | Denied | 10/2/2005 0:00:00 | NA | 10/2/2005 9:50:15  | NIPPON EXPRESS USA                          | 590 MADISON AVE.     | SUITE 2401 | NEW YORK      | ... |  62000.00 | NA | Year | Senior Logistics Coordinator         |  61818.00 | Level II  | 11-3071.01 | Transportation Managers                | OES   | <!----> |\n",
       "| 5 | C-05265-35535 | Chicago Processing Center | Denied | 10/2/2005 0:00:00 | NA | 10/2/2005 12:35:50 | VERNON FAIRCHILD JR.                        | 4297 NORTH 1400 EAST | <!----> | BUHL          | ... |      1.70 | NA | Hour | Sheep Shearer-Crew Leader            |      8.69 | Level I   | 45-2093.00 | Farmworkers, Farm and Ranch Animals    | Other | Prevailing Wage Specialist |\n",
       "| 6 | C-05275-38256 | Chicago Processing Center | Denied | 10/2/2005 0:00:00 | NA | 10/2/2005 13:51:05 | VERNON FAIRCHILD JR.                        | 4297 NORTH 1400 EAST | <!----> | BUHL          | ... |      1.70 | NA | Hour | Sheep Shearer-Crew Leader            |      8.69 | Level I   | 45-2093.00 | Farmworkers, Farm and Ranch Animals    | Other | prevailig wage specialist  |\n",
       "\n"
      ],
      "text/plain": [
       "  Case_No       Processing_Center         Final_Case_Status Received_Date    \n",
       "1 A-05243-28497 Atlanta Processing Center Denied            10/1/2005 0:00:00\n",
       "2 A-05275-38245 Atlanta Processing Center Denied            10/2/2005 0:00:00\n",
       "3 A-05263-34450 Atlanta Processing Center Denied            10/2/2005 0:00:00\n",
       "4 A-05273-38122 Atlanta Processing Center Denied            10/2/2005 0:00:00\n",
       "5 C-05265-35535 Chicago Processing Center Denied            10/2/2005 0:00:00\n",
       "6 C-05275-38256 Chicago Processing Center Denied            10/2/2005 0:00:00\n",
       "  Certified_Date Denied_Date        Employer_Name                              \n",
       "1 NA             10/1/2005 10:00:32 QAMAR UL ZAMAN, MD                         \n",
       "2 NA             10/2/2005 2:48:59  HYGIA INDUSTRIES, INC.                     \n",
       "3 NA             10/2/2005 3:49:09  TRI-SEASON LANDSCAPE & BOULDER COUNTRUCTION\n",
       "4 NA             10/2/2005 9:50:15  NIPPON EXPRESS USA                         \n",
       "5 NA             10/2/2005 12:35:50 VERNON FAIRCHILD JR.                       \n",
       "6 NA             10/2/2005 13:51:05 VERNON FAIRCHILD JR.                       \n",
       "  Employer_Address_1   Employer_Address_2 Employer_City ... Wage_Offered_From\n",
       "1 1035 RICHWOOD AVENUE                    CUMBERLAND    ... 178000.00        \n",
       "2 BOX 25                                  TALLMAN       ...     29.52        \n",
       "3 2260 SUNRISE COURT                      SCOTCH PLAINS ...     13.35        \n",
       "4 590 MADISON AVE.     SUITE 2401         NEW YORK      ...  62000.00        \n",
       "5 4297 NORTH 1400 EAST                    BUHL          ...      1.70        \n",
       "6 4297 NORTH 1400 EAST                    BUHL          ...      1.70        \n",
       "  Wage_Offered_To Wage_Per Prevailing_Wage_Job_Title           \n",
       "1 NA              Year     Physician                           \n",
       "2 NA              Year     COMPUTER PROGRAMMER                 \n",
       "3 NA              Hour     LANDSCAPING & GROUNDSKEEPING WORKERS\n",
       "4 NA              Year     Senior Logistics Coordinator        \n",
       "5 NA              Hour     Sheep Shearer-Crew Leader           \n",
       "6 NA              Hour     Sheep Shearer-Crew Leader           \n",
       "  Prevailing_Wage_Amount Prevailing_Wage_Level Prevailing_Wage_SOC_CODE\n",
       "1 163800.00              Level III             29-1062.00              \n",
       "2     29.52              Level II              15-1021.00              \n",
       "3     13.35              Level IV              37-3011.00              \n",
       "4  61818.00              Level II              11-3071.01              \n",
       "5      8.69              Level I               45-2093.00              \n",
       "6      8.69              Level I               45-2093.00              \n",
       "  Prevailing_Wage_SOC_Title              Prevailing_Wage_Source\n",
       "1 Family and General Practitioners       OES                   \n",
       "2 Computer Programmers                   OES                   \n",
       "3 Landscaping and Groundskeeping Workers OES                   \n",
       "4 Transportation Managers                OES                   \n",
       "5 Farmworkers, Farm and Ranch Animals    Other                 \n",
       "6 Farmworkers, Farm and Ranch Animals    Other                 \n",
       "  Prevailing_Wage_Other_Source\n",
       "1                             \n",
       "2                             \n",
       "3                             \n",
       "4                             \n",
       "5 Prevailing Wage Specialist  \n",
       "6 prevailig wage specialist   "
      ]
     },
     "metadata": {},
     "output_type": "display_data"
    }
   ],
   "source": [
    "all2006 <- read.csv(\n",
    "    \"../data/2006.csv.short\",\n",
    "    header=TRUE,\n",
    "    as.is=TRUE\n",
    ")\n",
    "head(all2006)"
   ]
  },
  {
   "cell_type": "markdown",
   "metadata": {},
   "source": [
    "做筛选"
   ]
  },
  {
   "cell_type": "code",
   "execution_count": 30,
   "metadata": {},
   "outputs": [
    {
     "data": {
      "text/html": [
       "<table>\n",
       "<caption>A data.frame: 28 × 24</caption>\n",
       "<thead>\n",
       "\t<tr><th></th><th scope=col>Case_No</th><th scope=col>Processing_Center</th><th scope=col>Final_Case_Status</th><th scope=col>Received_Date</th><th scope=col>Certified_Date</th><th scope=col>Denied_Date</th><th scope=col>Employer_Name</th><th scope=col>Employer_Address_1</th><th scope=col>Employer_Address_2</th><th scope=col>Employer_City</th><th scope=col>...</th><th scope=col>Wage_Offered_From</th><th scope=col>Wage_Offered_To</th><th scope=col>Wage_Per</th><th scope=col>Prevailing_Wage_Job_Title</th><th scope=col>Prevailing_Wage_Amount</th><th scope=col>Prevailing_Wage_Level</th><th scope=col>Prevailing_Wage_SOC_CODE</th><th scope=col>Prevailing_Wage_SOC_Title</th><th scope=col>Prevailing_Wage_Source</th><th scope=col>Prevailing_Wage_Other_Source</th></tr>\n",
       "\t<tr><th></th><th scope=col>&lt;chr&gt;</th><th scope=col>&lt;chr&gt;</th><th scope=col>&lt;chr&gt;</th><th scope=col>&lt;chr&gt;</th><th scope=col>&lt;lgl&gt;</th><th scope=col>&lt;chr&gt;</th><th scope=col>&lt;chr&gt;</th><th scope=col>&lt;chr&gt;</th><th scope=col>&lt;chr&gt;</th><th scope=col>&lt;chr&gt;</th><th scope=col>...</th><th scope=col>&lt;dbl&gt;</th><th scope=col>&lt;dbl&gt;</th><th scope=col>&lt;chr&gt;</th><th scope=col>&lt;chr&gt;</th><th scope=col>&lt;dbl&gt;</th><th scope=col>&lt;chr&gt;</th><th scope=col>&lt;chr&gt;</th><th scope=col>&lt;chr&gt;</th><th scope=col>&lt;chr&gt;</th><th scope=col>&lt;chr&gt;</th></tr>\n",
       "</thead>\n",
       "<tbody>\n",
       "\t<tr><th scope=row>1</th><td>A-05243-28497</td><td>Atlanta Processing Center</td><td>Denied</td><td>10/1/2005 0:00:00 </td><td>NA</td><td>10/1/2005 10:00:32 </td><td>QAMAR UL ZAMAN, MD                               </td><td>1035 RICHWOOD AVENUE                </td><td>          </td><td>CUMBERLAND </td><td>...</td><td>178000.0</td><td>   NA</td><td>Year</td><td>Physician                                         </td><td>163800.0</td><td>Level III</td><td>29-1062.00</td><td>Family and General Practitioners                </td><td>OES               </td><td>                                              </td></tr>\n",
       "\t<tr><th scope=row>4</th><td>A-05273-38122</td><td>Atlanta Processing Center</td><td>Denied</td><td>10/2/2005 0:00:00 </td><td>NA</td><td>10/2/2005 9:50:15  </td><td>NIPPON EXPRESS USA                               </td><td>590 MADISON AVE.                    </td><td>SUITE 2401</td><td>NEW YORK   </td><td>...</td><td> 62000.0</td><td>   NA</td><td>Year</td><td>Senior Logistics Coordinator                      </td><td> 61818.0</td><td>Level II </td><td>11-3071.01</td><td>Transportation Managers                         </td><td>OES               </td><td>                                              </td></tr>\n",
       "\t<tr><th scope=row>11</th><td>C-05276-38323</td><td>Chicago Processing Center</td><td>Denied</td><td>9/19/2005 0:00:00 </td><td>NA</td><td>10/3/2005 8:39:52  </td><td>CALIFORNIA STATE UNIVERSITY, LONG BEACH          </td><td>1250 BELLFLOWER BLVD.               </td><td>          </td><td>LONG BEACH </td><td>...</td><td> 55308.0</td><td>   NA</td><td>Year</td><td>Education Teacher, Postsecondary(Assistant Profess</td><td> 55308.0</td><td>Level II </td><td>25-1081.00</td><td>Education Teachers, Postsecondary               </td><td>OES               </td><td>                                              </td></tr>\n",
       "\t<tr><th scope=row>12</th><td>C-05276-38330</td><td>Chicago Processing Center</td><td>Denied</td><td>9/21/2005 0:00:00 </td><td>NA</td><td>10/3/2005 9:25:03  </td><td>CORPORATE NETWORK SOLUTIONS                      </td><td>5236 S. 40TH STREET                 </td><td>          </td><td>PHOENIX    </td><td>...</td><td> 69000.0</td><td>   NA</td><td>Year</td><td>Senior Network analyst                            </td><td> 68869.0</td><td>Level IV </td><td>15-1081.00</td><td>Network Systems and Data Communications Analysts</td><td>Other             </td><td>SESA - Arizona Department of Economic Security</td></tr>\n",
       "\t<tr><th scope=row>15</th><td>C-05264-35092</td><td>Chicago Processing Center</td><td>Denied</td><td>10/3/2005 0:00:00 </td><td>NA</td><td>10/3/2005 9:40:06  </td><td>THE STONE QUARRY, INC.                           </td><td>11768 CLAY RD.                      </td><td>          </td><td>HOUSTON    </td><td>...</td><td> 60070.0</td><td>62000</td><td>Year</td><td>Stone Industry Specialist                         </td><td> 60070.0</td><td>Level IV </td><td>17-1012.00</td><td>Landscape Architects                            </td><td>OES               </td><td>                                              </td></tr>\n",
       "\t<tr><th scope=row>17</th><td>C-05276-38343</td><td>Chicago Processing Center</td><td>Denied</td><td>9/22/2005 0:00:00 </td><td>NA</td><td>10/3/2005 10:10:14 </td><td>COMMUNITY HOSPITALISTS, LLC                      </td><td>30680 BAINBRIDGE                    </td><td>          </td><td>CLEVELAND  </td><td>...</td><td>123091.0</td><td>   NA</td><td>Year</td><td>Physician, Internal Medicine                      </td><td>123094.0</td><td>         </td><td>29-1063.00</td><td>Internists, General                             </td><td>OES               </td><td>                                              </td></tr>\n",
       "\t<tr><th scope=row>21</th><td>A-05276-38359</td><td>Atlanta Processing Center</td><td>Denied</td><td>9/30/2005 0:00:00 </td><td>NA</td><td>10/3/2005 10:40:17 </td><td>CASTLE MANAGEMENT CORPORATION                    </td><td>3040 STANTON ROAD, S.E.             </td><td>SUITE 101 </td><td>WASHINGTON </td><td>...</td><td> 43000.0</td><td>   NA</td><td>Year</td><td>Computer Support Specialist                       </td><td> 31221.0</td><td>Level I  </td><td>15-1041.00</td><td>Computer Support Specialists                    </td><td>OES               </td><td>                                              </td></tr>\n",
       "\t<tr><th scope=row>22</th><td>A-05250-30387</td><td>Atlanta Processing Center</td><td>Denied</td><td>9/8/2005 0:00:00  </td><td>NA</td><td>10/3/2005 10:54:41 </td><td>CLC OF CHANTILLY                                 </td><td>4460 BROOKFIELD CORP. DRIVE, SUITE P</td><td>          </td><td>CHANTILLY  </td><td>...</td><td> 38334.0</td><td>   NA</td><td>Year</td><td>Electrician                                       </td><td> 38334.0</td><td>Level II </td><td>47-2111.00</td><td>Electricians                                    </td><td>OES               </td><td>                                              </td></tr>\n",
       "\t<tr><th scope=row>25</th><td>C-05257-32561</td><td>Chicago Processing Center</td><td>Denied</td><td>10/3/2005 0:00:00 </td><td>NA</td><td>10/3/2005 11:25:26 </td><td>THE TBS GROUP, INC DBA TECHSYS BUSINESS SOLUTIONS</td><td>6801 GAYLORD PKWY, SUITE 301        </td><td>          </td><td>FRISCO     </td><td>...</td><td> 95000.0</td><td>   NA</td><td>Year</td><td>Software Engineer-Systems                         </td><td> 76170.0</td><td>Level III</td><td>15-1032.00</td><td>Computer Software Engineers, Systems Software   </td><td>OES               </td><td>                                              </td></tr>\n",
       "\t<tr><th scope=row>29</th><td>A-05276-38392</td><td>Atlanta Processing Center</td><td>Denied</td><td>10/3/2005 0:00:00 </td><td>NA</td><td>10/3/2005 11:40:30 </td><td>JPSC INC                                         </td><td>1465 S UNIVERSITY DRIVE             </td><td>          </td><td>PLANTATION </td><td>...</td><td> 30000.0</td><td>50000</td><td>Year</td><td>Assistant Creative Director                       </td><td> 35000.0</td><td>         </td><td>27-1024.00</td><td>Graphic Designers                               </td><td>Employer Conducted</td><td>                                              </td></tr>\n",
       "\t<tr><th scope=row>32</th><td>A-05276-38384</td><td>Atlanta Processing Center</td><td>Denied</td><td>10/3/2005 0:00:00 </td><td>NA</td><td>10/3/2005 11:55:32 </td><td>IT PEOPLE CORPORATION                            </td><td>801 AARON CIRCLE                    </td><td>          </td><td>DURHAM     </td><td>...</td><td> 66810.0</td><td>   NA</td><td>Year</td><td>Computer Software Engineer                        </td><td> 66810.0</td><td>Level II </td><td>15-1032.00</td><td>Computer Software Engineers, Systems Software   </td><td>OES               </td><td>                                              </td></tr>\n",
       "\t<tr><th scope=row>33</th><td>A-05201-15480</td><td>Atlanta Processing Center</td><td>Denied</td><td>8/2/2005 0:00:00  </td><td>NA</td><td>10/3/2005 12:06:52 </td><td>COMPUGRA SYSTEMS,INC                             </td><td>262 CHAPMAN ROAD,                   </td><td>SUITE 102 </td><td>NEWARK     </td><td>...</td><td> 87381.0</td><td>   NA</td><td>Year</td><td>Software Engineer                                 </td><td> 87381.0</td><td>Level II </td><td>15-1031.00</td><td>Computer Software Engineers, Applications       </td><td>OES               </td><td>                                              </td></tr>\n",
       "\t<tr><th scope=row>43</th><td>A-05276-38405</td><td>Atlanta Processing Center</td><td>Denied</td><td>10/3/2005 0:00:00 </td><td>NA</td><td>10/3/2005 12:40:42 </td><td>ITT INDUSTRIES                                   </td><td>1761 BUSINESS CENTER DRIVE          </td><td>          </td><td>RESTON     </td><td>...</td><td> 68578.0</td><td>   NA</td><td>Year</td><td>Computer Scientist                                </td><td> 68578.0</td><td>Level II </td><td>15-1011.00</td><td>Computer and Information Scientists, Research   </td><td>OES               </td><td>                                              </td></tr>\n",
       "\t<tr><th scope=row>44</th><td>C-05276-38438</td><td>Chicago Processing Center</td><td>Denied</td><td>10/3/2005 0:00:00 </td><td>NA</td><td>10/3/2005 12:55:45 </td><td>NETWORK GENERAL CORPORATION                      </td><td>178 E TASMAN DRIVE                  </td><td>          </td><td>SAN JOSE   </td><td>...</td><td> 95127.6</td><td>   NA</td><td>Year</td><td>Software Engineer                                 </td><td> 85196.8</td><td>Level II </td><td>15-1032.00</td><td>Computer Software Engineers, Systems Software   </td><td>OES               </td><td>                                              </td></tr>\n",
       "\t<tr><th scope=row>45</th><td>A-05334-58332</td><td>Atlanta Processing Center</td><td>Denied</td><td>11/23/2005 0:00:00</td><td>NA</td><td>11/30/2005 8:52:59 </td><td>CHURCH OF THE MOST SACRED HEART OF JESUS         </td><td>127 PATERSON AVE.                   </td><td>          </td><td>WALLINGTON </td><td>...</td><td> 22143.0</td><td>   NA</td><td>Year</td><td>Teacher Assistants                                </td><td> 22143.0</td><td>Level III</td><td>25-9041.00</td><td>Teacher Assistants                              </td><td>OES               </td><td>                                              </td></tr>\n",
       "\t<tr><th scope=row>51</th><td>A-05334-58383</td><td>Atlanta Processing Center</td><td>Denied</td><td>11/30/2005 0:00:00</td><td>NA</td><td>11/30/2005 11:23:24</td><td><span style=white-space:pre-wrap>MINTZ, TRUPPMAN, CLEIN, &amp; HIGER                  </span></td><td><span style=white-space:pre-wrap>1700 SANS SOUCI BLVD                </span></td><td><span style=white-space:pre-wrap>          </span></td><td>NORTH MIAMI</td><td>...</td><td> 37000.0</td><td><span style=white-space:pre-wrap>   NA</span></td><td>Year</td><td><span style=white-space:pre-wrap>Marketing Specialist                              </span></td><td> 36795.0</td><td><span style=white-space:pre-wrap>         </span></td><td>27-3031.00</td><td><span style=white-space:pre-wrap>Public Relations Specialists                    </span></td><td><span style=white-space:pre-wrap>Other             </span></td><td><span style=white-space:pre-wrap>State of Florida                              </span></td></tr>\n",
       "\t<tr><th scope=row>54</th><td>A-05334-58413</td><td>Atlanta Processing Center</td><td>Denied</td><td>11/23/2005 0:00:00</td><td>NA</td><td>11/30/2005 11:38:27</td><td>CARD USA, INC                                    </td><td>201 N. OCEAN DRIVE                  </td><td>          </td><td>HOLLYWOOD  </td><td>...</td><td> 58490.0</td><td>58500</td><td>Year</td><td>DIRECTOR OF PROMOTIONAL RESEARCH AND DEVELOPMENT  </td><td> 58490.0</td><td>Level II </td><td>11-2011.00</td><td>Advertising and Promotions Managers             </td><td>OES               </td><td>                                              </td></tr>\n",
       "\t<tr><th scope=row>60</th><td>A-05297-45852</td><td>Atlanta Processing Center</td><td>Denied</td><td>11/2/2005 0:00:00 </td><td>NA</td><td>11/30/2005 12:27:08</td><td>MORGAN STANLEY                                   </td><td>1585 BROADWAY                       </td><td>          </td><td>NEW YORK   </td><td>...</td><td> 86000.0</td><td>   NA</td><td>Year</td><td>Accountants and Auditors                          </td><td> 72904.0</td><td>Level III</td><td>13-2011.00</td><td>Accountants and Auditors                        </td><td>OES               </td><td>                                              </td></tr>\n",
       "\t<tr><th scope=row>61</th><td>A-05213-18736</td><td>Atlanta Processing Center</td><td>Denied</td><td>9/12/2005 0:00:00 </td><td>NA</td><td>11/30/2005 12:44:21</td><td>THE OGILVY GROUP INC                             </td><td>309 WEST 49TH ST                    </td><td>          </td><td>NEW YORK   </td><td>...</td><td>225000.0</td><td>   NA</td><td>Year</td><td>Worldwide Planning Director                       </td><td> 94411.0</td><td>Level II </td><td>11-2011.00</td><td>Advertising and Promotions Managers             </td><td>OES               </td><td>                                              </td></tr>\n",
       "\t<tr><th scope=row>64</th><td>A-05258-33040</td><td>Atlanta Processing Center</td><td>Denied</td><td>9/19/2005 0:00:00 </td><td>NA</td><td>11/30/2005 12:55:59</td><td>C.T. HSU + ASSOCIATES, P.A.                      </td><td>820 IRMA AVENUE                     </td><td>          </td><td>ORLANDO    </td><td>...</td><td> 55848.0</td><td>   NA</td><td>Year</td><td>Project Coordinator                               </td><td> 55848.0</td><td>Level I  </td><td>17-1011.00</td><td>Architects, Except Landscape and Naval          </td><td>OES               </td><td>                                              </td></tr>\n",
       "\t<tr><th scope=row>66</th><td>C-05315-52402</td><td>Chicago Processing Center</td><td>Denied</td><td>11/30/2005 0:00:00</td><td>NA</td><td>11/30/2005 13:23:43</td><td>UNIVERSITY OF LOUISIANA AT MONROE                </td><td>700 UNIVERSITY AVENUE               </td><td>          </td><td>MONROE     </td><td>...</td><td> 45750.0</td><td>   NA</td><td>Year</td><td>Agricultural Sc. Teachers, Postsecond             </td><td> 39850.0</td><td>Level I  </td><td>25-1041.00</td><td>Agricultural Sciences Teachers, Postsecondary   </td><td>OES               </td><td>                                              </td></tr>\n",
       "\t<tr><th scope=row>71</th><td>C-05276-38616</td><td>Chicago Processing Center</td><td>Denied</td><td>11/30/2005 0:00:00</td><td>NA</td><td>11/30/2005 14:23:52</td><td>YOMIWURI, INC.                                   </td><td>1121 MILWAUKEE AVE.                 </td><td>          </td><td>RIVER WOOD </td><td>...</td><td> 25000.0</td><td>   NA</td><td>Year</td><td>Korean Cusine Chef/Foreign Specialty              </td><td> 22860.0</td><td>Level I  </td><td>35-1011.00</td><td>Chefs and Head Cooks                            </td><td>OES               </td><td>                                              </td></tr>\n",
       "\t<tr><th scope=row>76</th><td>A-05334-58499</td><td>Atlanta Processing Center</td><td>Denied</td><td>11/30/2005 0:00:00</td><td>NA</td><td>11/30/2005 14:23:55</td><td>FASTCHANNEL NETWORK, INC.                        </td><td>250 FIRST AVENUE, SUITE 201         </td><td>          </td><td>NEEDHAM    </td><td>...</td><td> 89000.0</td><td>   NA</td><td>Year</td><td>Financial Manager                                 </td><td> 78166.0</td><td>Level II </td><td>11-3031.00</td><td>Financial Managers                              </td><td>OES               </td><td>                                              </td></tr>\n",
       "\t<tr><th scope=row>81</th><td>C-05334-58602</td><td>Chicago Processing Center</td><td>Denied</td><td>11/30/2005 0:00:00</td><td>NA</td><td>11/30/2005 15:09:00</td><td>KEL-GP LLC LEONARD ET AL                         </td><td>659 STEVES AVE.                     </td><td>          </td><td>SAN ANTONIO</td><td>...</td><td> 23816.0</td><td>25400</td><td>Year</td><td>Meat Cutter                                       </td><td> 23816.0</td><td>Level III</td><td>51-3021.00</td><td>Butchers and Meat Cutters                       </td><td>OES               </td><td>                                              </td></tr>\n",
       "\t<tr><th scope=row>83</th><td>A-05327-56796</td><td>Atlanta Processing Center</td><td>Denied</td><td>11/30/2005 0:00:00</td><td>NA</td><td>11/30/2005 15:09:00</td><td>MORGAN STANLEY                                   </td><td>1585 BROADWAY                       </td><td>          </td><td>NEW YORK   </td><td>...</td><td>105000.0</td><td>   NA</td><td>Year</td><td>Financial Analyst                                 </td><td> 73611.0</td><td>Level II </td><td>13-2051.00</td><td>Financial Analysts                              </td><td>OES               </td><td>                                              </td></tr>\n",
       "\t<tr><th scope=row>84</th><td>C-05294-45440</td><td>Chicago Processing Center</td><td>Denied</td><td>11/28/2005 0:00:00</td><td>NA</td><td>11/30/2005 15:09:51</td><td>WOU3, INCORPORATED                               </td><td>2002 156TH AVE. NE, STE. 300        </td><td>          </td><td>BELLEVUE   </td><td>...</td><td> 34466.0</td><td>   NA</td><td>Year</td><td>Computer Support Specialist                       </td><td> 34466.0</td><td>Level I  </td><td>15-1041.00</td><td>Computer Support Specialists                    </td><td>OES               </td><td>                                              </td></tr>\n",
       "\t<tr><th scope=row>88</th><td>A-05304-48148</td><td>Atlanta Processing Center</td><td>Denied</td><td>11/30/2005 0:00:00</td><td>NA</td><td>11/30/2005 15:39:05</td><td>TECHNITROL, INC.                                 </td><td>1210 NORTHBROOK DRIVE               </td><td>SUITE 470 </td><td>TREVOSE    </td><td>...</td><td> 56977.0</td><td>   NA</td><td>Year</td><td>Industrial Engineer                               </td><td> 50128.0</td><td>Level I  </td><td>17-2112.00</td><td>Industrial Engineers                            </td><td>OES               </td><td>                                              </td></tr>\n",
       "\t<tr><th scope=row>90</th><td>C-05311-50776</td><td>Chicago Processing Center</td><td>Denied</td><td>11/30/2005 0:00:00</td><td>NA</td><td>11/30/2005 15:39:06</td><td><span style=white-space:pre-wrap>SUGIMURA &amp; ASSOCIATES ARCHITECTS, INC            </span></td><td><span style=white-space:pre-wrap>2155 S BASCOM AVE., SUITE 200       </span></td><td><span style=white-space:pre-wrap>          </span></td><td><span style=white-space:pre-wrap>CAMPBELL   </span></td><td>...</td><td> 68000.0</td><td><span style=white-space:pre-wrap>   NA</span></td><td>Year</td><td><span style=white-space:pre-wrap>JOB CAPTAIN                                       </span></td><td> 65250.0</td><td>Level II </td><td>17-1011.00</td><td><span style=white-space:pre-wrap>Architects, Except Landscape and Naval          </span></td><td><span style=white-space:pre-wrap>OES               </span></td><td><span style=white-space:pre-wrap>                                              </span></td></tr>\n",
       "</tbody>\n",
       "</table>\n"
      ],
      "text/latex": [
       "A data.frame: 28 × 24\n",
       "\\begin{tabular}{r|lllllllllllllllllllll}\n",
       "  & Case\\_No & Processing\\_Center & Final\\_Case\\_Status & Received\\_Date & Certified\\_Date & Denied\\_Date & Employer\\_Name & Employer\\_Address\\_1 & Employer\\_Address\\_2 & Employer\\_City & ... & Wage\\_Offered\\_From & Wage\\_Offered\\_To & Wage\\_Per & Prevailing\\_Wage\\_Job\\_Title & Prevailing\\_Wage\\_Amount & Prevailing\\_Wage\\_Level & Prevailing\\_Wage\\_SOC\\_CODE & Prevailing\\_Wage\\_SOC\\_Title & Prevailing\\_Wage\\_Source & Prevailing\\_Wage\\_Other\\_Source\\\\\n",
       "  & <chr> & <chr> & <chr> & <chr> & <lgl> & <chr> & <chr> & <chr> & <chr> & <chr> & ... & <dbl> & <dbl> & <chr> & <chr> & <dbl> & <chr> & <chr> & <chr> & <chr> & <chr>\\\\\n",
       "\\hline\n",
       "\t1 & A-05243-28497 & Atlanta Processing Center & Denied & 10/1/2005 0:00:00  & NA & 10/1/2005 10:00:32  & QAMAR UL ZAMAN, MD                                & 1035 RICHWOOD AVENUE                 &            & CUMBERLAND  & ... & 178000.0 &    NA & Year & Physician                                          & 163800.0 & Level III & 29-1062.00 & Family and General Practitioners                 & OES                &                                               \\\\\n",
       "\t4 & A-05273-38122 & Atlanta Processing Center & Denied & 10/2/2005 0:00:00  & NA & 10/2/2005 9:50:15   & NIPPON EXPRESS USA                                & 590 MADISON AVE.                     & SUITE 2401 & NEW YORK    & ... &  62000.0 &    NA & Year & Senior Logistics Coordinator                       &  61818.0 & Level II  & 11-3071.01 & Transportation Managers                          & OES                &                                               \\\\\n",
       "\t11 & C-05276-38323 & Chicago Processing Center & Denied & 9/19/2005 0:00:00  & NA & 10/3/2005 8:39:52   & CALIFORNIA STATE UNIVERSITY, LONG BEACH           & 1250 BELLFLOWER BLVD.                &            & LONG BEACH  & ... &  55308.0 &    NA & Year & Education Teacher, Postsecondary(Assistant Profess &  55308.0 & Level II  & 25-1081.00 & Education Teachers, Postsecondary                & OES                &                                               \\\\\n",
       "\t12 & C-05276-38330 & Chicago Processing Center & Denied & 9/21/2005 0:00:00  & NA & 10/3/2005 9:25:03   & CORPORATE NETWORK SOLUTIONS                       & 5236 S. 40TH STREET                  &            & PHOENIX     & ... &  69000.0 &    NA & Year & Senior Network analyst                             &  68869.0 & Level IV  & 15-1081.00 & Network Systems and Data Communications Analysts & Other              & SESA - Arizona Department of Economic Security\\\\\n",
       "\t15 & C-05264-35092 & Chicago Processing Center & Denied & 10/3/2005 0:00:00  & NA & 10/3/2005 9:40:06   & THE STONE QUARRY, INC.                            & 11768 CLAY RD.                       &            & HOUSTON     & ... &  60070.0 & 62000 & Year & Stone Industry Specialist                          &  60070.0 & Level IV  & 17-1012.00 & Landscape Architects                             & OES                &                                               \\\\\n",
       "\t17 & C-05276-38343 & Chicago Processing Center & Denied & 9/22/2005 0:00:00  & NA & 10/3/2005 10:10:14  & COMMUNITY HOSPITALISTS, LLC                       & 30680 BAINBRIDGE                     &            & CLEVELAND   & ... & 123091.0 &    NA & Year & Physician, Internal Medicine                       & 123094.0 &           & 29-1063.00 & Internists, General                              & OES                &                                               \\\\\n",
       "\t21 & A-05276-38359 & Atlanta Processing Center & Denied & 9/30/2005 0:00:00  & NA & 10/3/2005 10:40:17  & CASTLE MANAGEMENT CORPORATION                     & 3040 STANTON ROAD, S.E.              & SUITE 101  & WASHINGTON  & ... &  43000.0 &    NA & Year & Computer Support Specialist                        &  31221.0 & Level I   & 15-1041.00 & Computer Support Specialists                     & OES                &                                               \\\\\n",
       "\t22 & A-05250-30387 & Atlanta Processing Center & Denied & 9/8/2005 0:00:00   & NA & 10/3/2005 10:54:41  & CLC OF CHANTILLY                                  & 4460 BROOKFIELD CORP. DRIVE, SUITE P &            & CHANTILLY   & ... &  38334.0 &    NA & Year & Electrician                                        &  38334.0 & Level II  & 47-2111.00 & Electricians                                     & OES                &                                               \\\\\n",
       "\t25 & C-05257-32561 & Chicago Processing Center & Denied & 10/3/2005 0:00:00  & NA & 10/3/2005 11:25:26  & THE TBS GROUP, INC DBA TECHSYS BUSINESS SOLUTIONS & 6801 GAYLORD PKWY, SUITE 301         &            & FRISCO      & ... &  95000.0 &    NA & Year & Software Engineer-Systems                          &  76170.0 & Level III & 15-1032.00 & Computer Software Engineers, Systems Software    & OES                &                                               \\\\\n",
       "\t29 & A-05276-38392 & Atlanta Processing Center & Denied & 10/3/2005 0:00:00  & NA & 10/3/2005 11:40:30  & JPSC INC                                          & 1465 S UNIVERSITY DRIVE              &            & PLANTATION  & ... &  30000.0 & 50000 & Year & Assistant Creative Director                        &  35000.0 &           & 27-1024.00 & Graphic Designers                                & Employer Conducted &                                               \\\\\n",
       "\t32 & A-05276-38384 & Atlanta Processing Center & Denied & 10/3/2005 0:00:00  & NA & 10/3/2005 11:55:32  & IT PEOPLE CORPORATION                             & 801 AARON CIRCLE                     &            & DURHAM      & ... &  66810.0 &    NA & Year & Computer Software Engineer                         &  66810.0 & Level II  & 15-1032.00 & Computer Software Engineers, Systems Software    & OES                &                                               \\\\\n",
       "\t33 & A-05201-15480 & Atlanta Processing Center & Denied & 8/2/2005 0:00:00   & NA & 10/3/2005 12:06:52  & COMPUGRA SYSTEMS,INC                              & 262 CHAPMAN ROAD,                    & SUITE 102  & NEWARK      & ... &  87381.0 &    NA & Year & Software Engineer                                  &  87381.0 & Level II  & 15-1031.00 & Computer Software Engineers, Applications        & OES                &                                               \\\\\n",
       "\t43 & A-05276-38405 & Atlanta Processing Center & Denied & 10/3/2005 0:00:00  & NA & 10/3/2005 12:40:42  & ITT INDUSTRIES                                    & 1761 BUSINESS CENTER DRIVE           &            & RESTON      & ... &  68578.0 &    NA & Year & Computer Scientist                                 &  68578.0 & Level II  & 15-1011.00 & Computer and Information Scientists, Research    & OES                &                                               \\\\\n",
       "\t44 & C-05276-38438 & Chicago Processing Center & Denied & 10/3/2005 0:00:00  & NA & 10/3/2005 12:55:45  & NETWORK GENERAL CORPORATION                       & 178 E TASMAN DRIVE                   &            & SAN JOSE    & ... &  95127.6 &    NA & Year & Software Engineer                                  &  85196.8 & Level II  & 15-1032.00 & Computer Software Engineers, Systems Software    & OES                &                                               \\\\\n",
       "\t45 & A-05334-58332 & Atlanta Processing Center & Denied & 11/23/2005 0:00:00 & NA & 11/30/2005 8:52:59  & CHURCH OF THE MOST SACRED HEART OF JESUS          & 127 PATERSON AVE.                    &            & WALLINGTON  & ... &  22143.0 &    NA & Year & Teacher Assistants                                 &  22143.0 & Level III & 25-9041.00 & Teacher Assistants                               & OES                &                                               \\\\\n",
       "\t51 & A-05334-58383 & Atlanta Processing Center & Denied & 11/30/2005 0:00:00 & NA & 11/30/2005 11:23:24 & MINTZ, TRUPPMAN, CLEIN, \\& HIGER                   & 1700 SANS SOUCI BLVD                 &            & NORTH MIAMI & ... &  37000.0 &    NA & Year & Marketing Specialist                               &  36795.0 &           & 27-3031.00 & Public Relations Specialists                     & Other              & State of Florida                              \\\\\n",
       "\t54 & A-05334-58413 & Atlanta Processing Center & Denied & 11/23/2005 0:00:00 & NA & 11/30/2005 11:38:27 & CARD USA, INC                                     & 201 N. OCEAN DRIVE                   &            & HOLLYWOOD   & ... &  58490.0 & 58500 & Year & DIRECTOR OF PROMOTIONAL RESEARCH AND DEVELOPMENT   &  58490.0 & Level II  & 11-2011.00 & Advertising and Promotions Managers              & OES                &                                               \\\\\n",
       "\t60 & A-05297-45852 & Atlanta Processing Center & Denied & 11/2/2005 0:00:00  & NA & 11/30/2005 12:27:08 & MORGAN STANLEY                                    & 1585 BROADWAY                        &            & NEW YORK    & ... &  86000.0 &    NA & Year & Accountants and Auditors                           &  72904.0 & Level III & 13-2011.00 & Accountants and Auditors                         & OES                &                                               \\\\\n",
       "\t61 & A-05213-18736 & Atlanta Processing Center & Denied & 9/12/2005 0:00:00  & NA & 11/30/2005 12:44:21 & THE OGILVY GROUP INC                              & 309 WEST 49TH ST                     &            & NEW YORK    & ... & 225000.0 &    NA & Year & Worldwide Planning Director                        &  94411.0 & Level II  & 11-2011.00 & Advertising and Promotions Managers              & OES                &                                               \\\\\n",
       "\t64 & A-05258-33040 & Atlanta Processing Center & Denied & 9/19/2005 0:00:00  & NA & 11/30/2005 12:55:59 & C.T. HSU + ASSOCIATES, P.A.                       & 820 IRMA AVENUE                      &            & ORLANDO     & ... &  55848.0 &    NA & Year & Project Coordinator                                &  55848.0 & Level I   & 17-1011.00 & Architects, Except Landscape and Naval           & OES                &                                               \\\\\n",
       "\t66 & C-05315-52402 & Chicago Processing Center & Denied & 11/30/2005 0:00:00 & NA & 11/30/2005 13:23:43 & UNIVERSITY OF LOUISIANA AT MONROE                 & 700 UNIVERSITY AVENUE                &            & MONROE      & ... &  45750.0 &    NA & Year & Agricultural Sc. Teachers, Postsecond              &  39850.0 & Level I   & 25-1041.00 & Agricultural Sciences Teachers, Postsecondary    & OES                &                                               \\\\\n",
       "\t71 & C-05276-38616 & Chicago Processing Center & Denied & 11/30/2005 0:00:00 & NA & 11/30/2005 14:23:52 & YOMIWURI, INC.                                    & 1121 MILWAUKEE AVE.                  &            & RIVER WOOD  & ... &  25000.0 &    NA & Year & Korean Cusine Chef/Foreign Specialty               &  22860.0 & Level I   & 35-1011.00 & Chefs and Head Cooks                             & OES                &                                               \\\\\n",
       "\t76 & A-05334-58499 & Atlanta Processing Center & Denied & 11/30/2005 0:00:00 & NA & 11/30/2005 14:23:55 & FASTCHANNEL NETWORK, INC.                         & 250 FIRST AVENUE, SUITE 201          &            & NEEDHAM     & ... &  89000.0 &    NA & Year & Financial Manager                                  &  78166.0 & Level II  & 11-3031.00 & Financial Managers                               & OES                &                                               \\\\\n",
       "\t81 & C-05334-58602 & Chicago Processing Center & Denied & 11/30/2005 0:00:00 & NA & 11/30/2005 15:09:00 & KEL-GP LLC LEONARD ET AL                          & 659 STEVES AVE.                      &            & SAN ANTONIO & ... &  23816.0 & 25400 & Year & Meat Cutter                                        &  23816.0 & Level III & 51-3021.00 & Butchers and Meat Cutters                        & OES                &                                               \\\\\n",
       "\t83 & A-05327-56796 & Atlanta Processing Center & Denied & 11/30/2005 0:00:00 & NA & 11/30/2005 15:09:00 & MORGAN STANLEY                                    & 1585 BROADWAY                        &            & NEW YORK    & ... & 105000.0 &    NA & Year & Financial Analyst                                  &  73611.0 & Level II  & 13-2051.00 & Financial Analysts                               & OES                &                                               \\\\\n",
       "\t84 & C-05294-45440 & Chicago Processing Center & Denied & 11/28/2005 0:00:00 & NA & 11/30/2005 15:09:51 & WOU3, INCORPORATED                                & 2002 156TH AVE. NE, STE. 300         &            & BELLEVUE    & ... &  34466.0 &    NA & Year & Computer Support Specialist                        &  34466.0 & Level I   & 15-1041.00 & Computer Support Specialists                     & OES                &                                               \\\\\n",
       "\t88 & A-05304-48148 & Atlanta Processing Center & Denied & 11/30/2005 0:00:00 & NA & 11/30/2005 15:39:05 & TECHNITROL, INC.                                  & 1210 NORTHBROOK DRIVE                & SUITE 470  & TREVOSE     & ... &  56977.0 &    NA & Year & Industrial Engineer                                &  50128.0 & Level I   & 17-2112.00 & Industrial Engineers                             & OES                &                                               \\\\\n",
       "\t90 & C-05311-50776 & Chicago Processing Center & Denied & 11/30/2005 0:00:00 & NA & 11/30/2005 15:39:06 & SUGIMURA \\& ASSOCIATES ARCHITECTS, INC             & 2155 S BASCOM AVE., SUITE 200        &            & CAMPBELL    & ... &  68000.0 &    NA & Year & JOB CAPTAIN                                        &  65250.0 & Level II  & 17-1011.00 & Architects, Except Landscape and Naval           & OES                &                                               \\\\\n",
       "\\end{tabular}\n"
      ],
      "text/markdown": [
       "\n",
       "A data.frame: 28 × 24\n",
       "\n",
       "| <!--/--> | Case_No &lt;chr&gt; | Processing_Center &lt;chr&gt; | Final_Case_Status &lt;chr&gt; | Received_Date &lt;chr&gt; | Certified_Date &lt;lgl&gt; | Denied_Date &lt;chr&gt; | Employer_Name &lt;chr&gt; | Employer_Address_1 &lt;chr&gt; | Employer_Address_2 &lt;chr&gt; | Employer_City &lt;chr&gt; | ... ... | Wage_Offered_From &lt;dbl&gt; | Wage_Offered_To &lt;dbl&gt; | Wage_Per &lt;chr&gt; | Prevailing_Wage_Job_Title &lt;chr&gt; | Prevailing_Wage_Amount &lt;dbl&gt; | Prevailing_Wage_Level &lt;chr&gt; | Prevailing_Wage_SOC_CODE &lt;chr&gt; | Prevailing_Wage_SOC_Title &lt;chr&gt; | Prevailing_Wage_Source &lt;chr&gt; | Prevailing_Wage_Other_Source &lt;chr&gt; |\n",
       "|---|---|---|---|---|---|---|---|---|---|---|---|---|---|---|---|---|---|---|---|---|---|\n",
       "| 1 | A-05243-28497 | Atlanta Processing Center | Denied | 10/1/2005 0:00:00  | NA | 10/1/2005 10:00:32  | QAMAR UL ZAMAN, MD                                | 1035 RICHWOOD AVENUE                 | <!----> | CUMBERLAND  | ... | 178000.0 |    NA | Year | Physician                                          | 163800.0 | Level III | 29-1062.00 | Family and General Practitioners                 | OES                | <!----> |\n",
       "| 4 | A-05273-38122 | Atlanta Processing Center | Denied | 10/2/2005 0:00:00  | NA | 10/2/2005 9:50:15   | NIPPON EXPRESS USA                                | 590 MADISON AVE.                     | SUITE 2401 | NEW YORK    | ... |  62000.0 |    NA | Year | Senior Logistics Coordinator                       |  61818.0 | Level II  | 11-3071.01 | Transportation Managers                          | OES                | <!----> |\n",
       "| 11 | C-05276-38323 | Chicago Processing Center | Denied | 9/19/2005 0:00:00  | NA | 10/3/2005 8:39:52   | CALIFORNIA STATE UNIVERSITY, LONG BEACH           | 1250 BELLFLOWER BLVD.                | <!----> | LONG BEACH  | ... |  55308.0 |    NA | Year | Education Teacher, Postsecondary(Assistant Profess |  55308.0 | Level II  | 25-1081.00 | Education Teachers, Postsecondary                | OES                | <!----> |\n",
       "| 12 | C-05276-38330 | Chicago Processing Center | Denied | 9/21/2005 0:00:00  | NA | 10/3/2005 9:25:03   | CORPORATE NETWORK SOLUTIONS                       | 5236 S. 40TH STREET                  | <!----> | PHOENIX     | ... |  69000.0 |    NA | Year | Senior Network analyst                             |  68869.0 | Level IV  | 15-1081.00 | Network Systems and Data Communications Analysts | Other              | SESA - Arizona Department of Economic Security |\n",
       "| 15 | C-05264-35092 | Chicago Processing Center | Denied | 10/3/2005 0:00:00  | NA | 10/3/2005 9:40:06   | THE STONE QUARRY, INC.                            | 11768 CLAY RD.                       | <!----> | HOUSTON     | ... |  60070.0 | 62000 | Year | Stone Industry Specialist                          |  60070.0 | Level IV  | 17-1012.00 | Landscape Architects                             | OES                | <!----> |\n",
       "| 17 | C-05276-38343 | Chicago Processing Center | Denied | 9/22/2005 0:00:00  | NA | 10/3/2005 10:10:14  | COMMUNITY HOSPITALISTS, LLC                       | 30680 BAINBRIDGE                     | <!----> | CLEVELAND   | ... | 123091.0 |    NA | Year | Physician, Internal Medicine                       | 123094.0 | <!----> | 29-1063.00 | Internists, General                              | OES                | <!----> |\n",
       "| 21 | A-05276-38359 | Atlanta Processing Center | Denied | 9/30/2005 0:00:00  | NA | 10/3/2005 10:40:17  | CASTLE MANAGEMENT CORPORATION                     | 3040 STANTON ROAD, S.E.              | SUITE 101  | WASHINGTON  | ... |  43000.0 |    NA | Year | Computer Support Specialist                        |  31221.0 | Level I   | 15-1041.00 | Computer Support Specialists                     | OES                | <!----> |\n",
       "| 22 | A-05250-30387 | Atlanta Processing Center | Denied | 9/8/2005 0:00:00   | NA | 10/3/2005 10:54:41  | CLC OF CHANTILLY                                  | 4460 BROOKFIELD CORP. DRIVE, SUITE P | <!----> | CHANTILLY   | ... |  38334.0 |    NA | Year | Electrician                                        |  38334.0 | Level II  | 47-2111.00 | Electricians                                     | OES                | <!----> |\n",
       "| 25 | C-05257-32561 | Chicago Processing Center | Denied | 10/3/2005 0:00:00  | NA | 10/3/2005 11:25:26  | THE TBS GROUP, INC DBA TECHSYS BUSINESS SOLUTIONS | 6801 GAYLORD PKWY, SUITE 301         | <!----> | FRISCO      | ... |  95000.0 |    NA | Year | Software Engineer-Systems                          |  76170.0 | Level III | 15-1032.00 | Computer Software Engineers, Systems Software    | OES                | <!----> |\n",
       "| 29 | A-05276-38392 | Atlanta Processing Center | Denied | 10/3/2005 0:00:00  | NA | 10/3/2005 11:40:30  | JPSC INC                                          | 1465 S UNIVERSITY DRIVE              | <!----> | PLANTATION  | ... |  30000.0 | 50000 | Year | Assistant Creative Director                        |  35000.0 | <!----> | 27-1024.00 | Graphic Designers                                | Employer Conducted | <!----> |\n",
       "| 32 | A-05276-38384 | Atlanta Processing Center | Denied | 10/3/2005 0:00:00  | NA | 10/3/2005 11:55:32  | IT PEOPLE CORPORATION                             | 801 AARON CIRCLE                     | <!----> | DURHAM      | ... |  66810.0 |    NA | Year | Computer Software Engineer                         |  66810.0 | Level II  | 15-1032.00 | Computer Software Engineers, Systems Software    | OES                | <!----> |\n",
       "| 33 | A-05201-15480 | Atlanta Processing Center | Denied | 8/2/2005 0:00:00   | NA | 10/3/2005 12:06:52  | COMPUGRA SYSTEMS,INC                              | 262 CHAPMAN ROAD,                    | SUITE 102  | NEWARK      | ... |  87381.0 |    NA | Year | Software Engineer                                  |  87381.0 | Level II  | 15-1031.00 | Computer Software Engineers, Applications        | OES                | <!----> |\n",
       "| 43 | A-05276-38405 | Atlanta Processing Center | Denied | 10/3/2005 0:00:00  | NA | 10/3/2005 12:40:42  | ITT INDUSTRIES                                    | 1761 BUSINESS CENTER DRIVE           | <!----> | RESTON      | ... |  68578.0 |    NA | Year | Computer Scientist                                 |  68578.0 | Level II  | 15-1011.00 | Computer and Information Scientists, Research    | OES                | <!----> |\n",
       "| 44 | C-05276-38438 | Chicago Processing Center | Denied | 10/3/2005 0:00:00  | NA | 10/3/2005 12:55:45  | NETWORK GENERAL CORPORATION                       | 178 E TASMAN DRIVE                   | <!----> | SAN JOSE    | ... |  95127.6 |    NA | Year | Software Engineer                                  |  85196.8 | Level II  | 15-1032.00 | Computer Software Engineers, Systems Software    | OES                | <!----> |\n",
       "| 45 | A-05334-58332 | Atlanta Processing Center | Denied | 11/23/2005 0:00:00 | NA | 11/30/2005 8:52:59  | CHURCH OF THE MOST SACRED HEART OF JESUS          | 127 PATERSON AVE.                    | <!----> | WALLINGTON  | ... |  22143.0 |    NA | Year | Teacher Assistants                                 |  22143.0 | Level III | 25-9041.00 | Teacher Assistants                               | OES                | <!----> |\n",
       "| 51 | A-05334-58383 | Atlanta Processing Center | Denied | 11/30/2005 0:00:00 | NA | 11/30/2005 11:23:24 | MINTZ, TRUPPMAN, CLEIN, &amp; HIGER                   | 1700 SANS SOUCI BLVD                 | <!----> | NORTH MIAMI | ... |  37000.0 |    NA | Year | Marketing Specialist                               |  36795.0 | <!----> | 27-3031.00 | Public Relations Specialists                     | Other              | State of Florida                               |\n",
       "| 54 | A-05334-58413 | Atlanta Processing Center | Denied | 11/23/2005 0:00:00 | NA | 11/30/2005 11:38:27 | CARD USA, INC                                     | 201 N. OCEAN DRIVE                   | <!----> | HOLLYWOOD   | ... |  58490.0 | 58500 | Year | DIRECTOR OF PROMOTIONAL RESEARCH AND DEVELOPMENT   |  58490.0 | Level II  | 11-2011.00 | Advertising and Promotions Managers              | OES                | <!----> |\n",
       "| 60 | A-05297-45852 | Atlanta Processing Center | Denied | 11/2/2005 0:00:00  | NA | 11/30/2005 12:27:08 | MORGAN STANLEY                                    | 1585 BROADWAY                        | <!----> | NEW YORK    | ... |  86000.0 |    NA | Year | Accountants and Auditors                           |  72904.0 | Level III | 13-2011.00 | Accountants and Auditors                         | OES                | <!----> |\n",
       "| 61 | A-05213-18736 | Atlanta Processing Center | Denied | 9/12/2005 0:00:00  | NA | 11/30/2005 12:44:21 | THE OGILVY GROUP INC                              | 309 WEST 49TH ST                     | <!----> | NEW YORK    | ... | 225000.0 |    NA | Year | Worldwide Planning Director                        |  94411.0 | Level II  | 11-2011.00 | Advertising and Promotions Managers              | OES                | <!----> |\n",
       "| 64 | A-05258-33040 | Atlanta Processing Center | Denied | 9/19/2005 0:00:00  | NA | 11/30/2005 12:55:59 | C.T. HSU + ASSOCIATES, P.A.                       | 820 IRMA AVENUE                      | <!----> | ORLANDO     | ... |  55848.0 |    NA | Year | Project Coordinator                                |  55848.0 | Level I   | 17-1011.00 | Architects, Except Landscape and Naval           | OES                | <!----> |\n",
       "| 66 | C-05315-52402 | Chicago Processing Center | Denied | 11/30/2005 0:00:00 | NA | 11/30/2005 13:23:43 | UNIVERSITY OF LOUISIANA AT MONROE                 | 700 UNIVERSITY AVENUE                | <!----> | MONROE      | ... |  45750.0 |    NA | Year | Agricultural Sc. Teachers, Postsecond              |  39850.0 | Level I   | 25-1041.00 | Agricultural Sciences Teachers, Postsecondary    | OES                | <!----> |\n",
       "| 71 | C-05276-38616 | Chicago Processing Center | Denied | 11/30/2005 0:00:00 | NA | 11/30/2005 14:23:52 | YOMIWURI, INC.                                    | 1121 MILWAUKEE AVE.                  | <!----> | RIVER WOOD  | ... |  25000.0 |    NA | Year | Korean Cusine Chef/Foreign Specialty               |  22860.0 | Level I   | 35-1011.00 | Chefs and Head Cooks                             | OES                | <!----> |\n",
       "| 76 | A-05334-58499 | Atlanta Processing Center | Denied | 11/30/2005 0:00:00 | NA | 11/30/2005 14:23:55 | FASTCHANNEL NETWORK, INC.                         | 250 FIRST AVENUE, SUITE 201          | <!----> | NEEDHAM     | ... |  89000.0 |    NA | Year | Financial Manager                                  |  78166.0 | Level II  | 11-3031.00 | Financial Managers                               | OES                | <!----> |\n",
       "| 81 | C-05334-58602 | Chicago Processing Center | Denied | 11/30/2005 0:00:00 | NA | 11/30/2005 15:09:00 | KEL-GP LLC LEONARD ET AL                          | 659 STEVES AVE.                      | <!----> | SAN ANTONIO | ... |  23816.0 | 25400 | Year | Meat Cutter                                        |  23816.0 | Level III | 51-3021.00 | Butchers and Meat Cutters                        | OES                | <!----> |\n",
       "| 83 | A-05327-56796 | Atlanta Processing Center | Denied | 11/30/2005 0:00:00 | NA | 11/30/2005 15:09:00 | MORGAN STANLEY                                    | 1585 BROADWAY                        | <!----> | NEW YORK    | ... | 105000.0 |    NA | Year | Financial Analyst                                  |  73611.0 | Level II  | 13-2051.00 | Financial Analysts                               | OES                | <!----> |\n",
       "| 84 | C-05294-45440 | Chicago Processing Center | Denied | 11/28/2005 0:00:00 | NA | 11/30/2005 15:09:51 | WOU3, INCORPORATED                                | 2002 156TH AVE. NE, STE. 300         | <!----> | BELLEVUE    | ... |  34466.0 |    NA | Year | Computer Support Specialist                        |  34466.0 | Level I   | 15-1041.00 | Computer Support Specialists                     | OES                | <!----> |\n",
       "| 88 | A-05304-48148 | Atlanta Processing Center | Denied | 11/30/2005 0:00:00 | NA | 11/30/2005 15:39:05 | TECHNITROL, INC.                                  | 1210 NORTHBROOK DRIVE                | SUITE 470  | TREVOSE     | ... |  56977.0 |    NA | Year | Industrial Engineer                                |  50128.0 | Level I   | 17-2112.00 | Industrial Engineers                             | OES                | <!----> |\n",
       "| 90 | C-05311-50776 | Chicago Processing Center | Denied | 11/30/2005 0:00:00 | NA | 11/30/2005 15:39:06 | SUGIMURA &amp; ASSOCIATES ARCHITECTS, INC             | 2155 S BASCOM AVE., SUITE 200        | <!----> | CAMPBELL    | ... |  68000.0 |    NA | Year | JOB CAPTAIN                                        |  65250.0 | Level II  | 17-1011.00 | Architects, Except Landscape and Naval           | OES                | <!----> |\n",
       "\n"
      ],
      "text/plain": [
       "   Case_No       Processing_Center         Final_Case_Status Received_Date     \n",
       "1  A-05243-28497 Atlanta Processing Center Denied            10/1/2005 0:00:00 \n",
       "4  A-05273-38122 Atlanta Processing Center Denied            10/2/2005 0:00:00 \n",
       "11 C-05276-38323 Chicago Processing Center Denied            9/19/2005 0:00:00 \n",
       "12 C-05276-38330 Chicago Processing Center Denied            9/21/2005 0:00:00 \n",
       "15 C-05264-35092 Chicago Processing Center Denied            10/3/2005 0:00:00 \n",
       "17 C-05276-38343 Chicago Processing Center Denied            9/22/2005 0:00:00 \n",
       "21 A-05276-38359 Atlanta Processing Center Denied            9/30/2005 0:00:00 \n",
       "22 A-05250-30387 Atlanta Processing Center Denied            9/8/2005 0:00:00  \n",
       "25 C-05257-32561 Chicago Processing Center Denied            10/3/2005 0:00:00 \n",
       "29 A-05276-38392 Atlanta Processing Center Denied            10/3/2005 0:00:00 \n",
       "32 A-05276-38384 Atlanta Processing Center Denied            10/3/2005 0:00:00 \n",
       "33 A-05201-15480 Atlanta Processing Center Denied            8/2/2005 0:00:00  \n",
       "43 A-05276-38405 Atlanta Processing Center Denied            10/3/2005 0:00:00 \n",
       "44 C-05276-38438 Chicago Processing Center Denied            10/3/2005 0:00:00 \n",
       "45 A-05334-58332 Atlanta Processing Center Denied            11/23/2005 0:00:00\n",
       "51 A-05334-58383 Atlanta Processing Center Denied            11/30/2005 0:00:00\n",
       "54 A-05334-58413 Atlanta Processing Center Denied            11/23/2005 0:00:00\n",
       "60 A-05297-45852 Atlanta Processing Center Denied            11/2/2005 0:00:00 \n",
       "61 A-05213-18736 Atlanta Processing Center Denied            9/12/2005 0:00:00 \n",
       "64 A-05258-33040 Atlanta Processing Center Denied            9/19/2005 0:00:00 \n",
       "66 C-05315-52402 Chicago Processing Center Denied            11/30/2005 0:00:00\n",
       "71 C-05276-38616 Chicago Processing Center Denied            11/30/2005 0:00:00\n",
       "76 A-05334-58499 Atlanta Processing Center Denied            11/30/2005 0:00:00\n",
       "81 C-05334-58602 Chicago Processing Center Denied            11/30/2005 0:00:00\n",
       "83 A-05327-56796 Atlanta Processing Center Denied            11/30/2005 0:00:00\n",
       "84 C-05294-45440 Chicago Processing Center Denied            11/28/2005 0:00:00\n",
       "88 A-05304-48148 Atlanta Processing Center Denied            11/30/2005 0:00:00\n",
       "90 C-05311-50776 Chicago Processing Center Denied            11/30/2005 0:00:00\n",
       "   Certified_Date Denied_Date        \n",
       "1  NA             10/1/2005 10:00:32 \n",
       "4  NA             10/2/2005 9:50:15  \n",
       "11 NA             10/3/2005 8:39:52  \n",
       "12 NA             10/3/2005 9:25:03  \n",
       "15 NA             10/3/2005 9:40:06  \n",
       "17 NA             10/3/2005 10:10:14 \n",
       "21 NA             10/3/2005 10:40:17 \n",
       "22 NA             10/3/2005 10:54:41 \n",
       "25 NA             10/3/2005 11:25:26 \n",
       "29 NA             10/3/2005 11:40:30 \n",
       "32 NA             10/3/2005 11:55:32 \n",
       "33 NA             10/3/2005 12:06:52 \n",
       "43 NA             10/3/2005 12:40:42 \n",
       "44 NA             10/3/2005 12:55:45 \n",
       "45 NA             11/30/2005 8:52:59 \n",
       "51 NA             11/30/2005 11:23:24\n",
       "54 NA             11/30/2005 11:38:27\n",
       "60 NA             11/30/2005 12:27:08\n",
       "61 NA             11/30/2005 12:44:21\n",
       "64 NA             11/30/2005 12:55:59\n",
       "66 NA             11/30/2005 13:23:43\n",
       "71 NA             11/30/2005 14:23:52\n",
       "76 NA             11/30/2005 14:23:55\n",
       "81 NA             11/30/2005 15:09:00\n",
       "83 NA             11/30/2005 15:09:00\n",
       "84 NA             11/30/2005 15:09:51\n",
       "88 NA             11/30/2005 15:39:05\n",
       "90 NA             11/30/2005 15:39:06\n",
       "   Employer_Name                                    \n",
       "1  QAMAR UL ZAMAN, MD                               \n",
       "4  NIPPON EXPRESS USA                               \n",
       "11 CALIFORNIA STATE UNIVERSITY, LONG BEACH          \n",
       "12 CORPORATE NETWORK SOLUTIONS                      \n",
       "15 THE STONE QUARRY, INC.                           \n",
       "17 COMMUNITY HOSPITALISTS, LLC                      \n",
       "21 CASTLE MANAGEMENT CORPORATION                    \n",
       "22 CLC OF CHANTILLY                                 \n",
       "25 THE TBS GROUP, INC DBA TECHSYS BUSINESS SOLUTIONS\n",
       "29 JPSC INC                                         \n",
       "32 IT PEOPLE CORPORATION                            \n",
       "33 COMPUGRA SYSTEMS,INC                             \n",
       "43 ITT INDUSTRIES                                   \n",
       "44 NETWORK GENERAL CORPORATION                      \n",
       "45 CHURCH OF THE MOST SACRED HEART OF JESUS         \n",
       "51 MINTZ, TRUPPMAN, CLEIN, & HIGER                  \n",
       "54 CARD USA, INC                                    \n",
       "60 MORGAN STANLEY                                   \n",
       "61 THE OGILVY GROUP INC                             \n",
       "64 C.T. HSU + ASSOCIATES, P.A.                      \n",
       "66 UNIVERSITY OF LOUISIANA AT MONROE                \n",
       "71 YOMIWURI, INC.                                   \n",
       "76 FASTCHANNEL NETWORK, INC.                        \n",
       "81 KEL-GP LLC LEONARD ET AL                         \n",
       "83 MORGAN STANLEY                                   \n",
       "84 WOU3, INCORPORATED                               \n",
       "88 TECHNITROL, INC.                                 \n",
       "90 SUGIMURA & ASSOCIATES ARCHITECTS, INC            \n",
       "   Employer_Address_1                   Employer_Address_2 Employer_City ...\n",
       "1  1035 RICHWOOD AVENUE                                    CUMBERLAND    ...\n",
       "4  590 MADISON AVE.                     SUITE 2401         NEW YORK      ...\n",
       "11 1250 BELLFLOWER BLVD.                                   LONG BEACH    ...\n",
       "12 5236 S. 40TH STREET                                     PHOENIX       ...\n",
       "15 11768 CLAY RD.                                          HOUSTON       ...\n",
       "17 30680 BAINBRIDGE                                        CLEVELAND     ...\n",
       "21 3040 STANTON ROAD, S.E.              SUITE 101          WASHINGTON    ...\n",
       "22 4460 BROOKFIELD CORP. DRIVE, SUITE P                    CHANTILLY     ...\n",
       "25 6801 GAYLORD PKWY, SUITE 301                            FRISCO        ...\n",
       "29 1465 S UNIVERSITY DRIVE                                 PLANTATION    ...\n",
       "32 801 AARON CIRCLE                                        DURHAM        ...\n",
       "33 262 CHAPMAN ROAD,                    SUITE 102          NEWARK        ...\n",
       "43 1761 BUSINESS CENTER DRIVE                              RESTON        ...\n",
       "44 178 E TASMAN DRIVE                                      SAN JOSE      ...\n",
       "45 127 PATERSON AVE.                                       WALLINGTON    ...\n",
       "51 1700 SANS SOUCI BLVD                                    NORTH MIAMI   ...\n",
       "54 201 N. OCEAN DRIVE                                      HOLLYWOOD     ...\n",
       "60 1585 BROADWAY                                           NEW YORK      ...\n",
       "61 309 WEST 49TH ST                                        NEW YORK      ...\n",
       "64 820 IRMA AVENUE                                         ORLANDO       ...\n",
       "66 700 UNIVERSITY AVENUE                                   MONROE        ...\n",
       "71 1121 MILWAUKEE AVE.                                     RIVER WOOD    ...\n",
       "76 250 FIRST AVENUE, SUITE 201                             NEEDHAM       ...\n",
       "81 659 STEVES AVE.                                         SAN ANTONIO   ...\n",
       "83 1585 BROADWAY                                           NEW YORK      ...\n",
       "84 2002 156TH AVE. NE, STE. 300                            BELLEVUE      ...\n",
       "88 1210 NORTHBROOK DRIVE                SUITE 470          TREVOSE       ...\n",
       "90 2155 S BASCOM AVE., SUITE 200                           CAMPBELL      ...\n",
       "   Wage_Offered_From Wage_Offered_To Wage_Per\n",
       "1  178000.0             NA           Year    \n",
       "4   62000.0             NA           Year    \n",
       "11  55308.0             NA           Year    \n",
       "12  69000.0             NA           Year    \n",
       "15  60070.0          62000           Year    \n",
       "17 123091.0             NA           Year    \n",
       "21  43000.0             NA           Year    \n",
       "22  38334.0             NA           Year    \n",
       "25  95000.0             NA           Year    \n",
       "29  30000.0          50000           Year    \n",
       "32  66810.0             NA           Year    \n",
       "33  87381.0             NA           Year    \n",
       "43  68578.0             NA           Year    \n",
       "44  95127.6             NA           Year    \n",
       "45  22143.0             NA           Year    \n",
       "51  37000.0             NA           Year    \n",
       "54  58490.0          58500           Year    \n",
       "60  86000.0             NA           Year    \n",
       "61 225000.0             NA           Year    \n",
       "64  55848.0             NA           Year    \n",
       "66  45750.0             NA           Year    \n",
       "71  25000.0             NA           Year    \n",
       "76  89000.0             NA           Year    \n",
       "81  23816.0          25400           Year    \n",
       "83 105000.0             NA           Year    \n",
       "84  34466.0             NA           Year    \n",
       "88  56977.0             NA           Year    \n",
       "90  68000.0             NA           Year    \n",
       "   Prevailing_Wage_Job_Title                          Prevailing_Wage_Amount\n",
       "1  Physician                                          163800.0              \n",
       "4  Senior Logistics Coordinator                        61818.0              \n",
       "11 Education Teacher, Postsecondary(Assistant Profess  55308.0              \n",
       "12 Senior Network analyst                              68869.0              \n",
       "15 Stone Industry Specialist                           60070.0              \n",
       "17 Physician, Internal Medicine                       123094.0              \n",
       "21 Computer Support Specialist                         31221.0              \n",
       "22 Electrician                                         38334.0              \n",
       "25 Software Engineer-Systems                           76170.0              \n",
       "29 Assistant Creative Director                         35000.0              \n",
       "32 Computer Software Engineer                          66810.0              \n",
       "33 Software Engineer                                   87381.0              \n",
       "43 Computer Scientist                                  68578.0              \n",
       "44 Software Engineer                                   85196.8              \n",
       "45 Teacher Assistants                                  22143.0              \n",
       "51 Marketing Specialist                                36795.0              \n",
       "54 DIRECTOR OF PROMOTIONAL RESEARCH AND DEVELOPMENT    58490.0              \n",
       "60 Accountants and Auditors                            72904.0              \n",
       "61 Worldwide Planning Director                         94411.0              \n",
       "64 Project Coordinator                                 55848.0              \n",
       "66 Agricultural Sc. Teachers, Postsecond               39850.0              \n",
       "71 Korean Cusine Chef/Foreign Specialty                22860.0              \n",
       "76 Financial Manager                                   78166.0              \n",
       "81 Meat Cutter                                         23816.0              \n",
       "83 Financial Analyst                                   73611.0              \n",
       "84 Computer Support Specialist                         34466.0              \n",
       "88 Industrial Engineer                                 50128.0              \n",
       "90 JOB CAPTAIN                                         65250.0              \n",
       "   Prevailing_Wage_Level Prevailing_Wage_SOC_CODE\n",
       "1  Level III             29-1062.00              \n",
       "4  Level II              11-3071.01              \n",
       "11 Level II              25-1081.00              \n",
       "12 Level IV              15-1081.00              \n",
       "15 Level IV              17-1012.00              \n",
       "17                       29-1063.00              \n",
       "21 Level I               15-1041.00              \n",
       "22 Level II              47-2111.00              \n",
       "25 Level III             15-1032.00              \n",
       "29                       27-1024.00              \n",
       "32 Level II              15-1032.00              \n",
       "33 Level II              15-1031.00              \n",
       "43 Level II              15-1011.00              \n",
       "44 Level II              15-1032.00              \n",
       "45 Level III             25-9041.00              \n",
       "51                       27-3031.00              \n",
       "54 Level II              11-2011.00              \n",
       "60 Level III             13-2011.00              \n",
       "61 Level II              11-2011.00              \n",
       "64 Level I               17-1011.00              \n",
       "66 Level I               25-1041.00              \n",
       "71 Level I               35-1011.00              \n",
       "76 Level II              11-3031.00              \n",
       "81 Level III             51-3021.00              \n",
       "83 Level II              13-2051.00              \n",
       "84 Level I               15-1041.00              \n",
       "88 Level I               17-2112.00              \n",
       "90 Level II              17-1011.00              \n",
       "   Prevailing_Wage_SOC_Title                        Prevailing_Wage_Source\n",
       "1  Family and General Practitioners                 OES                   \n",
       "4  Transportation Managers                          OES                   \n",
       "11 Education Teachers, Postsecondary                OES                   \n",
       "12 Network Systems and Data Communications Analysts Other                 \n",
       "15 Landscape Architects                             OES                   \n",
       "17 Internists, General                              OES                   \n",
       "21 Computer Support Specialists                     OES                   \n",
       "22 Electricians                                     OES                   \n",
       "25 Computer Software Engineers, Systems Software    OES                   \n",
       "29 Graphic Designers                                Employer Conducted    \n",
       "32 Computer Software Engineers, Systems Software    OES                   \n",
       "33 Computer Software Engineers, Applications        OES                   \n",
       "43 Computer and Information Scientists, Research    OES                   \n",
       "44 Computer Software Engineers, Systems Software    OES                   \n",
       "45 Teacher Assistants                               OES                   \n",
       "51 Public Relations Specialists                     Other                 \n",
       "54 Advertising and Promotions Managers              OES                   \n",
       "60 Accountants and Auditors                         OES                   \n",
       "61 Advertising and Promotions Managers              OES                   \n",
       "64 Architects, Except Landscape and Naval           OES                   \n",
       "66 Agricultural Sciences Teachers, Postsecondary    OES                   \n",
       "71 Chefs and Head Cooks                             OES                   \n",
       "76 Financial Managers                               OES                   \n",
       "81 Butchers and Meat Cutters                        OES                   \n",
       "83 Financial Analysts                               OES                   \n",
       "84 Computer Support Specialists                     OES                   \n",
       "88 Industrial Engineers                             OES                   \n",
       "90 Architects, Except Landscape and Naval           OES                   \n",
       "   Prevailing_Wage_Other_Source                  \n",
       "1                                                \n",
       "4                                                \n",
       "11                                               \n",
       "12 SESA - Arizona Department of Economic Security\n",
       "15                                               \n",
       "17                                               \n",
       "21                                               \n",
       "22                                               \n",
       "25                                               \n",
       "29                                               \n",
       "32                                               \n",
       "33                                               \n",
       "43                                               \n",
       "44                                               \n",
       "45                                               \n",
       "51 State of Florida                              \n",
       "54                                               \n",
       "60                                               \n",
       "61                                               \n",
       "64                                               \n",
       "66                                               \n",
       "71                                               \n",
       "76                                               \n",
       "81                                               \n",
       "83                                               \n",
       "84                                               \n",
       "88                                               \n",
       "90                                               "
      ]
     },
     "metadata": {},
     "output_type": "display_data"
    }
   ],
   "source": [
    "all2006 <- all2006[all2006$Wage_Per == \"Year\",]\n",
    "all2006 <- all2006[all2006$Wage_Offered_From > 20000,]\n",
    "all2006 <- all2006[all2006$Prevailing_Wage_Amount > 200,]\n",
    "all2006"
   ]
  },
  {
   "cell_type": "markdown",
   "metadata": {},
   "source": [
    "实际工资与普遍工资的比率"
   ]
  },
  {
   "cell_type": "code",
   "execution_count": 31,
   "metadata": {},
   "outputs": [
    {
     "data": {
      "text/html": [
       "<table>\n",
       "<caption>A data.frame: 28 × 25</caption>\n",
       "<thead>\n",
       "\t<tr><th></th><th scope=col>Case_No</th><th scope=col>Processing_Center</th><th scope=col>Final_Case_Status</th><th scope=col>Received_Date</th><th scope=col>Certified_Date</th><th scope=col>Denied_Date</th><th scope=col>Employer_Name</th><th scope=col>Employer_Address_1</th><th scope=col>Employer_Address_2</th><th scope=col>Employer_City</th><th scope=col>...</th><th scope=col>Wage_Offered_To</th><th scope=col>Wage_Per</th><th scope=col>Prevailing_Wage_Job_Title</th><th scope=col>Prevailing_Wage_Amount</th><th scope=col>Prevailing_Wage_Level</th><th scope=col>Prevailing_Wage_SOC_CODE</th><th scope=col>Prevailing_Wage_SOC_Title</th><th scope=col>Prevailing_Wage_Source</th><th scope=col>Prevailing_Wage_Other_Source</th><th scope=col>rat</th></tr>\n",
       "\t<tr><th></th><th scope=col>&lt;chr&gt;</th><th scope=col>&lt;chr&gt;</th><th scope=col>&lt;chr&gt;</th><th scope=col>&lt;chr&gt;</th><th scope=col>&lt;lgl&gt;</th><th scope=col>&lt;chr&gt;</th><th scope=col>&lt;chr&gt;</th><th scope=col>&lt;chr&gt;</th><th scope=col>&lt;chr&gt;</th><th scope=col>&lt;chr&gt;</th><th scope=col>...</th><th scope=col>&lt;dbl&gt;</th><th scope=col>&lt;chr&gt;</th><th scope=col>&lt;chr&gt;</th><th scope=col>&lt;dbl&gt;</th><th scope=col>&lt;chr&gt;</th><th scope=col>&lt;chr&gt;</th><th scope=col>&lt;chr&gt;</th><th scope=col>&lt;chr&gt;</th><th scope=col>&lt;chr&gt;</th><th scope=col>&lt;dbl&gt;</th></tr>\n",
       "</thead>\n",
       "<tbody>\n",
       "\t<tr><th scope=row>1</th><td>A-05243-28497</td><td>Atlanta Processing Center</td><td>Denied</td><td>10/1/2005 0:00:00 </td><td>NA</td><td>10/1/2005 10:00:32 </td><td>QAMAR UL ZAMAN, MD                               </td><td>1035 RICHWOOD AVENUE                </td><td>          </td><td>CUMBERLAND </td><td>...</td><td>   NA</td><td>Year</td><td>Physician                                         </td><td>163800.0</td><td>Level III</td><td>29-1062.00</td><td>Family and General Practitioners                </td><td>OES               </td><td>                                              </td><td>1.0866911</td></tr>\n",
       "\t<tr><th scope=row>4</th><td>A-05273-38122</td><td>Atlanta Processing Center</td><td>Denied</td><td>10/2/2005 0:00:00 </td><td>NA</td><td>10/2/2005 9:50:15  </td><td>NIPPON EXPRESS USA                               </td><td>590 MADISON AVE.                    </td><td>SUITE 2401</td><td>NEW YORK   </td><td>...</td><td>   NA</td><td>Year</td><td>Senior Logistics Coordinator                      </td><td> 61818.0</td><td>Level II </td><td>11-3071.01</td><td>Transportation Managers                         </td><td>OES               </td><td>                                              </td><td>1.0029441</td></tr>\n",
       "\t<tr><th scope=row>11</th><td>C-05276-38323</td><td>Chicago Processing Center</td><td>Denied</td><td>9/19/2005 0:00:00 </td><td>NA</td><td>10/3/2005 8:39:52  </td><td>CALIFORNIA STATE UNIVERSITY, LONG BEACH          </td><td>1250 BELLFLOWER BLVD.               </td><td>          </td><td>LONG BEACH </td><td>...</td><td>   NA</td><td>Year</td><td>Education Teacher, Postsecondary(Assistant Profess</td><td> 55308.0</td><td>Level II </td><td>25-1081.00</td><td>Education Teachers, Postsecondary               </td><td>OES               </td><td>                                              </td><td>1.0000000</td></tr>\n",
       "\t<tr><th scope=row>12</th><td>C-05276-38330</td><td>Chicago Processing Center</td><td>Denied</td><td>9/21/2005 0:00:00 </td><td>NA</td><td>10/3/2005 9:25:03  </td><td>CORPORATE NETWORK SOLUTIONS                      </td><td>5236 S. 40TH STREET                 </td><td>          </td><td>PHOENIX    </td><td>...</td><td>   NA</td><td>Year</td><td>Senior Network analyst                            </td><td> 68869.0</td><td>Level IV </td><td>15-1081.00</td><td>Network Systems and Data Communications Analysts</td><td>Other             </td><td>SESA - Arizona Department of Economic Security</td><td>1.0019022</td></tr>\n",
       "\t<tr><th scope=row>15</th><td>C-05264-35092</td><td>Chicago Processing Center</td><td>Denied</td><td>10/3/2005 0:00:00 </td><td>NA</td><td>10/3/2005 9:40:06  </td><td>THE STONE QUARRY, INC.                           </td><td>11768 CLAY RD.                      </td><td>          </td><td>HOUSTON    </td><td>...</td><td>62000</td><td>Year</td><td>Stone Industry Specialist                         </td><td> 60070.0</td><td>Level IV </td><td>17-1012.00</td><td>Landscape Architects                            </td><td>OES               </td><td>                                              </td><td>1.0000000</td></tr>\n",
       "\t<tr><th scope=row>17</th><td>C-05276-38343</td><td>Chicago Processing Center</td><td>Denied</td><td>9/22/2005 0:00:00 </td><td>NA</td><td>10/3/2005 10:10:14 </td><td>COMMUNITY HOSPITALISTS, LLC                      </td><td>30680 BAINBRIDGE                    </td><td>          </td><td>CLEVELAND  </td><td>...</td><td>   NA</td><td>Year</td><td>Physician, Internal Medicine                      </td><td>123094.0</td><td>         </td><td>29-1063.00</td><td>Internists, General                             </td><td>OES               </td><td>                                              </td><td>0.9999756</td></tr>\n",
       "\t<tr><th scope=row>21</th><td>A-05276-38359</td><td>Atlanta Processing Center</td><td>Denied</td><td>9/30/2005 0:00:00 </td><td>NA</td><td>10/3/2005 10:40:17 </td><td>CASTLE MANAGEMENT CORPORATION                    </td><td>3040 STANTON ROAD, S.E.             </td><td>SUITE 101 </td><td>WASHINGTON </td><td>...</td><td>   NA</td><td>Year</td><td>Computer Support Specialist                       </td><td> 31221.0</td><td>Level I  </td><td>15-1041.00</td><td>Computer Support Specialists                    </td><td>OES               </td><td>                                              </td><td>1.3772781</td></tr>\n",
       "\t<tr><th scope=row>22</th><td>A-05250-30387</td><td>Atlanta Processing Center</td><td>Denied</td><td>9/8/2005 0:00:00  </td><td>NA</td><td>10/3/2005 10:54:41 </td><td>CLC OF CHANTILLY                                 </td><td>4460 BROOKFIELD CORP. DRIVE, SUITE P</td><td>          </td><td>CHANTILLY  </td><td>...</td><td>   NA</td><td>Year</td><td>Electrician                                       </td><td> 38334.0</td><td>Level II </td><td>47-2111.00</td><td>Electricians                                    </td><td>OES               </td><td>                                              </td><td>1.0000000</td></tr>\n",
       "\t<tr><th scope=row>25</th><td>C-05257-32561</td><td>Chicago Processing Center</td><td>Denied</td><td>10/3/2005 0:00:00 </td><td>NA</td><td>10/3/2005 11:25:26 </td><td>THE TBS GROUP, INC DBA TECHSYS BUSINESS SOLUTIONS</td><td>6801 GAYLORD PKWY, SUITE 301        </td><td>          </td><td>FRISCO     </td><td>...</td><td>   NA</td><td>Year</td><td>Software Engineer-Systems                         </td><td> 76170.0</td><td>Level III</td><td>15-1032.00</td><td>Computer Software Engineers, Systems Software   </td><td>OES               </td><td>                                              </td><td>1.2472102</td></tr>\n",
       "\t<tr><th scope=row>29</th><td>A-05276-38392</td><td>Atlanta Processing Center</td><td>Denied</td><td>10/3/2005 0:00:00 </td><td>NA</td><td>10/3/2005 11:40:30 </td><td>JPSC INC                                         </td><td>1465 S UNIVERSITY DRIVE             </td><td>          </td><td>PLANTATION </td><td>...</td><td>50000</td><td>Year</td><td>Assistant Creative Director                       </td><td> 35000.0</td><td>         </td><td>27-1024.00</td><td>Graphic Designers                               </td><td>Employer Conducted</td><td>                                              </td><td>0.8571429</td></tr>\n",
       "\t<tr><th scope=row>32</th><td>A-05276-38384</td><td>Atlanta Processing Center</td><td>Denied</td><td>10/3/2005 0:00:00 </td><td>NA</td><td>10/3/2005 11:55:32 </td><td>IT PEOPLE CORPORATION                            </td><td>801 AARON CIRCLE                    </td><td>          </td><td>DURHAM     </td><td>...</td><td>   NA</td><td>Year</td><td>Computer Software Engineer                        </td><td> 66810.0</td><td>Level II </td><td>15-1032.00</td><td>Computer Software Engineers, Systems Software   </td><td>OES               </td><td>                                              </td><td>1.0000000</td></tr>\n",
       "\t<tr><th scope=row>33</th><td>A-05201-15480</td><td>Atlanta Processing Center</td><td>Denied</td><td>8/2/2005 0:00:00  </td><td>NA</td><td>10/3/2005 12:06:52 </td><td>COMPUGRA SYSTEMS,INC                             </td><td>262 CHAPMAN ROAD,                   </td><td>SUITE 102 </td><td>NEWARK     </td><td>...</td><td>   NA</td><td>Year</td><td>Software Engineer                                 </td><td> 87381.0</td><td>Level II </td><td>15-1031.00</td><td>Computer Software Engineers, Applications       </td><td>OES               </td><td>                                              </td><td>1.0000000</td></tr>\n",
       "\t<tr><th scope=row>43</th><td>A-05276-38405</td><td>Atlanta Processing Center</td><td>Denied</td><td>10/3/2005 0:00:00 </td><td>NA</td><td>10/3/2005 12:40:42 </td><td>ITT INDUSTRIES                                   </td><td>1761 BUSINESS CENTER DRIVE          </td><td>          </td><td>RESTON     </td><td>...</td><td>   NA</td><td>Year</td><td>Computer Scientist                                </td><td> 68578.0</td><td>Level II </td><td>15-1011.00</td><td>Computer and Information Scientists, Research   </td><td>OES               </td><td>                                              </td><td>1.0000000</td></tr>\n",
       "\t<tr><th scope=row>44</th><td>C-05276-38438</td><td>Chicago Processing Center</td><td>Denied</td><td>10/3/2005 0:00:00 </td><td>NA</td><td>10/3/2005 12:55:45 </td><td>NETWORK GENERAL CORPORATION                      </td><td>178 E TASMAN DRIVE                  </td><td>          </td><td>SAN JOSE   </td><td>...</td><td>   NA</td><td>Year</td><td>Software Engineer                                 </td><td> 85196.8</td><td>Level II </td><td>15-1032.00</td><td>Computer Software Engineers, Systems Software   </td><td>OES               </td><td>                                              </td><td>1.1165631</td></tr>\n",
       "\t<tr><th scope=row>45</th><td>A-05334-58332</td><td>Atlanta Processing Center</td><td>Denied</td><td>11/23/2005 0:00:00</td><td>NA</td><td>11/30/2005 8:52:59 </td><td>CHURCH OF THE MOST SACRED HEART OF JESUS         </td><td>127 PATERSON AVE.                   </td><td>          </td><td>WALLINGTON </td><td>...</td><td>   NA</td><td>Year</td><td>Teacher Assistants                                </td><td> 22143.0</td><td>Level III</td><td>25-9041.00</td><td>Teacher Assistants                              </td><td>OES               </td><td>                                              </td><td>1.0000000</td></tr>\n",
       "\t<tr><th scope=row>51</th><td>A-05334-58383</td><td>Atlanta Processing Center</td><td>Denied</td><td>11/30/2005 0:00:00</td><td>NA</td><td>11/30/2005 11:23:24</td><td><span style=white-space:pre-wrap>MINTZ, TRUPPMAN, CLEIN, &amp; HIGER                  </span></td><td><span style=white-space:pre-wrap>1700 SANS SOUCI BLVD                </span></td><td><span style=white-space:pre-wrap>          </span></td><td>NORTH MIAMI</td><td>...</td><td><span style=white-space:pre-wrap>   NA</span></td><td>Year</td><td><span style=white-space:pre-wrap>Marketing Specialist                              </span></td><td> 36795.0</td><td><span style=white-space:pre-wrap>         </span></td><td>27-3031.00</td><td><span style=white-space:pre-wrap>Public Relations Specialists                    </span></td><td><span style=white-space:pre-wrap>Other             </span></td><td><span style=white-space:pre-wrap>State of Florida                              </span></td><td>1.0055714</td></tr>\n",
       "\t<tr><th scope=row>54</th><td>A-05334-58413</td><td>Atlanta Processing Center</td><td>Denied</td><td>11/23/2005 0:00:00</td><td>NA</td><td>11/30/2005 11:38:27</td><td>CARD USA, INC                                    </td><td>201 N. OCEAN DRIVE                  </td><td>          </td><td>HOLLYWOOD  </td><td>...</td><td>58500</td><td>Year</td><td>DIRECTOR OF PROMOTIONAL RESEARCH AND DEVELOPMENT  </td><td> 58490.0</td><td>Level II </td><td>11-2011.00</td><td>Advertising and Promotions Managers             </td><td>OES               </td><td>                                              </td><td>1.0000000</td></tr>\n",
       "\t<tr><th scope=row>60</th><td>A-05297-45852</td><td>Atlanta Processing Center</td><td>Denied</td><td>11/2/2005 0:00:00 </td><td>NA</td><td>11/30/2005 12:27:08</td><td>MORGAN STANLEY                                   </td><td>1585 BROADWAY                       </td><td>          </td><td>NEW YORK   </td><td>...</td><td>   NA</td><td>Year</td><td>Accountants and Auditors                          </td><td> 72904.0</td><td>Level III</td><td>13-2011.00</td><td>Accountants and Auditors                        </td><td>OES               </td><td>                                              </td><td>1.1796335</td></tr>\n",
       "\t<tr><th scope=row>61</th><td>A-05213-18736</td><td>Atlanta Processing Center</td><td>Denied</td><td>9/12/2005 0:00:00 </td><td>NA</td><td>11/30/2005 12:44:21</td><td>THE OGILVY GROUP INC                             </td><td>309 WEST 49TH ST                    </td><td>          </td><td>NEW YORK   </td><td>...</td><td>   NA</td><td>Year</td><td>Worldwide Planning Director                       </td><td> 94411.0</td><td>Level II </td><td>11-2011.00</td><td>Advertising and Promotions Managers             </td><td>OES               </td><td>                                              </td><td>2.3831969</td></tr>\n",
       "\t<tr><th scope=row>64</th><td>A-05258-33040</td><td>Atlanta Processing Center</td><td>Denied</td><td>9/19/2005 0:00:00 </td><td>NA</td><td>11/30/2005 12:55:59</td><td>C.T. HSU + ASSOCIATES, P.A.                      </td><td>820 IRMA AVENUE                     </td><td>          </td><td>ORLANDO    </td><td>...</td><td>   NA</td><td>Year</td><td>Project Coordinator                               </td><td> 55848.0</td><td>Level I  </td><td>17-1011.00</td><td>Architects, Except Landscape and Naval          </td><td>OES               </td><td>                                              </td><td>1.0000000</td></tr>\n",
       "\t<tr><th scope=row>66</th><td>C-05315-52402</td><td>Chicago Processing Center</td><td>Denied</td><td>11/30/2005 0:00:00</td><td>NA</td><td>11/30/2005 13:23:43</td><td>UNIVERSITY OF LOUISIANA AT MONROE                </td><td>700 UNIVERSITY AVENUE               </td><td>          </td><td>MONROE     </td><td>...</td><td>   NA</td><td>Year</td><td>Agricultural Sc. Teachers, Postsecond             </td><td> 39850.0</td><td>Level I  </td><td>25-1041.00</td><td>Agricultural Sciences Teachers, Postsecondary   </td><td>OES               </td><td>                                              </td><td>1.1480552</td></tr>\n",
       "\t<tr><th scope=row>71</th><td>C-05276-38616</td><td>Chicago Processing Center</td><td>Denied</td><td>11/30/2005 0:00:00</td><td>NA</td><td>11/30/2005 14:23:52</td><td>YOMIWURI, INC.                                   </td><td>1121 MILWAUKEE AVE.                 </td><td>          </td><td>RIVER WOOD </td><td>...</td><td>   NA</td><td>Year</td><td>Korean Cusine Chef/Foreign Specialty              </td><td> 22860.0</td><td>Level I  </td><td>35-1011.00</td><td>Chefs and Head Cooks                            </td><td>OES               </td><td>                                              </td><td>1.0936133</td></tr>\n",
       "\t<tr><th scope=row>76</th><td>A-05334-58499</td><td>Atlanta Processing Center</td><td>Denied</td><td>11/30/2005 0:00:00</td><td>NA</td><td>11/30/2005 14:23:55</td><td>FASTCHANNEL NETWORK, INC.                        </td><td>250 FIRST AVENUE, SUITE 201         </td><td>          </td><td>NEEDHAM    </td><td>...</td><td>   NA</td><td>Year</td><td>Financial Manager                                 </td><td> 78166.0</td><td>Level II </td><td>11-3031.00</td><td>Financial Managers                              </td><td>OES               </td><td>                                              </td><td>1.1386025</td></tr>\n",
       "\t<tr><th scope=row>81</th><td>C-05334-58602</td><td>Chicago Processing Center</td><td>Denied</td><td>11/30/2005 0:00:00</td><td>NA</td><td>11/30/2005 15:09:00</td><td>KEL-GP LLC LEONARD ET AL                         </td><td>659 STEVES AVE.                     </td><td>          </td><td>SAN ANTONIO</td><td>...</td><td>25400</td><td>Year</td><td>Meat Cutter                                       </td><td> 23816.0</td><td>Level III</td><td>51-3021.00</td><td>Butchers and Meat Cutters                       </td><td>OES               </td><td>                                              </td><td>1.0000000</td></tr>\n",
       "\t<tr><th scope=row>83</th><td>A-05327-56796</td><td>Atlanta Processing Center</td><td>Denied</td><td>11/30/2005 0:00:00</td><td>NA</td><td>11/30/2005 15:09:00</td><td>MORGAN STANLEY                                   </td><td>1585 BROADWAY                       </td><td>          </td><td>NEW YORK   </td><td>...</td><td>   NA</td><td>Year</td><td>Financial Analyst                                 </td><td> 73611.0</td><td>Level II </td><td>13-2051.00</td><td>Financial Analysts                              </td><td>OES               </td><td>                                              </td><td>1.4264172</td></tr>\n",
       "\t<tr><th scope=row>84</th><td>C-05294-45440</td><td>Chicago Processing Center</td><td>Denied</td><td>11/28/2005 0:00:00</td><td>NA</td><td>11/30/2005 15:09:51</td><td>WOU3, INCORPORATED                               </td><td>2002 156TH AVE. NE, STE. 300        </td><td>          </td><td>BELLEVUE   </td><td>...</td><td>   NA</td><td>Year</td><td>Computer Support Specialist                       </td><td> 34466.0</td><td>Level I  </td><td>15-1041.00</td><td>Computer Support Specialists                    </td><td>OES               </td><td>                                              </td><td>1.0000000</td></tr>\n",
       "\t<tr><th scope=row>88</th><td>A-05304-48148</td><td>Atlanta Processing Center</td><td>Denied</td><td>11/30/2005 0:00:00</td><td>NA</td><td>11/30/2005 15:39:05</td><td>TECHNITROL, INC.                                 </td><td>1210 NORTHBROOK DRIVE               </td><td>SUITE 470 </td><td>TREVOSE    </td><td>...</td><td>   NA</td><td>Year</td><td>Industrial Engineer                               </td><td> 50128.0</td><td>Level I  </td><td>17-2112.00</td><td>Industrial Engineers                            </td><td>OES               </td><td>                                              </td><td>1.1366302</td></tr>\n",
       "\t<tr><th scope=row>90</th><td>C-05311-50776</td><td>Chicago Processing Center</td><td>Denied</td><td>11/30/2005 0:00:00</td><td>NA</td><td>11/30/2005 15:39:06</td><td><span style=white-space:pre-wrap>SUGIMURA &amp; ASSOCIATES ARCHITECTS, INC            </span></td><td><span style=white-space:pre-wrap>2155 S BASCOM AVE., SUITE 200       </span></td><td><span style=white-space:pre-wrap>          </span></td><td><span style=white-space:pre-wrap>CAMPBELL   </span></td><td>...</td><td><span style=white-space:pre-wrap>   NA</span></td><td>Year</td><td><span style=white-space:pre-wrap>JOB CAPTAIN                                       </span></td><td> 65250.0</td><td>Level II </td><td>17-1011.00</td><td><span style=white-space:pre-wrap>Architects, Except Landscape and Naval          </span></td><td><span style=white-space:pre-wrap>OES               </span></td><td><span style=white-space:pre-wrap>                                              </span></td><td>1.0421456</td></tr>\n",
       "</tbody>\n",
       "</table>\n"
      ],
      "text/latex": [
       "A data.frame: 28 × 25\n",
       "\\begin{tabular}{r|lllllllllllllllllllll}\n",
       "  & Case\\_No & Processing\\_Center & Final\\_Case\\_Status & Received\\_Date & Certified\\_Date & Denied\\_Date & Employer\\_Name & Employer\\_Address\\_1 & Employer\\_Address\\_2 & Employer\\_City & ... & Wage\\_Offered\\_To & Wage\\_Per & Prevailing\\_Wage\\_Job\\_Title & Prevailing\\_Wage\\_Amount & Prevailing\\_Wage\\_Level & Prevailing\\_Wage\\_SOC\\_CODE & Prevailing\\_Wage\\_SOC\\_Title & Prevailing\\_Wage\\_Source & Prevailing\\_Wage\\_Other\\_Source & rat\\\\\n",
       "  & <chr> & <chr> & <chr> & <chr> & <lgl> & <chr> & <chr> & <chr> & <chr> & <chr> & ... & <dbl> & <chr> & <chr> & <dbl> & <chr> & <chr> & <chr> & <chr> & <chr> & <dbl>\\\\\n",
       "\\hline\n",
       "\t1 & A-05243-28497 & Atlanta Processing Center & Denied & 10/1/2005 0:00:00  & NA & 10/1/2005 10:00:32  & QAMAR UL ZAMAN, MD                                & 1035 RICHWOOD AVENUE                 &            & CUMBERLAND  & ... &    NA & Year & Physician                                          & 163800.0 & Level III & 29-1062.00 & Family and General Practitioners                 & OES                &                                                & 1.0866911\\\\\n",
       "\t4 & A-05273-38122 & Atlanta Processing Center & Denied & 10/2/2005 0:00:00  & NA & 10/2/2005 9:50:15   & NIPPON EXPRESS USA                                & 590 MADISON AVE.                     & SUITE 2401 & NEW YORK    & ... &    NA & Year & Senior Logistics Coordinator                       &  61818.0 & Level II  & 11-3071.01 & Transportation Managers                          & OES                &                                                & 1.0029441\\\\\n",
       "\t11 & C-05276-38323 & Chicago Processing Center & Denied & 9/19/2005 0:00:00  & NA & 10/3/2005 8:39:52   & CALIFORNIA STATE UNIVERSITY, LONG BEACH           & 1250 BELLFLOWER BLVD.                &            & LONG BEACH  & ... &    NA & Year & Education Teacher, Postsecondary(Assistant Profess &  55308.0 & Level II  & 25-1081.00 & Education Teachers, Postsecondary                & OES                &                                                & 1.0000000\\\\\n",
       "\t12 & C-05276-38330 & Chicago Processing Center & Denied & 9/21/2005 0:00:00  & NA & 10/3/2005 9:25:03   & CORPORATE NETWORK SOLUTIONS                       & 5236 S. 40TH STREET                  &            & PHOENIX     & ... &    NA & Year & Senior Network analyst                             &  68869.0 & Level IV  & 15-1081.00 & Network Systems and Data Communications Analysts & Other              & SESA - Arizona Department of Economic Security & 1.0019022\\\\\n",
       "\t15 & C-05264-35092 & Chicago Processing Center & Denied & 10/3/2005 0:00:00  & NA & 10/3/2005 9:40:06   & THE STONE QUARRY, INC.                            & 11768 CLAY RD.                       &            & HOUSTON     & ... & 62000 & Year & Stone Industry Specialist                          &  60070.0 & Level IV  & 17-1012.00 & Landscape Architects                             & OES                &                                                & 1.0000000\\\\\n",
       "\t17 & C-05276-38343 & Chicago Processing Center & Denied & 9/22/2005 0:00:00  & NA & 10/3/2005 10:10:14  & COMMUNITY HOSPITALISTS, LLC                       & 30680 BAINBRIDGE                     &            & CLEVELAND   & ... &    NA & Year & Physician, Internal Medicine                       & 123094.0 &           & 29-1063.00 & Internists, General                              & OES                &                                                & 0.9999756\\\\\n",
       "\t21 & A-05276-38359 & Atlanta Processing Center & Denied & 9/30/2005 0:00:00  & NA & 10/3/2005 10:40:17  & CASTLE MANAGEMENT CORPORATION                     & 3040 STANTON ROAD, S.E.              & SUITE 101  & WASHINGTON  & ... &    NA & Year & Computer Support Specialist                        &  31221.0 & Level I   & 15-1041.00 & Computer Support Specialists                     & OES                &                                                & 1.3772781\\\\\n",
       "\t22 & A-05250-30387 & Atlanta Processing Center & Denied & 9/8/2005 0:00:00   & NA & 10/3/2005 10:54:41  & CLC OF CHANTILLY                                  & 4460 BROOKFIELD CORP. DRIVE, SUITE P &            & CHANTILLY   & ... &    NA & Year & Electrician                                        &  38334.0 & Level II  & 47-2111.00 & Electricians                                     & OES                &                                                & 1.0000000\\\\\n",
       "\t25 & C-05257-32561 & Chicago Processing Center & Denied & 10/3/2005 0:00:00  & NA & 10/3/2005 11:25:26  & THE TBS GROUP, INC DBA TECHSYS BUSINESS SOLUTIONS & 6801 GAYLORD PKWY, SUITE 301         &            & FRISCO      & ... &    NA & Year & Software Engineer-Systems                          &  76170.0 & Level III & 15-1032.00 & Computer Software Engineers, Systems Software    & OES                &                                                & 1.2472102\\\\\n",
       "\t29 & A-05276-38392 & Atlanta Processing Center & Denied & 10/3/2005 0:00:00  & NA & 10/3/2005 11:40:30  & JPSC INC                                          & 1465 S UNIVERSITY DRIVE              &            & PLANTATION  & ... & 50000 & Year & Assistant Creative Director                        &  35000.0 &           & 27-1024.00 & Graphic Designers                                & Employer Conducted &                                                & 0.8571429\\\\\n",
       "\t32 & A-05276-38384 & Atlanta Processing Center & Denied & 10/3/2005 0:00:00  & NA & 10/3/2005 11:55:32  & IT PEOPLE CORPORATION                             & 801 AARON CIRCLE                     &            & DURHAM      & ... &    NA & Year & Computer Software Engineer                         &  66810.0 & Level II  & 15-1032.00 & Computer Software Engineers, Systems Software    & OES                &                                                & 1.0000000\\\\\n",
       "\t33 & A-05201-15480 & Atlanta Processing Center & Denied & 8/2/2005 0:00:00   & NA & 10/3/2005 12:06:52  & COMPUGRA SYSTEMS,INC                              & 262 CHAPMAN ROAD,                    & SUITE 102  & NEWARK      & ... &    NA & Year & Software Engineer                                  &  87381.0 & Level II  & 15-1031.00 & Computer Software Engineers, Applications        & OES                &                                                & 1.0000000\\\\\n",
       "\t43 & A-05276-38405 & Atlanta Processing Center & Denied & 10/3/2005 0:00:00  & NA & 10/3/2005 12:40:42  & ITT INDUSTRIES                                    & 1761 BUSINESS CENTER DRIVE           &            & RESTON      & ... &    NA & Year & Computer Scientist                                 &  68578.0 & Level II  & 15-1011.00 & Computer and Information Scientists, Research    & OES                &                                                & 1.0000000\\\\\n",
       "\t44 & C-05276-38438 & Chicago Processing Center & Denied & 10/3/2005 0:00:00  & NA & 10/3/2005 12:55:45  & NETWORK GENERAL CORPORATION                       & 178 E TASMAN DRIVE                   &            & SAN JOSE    & ... &    NA & Year & Software Engineer                                  &  85196.8 & Level II  & 15-1032.00 & Computer Software Engineers, Systems Software    & OES                &                                                & 1.1165631\\\\\n",
       "\t45 & A-05334-58332 & Atlanta Processing Center & Denied & 11/23/2005 0:00:00 & NA & 11/30/2005 8:52:59  & CHURCH OF THE MOST SACRED HEART OF JESUS          & 127 PATERSON AVE.                    &            & WALLINGTON  & ... &    NA & Year & Teacher Assistants                                 &  22143.0 & Level III & 25-9041.00 & Teacher Assistants                               & OES                &                                                & 1.0000000\\\\\n",
       "\t51 & A-05334-58383 & Atlanta Processing Center & Denied & 11/30/2005 0:00:00 & NA & 11/30/2005 11:23:24 & MINTZ, TRUPPMAN, CLEIN, \\& HIGER                   & 1700 SANS SOUCI BLVD                 &            & NORTH MIAMI & ... &    NA & Year & Marketing Specialist                               &  36795.0 &           & 27-3031.00 & Public Relations Specialists                     & Other              & State of Florida                               & 1.0055714\\\\\n",
       "\t54 & A-05334-58413 & Atlanta Processing Center & Denied & 11/23/2005 0:00:00 & NA & 11/30/2005 11:38:27 & CARD USA, INC                                     & 201 N. OCEAN DRIVE                   &            & HOLLYWOOD   & ... & 58500 & Year & DIRECTOR OF PROMOTIONAL RESEARCH AND DEVELOPMENT   &  58490.0 & Level II  & 11-2011.00 & Advertising and Promotions Managers              & OES                &                                                & 1.0000000\\\\\n",
       "\t60 & A-05297-45852 & Atlanta Processing Center & Denied & 11/2/2005 0:00:00  & NA & 11/30/2005 12:27:08 & MORGAN STANLEY                                    & 1585 BROADWAY                        &            & NEW YORK    & ... &    NA & Year & Accountants and Auditors                           &  72904.0 & Level III & 13-2011.00 & Accountants and Auditors                         & OES                &                                                & 1.1796335\\\\\n",
       "\t61 & A-05213-18736 & Atlanta Processing Center & Denied & 9/12/2005 0:00:00  & NA & 11/30/2005 12:44:21 & THE OGILVY GROUP INC                              & 309 WEST 49TH ST                     &            & NEW YORK    & ... &    NA & Year & Worldwide Planning Director                        &  94411.0 & Level II  & 11-2011.00 & Advertising and Promotions Managers              & OES                &                                                & 2.3831969\\\\\n",
       "\t64 & A-05258-33040 & Atlanta Processing Center & Denied & 9/19/2005 0:00:00  & NA & 11/30/2005 12:55:59 & C.T. HSU + ASSOCIATES, P.A.                       & 820 IRMA AVENUE                      &            & ORLANDO     & ... &    NA & Year & Project Coordinator                                &  55848.0 & Level I   & 17-1011.00 & Architects, Except Landscape and Naval           & OES                &                                                & 1.0000000\\\\\n",
       "\t66 & C-05315-52402 & Chicago Processing Center & Denied & 11/30/2005 0:00:00 & NA & 11/30/2005 13:23:43 & UNIVERSITY OF LOUISIANA AT MONROE                 & 700 UNIVERSITY AVENUE                &            & MONROE      & ... &    NA & Year & Agricultural Sc. Teachers, Postsecond              &  39850.0 & Level I   & 25-1041.00 & Agricultural Sciences Teachers, Postsecondary    & OES                &                                                & 1.1480552\\\\\n",
       "\t71 & C-05276-38616 & Chicago Processing Center & Denied & 11/30/2005 0:00:00 & NA & 11/30/2005 14:23:52 & YOMIWURI, INC.                                    & 1121 MILWAUKEE AVE.                  &            & RIVER WOOD  & ... &    NA & Year & Korean Cusine Chef/Foreign Specialty               &  22860.0 & Level I   & 35-1011.00 & Chefs and Head Cooks                             & OES                &                                                & 1.0936133\\\\\n",
       "\t76 & A-05334-58499 & Atlanta Processing Center & Denied & 11/30/2005 0:00:00 & NA & 11/30/2005 14:23:55 & FASTCHANNEL NETWORK, INC.                         & 250 FIRST AVENUE, SUITE 201          &            & NEEDHAM     & ... &    NA & Year & Financial Manager                                  &  78166.0 & Level II  & 11-3031.00 & Financial Managers                               & OES                &                                                & 1.1386025\\\\\n",
       "\t81 & C-05334-58602 & Chicago Processing Center & Denied & 11/30/2005 0:00:00 & NA & 11/30/2005 15:09:00 & KEL-GP LLC LEONARD ET AL                          & 659 STEVES AVE.                      &            & SAN ANTONIO & ... & 25400 & Year & Meat Cutter                                        &  23816.0 & Level III & 51-3021.00 & Butchers and Meat Cutters                        & OES                &                                                & 1.0000000\\\\\n",
       "\t83 & A-05327-56796 & Atlanta Processing Center & Denied & 11/30/2005 0:00:00 & NA & 11/30/2005 15:09:00 & MORGAN STANLEY                                    & 1585 BROADWAY                        &            & NEW YORK    & ... &    NA & Year & Financial Analyst                                  &  73611.0 & Level II  & 13-2051.00 & Financial Analysts                               & OES                &                                                & 1.4264172\\\\\n",
       "\t84 & C-05294-45440 & Chicago Processing Center & Denied & 11/28/2005 0:00:00 & NA & 11/30/2005 15:09:51 & WOU3, INCORPORATED                                & 2002 156TH AVE. NE, STE. 300         &            & BELLEVUE    & ... &    NA & Year & Computer Support Specialist                        &  34466.0 & Level I   & 15-1041.00 & Computer Support Specialists                     & OES                &                                                & 1.0000000\\\\\n",
       "\t88 & A-05304-48148 & Atlanta Processing Center & Denied & 11/30/2005 0:00:00 & NA & 11/30/2005 15:39:05 & TECHNITROL, INC.                                  & 1210 NORTHBROOK DRIVE                & SUITE 470  & TREVOSE     & ... &    NA & Year & Industrial Engineer                                &  50128.0 & Level I   & 17-2112.00 & Industrial Engineers                             & OES                &                                                & 1.1366302\\\\\n",
       "\t90 & C-05311-50776 & Chicago Processing Center & Denied & 11/30/2005 0:00:00 & NA & 11/30/2005 15:39:06 & SUGIMURA \\& ASSOCIATES ARCHITECTS, INC             & 2155 S BASCOM AVE., SUITE 200        &            & CAMPBELL    & ... &    NA & Year & JOB CAPTAIN                                        &  65250.0 & Level II  & 17-1011.00 & Architects, Except Landscape and Naval           & OES                &                                                & 1.0421456\\\\\n",
       "\\end{tabular}\n"
      ],
      "text/markdown": [
       "\n",
       "A data.frame: 28 × 25\n",
       "\n",
       "| <!--/--> | Case_No &lt;chr&gt; | Processing_Center &lt;chr&gt; | Final_Case_Status &lt;chr&gt; | Received_Date &lt;chr&gt; | Certified_Date &lt;lgl&gt; | Denied_Date &lt;chr&gt; | Employer_Name &lt;chr&gt; | Employer_Address_1 &lt;chr&gt; | Employer_Address_2 &lt;chr&gt; | Employer_City &lt;chr&gt; | ... ... | Wage_Offered_To &lt;dbl&gt; | Wage_Per &lt;chr&gt; | Prevailing_Wage_Job_Title &lt;chr&gt; | Prevailing_Wage_Amount &lt;dbl&gt; | Prevailing_Wage_Level &lt;chr&gt; | Prevailing_Wage_SOC_CODE &lt;chr&gt; | Prevailing_Wage_SOC_Title &lt;chr&gt; | Prevailing_Wage_Source &lt;chr&gt; | Prevailing_Wage_Other_Source &lt;chr&gt; | rat &lt;dbl&gt; |\n",
       "|---|---|---|---|---|---|---|---|---|---|---|---|---|---|---|---|---|---|---|---|---|---|\n",
       "| 1 | A-05243-28497 | Atlanta Processing Center | Denied | 10/1/2005 0:00:00  | NA | 10/1/2005 10:00:32  | QAMAR UL ZAMAN, MD                                | 1035 RICHWOOD AVENUE                 | <!----> | CUMBERLAND  | ... |    NA | Year | Physician                                          | 163800.0 | Level III | 29-1062.00 | Family and General Practitioners                 | OES                | <!----> | 1.0866911 |\n",
       "| 4 | A-05273-38122 | Atlanta Processing Center | Denied | 10/2/2005 0:00:00  | NA | 10/2/2005 9:50:15   | NIPPON EXPRESS USA                                | 590 MADISON AVE.                     | SUITE 2401 | NEW YORK    | ... |    NA | Year | Senior Logistics Coordinator                       |  61818.0 | Level II  | 11-3071.01 | Transportation Managers                          | OES                | <!----> | 1.0029441 |\n",
       "| 11 | C-05276-38323 | Chicago Processing Center | Denied | 9/19/2005 0:00:00  | NA | 10/3/2005 8:39:52   | CALIFORNIA STATE UNIVERSITY, LONG BEACH           | 1250 BELLFLOWER BLVD.                | <!----> | LONG BEACH  | ... |    NA | Year | Education Teacher, Postsecondary(Assistant Profess |  55308.0 | Level II  | 25-1081.00 | Education Teachers, Postsecondary                | OES                | <!----> | 1.0000000 |\n",
       "| 12 | C-05276-38330 | Chicago Processing Center | Denied | 9/21/2005 0:00:00  | NA | 10/3/2005 9:25:03   | CORPORATE NETWORK SOLUTIONS                       | 5236 S. 40TH STREET                  | <!----> | PHOENIX     | ... |    NA | Year | Senior Network analyst                             |  68869.0 | Level IV  | 15-1081.00 | Network Systems and Data Communications Analysts | Other              | SESA - Arizona Department of Economic Security | 1.0019022 |\n",
       "| 15 | C-05264-35092 | Chicago Processing Center | Denied | 10/3/2005 0:00:00  | NA | 10/3/2005 9:40:06   | THE STONE QUARRY, INC.                            | 11768 CLAY RD.                       | <!----> | HOUSTON     | ... | 62000 | Year | Stone Industry Specialist                          |  60070.0 | Level IV  | 17-1012.00 | Landscape Architects                             | OES                | <!----> | 1.0000000 |\n",
       "| 17 | C-05276-38343 | Chicago Processing Center | Denied | 9/22/2005 0:00:00  | NA | 10/3/2005 10:10:14  | COMMUNITY HOSPITALISTS, LLC                       | 30680 BAINBRIDGE                     | <!----> | CLEVELAND   | ... |    NA | Year | Physician, Internal Medicine                       | 123094.0 | <!----> | 29-1063.00 | Internists, General                              | OES                | <!----> | 0.9999756 |\n",
       "| 21 | A-05276-38359 | Atlanta Processing Center | Denied | 9/30/2005 0:00:00  | NA | 10/3/2005 10:40:17  | CASTLE MANAGEMENT CORPORATION                     | 3040 STANTON ROAD, S.E.              | SUITE 101  | WASHINGTON  | ... |    NA | Year | Computer Support Specialist                        |  31221.0 | Level I   | 15-1041.00 | Computer Support Specialists                     | OES                | <!----> | 1.3772781 |\n",
       "| 22 | A-05250-30387 | Atlanta Processing Center | Denied | 9/8/2005 0:00:00   | NA | 10/3/2005 10:54:41  | CLC OF CHANTILLY                                  | 4460 BROOKFIELD CORP. DRIVE, SUITE P | <!----> | CHANTILLY   | ... |    NA | Year | Electrician                                        |  38334.0 | Level II  | 47-2111.00 | Electricians                                     | OES                | <!----> | 1.0000000 |\n",
       "| 25 | C-05257-32561 | Chicago Processing Center | Denied | 10/3/2005 0:00:00  | NA | 10/3/2005 11:25:26  | THE TBS GROUP, INC DBA TECHSYS BUSINESS SOLUTIONS | 6801 GAYLORD PKWY, SUITE 301         | <!----> | FRISCO      | ... |    NA | Year | Software Engineer-Systems                          |  76170.0 | Level III | 15-1032.00 | Computer Software Engineers, Systems Software    | OES                | <!----> | 1.2472102 |\n",
       "| 29 | A-05276-38392 | Atlanta Processing Center | Denied | 10/3/2005 0:00:00  | NA | 10/3/2005 11:40:30  | JPSC INC                                          | 1465 S UNIVERSITY DRIVE              | <!----> | PLANTATION  | ... | 50000 | Year | Assistant Creative Director                        |  35000.0 | <!----> | 27-1024.00 | Graphic Designers                                | Employer Conducted | <!----> | 0.8571429 |\n",
       "| 32 | A-05276-38384 | Atlanta Processing Center | Denied | 10/3/2005 0:00:00  | NA | 10/3/2005 11:55:32  | IT PEOPLE CORPORATION                             | 801 AARON CIRCLE                     | <!----> | DURHAM      | ... |    NA | Year | Computer Software Engineer                         |  66810.0 | Level II  | 15-1032.00 | Computer Software Engineers, Systems Software    | OES                | <!----> | 1.0000000 |\n",
       "| 33 | A-05201-15480 | Atlanta Processing Center | Denied | 8/2/2005 0:00:00   | NA | 10/3/2005 12:06:52  | COMPUGRA SYSTEMS,INC                              | 262 CHAPMAN ROAD,                    | SUITE 102  | NEWARK      | ... |    NA | Year | Software Engineer                                  |  87381.0 | Level II  | 15-1031.00 | Computer Software Engineers, Applications        | OES                | <!----> | 1.0000000 |\n",
       "| 43 | A-05276-38405 | Atlanta Processing Center | Denied | 10/3/2005 0:00:00  | NA | 10/3/2005 12:40:42  | ITT INDUSTRIES                                    | 1761 BUSINESS CENTER DRIVE           | <!----> | RESTON      | ... |    NA | Year | Computer Scientist                                 |  68578.0 | Level II  | 15-1011.00 | Computer and Information Scientists, Research    | OES                | <!----> | 1.0000000 |\n",
       "| 44 | C-05276-38438 | Chicago Processing Center | Denied | 10/3/2005 0:00:00  | NA | 10/3/2005 12:55:45  | NETWORK GENERAL CORPORATION                       | 178 E TASMAN DRIVE                   | <!----> | SAN JOSE    | ... |    NA | Year | Software Engineer                                  |  85196.8 | Level II  | 15-1032.00 | Computer Software Engineers, Systems Software    | OES                | <!----> | 1.1165631 |\n",
       "| 45 | A-05334-58332 | Atlanta Processing Center | Denied | 11/23/2005 0:00:00 | NA | 11/30/2005 8:52:59  | CHURCH OF THE MOST SACRED HEART OF JESUS          | 127 PATERSON AVE.                    | <!----> | WALLINGTON  | ... |    NA | Year | Teacher Assistants                                 |  22143.0 | Level III | 25-9041.00 | Teacher Assistants                               | OES                | <!----> | 1.0000000 |\n",
       "| 51 | A-05334-58383 | Atlanta Processing Center | Denied | 11/30/2005 0:00:00 | NA | 11/30/2005 11:23:24 | MINTZ, TRUPPMAN, CLEIN, &amp; HIGER                   | 1700 SANS SOUCI BLVD                 | <!----> | NORTH MIAMI | ... |    NA | Year | Marketing Specialist                               |  36795.0 | <!----> | 27-3031.00 | Public Relations Specialists                     | Other              | State of Florida                               | 1.0055714 |\n",
       "| 54 | A-05334-58413 | Atlanta Processing Center | Denied | 11/23/2005 0:00:00 | NA | 11/30/2005 11:38:27 | CARD USA, INC                                     | 201 N. OCEAN DRIVE                   | <!----> | HOLLYWOOD   | ... | 58500 | Year | DIRECTOR OF PROMOTIONAL RESEARCH AND DEVELOPMENT   |  58490.0 | Level II  | 11-2011.00 | Advertising and Promotions Managers              | OES                | <!----> | 1.0000000 |\n",
       "| 60 | A-05297-45852 | Atlanta Processing Center | Denied | 11/2/2005 0:00:00  | NA | 11/30/2005 12:27:08 | MORGAN STANLEY                                    | 1585 BROADWAY                        | <!----> | NEW YORK    | ... |    NA | Year | Accountants and Auditors                           |  72904.0 | Level III | 13-2011.00 | Accountants and Auditors                         | OES                | <!----> | 1.1796335 |\n",
       "| 61 | A-05213-18736 | Atlanta Processing Center | Denied | 9/12/2005 0:00:00  | NA | 11/30/2005 12:44:21 | THE OGILVY GROUP INC                              | 309 WEST 49TH ST                     | <!----> | NEW YORK    | ... |    NA | Year | Worldwide Planning Director                        |  94411.0 | Level II  | 11-2011.00 | Advertising and Promotions Managers              | OES                | <!----> | 2.3831969 |\n",
       "| 64 | A-05258-33040 | Atlanta Processing Center | Denied | 9/19/2005 0:00:00  | NA | 11/30/2005 12:55:59 | C.T. HSU + ASSOCIATES, P.A.                       | 820 IRMA AVENUE                      | <!----> | ORLANDO     | ... |    NA | Year | Project Coordinator                                |  55848.0 | Level I   | 17-1011.00 | Architects, Except Landscape and Naval           | OES                | <!----> | 1.0000000 |\n",
       "| 66 | C-05315-52402 | Chicago Processing Center | Denied | 11/30/2005 0:00:00 | NA | 11/30/2005 13:23:43 | UNIVERSITY OF LOUISIANA AT MONROE                 | 700 UNIVERSITY AVENUE                | <!----> | MONROE      | ... |    NA | Year | Agricultural Sc. Teachers, Postsecond              |  39850.0 | Level I   | 25-1041.00 | Agricultural Sciences Teachers, Postsecondary    | OES                | <!----> | 1.1480552 |\n",
       "| 71 | C-05276-38616 | Chicago Processing Center | Denied | 11/30/2005 0:00:00 | NA | 11/30/2005 14:23:52 | YOMIWURI, INC.                                    | 1121 MILWAUKEE AVE.                  | <!----> | RIVER WOOD  | ... |    NA | Year | Korean Cusine Chef/Foreign Specialty               |  22860.0 | Level I   | 35-1011.00 | Chefs and Head Cooks                             | OES                | <!----> | 1.0936133 |\n",
       "| 76 | A-05334-58499 | Atlanta Processing Center | Denied | 11/30/2005 0:00:00 | NA | 11/30/2005 14:23:55 | FASTCHANNEL NETWORK, INC.                         | 250 FIRST AVENUE, SUITE 201          | <!----> | NEEDHAM     | ... |    NA | Year | Financial Manager                                  |  78166.0 | Level II  | 11-3031.00 | Financial Managers                               | OES                | <!----> | 1.1386025 |\n",
       "| 81 | C-05334-58602 | Chicago Processing Center | Denied | 11/30/2005 0:00:00 | NA | 11/30/2005 15:09:00 | KEL-GP LLC LEONARD ET AL                          | 659 STEVES AVE.                      | <!----> | SAN ANTONIO | ... | 25400 | Year | Meat Cutter                                        |  23816.0 | Level III | 51-3021.00 | Butchers and Meat Cutters                        | OES                | <!----> | 1.0000000 |\n",
       "| 83 | A-05327-56796 | Atlanta Processing Center | Denied | 11/30/2005 0:00:00 | NA | 11/30/2005 15:09:00 | MORGAN STANLEY                                    | 1585 BROADWAY                        | <!----> | NEW YORK    | ... |    NA | Year | Financial Analyst                                  |  73611.0 | Level II  | 13-2051.00 | Financial Analysts                               | OES                | <!----> | 1.4264172 |\n",
       "| 84 | C-05294-45440 | Chicago Processing Center | Denied | 11/28/2005 0:00:00 | NA | 11/30/2005 15:09:51 | WOU3, INCORPORATED                                | 2002 156TH AVE. NE, STE. 300         | <!----> | BELLEVUE    | ... |    NA | Year | Computer Support Specialist                        |  34466.0 | Level I   | 15-1041.00 | Computer Support Specialists                     | OES                | <!----> | 1.0000000 |\n",
       "| 88 | A-05304-48148 | Atlanta Processing Center | Denied | 11/30/2005 0:00:00 | NA | 11/30/2005 15:39:05 | TECHNITROL, INC.                                  | 1210 NORTHBROOK DRIVE                | SUITE 470  | TREVOSE     | ... |    NA | Year | Industrial Engineer                                |  50128.0 | Level I   | 17-2112.00 | Industrial Engineers                             | OES                | <!----> | 1.1366302 |\n",
       "| 90 | C-05311-50776 | Chicago Processing Center | Denied | 11/30/2005 0:00:00 | NA | 11/30/2005 15:39:06 | SUGIMURA &amp; ASSOCIATES ARCHITECTS, INC             | 2155 S BASCOM AVE., SUITE 200        | <!----> | CAMPBELL    | ... |    NA | Year | JOB CAPTAIN                                        |  65250.0 | Level II  | 17-1011.00 | Architects, Except Landscape and Naval           | OES                | <!----> | 1.0421456 |\n",
       "\n"
      ],
      "text/plain": [
       "   Case_No       Processing_Center         Final_Case_Status Received_Date     \n",
       "1  A-05243-28497 Atlanta Processing Center Denied            10/1/2005 0:00:00 \n",
       "4  A-05273-38122 Atlanta Processing Center Denied            10/2/2005 0:00:00 \n",
       "11 C-05276-38323 Chicago Processing Center Denied            9/19/2005 0:00:00 \n",
       "12 C-05276-38330 Chicago Processing Center Denied            9/21/2005 0:00:00 \n",
       "15 C-05264-35092 Chicago Processing Center Denied            10/3/2005 0:00:00 \n",
       "17 C-05276-38343 Chicago Processing Center Denied            9/22/2005 0:00:00 \n",
       "21 A-05276-38359 Atlanta Processing Center Denied            9/30/2005 0:00:00 \n",
       "22 A-05250-30387 Atlanta Processing Center Denied            9/8/2005 0:00:00  \n",
       "25 C-05257-32561 Chicago Processing Center Denied            10/3/2005 0:00:00 \n",
       "29 A-05276-38392 Atlanta Processing Center Denied            10/3/2005 0:00:00 \n",
       "32 A-05276-38384 Atlanta Processing Center Denied            10/3/2005 0:00:00 \n",
       "33 A-05201-15480 Atlanta Processing Center Denied            8/2/2005 0:00:00  \n",
       "43 A-05276-38405 Atlanta Processing Center Denied            10/3/2005 0:00:00 \n",
       "44 C-05276-38438 Chicago Processing Center Denied            10/3/2005 0:00:00 \n",
       "45 A-05334-58332 Atlanta Processing Center Denied            11/23/2005 0:00:00\n",
       "51 A-05334-58383 Atlanta Processing Center Denied            11/30/2005 0:00:00\n",
       "54 A-05334-58413 Atlanta Processing Center Denied            11/23/2005 0:00:00\n",
       "60 A-05297-45852 Atlanta Processing Center Denied            11/2/2005 0:00:00 \n",
       "61 A-05213-18736 Atlanta Processing Center Denied            9/12/2005 0:00:00 \n",
       "64 A-05258-33040 Atlanta Processing Center Denied            9/19/2005 0:00:00 \n",
       "66 C-05315-52402 Chicago Processing Center Denied            11/30/2005 0:00:00\n",
       "71 C-05276-38616 Chicago Processing Center Denied            11/30/2005 0:00:00\n",
       "76 A-05334-58499 Atlanta Processing Center Denied            11/30/2005 0:00:00\n",
       "81 C-05334-58602 Chicago Processing Center Denied            11/30/2005 0:00:00\n",
       "83 A-05327-56796 Atlanta Processing Center Denied            11/30/2005 0:00:00\n",
       "84 C-05294-45440 Chicago Processing Center Denied            11/28/2005 0:00:00\n",
       "88 A-05304-48148 Atlanta Processing Center Denied            11/30/2005 0:00:00\n",
       "90 C-05311-50776 Chicago Processing Center Denied            11/30/2005 0:00:00\n",
       "   Certified_Date Denied_Date        \n",
       "1  NA             10/1/2005 10:00:32 \n",
       "4  NA             10/2/2005 9:50:15  \n",
       "11 NA             10/3/2005 8:39:52  \n",
       "12 NA             10/3/2005 9:25:03  \n",
       "15 NA             10/3/2005 9:40:06  \n",
       "17 NA             10/3/2005 10:10:14 \n",
       "21 NA             10/3/2005 10:40:17 \n",
       "22 NA             10/3/2005 10:54:41 \n",
       "25 NA             10/3/2005 11:25:26 \n",
       "29 NA             10/3/2005 11:40:30 \n",
       "32 NA             10/3/2005 11:55:32 \n",
       "33 NA             10/3/2005 12:06:52 \n",
       "43 NA             10/3/2005 12:40:42 \n",
       "44 NA             10/3/2005 12:55:45 \n",
       "45 NA             11/30/2005 8:52:59 \n",
       "51 NA             11/30/2005 11:23:24\n",
       "54 NA             11/30/2005 11:38:27\n",
       "60 NA             11/30/2005 12:27:08\n",
       "61 NA             11/30/2005 12:44:21\n",
       "64 NA             11/30/2005 12:55:59\n",
       "66 NA             11/30/2005 13:23:43\n",
       "71 NA             11/30/2005 14:23:52\n",
       "76 NA             11/30/2005 14:23:55\n",
       "81 NA             11/30/2005 15:09:00\n",
       "83 NA             11/30/2005 15:09:00\n",
       "84 NA             11/30/2005 15:09:51\n",
       "88 NA             11/30/2005 15:39:05\n",
       "90 NA             11/30/2005 15:39:06\n",
       "   Employer_Name                                    \n",
       "1  QAMAR UL ZAMAN, MD                               \n",
       "4  NIPPON EXPRESS USA                               \n",
       "11 CALIFORNIA STATE UNIVERSITY, LONG BEACH          \n",
       "12 CORPORATE NETWORK SOLUTIONS                      \n",
       "15 THE STONE QUARRY, INC.                           \n",
       "17 COMMUNITY HOSPITALISTS, LLC                      \n",
       "21 CASTLE MANAGEMENT CORPORATION                    \n",
       "22 CLC OF CHANTILLY                                 \n",
       "25 THE TBS GROUP, INC DBA TECHSYS BUSINESS SOLUTIONS\n",
       "29 JPSC INC                                         \n",
       "32 IT PEOPLE CORPORATION                            \n",
       "33 COMPUGRA SYSTEMS,INC                             \n",
       "43 ITT INDUSTRIES                                   \n",
       "44 NETWORK GENERAL CORPORATION                      \n",
       "45 CHURCH OF THE MOST SACRED HEART OF JESUS         \n",
       "51 MINTZ, TRUPPMAN, CLEIN, & HIGER                  \n",
       "54 CARD USA, INC                                    \n",
       "60 MORGAN STANLEY                                   \n",
       "61 THE OGILVY GROUP INC                             \n",
       "64 C.T. HSU + ASSOCIATES, P.A.                      \n",
       "66 UNIVERSITY OF LOUISIANA AT MONROE                \n",
       "71 YOMIWURI, INC.                                   \n",
       "76 FASTCHANNEL NETWORK, INC.                        \n",
       "81 KEL-GP LLC LEONARD ET AL                         \n",
       "83 MORGAN STANLEY                                   \n",
       "84 WOU3, INCORPORATED                               \n",
       "88 TECHNITROL, INC.                                 \n",
       "90 SUGIMURA & ASSOCIATES ARCHITECTS, INC            \n",
       "   Employer_Address_1                   Employer_Address_2 Employer_City ...\n",
       "1  1035 RICHWOOD AVENUE                                    CUMBERLAND    ...\n",
       "4  590 MADISON AVE.                     SUITE 2401         NEW YORK      ...\n",
       "11 1250 BELLFLOWER BLVD.                                   LONG BEACH    ...\n",
       "12 5236 S. 40TH STREET                                     PHOENIX       ...\n",
       "15 11768 CLAY RD.                                          HOUSTON       ...\n",
       "17 30680 BAINBRIDGE                                        CLEVELAND     ...\n",
       "21 3040 STANTON ROAD, S.E.              SUITE 101          WASHINGTON    ...\n",
       "22 4460 BROOKFIELD CORP. DRIVE, SUITE P                    CHANTILLY     ...\n",
       "25 6801 GAYLORD PKWY, SUITE 301                            FRISCO        ...\n",
       "29 1465 S UNIVERSITY DRIVE                                 PLANTATION    ...\n",
       "32 801 AARON CIRCLE                                        DURHAM        ...\n",
       "33 262 CHAPMAN ROAD,                    SUITE 102          NEWARK        ...\n",
       "43 1761 BUSINESS CENTER DRIVE                              RESTON        ...\n",
       "44 178 E TASMAN DRIVE                                      SAN JOSE      ...\n",
       "45 127 PATERSON AVE.                                       WALLINGTON    ...\n",
       "51 1700 SANS SOUCI BLVD                                    NORTH MIAMI   ...\n",
       "54 201 N. OCEAN DRIVE                                      HOLLYWOOD     ...\n",
       "60 1585 BROADWAY                                           NEW YORK      ...\n",
       "61 309 WEST 49TH ST                                        NEW YORK      ...\n",
       "64 820 IRMA AVENUE                                         ORLANDO       ...\n",
       "66 700 UNIVERSITY AVENUE                                   MONROE        ...\n",
       "71 1121 MILWAUKEE AVE.                                     RIVER WOOD    ...\n",
       "76 250 FIRST AVENUE, SUITE 201                             NEEDHAM       ...\n",
       "81 659 STEVES AVE.                                         SAN ANTONIO   ...\n",
       "83 1585 BROADWAY                                           NEW YORK      ...\n",
       "84 2002 156TH AVE. NE, STE. 300                            BELLEVUE      ...\n",
       "88 1210 NORTHBROOK DRIVE                SUITE 470          TREVOSE       ...\n",
       "90 2155 S BASCOM AVE., SUITE 200                           CAMPBELL      ...\n",
       "   Wage_Offered_To Wage_Per Prevailing_Wage_Job_Title                         \n",
       "1     NA           Year     Physician                                         \n",
       "4     NA           Year     Senior Logistics Coordinator                      \n",
       "11    NA           Year     Education Teacher, Postsecondary(Assistant Profess\n",
       "12    NA           Year     Senior Network analyst                            \n",
       "15 62000           Year     Stone Industry Specialist                         \n",
       "17    NA           Year     Physician, Internal Medicine                      \n",
       "21    NA           Year     Computer Support Specialist                       \n",
       "22    NA           Year     Electrician                                       \n",
       "25    NA           Year     Software Engineer-Systems                         \n",
       "29 50000           Year     Assistant Creative Director                       \n",
       "32    NA           Year     Computer Software Engineer                        \n",
       "33    NA           Year     Software Engineer                                 \n",
       "43    NA           Year     Computer Scientist                                \n",
       "44    NA           Year     Software Engineer                                 \n",
       "45    NA           Year     Teacher Assistants                                \n",
       "51    NA           Year     Marketing Specialist                              \n",
       "54 58500           Year     DIRECTOR OF PROMOTIONAL RESEARCH AND DEVELOPMENT  \n",
       "60    NA           Year     Accountants and Auditors                          \n",
       "61    NA           Year     Worldwide Planning Director                       \n",
       "64    NA           Year     Project Coordinator                               \n",
       "66    NA           Year     Agricultural Sc. Teachers, Postsecond             \n",
       "71    NA           Year     Korean Cusine Chef/Foreign Specialty              \n",
       "76    NA           Year     Financial Manager                                 \n",
       "81 25400           Year     Meat Cutter                                       \n",
       "83    NA           Year     Financial Analyst                                 \n",
       "84    NA           Year     Computer Support Specialist                       \n",
       "88    NA           Year     Industrial Engineer                               \n",
       "90    NA           Year     JOB CAPTAIN                                       \n",
       "   Prevailing_Wage_Amount Prevailing_Wage_Level Prevailing_Wage_SOC_CODE\n",
       "1  163800.0               Level III             29-1062.00              \n",
       "4   61818.0               Level II              11-3071.01              \n",
       "11  55308.0               Level II              25-1081.00              \n",
       "12  68869.0               Level IV              15-1081.00              \n",
       "15  60070.0               Level IV              17-1012.00              \n",
       "17 123094.0                                     29-1063.00              \n",
       "21  31221.0               Level I               15-1041.00              \n",
       "22  38334.0               Level II              47-2111.00              \n",
       "25  76170.0               Level III             15-1032.00              \n",
       "29  35000.0                                     27-1024.00              \n",
       "32  66810.0               Level II              15-1032.00              \n",
       "33  87381.0               Level II              15-1031.00              \n",
       "43  68578.0               Level II              15-1011.00              \n",
       "44  85196.8               Level II              15-1032.00              \n",
       "45  22143.0               Level III             25-9041.00              \n",
       "51  36795.0                                     27-3031.00              \n",
       "54  58490.0               Level II              11-2011.00              \n",
       "60  72904.0               Level III             13-2011.00              \n",
       "61  94411.0               Level II              11-2011.00              \n",
       "64  55848.0               Level I               17-1011.00              \n",
       "66  39850.0               Level I               25-1041.00              \n",
       "71  22860.0               Level I               35-1011.00              \n",
       "76  78166.0               Level II              11-3031.00              \n",
       "81  23816.0               Level III             51-3021.00              \n",
       "83  73611.0               Level II              13-2051.00              \n",
       "84  34466.0               Level I               15-1041.00              \n",
       "88  50128.0               Level I               17-2112.00              \n",
       "90  65250.0               Level II              17-1011.00              \n",
       "   Prevailing_Wage_SOC_Title                        Prevailing_Wage_Source\n",
       "1  Family and General Practitioners                 OES                   \n",
       "4  Transportation Managers                          OES                   \n",
       "11 Education Teachers, Postsecondary                OES                   \n",
       "12 Network Systems and Data Communications Analysts Other                 \n",
       "15 Landscape Architects                             OES                   \n",
       "17 Internists, General                              OES                   \n",
       "21 Computer Support Specialists                     OES                   \n",
       "22 Electricians                                     OES                   \n",
       "25 Computer Software Engineers, Systems Software    OES                   \n",
       "29 Graphic Designers                                Employer Conducted    \n",
       "32 Computer Software Engineers, Systems Software    OES                   \n",
       "33 Computer Software Engineers, Applications        OES                   \n",
       "43 Computer and Information Scientists, Research    OES                   \n",
       "44 Computer Software Engineers, Systems Software    OES                   \n",
       "45 Teacher Assistants                               OES                   \n",
       "51 Public Relations Specialists                     Other                 \n",
       "54 Advertising and Promotions Managers              OES                   \n",
       "60 Accountants and Auditors                         OES                   \n",
       "61 Advertising and Promotions Managers              OES                   \n",
       "64 Architects, Except Landscape and Naval           OES                   \n",
       "66 Agricultural Sciences Teachers, Postsecondary    OES                   \n",
       "71 Chefs and Head Cooks                             OES                   \n",
       "76 Financial Managers                               OES                   \n",
       "81 Butchers and Meat Cutters                        OES                   \n",
       "83 Financial Analysts                               OES                   \n",
       "84 Computer Support Specialists                     OES                   \n",
       "88 Industrial Engineers                             OES                   \n",
       "90 Architects, Except Landscape and Naval           OES                   \n",
       "   Prevailing_Wage_Other_Source                   rat      \n",
       "1                                                 1.0866911\n",
       "4                                                 1.0029441\n",
       "11                                                1.0000000\n",
       "12 SESA - Arizona Department of Economic Security 1.0019022\n",
       "15                                                1.0000000\n",
       "17                                                0.9999756\n",
       "21                                                1.3772781\n",
       "22                                                1.0000000\n",
       "25                                                1.2472102\n",
       "29                                                0.8571429\n",
       "32                                                1.0000000\n",
       "33                                                1.0000000\n",
       "43                                                1.0000000\n",
       "44                                                1.1165631\n",
       "45                                                1.0000000\n",
       "51 State of Florida                               1.0055714\n",
       "54                                                1.0000000\n",
       "60                                                1.1796335\n",
       "61                                                2.3831969\n",
       "64                                                1.0000000\n",
       "66                                                1.1480552\n",
       "71                                                1.0936133\n",
       "76                                                1.1386025\n",
       "81                                                1.0000000\n",
       "83                                                1.4264172\n",
       "84                                                1.0000000\n",
       "88                                                1.1366302\n",
       "90                                                1.0421456"
      ]
     },
     "metadata": {},
     "output_type": "display_data"
    }
   ],
   "source": [
    "all2006$rat <- all2006$Wage_Offered_From / all2006$Prevailing_Wage_Amount\n",
    "all2006"
   ]
  },
  {
   "cell_type": "markdown",
   "metadata": {},
   "source": [
    "定义一个函数计算 rat 列的中位数"
   ]
  },
  {
   "cell_type": "code",
   "execution_count": 32,
   "metadata": {},
   "outputs": [],
   "source": [
    "medrat <- function(dataframe) {\n",
    "    return (median(dataframe$rat, na.rm=T))\n",
    "}"
   ]
  },
  {
   "cell_type": "code",
   "execution_count": 33,
   "metadata": {},
   "outputs": [
    {
     "name": "stdout",
     "output_type": "stream",
     "text": [
      "[1] 1.002423\n"
     ]
    }
   ],
   "source": [
    "print(medrat(all2006))"
   ]
  },
  {
   "cell_type": "markdown",
   "metadata": {},
   "source": [
    "提取三种职业的子集"
   ]
  },
  {
   "cell_type": "code",
   "execution_count": 34,
   "metadata": {},
   "outputs": [
    {
     "data": {
      "text/html": [
       "<table>\n",
       "<caption>A data.frame: 3 × 25</caption>\n",
       "<thead>\n",
       "\t<tr><th></th><th scope=col>Case_No</th><th scope=col>Processing_Center</th><th scope=col>Final_Case_Status</th><th scope=col>Received_Date</th><th scope=col>Certified_Date</th><th scope=col>Denied_Date</th><th scope=col>Employer_Name</th><th scope=col>Employer_Address_1</th><th scope=col>Employer_Address_2</th><th scope=col>Employer_City</th><th scope=col>...</th><th scope=col>Wage_Offered_To</th><th scope=col>Wage_Per</th><th scope=col>Prevailing_Wage_Job_Title</th><th scope=col>Prevailing_Wage_Amount</th><th scope=col>Prevailing_Wage_Level</th><th scope=col>Prevailing_Wage_SOC_CODE</th><th scope=col>Prevailing_Wage_SOC_Title</th><th scope=col>Prevailing_Wage_Source</th><th scope=col>Prevailing_Wage_Other_Source</th><th scope=col>rat</th></tr>\n",
       "\t<tr><th></th><th scope=col>&lt;chr&gt;</th><th scope=col>&lt;chr&gt;</th><th scope=col>&lt;chr&gt;</th><th scope=col>&lt;chr&gt;</th><th scope=col>&lt;lgl&gt;</th><th scope=col>&lt;chr&gt;</th><th scope=col>&lt;chr&gt;</th><th scope=col>&lt;chr&gt;</th><th scope=col>&lt;chr&gt;</th><th scope=col>&lt;chr&gt;</th><th scope=col>...</th><th scope=col>&lt;dbl&gt;</th><th scope=col>&lt;chr&gt;</th><th scope=col>&lt;chr&gt;</th><th scope=col>&lt;dbl&gt;</th><th scope=col>&lt;chr&gt;</th><th scope=col>&lt;chr&gt;</th><th scope=col>&lt;chr&gt;</th><th scope=col>&lt;chr&gt;</th><th scope=col>&lt;chr&gt;</th><th scope=col>&lt;dbl&gt;</th></tr>\n",
       "</thead>\n",
       "<tbody>\n",
       "\t<tr><th scope=row>44</th><td>C-05276-38438</td><td>Chicago Processing Center</td><td>Denied</td><td>10/3/2005 0:00:00 </td><td>NA</td><td>10/3/2005 12:55:45 </td><td>NETWORK GENERAL CORPORATION</td><td>178 E TASMAN DRIVE </td><td></td><td>SAN JOSE  </td><td>...</td><td>NA</td><td>Year</td><td>Software Engineer                   </td><td>85196.8</td><td>Level II </td><td>15-1032.00</td><td>Computer Software Engineers, Systems Software</td><td>OES</td><td></td><td>1.116563</td></tr>\n",
       "\t<tr><th scope=row>60</th><td>A-05297-45852</td><td>Atlanta Processing Center</td><td>Denied</td><td>11/2/2005 0:00:00 </td><td>NA</td><td>11/30/2005 12:27:08</td><td>MORGAN STANLEY             </td><td>1585 BROADWAY      </td><td></td><td>NEW YORK  </td><td>...</td><td>NA</td><td>Year</td><td>Accountants and Auditors            </td><td>72904.0</td><td>Level III</td><td>13-2011.00</td><td>Accountants and Auditors                     </td><td>OES</td><td></td><td>1.179633</td></tr>\n",
       "\t<tr><th scope=row>71</th><td>C-05276-38616</td><td>Chicago Processing Center</td><td>Denied</td><td>11/30/2005 0:00:00</td><td>NA</td><td>11/30/2005 14:23:52</td><td>YOMIWURI, INC.             </td><td>1121 MILWAUKEE AVE.</td><td></td><td>RIVER WOOD</td><td>...</td><td>NA</td><td>Year</td><td>Korean Cusine Chef/Foreign Specialty</td><td>22860.0</td><td>Level I  </td><td>35-1011.00</td><td>Chefs and Head Cooks                         </td><td>OES</td><td></td><td>1.093613</td></tr>\n",
       "</tbody>\n",
       "</table>\n"
      ],
      "text/latex": [
       "A data.frame: 3 × 25\n",
       "\\begin{tabular}{r|lllllllllllllllllllll}\n",
       "  & Case\\_No & Processing\\_Center & Final\\_Case\\_Status & Received\\_Date & Certified\\_Date & Denied\\_Date & Employer\\_Name & Employer\\_Address\\_1 & Employer\\_Address\\_2 & Employer\\_City & ... & Wage\\_Offered\\_To & Wage\\_Per & Prevailing\\_Wage\\_Job\\_Title & Prevailing\\_Wage\\_Amount & Prevailing\\_Wage\\_Level & Prevailing\\_Wage\\_SOC\\_CODE & Prevailing\\_Wage\\_SOC\\_Title & Prevailing\\_Wage\\_Source & Prevailing\\_Wage\\_Other\\_Source & rat\\\\\n",
       "  & <chr> & <chr> & <chr> & <chr> & <lgl> & <chr> & <chr> & <chr> & <chr> & <chr> & ... & <dbl> & <chr> & <chr> & <dbl> & <chr> & <chr> & <chr> & <chr> & <chr> & <dbl>\\\\\n",
       "\\hline\n",
       "\t44 & C-05276-38438 & Chicago Processing Center & Denied & 10/3/2005 0:00:00  & NA & 10/3/2005 12:55:45  & NETWORK GENERAL CORPORATION & 178 E TASMAN DRIVE  &  & SAN JOSE   & ... & NA & Year & Software Engineer                    & 85196.8 & Level II  & 15-1032.00 & Computer Software Engineers, Systems Software & OES &  & 1.116563\\\\\n",
       "\t60 & A-05297-45852 & Atlanta Processing Center & Denied & 11/2/2005 0:00:00  & NA & 11/30/2005 12:27:08 & MORGAN STANLEY              & 1585 BROADWAY       &  & NEW YORK   & ... & NA & Year & Accountants and Auditors             & 72904.0 & Level III & 13-2011.00 & Accountants and Auditors                      & OES &  & 1.179633\\\\\n",
       "\t71 & C-05276-38616 & Chicago Processing Center & Denied & 11/30/2005 0:00:00 & NA & 11/30/2005 14:23:52 & YOMIWURI, INC.              & 1121 MILWAUKEE AVE. &  & RIVER WOOD & ... & NA & Year & Korean Cusine Chef/Foreign Specialty & 22860.0 & Level I   & 35-1011.00 & Chefs and Head Cooks                          & OES &  & 1.093613\\\\\n",
       "\\end{tabular}\n"
      ],
      "text/markdown": [
       "\n",
       "A data.frame: 3 × 25\n",
       "\n",
       "| <!--/--> | Case_No &lt;chr&gt; | Processing_Center &lt;chr&gt; | Final_Case_Status &lt;chr&gt; | Received_Date &lt;chr&gt; | Certified_Date &lt;lgl&gt; | Denied_Date &lt;chr&gt; | Employer_Name &lt;chr&gt; | Employer_Address_1 &lt;chr&gt; | Employer_Address_2 &lt;chr&gt; | Employer_City &lt;chr&gt; | ... ... | Wage_Offered_To &lt;dbl&gt; | Wage_Per &lt;chr&gt; | Prevailing_Wage_Job_Title &lt;chr&gt; | Prevailing_Wage_Amount &lt;dbl&gt; | Prevailing_Wage_Level &lt;chr&gt; | Prevailing_Wage_SOC_CODE &lt;chr&gt; | Prevailing_Wage_SOC_Title &lt;chr&gt; | Prevailing_Wage_Source &lt;chr&gt; | Prevailing_Wage_Other_Source &lt;chr&gt; | rat &lt;dbl&gt; |\n",
       "|---|---|---|---|---|---|---|---|---|---|---|---|---|---|---|---|---|---|---|---|---|---|\n",
       "| 44 | C-05276-38438 | Chicago Processing Center | Denied | 10/3/2005 0:00:00  | NA | 10/3/2005 12:55:45  | NETWORK GENERAL CORPORATION | 178 E TASMAN DRIVE  | <!----> | SAN JOSE   | ... | NA | Year | Software Engineer                    | 85196.8 | Level II  | 15-1032.00 | Computer Software Engineers, Systems Software | OES | <!----> | 1.116563 |\n",
       "| 60 | A-05297-45852 | Atlanta Processing Center | Denied | 11/2/2005 0:00:00  | NA | 11/30/2005 12:27:08 | MORGAN STANLEY              | 1585 BROADWAY       | <!----> | NEW YORK   | ... | NA | Year | Accountants and Auditors             | 72904.0 | Level III | 13-2011.00 | Accountants and Auditors                      | OES | <!----> | 1.179633 |\n",
       "| 71 | C-05276-38616 | Chicago Processing Center | Denied | 11/30/2005 0:00:00 | NA | 11/30/2005 14:23:52 | YOMIWURI, INC.              | 1121 MILWAUKEE AVE. | <!----> | RIVER WOOD | ... | NA | Year | Korean Cusine Chef/Foreign Specialty | 22860.0 | Level I   | 35-1011.00 | Chefs and Head Cooks                          | OES | <!----> | 1.093613 |\n",
       "\n"
      ],
      "text/plain": [
       "   Case_No       Processing_Center         Final_Case_Status Received_Date     \n",
       "44 C-05276-38438 Chicago Processing Center Denied            10/3/2005 0:00:00 \n",
       "60 A-05297-45852 Atlanta Processing Center Denied            11/2/2005 0:00:00 \n",
       "71 C-05276-38616 Chicago Processing Center Denied            11/30/2005 0:00:00\n",
       "   Certified_Date Denied_Date         Employer_Name              \n",
       "44 NA             10/3/2005 12:55:45  NETWORK GENERAL CORPORATION\n",
       "60 NA             11/30/2005 12:27:08 MORGAN STANLEY             \n",
       "71 NA             11/30/2005 14:23:52 YOMIWURI, INC.             \n",
       "   Employer_Address_1  Employer_Address_2 Employer_City ... Wage_Offered_To\n",
       "44 178 E TASMAN DRIVE                     SAN JOSE      ... NA             \n",
       "60 1585 BROADWAY                          NEW YORK      ... NA             \n",
       "71 1121 MILWAUKEE AVE.                    RIVER WOOD    ... NA             \n",
       "   Wage_Per Prevailing_Wage_Job_Title            Prevailing_Wage_Amount\n",
       "44 Year     Software Engineer                    85196.8               \n",
       "60 Year     Accountants and Auditors             72904.0               \n",
       "71 Year     Korean Cusine Chef/Foreign Specialty 22860.0               \n",
       "   Prevailing_Wage_Level Prevailing_Wage_SOC_CODE\n",
       "44 Level II              15-1032.00              \n",
       "60 Level III             13-2011.00              \n",
       "71 Level I               35-1011.00              \n",
       "   Prevailing_Wage_SOC_Title                     Prevailing_Wage_Source\n",
       "44 Computer Software Engineers, Systems Software OES                   \n",
       "60 Accountants and Auditors                      OES                   \n",
       "71 Chefs and Head Cooks                          OES                   \n",
       "   Prevailing_Wage_Other_Source rat     \n",
       "44                              1.116563\n",
       "60                              1.179633\n",
       "71                              1.093613"
      ]
     },
     "metadata": {},
     "output_type": "display_data"
    }
   ],
   "source": [
    "se2006 <- all2006[grep(\"Software Engineer\", all2006),]\n",
    "se2006"
   ]
  },
  {
   "cell_type": "code",
   "execution_count": 35,
   "metadata": {},
   "outputs": [
    {
     "data": {
      "text/html": [
       "<table>\n",
       "<caption>A data.frame: 2 × 25</caption>\n",
       "<thead>\n",
       "\t<tr><th></th><th scope=col>Case_No</th><th scope=col>Processing_Center</th><th scope=col>Final_Case_Status</th><th scope=col>Received_Date</th><th scope=col>Certified_Date</th><th scope=col>Denied_Date</th><th scope=col>Employer_Name</th><th scope=col>Employer_Address_1</th><th scope=col>Employer_Address_2</th><th scope=col>Employer_City</th><th scope=col>...</th><th scope=col>Wage_Offered_To</th><th scope=col>Wage_Per</th><th scope=col>Prevailing_Wage_Job_Title</th><th scope=col>Prevailing_Wage_Amount</th><th scope=col>Prevailing_Wage_Level</th><th scope=col>Prevailing_Wage_SOC_CODE</th><th scope=col>Prevailing_Wage_SOC_Title</th><th scope=col>Prevailing_Wage_Source</th><th scope=col>Prevailing_Wage_Other_Source</th><th scope=col>rat</th></tr>\n",
       "\t<tr><th></th><th scope=col>&lt;chr&gt;</th><th scope=col>&lt;chr&gt;</th><th scope=col>&lt;chr&gt;</th><th scope=col>&lt;chr&gt;</th><th scope=col>&lt;lgl&gt;</th><th scope=col>&lt;chr&gt;</th><th scope=col>&lt;chr&gt;</th><th scope=col>&lt;chr&gt;</th><th scope=col>&lt;chr&gt;</th><th scope=col>&lt;chr&gt;</th><th scope=col>...</th><th scope=col>&lt;dbl&gt;</th><th scope=col>&lt;chr&gt;</th><th scope=col>&lt;chr&gt;</th><th scope=col>&lt;dbl&gt;</th><th scope=col>&lt;chr&gt;</th><th scope=col>&lt;chr&gt;</th><th scope=col>&lt;chr&gt;</th><th scope=col>&lt;chr&gt;</th><th scope=col>&lt;chr&gt;</th><th scope=col>&lt;dbl&gt;</th></tr>\n",
       "</thead>\n",
       "<tbody>\n",
       "\t<tr><th scope=row>44</th><td>C-05276-38438</td><td>Chicago Processing Center</td><td>Denied</td><td>10/3/2005 0:00:00</td><td>NA</td><td>10/3/2005 12:55:45 </td><td>NETWORK GENERAL CORPORATION</td><td>178 E TASMAN DRIVE</td><td></td><td>SAN JOSE</td><td>...</td><td>NA</td><td>Year</td><td>Software Engineer       </td><td>85196.8</td><td>Level II </td><td>15-1032.00</td><td>Computer Software Engineers, Systems Software</td><td>OES</td><td></td><td>1.116563</td></tr>\n",
       "\t<tr><th scope=row>60</th><td>A-05297-45852</td><td>Atlanta Processing Center</td><td>Denied</td><td>11/2/2005 0:00:00</td><td>NA</td><td>11/30/2005 12:27:08</td><td>MORGAN STANLEY             </td><td>1585 BROADWAY     </td><td></td><td>NEW YORK</td><td>...</td><td>NA</td><td>Year</td><td>Accountants and Auditors</td><td>72904.0</td><td>Level III</td><td>13-2011.00</td><td>Accountants and Auditors                     </td><td>OES</td><td></td><td>1.179633</td></tr>\n",
       "</tbody>\n",
       "</table>\n"
      ],
      "text/latex": [
       "A data.frame: 2 × 25\n",
       "\\begin{tabular}{r|lllllllllllllllllllll}\n",
       "  & Case\\_No & Processing\\_Center & Final\\_Case\\_Status & Received\\_Date & Certified\\_Date & Denied\\_Date & Employer\\_Name & Employer\\_Address\\_1 & Employer\\_Address\\_2 & Employer\\_City & ... & Wage\\_Offered\\_To & Wage\\_Per & Prevailing\\_Wage\\_Job\\_Title & Prevailing\\_Wage\\_Amount & Prevailing\\_Wage\\_Level & Prevailing\\_Wage\\_SOC\\_CODE & Prevailing\\_Wage\\_SOC\\_Title & Prevailing\\_Wage\\_Source & Prevailing\\_Wage\\_Other\\_Source & rat\\\\\n",
       "  & <chr> & <chr> & <chr> & <chr> & <lgl> & <chr> & <chr> & <chr> & <chr> & <chr> & ... & <dbl> & <chr> & <chr> & <dbl> & <chr> & <chr> & <chr> & <chr> & <chr> & <dbl>\\\\\n",
       "\\hline\n",
       "\t44 & C-05276-38438 & Chicago Processing Center & Denied & 10/3/2005 0:00:00 & NA & 10/3/2005 12:55:45  & NETWORK GENERAL CORPORATION & 178 E TASMAN DRIVE &  & SAN JOSE & ... & NA & Year & Software Engineer        & 85196.8 & Level II  & 15-1032.00 & Computer Software Engineers, Systems Software & OES &  & 1.116563\\\\\n",
       "\t60 & A-05297-45852 & Atlanta Processing Center & Denied & 11/2/2005 0:00:00 & NA & 11/30/2005 12:27:08 & MORGAN STANLEY              & 1585 BROADWAY      &  & NEW YORK & ... & NA & Year & Accountants and Auditors & 72904.0 & Level III & 13-2011.00 & Accountants and Auditors                      & OES &  & 1.179633\\\\\n",
       "\\end{tabular}\n"
      ],
      "text/markdown": [
       "\n",
       "A data.frame: 2 × 25\n",
       "\n",
       "| <!--/--> | Case_No &lt;chr&gt; | Processing_Center &lt;chr&gt; | Final_Case_Status &lt;chr&gt; | Received_Date &lt;chr&gt; | Certified_Date &lt;lgl&gt; | Denied_Date &lt;chr&gt; | Employer_Name &lt;chr&gt; | Employer_Address_1 &lt;chr&gt; | Employer_Address_2 &lt;chr&gt; | Employer_City &lt;chr&gt; | ... ... | Wage_Offered_To &lt;dbl&gt; | Wage_Per &lt;chr&gt; | Prevailing_Wage_Job_Title &lt;chr&gt; | Prevailing_Wage_Amount &lt;dbl&gt; | Prevailing_Wage_Level &lt;chr&gt; | Prevailing_Wage_SOC_CODE &lt;chr&gt; | Prevailing_Wage_SOC_Title &lt;chr&gt; | Prevailing_Wage_Source &lt;chr&gt; | Prevailing_Wage_Other_Source &lt;chr&gt; | rat &lt;dbl&gt; |\n",
       "|---|---|---|---|---|---|---|---|---|---|---|---|---|---|---|---|---|---|---|---|---|---|\n",
       "| 44 | C-05276-38438 | Chicago Processing Center | Denied | 10/3/2005 0:00:00 | NA | 10/3/2005 12:55:45  | NETWORK GENERAL CORPORATION | 178 E TASMAN DRIVE | <!----> | SAN JOSE | ... | NA | Year | Software Engineer        | 85196.8 | Level II  | 15-1032.00 | Computer Software Engineers, Systems Software | OES | <!----> | 1.116563 |\n",
       "| 60 | A-05297-45852 | Atlanta Processing Center | Denied | 11/2/2005 0:00:00 | NA | 11/30/2005 12:27:08 | MORGAN STANLEY              | 1585 BROADWAY      | <!----> | NEW YORK | ... | NA | Year | Accountants and Auditors | 72904.0 | Level III | 13-2011.00 | Accountants and Auditors                      | OES | <!----> | 1.179633 |\n",
       "\n"
      ],
      "text/plain": [
       "   Case_No       Processing_Center         Final_Case_Status Received_Date    \n",
       "44 C-05276-38438 Chicago Processing Center Denied            10/3/2005 0:00:00\n",
       "60 A-05297-45852 Atlanta Processing Center Denied            11/2/2005 0:00:00\n",
       "   Certified_Date Denied_Date         Employer_Name              \n",
       "44 NA             10/3/2005 12:55:45  NETWORK GENERAL CORPORATION\n",
       "60 NA             11/30/2005 12:27:08 MORGAN STANLEY             \n",
       "   Employer_Address_1 Employer_Address_2 Employer_City ... Wage_Offered_To\n",
       "44 178 E TASMAN DRIVE                    SAN JOSE      ... NA             \n",
       "60 1585 BROADWAY                         NEW YORK      ... NA             \n",
       "   Wage_Per Prevailing_Wage_Job_Title Prevailing_Wage_Amount\n",
       "44 Year     Software Engineer         85196.8               \n",
       "60 Year     Accountants and Auditors  72904.0               \n",
       "   Prevailing_Wage_Level Prevailing_Wage_SOC_CODE\n",
       "44 Level II              15-1032.00              \n",
       "60 Level III             13-2011.00              \n",
       "   Prevailing_Wage_SOC_Title                     Prevailing_Wage_Source\n",
       "44 Computer Software Engineers, Systems Software OES                   \n",
       "60 Accountants and Auditors                      OES                   \n",
       "   Prevailing_Wage_Other_Source rat     \n",
       "44                              1.116563\n",
       "60                              1.179633"
      ]
     },
     "metadata": {},
     "output_type": "display_data"
    }
   ],
   "source": [
    "prg2006 <- all2006[grep(\"Director\", all2006),]\n",
    "prg2006"
   ]
  },
  {
   "cell_type": "code",
   "execution_count": 36,
   "metadata": {},
   "outputs": [
    {
     "data": {
      "text/html": [
       "<table>\n",
       "<caption>A data.frame: 2 × 25</caption>\n",
       "<thead>\n",
       "\t<tr><th></th><th scope=col>Case_No</th><th scope=col>Processing_Center</th><th scope=col>Final_Case_Status</th><th scope=col>Received_Date</th><th scope=col>Certified_Date</th><th scope=col>Denied_Date</th><th scope=col>Employer_Name</th><th scope=col>Employer_Address_1</th><th scope=col>Employer_Address_2</th><th scope=col>Employer_City</th><th scope=col>...</th><th scope=col>Wage_Offered_To</th><th scope=col>Wage_Per</th><th scope=col>Prevailing_Wage_Job_Title</th><th scope=col>Prevailing_Wage_Amount</th><th scope=col>Prevailing_Wage_Level</th><th scope=col>Prevailing_Wage_SOC_CODE</th><th scope=col>Prevailing_Wage_SOC_Title</th><th scope=col>Prevailing_Wage_Source</th><th scope=col>Prevailing_Wage_Other_Source</th><th scope=col>rat</th></tr>\n",
       "\t<tr><th></th><th scope=col>&lt;chr&gt;</th><th scope=col>&lt;chr&gt;</th><th scope=col>&lt;chr&gt;</th><th scope=col>&lt;chr&gt;</th><th scope=col>&lt;lgl&gt;</th><th scope=col>&lt;chr&gt;</th><th scope=col>&lt;chr&gt;</th><th scope=col>&lt;chr&gt;</th><th scope=col>&lt;chr&gt;</th><th scope=col>&lt;chr&gt;</th><th scope=col>...</th><th scope=col>&lt;dbl&gt;</th><th scope=col>&lt;chr&gt;</th><th scope=col>&lt;chr&gt;</th><th scope=col>&lt;dbl&gt;</th><th scope=col>&lt;chr&gt;</th><th scope=col>&lt;chr&gt;</th><th scope=col>&lt;chr&gt;</th><th scope=col>&lt;chr&gt;</th><th scope=col>&lt;chr&gt;</th><th scope=col>&lt;dbl&gt;</th></tr>\n",
       "</thead>\n",
       "<tbody>\n",
       "\t<tr><th scope=row>60</th><td>A-05297-45852</td><td>Atlanta Processing Center</td><td>Denied</td><td>11/2/2005 0:00:00 </td><td>NA</td><td>11/30/2005 12:27:08</td><td>MORGAN STANLEY</td><td>1585 BROADWAY      </td><td></td><td>NEW YORK  </td><td>...</td><td>NA</td><td>Year</td><td>Accountants and Auditors            </td><td>72904</td><td>Level III</td><td>13-2011.00</td><td>Accountants and Auditors</td><td>OES</td><td></td><td>1.179633</td></tr>\n",
       "\t<tr><th scope=row>71</th><td>C-05276-38616</td><td>Chicago Processing Center</td><td>Denied</td><td>11/30/2005 0:00:00</td><td>NA</td><td>11/30/2005 14:23:52</td><td>YOMIWURI, INC.</td><td>1121 MILWAUKEE AVE.</td><td></td><td>RIVER WOOD</td><td>...</td><td>NA</td><td>Year</td><td>Korean Cusine Chef/Foreign Specialty</td><td>22860</td><td>Level I  </td><td>35-1011.00</td><td>Chefs and Head Cooks    </td><td>OES</td><td></td><td>1.093613</td></tr>\n",
       "</tbody>\n",
       "</table>\n"
      ],
      "text/latex": [
       "A data.frame: 2 × 25\n",
       "\\begin{tabular}{r|lllllllllllllllllllll}\n",
       "  & Case\\_No & Processing\\_Center & Final\\_Case\\_Status & Received\\_Date & Certified\\_Date & Denied\\_Date & Employer\\_Name & Employer\\_Address\\_1 & Employer\\_Address\\_2 & Employer\\_City & ... & Wage\\_Offered\\_To & Wage\\_Per & Prevailing\\_Wage\\_Job\\_Title & Prevailing\\_Wage\\_Amount & Prevailing\\_Wage\\_Level & Prevailing\\_Wage\\_SOC\\_CODE & Prevailing\\_Wage\\_SOC\\_Title & Prevailing\\_Wage\\_Source & Prevailing\\_Wage\\_Other\\_Source & rat\\\\\n",
       "  & <chr> & <chr> & <chr> & <chr> & <lgl> & <chr> & <chr> & <chr> & <chr> & <chr> & ... & <dbl> & <chr> & <chr> & <dbl> & <chr> & <chr> & <chr> & <chr> & <chr> & <dbl>\\\\\n",
       "\\hline\n",
       "\t60 & A-05297-45852 & Atlanta Processing Center & Denied & 11/2/2005 0:00:00  & NA & 11/30/2005 12:27:08 & MORGAN STANLEY & 1585 BROADWAY       &  & NEW YORK   & ... & NA & Year & Accountants and Auditors             & 72904 & Level III & 13-2011.00 & Accountants and Auditors & OES &  & 1.179633\\\\\n",
       "\t71 & C-05276-38616 & Chicago Processing Center & Denied & 11/30/2005 0:00:00 & NA & 11/30/2005 14:23:52 & YOMIWURI, INC. & 1121 MILWAUKEE AVE. &  & RIVER WOOD & ... & NA & Year & Korean Cusine Chef/Foreign Specialty & 22860 & Level I   & 35-1011.00 & Chefs and Head Cooks     & OES &  & 1.093613\\\\\n",
       "\\end{tabular}\n"
      ],
      "text/markdown": [
       "\n",
       "A data.frame: 2 × 25\n",
       "\n",
       "| <!--/--> | Case_No &lt;chr&gt; | Processing_Center &lt;chr&gt; | Final_Case_Status &lt;chr&gt; | Received_Date &lt;chr&gt; | Certified_Date &lt;lgl&gt; | Denied_Date &lt;chr&gt; | Employer_Name &lt;chr&gt; | Employer_Address_1 &lt;chr&gt; | Employer_Address_2 &lt;chr&gt; | Employer_City &lt;chr&gt; | ... ... | Wage_Offered_To &lt;dbl&gt; | Wage_Per &lt;chr&gt; | Prevailing_Wage_Job_Title &lt;chr&gt; | Prevailing_Wage_Amount &lt;dbl&gt; | Prevailing_Wage_Level &lt;chr&gt; | Prevailing_Wage_SOC_CODE &lt;chr&gt; | Prevailing_Wage_SOC_Title &lt;chr&gt; | Prevailing_Wage_Source &lt;chr&gt; | Prevailing_Wage_Other_Source &lt;chr&gt; | rat &lt;dbl&gt; |\n",
       "|---|---|---|---|---|---|---|---|---|---|---|---|---|---|---|---|---|---|---|---|---|---|\n",
       "| 60 | A-05297-45852 | Atlanta Processing Center | Denied | 11/2/2005 0:00:00  | NA | 11/30/2005 12:27:08 | MORGAN STANLEY | 1585 BROADWAY       | <!----> | NEW YORK   | ... | NA | Year | Accountants and Auditors             | 72904 | Level III | 13-2011.00 | Accountants and Auditors | OES | <!----> | 1.179633 |\n",
       "| 71 | C-05276-38616 | Chicago Processing Center | Denied | 11/30/2005 0:00:00 | NA | 11/30/2005 14:23:52 | YOMIWURI, INC. | 1121 MILWAUKEE AVE. | <!----> | RIVER WOOD | ... | NA | Year | Korean Cusine Chef/Foreign Specialty | 22860 | Level I   | 35-1011.00 | Chefs and Head Cooks     | OES | <!----> | 1.093613 |\n",
       "\n"
      ],
      "text/plain": [
       "   Case_No       Processing_Center         Final_Case_Status Received_Date     \n",
       "60 A-05297-45852 Atlanta Processing Center Denied            11/2/2005 0:00:00 \n",
       "71 C-05276-38616 Chicago Processing Center Denied            11/30/2005 0:00:00\n",
       "   Certified_Date Denied_Date         Employer_Name  Employer_Address_1 \n",
       "60 NA             11/30/2005 12:27:08 MORGAN STANLEY 1585 BROADWAY      \n",
       "71 NA             11/30/2005 14:23:52 YOMIWURI, INC. 1121 MILWAUKEE AVE.\n",
       "   Employer_Address_2 Employer_City ... Wage_Offered_To Wage_Per\n",
       "60                    NEW YORK      ... NA              Year    \n",
       "71                    RIVER WOOD    ... NA              Year    \n",
       "   Prevailing_Wage_Job_Title            Prevailing_Wage_Amount\n",
       "60 Accountants and Auditors             72904                 \n",
       "71 Korean Cusine Chef/Foreign Specialty 22860                 \n",
       "   Prevailing_Wage_Level Prevailing_Wage_SOC_CODE Prevailing_Wage_SOC_Title\n",
       "60 Level III             13-2011.00               Accountants and Auditors \n",
       "71 Level I               35-1011.00               Chefs and Head Cooks     \n",
       "   Prevailing_Wage_Source Prevailing_Wage_Other_Source rat     \n",
       "60 OES                                                 1.179633\n",
       "71 OES                                                 1.093613"
      ]
     },
     "metadata": {},
     "output_type": "display_data"
    }
   ],
   "source": [
    "ee2006 <- all2006[grep(\"Industrial Engineer\", all2006),]\n",
    "ee2006"
   ]
  },
  {
   "cell_type": "markdown",
   "metadata": {},
   "source": [
    "使用下面的函数提取给定公司的子集"
   ]
  },
  {
   "cell_type": "code",
   "execution_count": 37,
   "metadata": {},
   "outputs": [],
   "source": [
    "makecorp <- function(corpname) {\n",
    "    t <- all2006[all2006$Employer_Name == corpname,]\n",
    "    return (t)\n",
    "}"
   ]
  },
  {
   "cell_type": "code",
   "execution_count": 38,
   "metadata": {},
   "outputs": [
    {
     "data": {
      "text/html": [
       "<table>\n",
       "<caption>A data.frame: 1 × 25</caption>\n",
       "<thead>\n",
       "\t<tr><th></th><th scope=col>Case_No</th><th scope=col>Processing_Center</th><th scope=col>Final_Case_Status</th><th scope=col>Received_Date</th><th scope=col>Certified_Date</th><th scope=col>Denied_Date</th><th scope=col>Employer_Name</th><th scope=col>Employer_Address_1</th><th scope=col>Employer_Address_2</th><th scope=col>Employer_City</th><th scope=col>...</th><th scope=col>Wage_Offered_To</th><th scope=col>Wage_Per</th><th scope=col>Prevailing_Wage_Job_Title</th><th scope=col>Prevailing_Wage_Amount</th><th scope=col>Prevailing_Wage_Level</th><th scope=col>Prevailing_Wage_SOC_CODE</th><th scope=col>Prevailing_Wage_SOC_Title</th><th scope=col>Prevailing_Wage_Source</th><th scope=col>Prevailing_Wage_Other_Source</th><th scope=col>rat</th></tr>\n",
       "\t<tr><th></th><th scope=col>&lt;chr&gt;</th><th scope=col>&lt;chr&gt;</th><th scope=col>&lt;chr&gt;</th><th scope=col>&lt;chr&gt;</th><th scope=col>&lt;lgl&gt;</th><th scope=col>&lt;chr&gt;</th><th scope=col>&lt;chr&gt;</th><th scope=col>&lt;chr&gt;</th><th scope=col>&lt;chr&gt;</th><th scope=col>&lt;chr&gt;</th><th scope=col>...</th><th scope=col>&lt;dbl&gt;</th><th scope=col>&lt;chr&gt;</th><th scope=col>&lt;chr&gt;</th><th scope=col>&lt;dbl&gt;</th><th scope=col>&lt;chr&gt;</th><th scope=col>&lt;chr&gt;</th><th scope=col>&lt;chr&gt;</th><th scope=col>&lt;chr&gt;</th><th scope=col>&lt;chr&gt;</th><th scope=col>&lt;dbl&gt;</th></tr>\n",
       "</thead>\n",
       "<tbody>\n",
       "\t<tr><th scope=row>17</th><td>C-05276-38343</td><td>Chicago Processing Center</td><td>Denied</td><td>9/22/2005 0:00:00</td><td>NA</td><td>10/3/2005 10:10:14</td><td>COMMUNITY HOSPITALISTS, LLC</td><td>30680 BAINBRIDGE</td><td></td><td>CLEVELAND</td><td>...</td><td>NA</td><td>Year</td><td>Physician, Internal Medicine</td><td>123094</td><td></td><td>29-1063.00</td><td>Internists, General</td><td>OES</td><td></td><td>0.9999756</td></tr>\n",
       "</tbody>\n",
       "</table>\n"
      ],
      "text/latex": [
       "A data.frame: 1 × 25\n",
       "\\begin{tabular}{r|lllllllllllllllllllll}\n",
       "  & Case\\_No & Processing\\_Center & Final\\_Case\\_Status & Received\\_Date & Certified\\_Date & Denied\\_Date & Employer\\_Name & Employer\\_Address\\_1 & Employer\\_Address\\_2 & Employer\\_City & ... & Wage\\_Offered\\_To & Wage\\_Per & Prevailing\\_Wage\\_Job\\_Title & Prevailing\\_Wage\\_Amount & Prevailing\\_Wage\\_Level & Prevailing\\_Wage\\_SOC\\_CODE & Prevailing\\_Wage\\_SOC\\_Title & Prevailing\\_Wage\\_Source & Prevailing\\_Wage\\_Other\\_Source & rat\\\\\n",
       "  & <chr> & <chr> & <chr> & <chr> & <lgl> & <chr> & <chr> & <chr> & <chr> & <chr> & ... & <dbl> & <chr> & <chr> & <dbl> & <chr> & <chr> & <chr> & <chr> & <chr> & <dbl>\\\\\n",
       "\\hline\n",
       "\t17 & C-05276-38343 & Chicago Processing Center & Denied & 9/22/2005 0:00:00 & NA & 10/3/2005 10:10:14 & COMMUNITY HOSPITALISTS, LLC & 30680 BAINBRIDGE &  & CLEVELAND & ... & NA & Year & Physician, Internal Medicine & 123094 &  & 29-1063.00 & Internists, General & OES &  & 0.9999756\\\\\n",
       "\\end{tabular}\n"
      ],
      "text/markdown": [
       "\n",
       "A data.frame: 1 × 25\n",
       "\n",
       "| <!--/--> | Case_No &lt;chr&gt; | Processing_Center &lt;chr&gt; | Final_Case_Status &lt;chr&gt; | Received_Date &lt;chr&gt; | Certified_Date &lt;lgl&gt; | Denied_Date &lt;chr&gt; | Employer_Name &lt;chr&gt; | Employer_Address_1 &lt;chr&gt; | Employer_Address_2 &lt;chr&gt; | Employer_City &lt;chr&gt; | ... ... | Wage_Offered_To &lt;dbl&gt; | Wage_Per &lt;chr&gt; | Prevailing_Wage_Job_Title &lt;chr&gt; | Prevailing_Wage_Amount &lt;dbl&gt; | Prevailing_Wage_Level &lt;chr&gt; | Prevailing_Wage_SOC_CODE &lt;chr&gt; | Prevailing_Wage_SOC_Title &lt;chr&gt; | Prevailing_Wage_Source &lt;chr&gt; | Prevailing_Wage_Other_Source &lt;chr&gt; | rat &lt;dbl&gt; |\n",
       "|---|---|---|---|---|---|---|---|---|---|---|---|---|---|---|---|---|---|---|---|---|---|\n",
       "| 17 | C-05276-38343 | Chicago Processing Center | Denied | 9/22/2005 0:00:00 | NA | 10/3/2005 10:10:14 | COMMUNITY HOSPITALISTS, LLC | 30680 BAINBRIDGE | <!----> | CLEVELAND | ... | NA | Year | Physician, Internal Medicine | 123094 | <!----> | 29-1063.00 | Internists, General | OES | <!----> | 0.9999756 |\n",
       "\n"
      ],
      "text/plain": [
       "   Case_No       Processing_Center         Final_Case_Status Received_Date    \n",
       "17 C-05276-38343 Chicago Processing Center Denied            9/22/2005 0:00:00\n",
       "   Certified_Date Denied_Date        Employer_Name              \n",
       "17 NA             10/3/2005 10:10:14 COMMUNITY HOSPITALISTS, LLC\n",
       "   Employer_Address_1 Employer_Address_2 Employer_City ... Wage_Offered_To\n",
       "17 30680 BAINBRIDGE                      CLEVELAND     ... NA             \n",
       "   Wage_Per Prevailing_Wage_Job_Title    Prevailing_Wage_Amount\n",
       "17 Year     Physician, Internal Medicine 123094                \n",
       "   Prevailing_Wage_Level Prevailing_Wage_SOC_CODE Prevailing_Wage_SOC_Title\n",
       "17                       29-1063.00               Internists, General      \n",
       "   Prevailing_Wage_Source Prevailing_Wage_Other_Source rat      \n",
       "17 OES                                                 0.9999756"
      ]
     },
     "metadata": {},
     "output_type": "display_data"
    }
   ],
   "source": [
    "makecorp(\"COMMUNITY HOSPITALISTS, LLC\")"
   ]
  },
  {
   "cell_type": "code",
   "execution_count": 39,
   "metadata": {},
   "outputs": [],
   "source": [
    "corplist <- list(\n",
    "    \"THE OGILVY GROUP INC\", \"ogilvy\",\n",
    "    \"ITT INDUSTRIES\", \"itt\"\n",
    ")\n",
    "\n",
    "for (i in 1:(length(corplist)/2)) {\n",
    "    corp <- corplist[2*i - 1]\n",
    "    newdtf <- paste(corplist[2*i], \"2006\", sep=\"\")\n",
    "    assign(newdtf, makecorp(corp), pos=.GlobalEnv)\n",
    "}"
   ]
  },
  {
   "cell_type": "code",
   "execution_count": 40,
   "metadata": {},
   "outputs": [
    {
     "data": {
      "text/html": [
       "<table>\n",
       "<caption>A data.frame: 1 × 25</caption>\n",
       "<thead>\n",
       "\t<tr><th></th><th scope=col>Case_No</th><th scope=col>Processing_Center</th><th scope=col>Final_Case_Status</th><th scope=col>Received_Date</th><th scope=col>Certified_Date</th><th scope=col>Denied_Date</th><th scope=col>Employer_Name</th><th scope=col>Employer_Address_1</th><th scope=col>Employer_Address_2</th><th scope=col>Employer_City</th><th scope=col>...</th><th scope=col>Wage_Offered_To</th><th scope=col>Wage_Per</th><th scope=col>Prevailing_Wage_Job_Title</th><th scope=col>Prevailing_Wage_Amount</th><th scope=col>Prevailing_Wage_Level</th><th scope=col>Prevailing_Wage_SOC_CODE</th><th scope=col>Prevailing_Wage_SOC_Title</th><th scope=col>Prevailing_Wage_Source</th><th scope=col>Prevailing_Wage_Other_Source</th><th scope=col>rat</th></tr>\n",
       "\t<tr><th></th><th scope=col>&lt;chr&gt;</th><th scope=col>&lt;chr&gt;</th><th scope=col>&lt;chr&gt;</th><th scope=col>&lt;chr&gt;</th><th scope=col>&lt;lgl&gt;</th><th scope=col>&lt;chr&gt;</th><th scope=col>&lt;chr&gt;</th><th scope=col>&lt;chr&gt;</th><th scope=col>&lt;chr&gt;</th><th scope=col>&lt;chr&gt;</th><th scope=col>...</th><th scope=col>&lt;dbl&gt;</th><th scope=col>&lt;chr&gt;</th><th scope=col>&lt;chr&gt;</th><th scope=col>&lt;dbl&gt;</th><th scope=col>&lt;chr&gt;</th><th scope=col>&lt;chr&gt;</th><th scope=col>&lt;chr&gt;</th><th scope=col>&lt;chr&gt;</th><th scope=col>&lt;chr&gt;</th><th scope=col>&lt;dbl&gt;</th></tr>\n",
       "</thead>\n",
       "<tbody>\n",
       "\t<tr><th scope=row>43</th><td>A-05276-38405</td><td>Atlanta Processing Center</td><td>Denied</td><td>10/3/2005 0:00:00</td><td>NA</td><td>10/3/2005 12:40:42</td><td>ITT INDUSTRIES</td><td>1761 BUSINESS CENTER DRIVE</td><td></td><td>RESTON</td><td>...</td><td>NA</td><td>Year</td><td>Computer Scientist</td><td>68578</td><td>Level II</td><td>15-1011.00</td><td>Computer and Information Scientists, Research</td><td>OES</td><td></td><td>1</td></tr>\n",
       "</tbody>\n",
       "</table>\n"
      ],
      "text/latex": [
       "A data.frame: 1 × 25\n",
       "\\begin{tabular}{r|lllllllllllllllllllll}\n",
       "  & Case\\_No & Processing\\_Center & Final\\_Case\\_Status & Received\\_Date & Certified\\_Date & Denied\\_Date & Employer\\_Name & Employer\\_Address\\_1 & Employer\\_Address\\_2 & Employer\\_City & ... & Wage\\_Offered\\_To & Wage\\_Per & Prevailing\\_Wage\\_Job\\_Title & Prevailing\\_Wage\\_Amount & Prevailing\\_Wage\\_Level & Prevailing\\_Wage\\_SOC\\_CODE & Prevailing\\_Wage\\_SOC\\_Title & Prevailing\\_Wage\\_Source & Prevailing\\_Wage\\_Other\\_Source & rat\\\\\n",
       "  & <chr> & <chr> & <chr> & <chr> & <lgl> & <chr> & <chr> & <chr> & <chr> & <chr> & ... & <dbl> & <chr> & <chr> & <dbl> & <chr> & <chr> & <chr> & <chr> & <chr> & <dbl>\\\\\n",
       "\\hline\n",
       "\t43 & A-05276-38405 & Atlanta Processing Center & Denied & 10/3/2005 0:00:00 & NA & 10/3/2005 12:40:42 & ITT INDUSTRIES & 1761 BUSINESS CENTER DRIVE &  & RESTON & ... & NA & Year & Computer Scientist & 68578 & Level II & 15-1011.00 & Computer and Information Scientists, Research & OES &  & 1\\\\\n",
       "\\end{tabular}\n"
      ],
      "text/markdown": [
       "\n",
       "A data.frame: 1 × 25\n",
       "\n",
       "| <!--/--> | Case_No &lt;chr&gt; | Processing_Center &lt;chr&gt; | Final_Case_Status &lt;chr&gt; | Received_Date &lt;chr&gt; | Certified_Date &lt;lgl&gt; | Denied_Date &lt;chr&gt; | Employer_Name &lt;chr&gt; | Employer_Address_1 &lt;chr&gt; | Employer_Address_2 &lt;chr&gt; | Employer_City &lt;chr&gt; | ... ... | Wage_Offered_To &lt;dbl&gt; | Wage_Per &lt;chr&gt; | Prevailing_Wage_Job_Title &lt;chr&gt; | Prevailing_Wage_Amount &lt;dbl&gt; | Prevailing_Wage_Level &lt;chr&gt; | Prevailing_Wage_SOC_CODE &lt;chr&gt; | Prevailing_Wage_SOC_Title &lt;chr&gt; | Prevailing_Wage_Source &lt;chr&gt; | Prevailing_Wage_Other_Source &lt;chr&gt; | rat &lt;dbl&gt; |\n",
       "|---|---|---|---|---|---|---|---|---|---|---|---|---|---|---|---|---|---|---|---|---|---|\n",
       "| 43 | A-05276-38405 | Atlanta Processing Center | Denied | 10/3/2005 0:00:00 | NA | 10/3/2005 12:40:42 | ITT INDUSTRIES | 1761 BUSINESS CENTER DRIVE | <!----> | RESTON | ... | NA | Year | Computer Scientist | 68578 | Level II | 15-1011.00 | Computer and Information Scientists, Research | OES | <!----> | 1 |\n",
       "\n"
      ],
      "text/plain": [
       "   Case_No       Processing_Center         Final_Case_Status Received_Date    \n",
       "43 A-05276-38405 Atlanta Processing Center Denied            10/3/2005 0:00:00\n",
       "   Certified_Date Denied_Date        Employer_Name  Employer_Address_1        \n",
       "43 NA             10/3/2005 12:40:42 ITT INDUSTRIES 1761 BUSINESS CENTER DRIVE\n",
       "   Employer_Address_2 Employer_City ... Wage_Offered_To Wage_Per\n",
       "43                    RESTON        ... NA              Year    \n",
       "   Prevailing_Wage_Job_Title Prevailing_Wage_Amount Prevailing_Wage_Level\n",
       "43 Computer Scientist        68578                  Level II             \n",
       "   Prevailing_Wage_SOC_CODE Prevailing_Wage_SOC_Title                    \n",
       "43 15-1011.00               Computer and Information Scientists, Research\n",
       "   Prevailing_Wage_Source Prevailing_Wage_Other_Source rat\n",
       "43 OES                                                 1  "
      ]
     },
     "metadata": {},
     "output_type": "display_data"
    }
   ],
   "source": [
    "itt2006"
   ]
  },
  {
   "cell_type": "markdown",
   "metadata": {},
   "source": [
    "## 合并数据框\n",
    "\n",
    "使用 `merge()` 函数"
   ]
  },
  {
   "cell_type": "code",
   "execution_count": 41,
   "metadata": {},
   "outputs": [
    {
     "name": "stdout",
     "output_type": "stream",
     "text": [
      "     kids states\n",
      "1    Jack     CA\n",
      "2    Jill     MA\n",
      "3 Jillian     MA\n",
      "4    John     HI\n"
     ]
    }
   ],
   "source": [
    "d1 <- data.frame(\n",
    "    kids=c(\"Jack\", \"Jill\", \"Jillian\", \"John\"),\n",
    "    states=c(\"CA\", \"MA\", \"MA\", \"HI\"),\n",
    "    stringsAsFactors=FALSE\n",
    ")\n",
    "print(d1)"
   ]
  },
  {
   "cell_type": "code",
   "execution_count": 42,
   "metadata": {},
   "outputs": [
    {
     "name": "stdout",
     "output_type": "stream",
     "text": [
      "  ages    kids\n",
      "1   10    Jill\n",
      "2    7 Lillian\n",
      "3   12    Jack\n"
     ]
    }
   ],
   "source": [
    "d2 <- data.frame(\n",
    "    ages=c(10, 7, 12),\n",
    "    kids=c(\"Jill\", \"Lillian\", \"Jack\"),\n",
    "    stringsAsFactors=FALSE\n",
    ")\n",
    "print(d2)"
   ]
  },
  {
   "cell_type": "code",
   "execution_count": 43,
   "metadata": {},
   "outputs": [
    {
     "name": "stdout",
     "output_type": "stream",
     "text": [
      "  kids states ages\n",
      "1 Jack     CA   12\n",
      "2 Jill     MA   10\n"
     ]
    }
   ],
   "source": [
    "d <- merge(d1, d2)\n",
    "print(d)"
   ]
  },
  {
   "cell_type": "markdown",
   "metadata": {},
   "source": [
    "`by.x` 和 `by.y` 两个参数可以指定合并的列名"
   ]
  },
  {
   "cell_type": "code",
   "execution_count": 44,
   "metadata": {},
   "outputs": [
    {
     "name": "stdout",
     "output_type": "stream",
     "text": [
      "  kids states ages\n",
      "1 Jack     CA   12\n",
      "2 Jill     MA   10\n"
     ]
    }
   ],
   "source": [
    "d3 <- data.frame(\n",
    "    ages=c(12, 10, 7),\n",
    "    pals=c(\"Jack\", \"Jill\", \"Lillian\")\n",
    ")\n",
    "print(merge(\n",
    "    d1, d3,\n",
    "    by.x=\"kids\",\n",
    "    by.y=\"pals\"\n",
    "))"
   ]
  },
  {
   "cell_type": "markdown",
   "metadata": {},
   "source": [
    "重复匹配可能会得出错误的结果"
   ]
  },
  {
   "cell_type": "code",
   "execution_count": 45,
   "metadata": {},
   "outputs": [
    {
     "name": "stdout",
     "output_type": "stream",
     "text": [
      "     kids states\n",
      "1    Jack     CA\n",
      "2    Jill     MA\n",
      "3 Jillian     MA\n",
      "4    John     HI\n"
     ]
    }
   ],
   "source": [
    "print(d1)"
   ]
  },
  {
   "cell_type": "code",
   "execution_count": 46,
   "metadata": {},
   "outputs": [
    {
     "name": "stdout",
     "output_type": "stream",
     "text": [
      "  ages    kids\n",
      "1   10    Jill\n",
      "2    7 Lillian\n",
      "3   12    Jack\n",
      "4   15    Jill\n"
     ]
    }
   ],
   "source": [
    "d2a <- rbind(\n",
    "    d2,\n",
    "    list(15, \"Jill\")\n",
    ")\n",
    "print(d2a)"
   ]
  },
  {
   "cell_type": "code",
   "execution_count": 47,
   "metadata": {},
   "outputs": [
    {
     "name": "stdout",
     "output_type": "stream",
     "text": [
      "  kids states ages\n",
      "1 Jack     CA   12\n",
      "2 Jill     MA   10\n",
      "3 Jill     MA   15\n"
     ]
    }
   ],
   "source": [
    "print(merge(d1, d2a))"
   ]
  },
  {
   "cell_type": "markdown",
   "metadata": {},
   "source": [
    "## 应用于数据框的函数\n",
    "\n",
    "### 在数据框上应用 `lapply()` 和 `sapply()` 函数\n",
    "\n",
    "`lapply()` 中调用 `f()`，函数会作用域数据框中的每一列，将返回值置于一个列表中"
   ]
  },
  {
   "cell_type": "code",
   "execution_count": 48,
   "metadata": {},
   "outputs": [
    {
     "name": "stdout",
     "output_type": "stream",
     "text": [
      "  kids states ages\n",
      "1 Jack     CA   12\n",
      "2 Jill     MA   10\n"
     ]
    }
   ],
   "source": [
    "print(d)"
   ]
  },
  {
   "cell_type": "code",
   "execution_count": 49,
   "metadata": {},
   "outputs": [
    {
     "name": "stdout",
     "output_type": "stream",
     "text": [
      "$kids\n",
      "[1] \"Jack\" \"Jill\"\n",
      "\n",
      "$states\n",
      "[1] \"CA\" \"MA\"\n",
      "\n",
      "$ages\n",
      "[1] 10 12\n",
      "\n"
     ]
    }
   ],
   "source": [
    "dl <- lapply(d, sort)\n",
    "print(dl)"
   ]
  },
  {
   "cell_type": "markdown",
   "metadata": {},
   "source": [
    "将列表强制转为数据框\n",
    "\n",
    "注：排序后失去了记录的关联关系，这样做没有意义"
   ]
  },
  {
   "cell_type": "code",
   "execution_count": 50,
   "metadata": {},
   "outputs": [
    {
     "name": "stdout",
     "output_type": "stream",
     "text": [
      "  kids states ages\n",
      "1 Jack     CA   10\n",
      "2 Jill     MA   12\n"
     ]
    }
   ],
   "source": [
    "print(as.data.frame(dl))"
   ]
  },
  {
   "cell_type": "markdown",
   "metadata": {},
   "source": [
    "### 扩展案例：应用 Logistic 模型"
   ]
  },
  {
   "cell_type": "code",
   "execution_count": 51,
   "metadata": {},
   "outputs": [],
   "source": [
    "title <- c(\"Gender\", \"Length\", \"Diameter\", \"Height\", \"WholeWt\", \"ShuckedWt\", \"ViscWt\", \"ShellWt\", \"Rings\")\n",
    "aba <- read.csv(\n",
    "    \"../data/abalone.data\",\n",
    "    header=FALSE,\n",
    "    col.names=title\n",
    ")"
   ]
  },
  {
   "cell_type": "markdown",
   "metadata": {},
   "source": [
    "将 Gender 列转换为 factor"
   ]
  },
  {
   "cell_type": "code",
   "execution_count": 52,
   "metadata": {},
   "outputs": [],
   "source": [
    "aba$Gender <- as.factor(aba$Gender)"
   ]
  },
  {
   "cell_type": "markdown",
   "metadata": {},
   "source": [
    "删掉幼鱼数据"
   ]
  },
  {
   "cell_type": "code",
   "execution_count": 53,
   "metadata": {},
   "outputs": [],
   "source": [
    "abamf <- aba[aba$Gender != \"I\",]"
   ]
  },
  {
   "cell_type": "markdown",
   "metadata": {},
   "source": [
    "逻辑回归模型训练函数，返回系数"
   ]
  },
  {
   "cell_type": "code",
   "execution_count": 54,
   "metadata": {},
   "outputs": [],
   "source": [
    "lftn <- function(clmn) {\n",
    "    glm(abamf$Gender ~ clmn, family=binomial)$coef\n",
    "}"
   ]
  },
  {
   "cell_type": "markdown",
   "metadata": {},
   "source": [
    "在每一列中应用该函数"
   ]
  },
  {
   "cell_type": "code",
   "execution_count": 55,
   "metadata": {},
   "outputs": [],
   "source": [
    "loall <- sapply(abamf[,-1], lftn)"
   ]
  },
  {
   "cell_type": "code",
   "execution_count": 56,
   "metadata": {},
   "outputs": [
    {
     "data": {
      "text/html": [
       "<table>\n",
       "<caption>A matrix: 2 × 8 of type dbl</caption>\n",
       "<thead>\n",
       "\t<tr><th></th><th scope=col>Length</th><th scope=col>Diameter</th><th scope=col>Height</th><th scope=col>WholeWt</th><th scope=col>ShuckedWt</th><th scope=col>ViscWt</th><th scope=col>ShellWt</th><th scope=col>Rings</th></tr>\n",
       "</thead>\n",
       "<tbody>\n",
       "\t<tr><th scope=row>(Intercept)</th><td> 1.275832</td><td> 1.289130</td><td> 1.027872</td><td> 0.4300827</td><td> 0.2855054</td><td> 0.4829153</td><td> 0.5103942</td><td> 0.64823569</td></tr>\n",
       "\t<tr><th scope=row>clmn</th><td>-1.962613</td><td>-2.533227</td><td>-5.643495</td><td>-0.2688070</td><td>-0.2941351</td><td>-1.4647507</td><td>-1.2135496</td><td>-0.04509376</td></tr>\n",
       "</tbody>\n",
       "</table>\n"
      ],
      "text/latex": [
       "A matrix: 2 × 8 of type dbl\n",
       "\\begin{tabular}{r|llllllll}\n",
       "  & Length & Diameter & Height & WholeWt & ShuckedWt & ViscWt & ShellWt & Rings\\\\\n",
       "\\hline\n",
       "\t(Intercept) &  1.275832 &  1.289130 &  1.027872 &  0.4300827 &  0.2855054 &  0.4829153 &  0.5103942 &  0.64823569\\\\\n",
       "\tclmn & -1.962613 & -2.533227 & -5.643495 & -0.2688070 & -0.2941351 & -1.4647507 & -1.2135496 & -0.04509376\\\\\n",
       "\\end{tabular}\n"
      ],
      "text/markdown": [
       "\n",
       "A matrix: 2 × 8 of type dbl\n",
       "\n",
       "| <!--/--> | Length | Diameter | Height | WholeWt | ShuckedWt | ViscWt | ShellWt | Rings |\n",
       "|---|---|---|---|---|---|---|---|---|\n",
       "| (Intercept) |  1.275832 |  1.289130 |  1.027872 |  0.4300827 |  0.2855054 |  0.4829153 |  0.5103942 |  0.64823569 |\n",
       "| clmn | -1.962613 | -2.533227 | -5.643495 | -0.2688070 | -0.2941351 | -1.4647507 | -1.2135496 | -0.04509376 |\n",
       "\n"
      ],
      "text/plain": [
       "            Length    Diameter  Height    WholeWt    ShuckedWt  ViscWt    \n",
       "(Intercept)  1.275832  1.289130  1.027872  0.4300827  0.2855054  0.4829153\n",
       "clmn        -1.962613 -2.533227 -5.643495 -0.2688070 -0.2941351 -1.4647507\n",
       "            ShellWt    Rings      \n",
       "(Intercept)  0.5103942  0.64823569\n",
       "clmn        -1.2135496 -0.04509376"
      ]
     },
     "metadata": {},
     "output_type": "display_data"
    }
   ],
   "source": [
    "loall"
   ]
  },
  {
   "cell_type": "code",
   "execution_count": 57,
   "metadata": {},
   "outputs": [
    {
     "name": "stdout",
     "output_type": "stream",
     "text": [
      "[1] \"matrix\" \"array\" \n"
     ]
    }
   ],
   "source": [
    "print(class(loall))"
   ]
  },
  {
   "cell_type": "code",
   "execution_count": null,
   "metadata": {},
   "outputs": [],
   "source": []
  }
 ],
 "metadata": {
  "kernelspec": {
   "display_name": "R",
   "language": "R",
   "name": "ir"
  },
  "language_info": {
   "codemirror_mode": "r",
   "file_extension": ".r",
   "mimetype": "text/x-r-source",
   "name": "R",
   "pygments_lexer": "r",
   "version": "4.0.2"
  }
 },
 "nbformat": 4,
 "nbformat_minor": 4
}
